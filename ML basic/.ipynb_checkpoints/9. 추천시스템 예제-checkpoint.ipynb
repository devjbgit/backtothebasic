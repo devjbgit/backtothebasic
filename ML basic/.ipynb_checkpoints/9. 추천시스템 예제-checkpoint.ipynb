{
 "cells": [
  {
   "cell_type": "markdown",
   "id": "7abdfa4b",
   "metadata": {},
   "source": [
    "영화 추천 엔진\n",
    " + 사용자 기반\n",
    "  + 유사 선호도 사용자 발결\n",
    "  + 활성 사용자에게 아이템 추천\n",
    " + 아이템 기반\n",
    "  + 아이템끼리 유사도 계산하여 추천\n",
    "  + 아직 평가하지 않은 아이템 찾아서 추천"
   ]
  },
  {
   "cell_type": "markdown",
   "id": "508bd8c8",
   "metadata": {},
   "source": [
    "모델의 평가\n",
    " + 평균 제곱 오차 MSE\n",
    " + 평균 제곱근 오차 RMSE"
   ]
  },
  {
   "cell_type": "code",
   "execution_count": 1,
   "id": "f647ea0e",
   "metadata": {},
   "outputs": [],
   "source": [
    "import pandas as pd"
   ]
  },
  {
   "cell_type": "code",
   "execution_count": 33,
   "id": "5a3ab5f8",
   "metadata": {},
   "outputs": [],
   "source": [
    "df = pd.read_csv('u.data', sep = \"\\t\", header = None)\n",
    "df.columns = ['user_id','item_id','rating','timestamp']"
   ]
  },
  {
   "cell_type": "code",
   "execution_count": 34,
   "id": "888b9851",
   "metadata": {},
   "outputs": [
    {
     "data": {
      "text/html": [
       "<div>\n",
       "<style scoped>\n",
       "    .dataframe tbody tr th:only-of-type {\n",
       "        vertical-align: middle;\n",
       "    }\n",
       "\n",
       "    .dataframe tbody tr th {\n",
       "        vertical-align: top;\n",
       "    }\n",
       "\n",
       "    .dataframe thead th {\n",
       "        text-align: right;\n",
       "    }\n",
       "</style>\n",
       "<table border=\"1\" class=\"dataframe\">\n",
       "  <thead>\n",
       "    <tr style=\"text-align: right;\">\n",
       "      <th></th>\n",
       "      <th>user_id</th>\n",
       "      <th>item_id</th>\n",
       "      <th>rating</th>\n",
       "      <th>timestamp</th>\n",
       "    </tr>\n",
       "  </thead>\n",
       "  <tbody>\n",
       "    <tr>\n",
       "      <th>0</th>\n",
       "      <td>196</td>\n",
       "      <td>242</td>\n",
       "      <td>3</td>\n",
       "      <td>881250949</td>\n",
       "    </tr>\n",
       "    <tr>\n",
       "      <th>1</th>\n",
       "      <td>186</td>\n",
       "      <td>302</td>\n",
       "      <td>3</td>\n",
       "      <td>891717742</td>\n",
       "    </tr>\n",
       "    <tr>\n",
       "      <th>2</th>\n",
       "      <td>22</td>\n",
       "      <td>377</td>\n",
       "      <td>1</td>\n",
       "      <td>878887116</td>\n",
       "    </tr>\n",
       "    <tr>\n",
       "      <th>3</th>\n",
       "      <td>244</td>\n",
       "      <td>51</td>\n",
       "      <td>2</td>\n",
       "      <td>880606923</td>\n",
       "    </tr>\n",
       "    <tr>\n",
       "      <th>4</th>\n",
       "      <td>166</td>\n",
       "      <td>346</td>\n",
       "      <td>1</td>\n",
       "      <td>886397596</td>\n",
       "    </tr>\n",
       "  </tbody>\n",
       "</table>\n",
       "</div>"
      ],
      "text/plain": [
       "   user_id  item_id  rating  timestamp\n",
       "0      196      242       3  881250949\n",
       "1      186      302       3  891717742\n",
       "2       22      377       1  878887116\n",
       "3      244       51       2  880606923\n",
       "4      166      346       1  886397596"
      ]
     },
     "execution_count": 34,
     "metadata": {},
     "output_type": "execute_result"
    }
   ],
   "source": [
    "df.head()"
   ]
  },
  {
   "cell_type": "code",
   "execution_count": 35,
   "id": "89991643",
   "metadata": {},
   "outputs": [
    {
     "data": {
      "text/plain": [
       "(100000, 4)"
      ]
     },
     "execution_count": 35,
     "metadata": {},
     "output_type": "execute_result"
    }
   ],
   "source": [
    "df.shape"
   ]
  },
  {
   "cell_type": "code",
   "execution_count": 37,
   "id": "4561bfc5",
   "metadata": {},
   "outputs": [
    {
     "name": "stdout",
     "output_type": "stream",
     "text": [
      "n_user = 943, n_items = 1682\n"
     ]
    }
   ],
   "source": [
    "n_user = df.user_id.unique().shape[0]\n",
    "n_items = df.item_id.unique().shape[0]\n",
    "print(f\"n_user = {n_user}, n_items = {n_items}\")\n"
   ]
  },
  {
   "cell_type": "code",
   "execution_count": 39,
   "id": "a36c36bd",
   "metadata": {},
   "outputs": [],
   "source": [
    "import numpy as np"
   ]
  },
  {
   "cell_type": "code",
   "execution_count": 41,
   "id": "fd2b37fa",
   "metadata": {},
   "outputs": [],
   "source": [
    "ratings = np.zeros((n_user, n_items))"
   ]
  },
  {
   "cell_type": "code",
   "execution_count": 43,
   "id": "e9c9801f",
   "metadata": {},
   "outputs": [
    {
     "data": {
      "text/plain": [
       "array([[0., 0., 0., ..., 0., 0., 0.],\n",
       "       [0., 0., 0., ..., 0., 0., 0.],\n",
       "       [0., 0., 0., ..., 0., 0., 0.],\n",
       "       ...,\n",
       "       [0., 0., 0., ..., 0., 0., 0.],\n",
       "       [0., 0., 0., ..., 0., 0., 0.],\n",
       "       [0., 0., 0., ..., 0., 0., 0.]])"
      ]
     },
     "execution_count": 43,
     "metadata": {},
     "output_type": "execute_result"
    }
   ],
   "source": [
    "ratings"
   ]
  },
  {
   "cell_type": "code",
   "execution_count": 42,
   "id": "a3eb6ec0",
   "metadata": {},
   "outputs": [
    {
     "data": {
      "text/plain": [
       "(943, 1682)"
      ]
     },
     "execution_count": 42,
     "metadata": {},
     "output_type": "execute_result"
    }
   ],
   "source": [
    "ratings.shape"
   ]
  },
  {
   "cell_type": "code",
   "execution_count": 44,
   "id": "15bc908e",
   "metadata": {},
   "outputs": [],
   "source": [
    "for row in df.itertuples():\n",
    "    ratings[row[1]-1, row[2]-1] = row[3]"
   ]
  },
  {
   "cell_type": "code",
   "execution_count": 45,
   "id": "17da9762",
   "metadata": {},
   "outputs": [
    {
     "data": {
      "text/plain": [
       "array([[5., 3., 4., ..., 0., 0., 0.],\n",
       "       [4., 0., 0., ..., 0., 0., 0.],\n",
       "       [0., 0., 0., ..., 0., 0., 0.],\n",
       "       ...,\n",
       "       [5., 0., 0., ..., 0., 0., 0.],\n",
       "       [0., 0., 0., ..., 0., 0., 0.],\n",
       "       [0., 5., 0., ..., 0., 0., 0.]])"
      ]
     },
     "execution_count": 45,
     "metadata": {},
     "output_type": "execute_result"
    }
   ],
   "source": [
    "ratings"
   ]
  },
  {
   "cell_type": "code",
   "execution_count": 47,
   "id": "3a545d8d",
   "metadata": {},
   "outputs": [],
   "source": [
    "from sklearn.model_selection import train_test_split\n",
    "\n",
    "ratings_train, ratings_test = train_test_split(ratings, test_size = 0.33, random_state= 42)"
   ]
  },
  {
   "cell_type": "code",
   "execution_count": 50,
   "id": "039b82bd",
   "metadata": {},
   "outputs": [
    {
     "data": {
      "text/plain": [
       "(631, 1682)"
      ]
     },
     "execution_count": 50,
     "metadata": {},
     "output_type": "execute_result"
    }
   ],
   "source": [
    "ratings_train.shape # 영화, 평점 정보"
   ]
  },
  {
   "cell_type": "code",
   "execution_count": 51,
   "id": "19232667",
   "metadata": {},
   "outputs": [
    {
     "data": {
      "text/plain": [
       "array([[1.        , 0.36475764, 0.44246231, ..., 0.02010641, 0.33107929,\n",
       "        0.25638518],\n",
       "       [0.36475764, 1.        , 0.42635255, ..., 0.06694419, 0.27339314,\n",
       "        0.22337268],\n",
       "       [0.44246231, 0.42635255, 1.        , ..., 0.06675756, 0.25424373,\n",
       "        0.22320126],\n",
       "       ...,\n",
       "       [0.02010641, 0.06694419, 0.06675756, ..., 1.        , 0.04853428,\n",
       "        0.05142508],\n",
       "       [0.33107929, 0.27339314, 0.25424373, ..., 0.04853428, 1.        ,\n",
       "        0.1198022 ],\n",
       "       [0.25638518, 0.22337268, 0.22320126, ..., 0.05142508, 0.1198022 ,\n",
       "        1.        ]])"
      ]
     },
     "execution_count": 51,
     "metadata": {},
     "output_type": "execute_result"
    }
   ],
   "source": [
    "from sklearn.metrics.pairwise import cosine_similarity\n",
    "\n",
    "user_distances = cosine_similarity(ratings_train)\n",
    "\n",
    "user_distances"
   ]
  },
  {
   "cell_type": "code",
   "execution_count": 52,
   "id": "02b066d8",
   "metadata": {},
   "outputs": [],
   "source": [
    "user_pred = user_distances.dot(ratings_train) / np.array([np.abs(user_distances).sum(axis = 1)]).T"
   ]
  },
  {
   "cell_type": "code",
   "execution_count": 53,
   "id": "310f697f",
   "metadata": {},
   "outputs": [],
   "source": [
    "from sklearn.metrics import mean_squared_error\n",
    "\n",
    "def get_mse(pred, actual):\n",
    "    pred = pred[actual.nonzero()].flatten()\n",
    "    actual = actual[actual.nonzero()].flatten()\n",
    "    return mean_squared_error(pred, actual)"
   ]
  },
  {
   "cell_type": "code",
   "execution_count": 55,
   "id": "65d0fbf4",
   "metadata": {},
   "outputs": [
    {
     "data": {
      "text/plain": [
       "2.8075245308903365"
      ]
     },
     "execution_count": 55,
     "metadata": {},
     "output_type": "execute_result"
    }
   ],
   "source": [
    "np.sqrt(get_mse(user_pred, ratings_train))"
   ]
  },
  {
   "cell_type": "code",
   "execution_count": 56,
   "id": "ac071ce5",
   "metadata": {},
   "outputs": [
    {
     "data": {
      "text/plain": [
       "2.9870546415652575"
      ]
     },
     "execution_count": 56,
     "metadata": {},
     "output_type": "execute_result"
    }
   ],
   "source": [
    "np.sqrt(get_mse(user_pred, ratings_test))"
   ]
  },
  {
   "cell_type": "code",
   "execution_count": 57,
   "id": "cfa22efd",
   "metadata": {},
   "outputs": [],
   "source": [
    "from sklearn.neighbors import NearestNeighbors\n",
    "\n",
    "k = 5\n",
    "neigh = NearestNeighbors(n_neighbors=k, metric=\"cosine\")"
   ]
  },
  {
   "cell_type": "code",
   "execution_count": 58,
   "id": "d9ad9741",
   "metadata": {},
   "outputs": [
    {
     "data": {
      "text/plain": [
       "NearestNeighbors(metric='cosine')"
      ]
     },
     "execution_count": 58,
     "metadata": {},
     "output_type": "execute_result"
    }
   ],
   "source": [
    "neigh.fit(ratings_train)"
   ]
  },
  {
   "cell_type": "code",
   "execution_count": 61,
   "id": "573e02e6",
   "metadata": {},
   "outputs": [],
   "source": [
    "top_k_distances, top_k_users = neigh.kneighbors(ratings_train, return_distance=True)"
   ]
  },
  {
   "cell_type": "code",
   "execution_count": 60,
   "id": "a69cc38d",
   "metadata": {},
   "outputs": [
    {
     "data": {
      "text/plain": [
       "array([[  0, 589, 155,  33, 364],\n",
       "       [  1, 483, 339, 172, 188],\n",
       "       [  2, 382, 560, 350, 155],\n",
       "       ...,\n",
       "       [628, 258, 242, 229, 494],\n",
       "       [629, 378, 155, 589, 591],\n",
       "       [630, 495, 201, 417, 603]], dtype=int64)"
      ]
     },
     "execution_count": 60,
     "metadata": {},
     "output_type": "execute_result"
    }
   ],
   "source": [
    "top_k_users"
   ]
  },
  {
   "cell_type": "code",
   "execution_count": 62,
   "id": "957ddf09",
   "metadata": {},
   "outputs": [
    {
     "data": {
      "text/plain": [
       "array([[0.        , 0.38230161, 0.39990633, 0.40834169, 0.4100445 ],\n",
       "       [0.        , 0.4625691 , 0.50677921, 0.50811827, 0.50882566],\n",
       "       [0.        , 0.46538829, 0.48267976, 0.49176259, 0.49265099],\n",
       "       ...,\n",
       "       [0.        , 0.5764934 , 0.59340849, 0.64699606, 0.66472075],\n",
       "       [0.        , 0.60496802, 0.6115226 , 0.62054374, 0.6229481 ],\n",
       "       [0.        , 0.56320216, 0.60221688, 0.60314589, 0.6400121 ]])"
      ]
     },
     "execution_count": 62,
     "metadata": {},
     "output_type": "execute_result"
    }
   ],
   "source": [
    "top_k_distances"
   ]
  },
  {
   "cell_type": "code",
   "execution_count": 63,
   "id": "f79fd506",
   "metadata": {},
   "outputs": [],
   "source": [
    "user_pred_k = np.zeros(ratings_train.shape)"
   ]
  },
  {
   "cell_type": "code",
   "execution_count": 67,
   "id": "9c8b5ce7",
   "metadata": {},
   "outputs": [],
   "source": [
    "for i in range(ratings_train.shape[0]):\n",
    "    user_pred_k[i,:] = top_k_distances[i].T.dot(ratings_train[top_k_users][i]) /\\\n",
    "                        np.array([np.abs(top_k_distances[i].T).sum(axis= 0)]).T"
   ]
  },
  {
   "cell_type": "code",
   "execution_count": 68,
   "id": "00274987",
   "metadata": {},
   "outputs": [
    {
     "data": {
      "text/plain": [
       "array([[4.25618269, 2.49082621, 0.71654943, ..., 0.        , 0.        ,\n",
       "        0.        ],\n",
       "       [3.74418756, 0.        , 2.48873124, ..., 0.        , 0.        ,\n",
       "        0.        ],\n",
       "       [3.22293592, 2.98635211, 2.47648118, ..., 0.        , 0.        ,\n",
       "        0.        ],\n",
       "       ...,\n",
       "       [1.07143091, 0.        , 0.        , ..., 0.        , 0.        ,\n",
       "        0.        ],\n",
       "       [3.73945823, 2.48622549, 1.76969702, ..., 0.        , 0.        ,\n",
       "        0.        ],\n",
       "       [1.95357502, 0.        , 0.        , ..., 0.        , 0.        ,\n",
       "        0.        ]])"
      ]
     },
     "execution_count": 68,
     "metadata": {},
     "output_type": "execute_result"
    }
   ],
   "source": [
    "user_pred_k"
   ]
  },
  {
   "cell_type": "code",
   "execution_count": 70,
   "id": "d41d0a20",
   "metadata": {},
   "outputs": [
    {
     "data": {
      "text/plain": [
       "2.0922014531938316"
      ]
     },
     "execution_count": 70,
     "metadata": {},
     "output_type": "execute_result"
    }
   ],
   "source": [
    "np.sqrt(get_mse(user_pred_k, ratings_train))"
   ]
  },
  {
   "cell_type": "code",
   "execution_count": 71,
   "id": "dda0436d",
   "metadata": {},
   "outputs": [
    {
     "data": {
      "text/plain": [
       "3.054698791142718"
      ]
     },
     "execution_count": 71,
     "metadata": {},
     "output_type": "execute_result"
    }
   ],
   "source": [
    "np.sqrt(get_mse(user_pred_k, ratings_test))"
   ]
  }
 ],
 "metadata": {
  "kernelspec": {
   "display_name": "Python 3 (ipykernel)",
   "language": "python",
   "name": "python3"
  },
  "language_info": {
   "codemirror_mode": {
    "name": "ipython",
    "version": 3
   },
   "file_extension": ".py",
   "mimetype": "text/x-python",
   "name": "python",
   "nbconvert_exporter": "python",
   "pygments_lexer": "ipython3",
   "version": "3.7.10"
  }
 },
 "nbformat": 4,
 "nbformat_minor": 5
}
