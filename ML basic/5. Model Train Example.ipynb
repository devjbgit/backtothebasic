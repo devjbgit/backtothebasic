{
 "cells": [
  {
   "cell_type": "markdown",
   "id": "7178283c",
   "metadata": {},
   "source": [
    "## 의사결정 트리"
   ]
  },
  {
   "cell_type": "markdown",
   "id": "eb5e6eff",
   "metadata": {},
   "source": [
    "### CART(lassfication and Regression Tree)\n",
    "자식 노드를 분할 하면서 트리를 생성  \n",
    "중요한 특징과 모든 가능한 조합으로 찾음  \n",
    "범주형은 특징값이 큰 것이 오른쪽 노드  \n",
    "수치형은 해당 값보다 큰 값을 가진 샘플이 오른쪽 노드  "
   ]
  },
  {
   "cell_type": "markdown",
   "id": "3c5a7661",
   "metadata": {},
   "source": [
    "지니불순도 : 한 노드에 모든 샘플이 같은 클래스에 있으면 gini == 0  \n",
    "지니 계수가 0이면 더이상 분류할 필요 없음  \n",
    "gini = 1 - (value[0]/sample)^2 - (value[1]/sample)^2"
   ]
  },
  {
   "cell_type": "code",
   "execution_count": 2,
   "id": "07e5b84d",
   "metadata": {},
   "outputs": [],
   "source": [
    "from sklearn.datasets import load_iris"
   ]
  },
  {
   "cell_type": "code",
   "execution_count": 3,
   "id": "eaca977b",
   "metadata": {},
   "outputs": [],
   "source": [
    "iris = load_iris()"
   ]
  },
  {
   "cell_type": "code",
   "execution_count": 4,
   "id": "9109a60c",
   "metadata": {},
   "outputs": [
    {
     "data": {
      "text/plain": [
       "dict_keys(['data', 'target', 'frame', 'target_names', 'DESCR', 'feature_names', 'filename'])"
      ]
     },
     "execution_count": 4,
     "metadata": {},
     "output_type": "execute_result"
    }
   ],
   "source": [
    "iris.keys()"
   ]
  },
  {
   "cell_type": "code",
   "execution_count": 5,
   "id": "163be417",
   "metadata": {},
   "outputs": [
    {
     "data": {
      "text/plain": [
       "array([[5.1, 3.5, 1.4, 0.2],\n",
       "       [4.9, 3. , 1.4, 0.2],\n",
       "       [4.7, 3.2, 1.3, 0.2],\n",
       "       [4.6, 3.1, 1.5, 0.2],\n",
       "       [5. , 3.6, 1.4, 0.2]])"
      ]
     },
     "execution_count": 5,
     "metadata": {},
     "output_type": "execute_result"
    }
   ],
   "source": [
    "iris.data[:5]"
   ]
  },
  {
   "cell_type": "code",
   "execution_count": 6,
   "id": "19719ad2",
   "metadata": {},
   "outputs": [
    {
     "data": {
      "text/plain": [
       "['sepal length (cm)',\n",
       " 'sepal width (cm)',\n",
       " 'petal length (cm)',\n",
       " 'petal width (cm)']"
      ]
     },
     "execution_count": 6,
     "metadata": {},
     "output_type": "execute_result"
    }
   ],
   "source": [
    "iris.feature_names"
   ]
  },
  {
   "cell_type": "code",
   "execution_count": 7,
   "id": "2923d14b",
   "metadata": {},
   "outputs": [],
   "source": [
    "X = iris.data[:, 2:]"
   ]
  },
  {
   "cell_type": "code",
   "execution_count": 8,
   "id": "e2b11e43",
   "metadata": {},
   "outputs": [
    {
     "data": {
      "text/plain": [
       "array([0, 0, 0, 0, 0])"
      ]
     },
     "execution_count": 8,
     "metadata": {},
     "output_type": "execute_result"
    }
   ],
   "source": [
    "iris.target[:5]"
   ]
  },
  {
   "cell_type": "code",
   "execution_count": 9,
   "id": "f5fe196f",
   "metadata": {},
   "outputs": [
    {
     "data": {
      "text/plain": [
       "(array([0, 1, 2]), array([50, 50, 50], dtype=int64))"
      ]
     },
     "execution_count": 9,
     "metadata": {},
     "output_type": "execute_result"
    }
   ],
   "source": [
    "import numpy as np\n",
    "np.unique(iris.target, return_counts=True)"
   ]
  },
  {
   "cell_type": "code",
   "execution_count": 10,
   "id": "d4516f52",
   "metadata": {},
   "outputs": [
    {
     "data": {
      "text/plain": [
       "array(['setosa', 'versicolor', 'virginica'], dtype='<U10')"
      ]
     },
     "execution_count": 10,
     "metadata": {},
     "output_type": "execute_result"
    }
   ],
   "source": [
    "iris.target_names"
   ]
  },
  {
   "cell_type": "code",
   "execution_count": 11,
   "id": "3ef9f1d9",
   "metadata": {},
   "outputs": [],
   "source": [
    "y = iris.target"
   ]
  },
  {
   "cell_type": "code",
   "execution_count": 12,
   "id": "1218bad1",
   "metadata": {},
   "outputs": [
    {
     "data": {
      "text/plain": [
       "DecisionTreeClassifier(max_depth=2)"
      ]
     },
     "execution_count": 12,
     "metadata": {},
     "output_type": "execute_result"
    }
   ],
   "source": [
    "from sklearn.tree import DecisionTreeClassifier\n",
    "tree = DecisionTreeClassifier(max_depth=2)\n",
    "tree.fit(X,y)"
   ]
  },
  {
   "cell_type": "code",
   "execution_count": 13,
   "id": "63f4adc3",
   "metadata": {},
   "outputs": [],
   "source": [
    "from sklearn.tree import export_graphviz\n",
    "export_graphviz(tree, out_file = \"iris.dot\", feature_names=iris.feature_names[2:],class_names = iris.target_names, rounded = True, filled = True, impurity= True)"
   ]
  },
  {
   "cell_type": "code",
   "execution_count": 14,
   "id": "60e352f8",
   "metadata": {},
   "outputs": [],
   "source": [
    "import pydot"
   ]
  },
  {
   "cell_type": "code",
   "execution_count": 17,
   "id": "70f64d70",
   "metadata": {
    "scrolled": true
   },
   "outputs": [
    {
     "name": "stdout",
     "output_type": "stream",
     "text": [
      "['CLUSTER_ATTRIBUTES', 'Cluster', 'Common', 'DEFAULT_PROGRAMS', 'Dot', 'EDGE_ATTRIBUTES', 'Edge', 'Error', 'GRAPH_ATTRIBUTES', 'Graph', 'InvocationException', 'NODE_ATTRIBUTES', 'Node', 'PY3', 'Subgraph', '__author__', '__builtins__', '__cached__', '__doc__', '__file__', '__license__', '__loader__', '__name__', '__package__', '__spec__', '__version__', 'call_graphviz', 'copy', 'division', 'dot_keywords', 'dot_parser', 'errno', 'frozendict', 'get_executable_extension', 'graph_from_adjacency_matrix', 'graph_from_dot_data', 'graph_from_dot_file', 'graph_from_edges', 'graph_from_incidence_matrix', 'id_re_alpha_nums', 'id_re_alpha_nums_with_ports', 'id_re_dbl_quoted', 'id_re_html', 'id_re_num', 'id_re_with_port', 'io', 'is_anaconda', 'is_windows', 'needs_quotes', 'os', 'print_function', 'quote_if_necessary', 're', 'str_type', 'subprocess', 'sys', 'tempfile', 'warnings']\n"
     ]
    }
   ],
   "source": [
    "print(dir(pydot))"
   ]
  },
  {
   "cell_type": "code",
   "execution_count": 20,
   "id": "87132ad8",
   "metadata": {},
   "outputs": [],
   "source": [
    "graph = pydot.graph_from_dot_file(\"iris.dot\")[0]"
   ]
  },
  {
   "cell_type": "markdown",
   "id": "ab22f7d3",
   "metadata": {},
   "source": [
    "특징의 상대적 중요도를 측정하기 쉬운 장점을 지님  \n",
    "일부 특징은 배제함"
   ]
  }
 ],
 "metadata": {
  "kernelspec": {
   "display_name": "Python 3 (ipykernel)",
   "language": "python",
   "name": "python3"
  },
  "language_info": {
   "codemirror_mode": {
    "name": "ipython",
    "version": 3
   },
   "file_extension": ".py",
   "mimetype": "text/x-python",
   "name": "python",
   "nbconvert_exporter": "python",
   "pygments_lexer": "ipython3",
   "version": "3.7.10"
  }
 },
 "nbformat": 4,
 "nbformat_minor": 5
}
