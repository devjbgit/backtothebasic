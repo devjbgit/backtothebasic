{
 "cells": [
  {
   "cell_type": "markdown",
   "id": "7178283c",
   "metadata": {},
   "source": [
    "## 의사결정 트리"
   ]
  },
  {
   "cell_type": "markdown",
   "id": "eb5e6eff",
   "metadata": {},
   "source": [
    "### CART(lassfication and Regression Tree)\n",
    "자식 노드를 분할 하면서 트리를 생성  \n",
    "중요한 특징과 모든 가능한 조합으로 찾음  \n",
    "범주형은 특징값이 큰 것이 오른쪽 노드  \n",
    "수치형은 해당 값보다 큰 값을 가진 샘플이 오른쪽 노드  "
   ]
  },
  {
   "cell_type": "markdown",
   "id": "3c5a7661",
   "metadata": {},
   "source": [
    "지니불순도 : 한 노드에 모든 샘플이 같은 클래스에 있으면 gini == 0  \n",
    "지니 계수가 0이면 더이상 분류할 필요 없음  \n",
    "gini = 1 - (value[0]/sample)^2 - (value[1]/sample)^2"
   ]
  },
  {
   "cell_type": "code",
   "execution_count": 199,
   "id": "07e5b84d",
   "metadata": {},
   "outputs": [],
   "source": [
    "from sklearn.datasets import load_iris"
   ]
  },
  {
   "cell_type": "code",
   "execution_count": 200,
   "id": "eaca977b",
   "metadata": {},
   "outputs": [],
   "source": [
    "iris = load_iris()"
   ]
  },
  {
   "cell_type": "code",
   "execution_count": 201,
   "id": "9109a60c",
   "metadata": {},
   "outputs": [
    {
     "data": {
      "text/plain": [
       "dict_keys(['data', 'target', 'frame', 'target_names', 'DESCR', 'feature_names', 'filename'])"
      ]
     },
     "execution_count": 201,
     "metadata": {},
     "output_type": "execute_result"
    }
   ],
   "source": [
    "iris.keys()"
   ]
  },
  {
   "cell_type": "code",
   "execution_count": 202,
   "id": "163be417",
   "metadata": {},
   "outputs": [
    {
     "data": {
      "text/plain": [
       "array([[5.1, 3.5, 1.4, 0.2],\n",
       "       [4.9, 3. , 1.4, 0.2],\n",
       "       [4.7, 3.2, 1.3, 0.2],\n",
       "       [4.6, 3.1, 1.5, 0.2],\n",
       "       [5. , 3.6, 1.4, 0.2]])"
      ]
     },
     "execution_count": 202,
     "metadata": {},
     "output_type": "execute_result"
    }
   ],
   "source": [
    "iris.data[:5]"
   ]
  },
  {
   "cell_type": "code",
   "execution_count": 203,
   "id": "19719ad2",
   "metadata": {},
   "outputs": [
    {
     "data": {
      "text/plain": [
       "['sepal length (cm)',\n",
       " 'sepal width (cm)',\n",
       " 'petal length (cm)',\n",
       " 'petal width (cm)']"
      ]
     },
     "execution_count": 203,
     "metadata": {},
     "output_type": "execute_result"
    }
   ],
   "source": [
    "iris.feature_names"
   ]
  },
  {
   "cell_type": "code",
   "execution_count": 204,
   "id": "2923d14b",
   "metadata": {},
   "outputs": [],
   "source": [
    "X = iris.data[:, 2:]"
   ]
  },
  {
   "cell_type": "code",
   "execution_count": 205,
   "id": "e2b11e43",
   "metadata": {},
   "outputs": [
    {
     "data": {
      "text/plain": [
       "array([0, 0, 0, 0, 0])"
      ]
     },
     "execution_count": 205,
     "metadata": {},
     "output_type": "execute_result"
    }
   ],
   "source": [
    "iris.target[:5]"
   ]
  },
  {
   "cell_type": "code",
   "execution_count": 206,
   "id": "f5fe196f",
   "metadata": {},
   "outputs": [
    {
     "data": {
      "text/plain": [
       "(array([0, 1, 2]), array([50, 50, 50], dtype=int64))"
      ]
     },
     "execution_count": 206,
     "metadata": {},
     "output_type": "execute_result"
    }
   ],
   "source": [
    "import numpy as np\n",
    "np.unique(iris.target, return_counts=True)"
   ]
  },
  {
   "cell_type": "code",
   "execution_count": 207,
   "id": "d4516f52",
   "metadata": {},
   "outputs": [
    {
     "data": {
      "text/plain": [
       "array(['setosa', 'versicolor', 'virginica'], dtype='<U10')"
      ]
     },
     "execution_count": 207,
     "metadata": {},
     "output_type": "execute_result"
    }
   ],
   "source": [
    "iris.target_names"
   ]
  },
  {
   "cell_type": "code",
   "execution_count": 208,
   "id": "3ef9f1d9",
   "metadata": {},
   "outputs": [],
   "source": [
    "y = iris.target"
   ]
  },
  {
   "cell_type": "code",
   "execution_count": 209,
   "id": "1218bad1",
   "metadata": {},
   "outputs": [
    {
     "data": {
      "text/plain": [
       "DecisionTreeClassifier(max_depth=2)"
      ]
     },
     "execution_count": 209,
     "metadata": {},
     "output_type": "execute_result"
    }
   ],
   "source": [
    "from sklearn.tree import DecisionTreeClassifier\n",
    "tree = DecisionTreeClassifier(max_depth=2)\n",
    "tree.fit(X,y)"
   ]
  },
  {
   "cell_type": "code",
   "execution_count": 210,
   "id": "63f4adc3",
   "metadata": {},
   "outputs": [],
   "source": [
    "from sklearn.tree import export_graphviz\n",
    "export_graphviz(tree, out_file = \"iris.dot\", feature_names=iris.feature_names[2:],class_names = iris.target_names, rounded = True, filled = True, impurity= True)"
   ]
  },
  {
   "cell_type": "code",
   "execution_count": 211,
   "id": "60e352f8",
   "metadata": {},
   "outputs": [],
   "source": [
    "import pydot"
   ]
  },
  {
   "cell_type": "code",
   "execution_count": 212,
   "id": "eae3c8c1",
   "metadata": {
    "scrolled": true
   },
   "outputs": [
    {
     "name": "stdout",
     "output_type": "stream",
     "text": [
      "['CLUSTER_ATTRIBUTES', 'Cluster', 'Common', 'DEFAULT_PROGRAMS', 'Dot', 'EDGE_ATTRIBUTES', 'Edge', 'Error', 'GRAPH_ATTRIBUTES', 'Graph', 'InvocationException', 'NODE_ATTRIBUTES', 'Node', 'PY3', 'Subgraph', '__author__', '__builtins__', '__cached__', '__doc__', '__file__', '__license__', '__loader__', '__name__', '__package__', '__spec__', '__version__', 'call_graphviz', 'copy', 'division', 'dot_keywords', 'dot_parser', 'errno', 'frozendict', 'get_executable_extension', 'graph_from_adjacency_matrix', 'graph_from_dot_data', 'graph_from_dot_file', 'graph_from_edges', 'graph_from_incidence_matrix', 'id_re_alpha_nums', 'id_re_alpha_nums_with_ports', 'id_re_dbl_quoted', 'id_re_html', 'id_re_num', 'id_re_with_port', 'io', 'is_anaconda', 'is_windows', 'needs_quotes', 'os', 'print_function', 'quote_if_necessary', 're', 'str_type', 'subprocess', 'sys', 'tempfile', 'warnings']\n"
     ]
    }
   ],
   "source": [
    "print(dir(pydot))"
   ]
  },
  {
   "cell_type": "code",
   "execution_count": 213,
   "id": "87132ad8",
   "metadata": {},
   "outputs": [],
   "source": [
    "graph = pydot.graph_from_dot_file(\"iris.dot\")[0]"
   ]
  },
  {
   "cell_type": "markdown",
   "id": "285ed7f8",
   "metadata": {},
   "source": [
    "특징의 상대적 중요도를 측정하기 쉬운 장점을 지님  \n",
    "일부 특징은 배제함"
   ]
  },
  {
   "cell_type": "markdown",
   "id": "075c697f",
   "metadata": {},
   "source": [
    "# 온라인 광고 클릭 예측 "
   ]
  },
  {
   "cell_type": "code",
   "execution_count": 214,
   "id": "82cfb605",
   "metadata": {},
   "outputs": [],
   "source": [
    "import pandas as pd"
   ]
  },
  {
   "cell_type": "code",
   "execution_count": 215,
   "id": "271314dc",
   "metadata": {},
   "outputs": [],
   "source": [
    "train_df = pd.read_csv(\"train.csv\", nrows = 100000)"
   ]
  },
  {
   "cell_type": "code",
   "execution_count": 216,
   "id": "0594e928",
   "metadata": {},
   "outputs": [
    {
     "data": {
      "text/html": [
       "<div>\n",
       "<style scoped>\n",
       "    .dataframe tbody tr th:only-of-type {\n",
       "        vertical-align: middle;\n",
       "    }\n",
       "\n",
       "    .dataframe tbody tr th {\n",
       "        vertical-align: top;\n",
       "    }\n",
       "\n",
       "    .dataframe thead th {\n",
       "        text-align: right;\n",
       "    }\n",
       "</style>\n",
       "<table border=\"1\" class=\"dataframe\">\n",
       "  <thead>\n",
       "    <tr style=\"text-align: right;\">\n",
       "      <th></th>\n",
       "      <th>Unnamed: 0</th>\n",
       "      <th>id</th>\n",
       "      <th>click</th>\n",
       "      <th>hour</th>\n",
       "      <th>C1</th>\n",
       "      <th>banner_pos</th>\n",
       "      <th>site_id</th>\n",
       "      <th>site_domain</th>\n",
       "      <th>site_category</th>\n",
       "      <th>app_id</th>\n",
       "      <th>...</th>\n",
       "      <th>device_type</th>\n",
       "      <th>device_conn_type</th>\n",
       "      <th>C14</th>\n",
       "      <th>C15</th>\n",
       "      <th>C16</th>\n",
       "      <th>C17</th>\n",
       "      <th>C18</th>\n",
       "      <th>C19</th>\n",
       "      <th>C20</th>\n",
       "      <th>C21</th>\n",
       "    </tr>\n",
       "  </thead>\n",
       "  <tbody>\n",
       "    <tr>\n",
       "      <th>0</th>\n",
       "      <td>0</td>\n",
       "      <td>1.000009e+18</td>\n",
       "      <td>0</td>\n",
       "      <td>14102100</td>\n",
       "      <td>1005</td>\n",
       "      <td>0</td>\n",
       "      <td>1fbe01fe</td>\n",
       "      <td>f3845767</td>\n",
       "      <td>28905ebd</td>\n",
       "      <td>ecad2386</td>\n",
       "      <td>...</td>\n",
       "      <td>1</td>\n",
       "      <td>2</td>\n",
       "      <td>15706</td>\n",
       "      <td>320</td>\n",
       "      <td>50</td>\n",
       "      <td>1722</td>\n",
       "      <td>0</td>\n",
       "      <td>35</td>\n",
       "      <td>-1</td>\n",
       "      <td>79</td>\n",
       "    </tr>\n",
       "    <tr>\n",
       "      <th>1</th>\n",
       "      <td>1</td>\n",
       "      <td>1.000017e+19</td>\n",
       "      <td>0</td>\n",
       "      <td>14102100</td>\n",
       "      <td>1005</td>\n",
       "      <td>0</td>\n",
       "      <td>1fbe01fe</td>\n",
       "      <td>f3845767</td>\n",
       "      <td>28905ebd</td>\n",
       "      <td>ecad2386</td>\n",
       "      <td>...</td>\n",
       "      <td>1</td>\n",
       "      <td>0</td>\n",
       "      <td>15704</td>\n",
       "      <td>320</td>\n",
       "      <td>50</td>\n",
       "      <td>1722</td>\n",
       "      <td>0</td>\n",
       "      <td>35</td>\n",
       "      <td>100084</td>\n",
       "      <td>79</td>\n",
       "    </tr>\n",
       "    <tr>\n",
       "      <th>2</th>\n",
       "      <td>2</td>\n",
       "      <td>1.000037e+19</td>\n",
       "      <td>0</td>\n",
       "      <td>14102100</td>\n",
       "      <td>1005</td>\n",
       "      <td>0</td>\n",
       "      <td>1fbe01fe</td>\n",
       "      <td>f3845767</td>\n",
       "      <td>28905ebd</td>\n",
       "      <td>ecad2386</td>\n",
       "      <td>...</td>\n",
       "      <td>1</td>\n",
       "      <td>0</td>\n",
       "      <td>15704</td>\n",
       "      <td>320</td>\n",
       "      <td>50</td>\n",
       "      <td>1722</td>\n",
       "      <td>0</td>\n",
       "      <td>35</td>\n",
       "      <td>100084</td>\n",
       "      <td>79</td>\n",
       "    </tr>\n",
       "    <tr>\n",
       "      <th>3</th>\n",
       "      <td>3</td>\n",
       "      <td>1.000064e+19</td>\n",
       "      <td>0</td>\n",
       "      <td>14102100</td>\n",
       "      <td>1005</td>\n",
       "      <td>0</td>\n",
       "      <td>1fbe01fe</td>\n",
       "      <td>f3845767</td>\n",
       "      <td>28905ebd</td>\n",
       "      <td>ecad2386</td>\n",
       "      <td>...</td>\n",
       "      <td>1</td>\n",
       "      <td>0</td>\n",
       "      <td>15706</td>\n",
       "      <td>320</td>\n",
       "      <td>50</td>\n",
       "      <td>1722</td>\n",
       "      <td>0</td>\n",
       "      <td>35</td>\n",
       "      <td>100084</td>\n",
       "      <td>79</td>\n",
       "    </tr>\n",
       "    <tr>\n",
       "      <th>4</th>\n",
       "      <td>4</td>\n",
       "      <td>1.000068e+19</td>\n",
       "      <td>0</td>\n",
       "      <td>14102100</td>\n",
       "      <td>1005</td>\n",
       "      <td>1</td>\n",
       "      <td>fe8cc448</td>\n",
       "      <td>9166c161</td>\n",
       "      <td>0569f928</td>\n",
       "      <td>ecad2386</td>\n",
       "      <td>...</td>\n",
       "      <td>1</td>\n",
       "      <td>0</td>\n",
       "      <td>18993</td>\n",
       "      <td>320</td>\n",
       "      <td>50</td>\n",
       "      <td>2161</td>\n",
       "      <td>0</td>\n",
       "      <td>35</td>\n",
       "      <td>-1</td>\n",
       "      <td>157</td>\n",
       "    </tr>\n",
       "  </tbody>\n",
       "</table>\n",
       "<p>5 rows × 25 columns</p>\n",
       "</div>"
      ],
      "text/plain": [
       "   Unnamed: 0            id  click      hour    C1  banner_pos   site_id  \\\n",
       "0           0  1.000009e+18      0  14102100  1005           0  1fbe01fe   \n",
       "1           1  1.000017e+19      0  14102100  1005           0  1fbe01fe   \n",
       "2           2  1.000037e+19      0  14102100  1005           0  1fbe01fe   \n",
       "3           3  1.000064e+19      0  14102100  1005           0  1fbe01fe   \n",
       "4           4  1.000068e+19      0  14102100  1005           1  fe8cc448   \n",
       "\n",
       "  site_domain site_category    app_id  ... device_type device_conn_type  \\\n",
       "0    f3845767      28905ebd  ecad2386  ...           1                2   \n",
       "1    f3845767      28905ebd  ecad2386  ...           1                0   \n",
       "2    f3845767      28905ebd  ecad2386  ...           1                0   \n",
       "3    f3845767      28905ebd  ecad2386  ...           1                0   \n",
       "4    9166c161      0569f928  ecad2386  ...           1                0   \n",
       "\n",
       "     C14  C15 C16   C17  C18  C19     C20  C21  \n",
       "0  15706  320  50  1722    0   35      -1   79  \n",
       "1  15704  320  50  1722    0   35  100084   79  \n",
       "2  15704  320  50  1722    0   35  100084   79  \n",
       "3  15706  320  50  1722    0   35  100084   79  \n",
       "4  18993  320  50  2161    0   35      -1  157  \n",
       "\n",
       "[5 rows x 25 columns]"
      ]
     },
     "execution_count": 216,
     "metadata": {},
     "output_type": "execute_result"
    }
   ],
   "source": [
    "train_df.head()"
   ]
  },
  {
   "cell_type": "code",
   "execution_count": 217,
   "id": "2842f644",
   "metadata": {},
   "outputs": [],
   "source": [
    "unuse_columns , label_column = ['id', 'hour', 'device_id', 'device_ip'], \"click\"\n",
    "train_df = train_df.drop(unuse_columns, axis = 1)"
   ]
  },
  {
   "cell_type": "code",
   "execution_count": 218,
   "id": "1383ff51",
   "metadata": {},
   "outputs": [],
   "source": [
    "X_dict_train = list(train_df.drop(label_column, axis = 1).T.to_dict().values())"
   ]
  },
  {
   "cell_type": "code",
   "execution_count": 219,
   "id": "578fda4f",
   "metadata": {},
   "outputs": [
    {
     "data": {
      "text/plain": [
       "{'Unnamed: 0': 0,\n",
       " 'C1': 1005,\n",
       " 'banner_pos': 0,\n",
       " 'site_id': '1fbe01fe',\n",
       " 'site_domain': 'f3845767',\n",
       " 'site_category': '28905ebd',\n",
       " 'app_id': 'ecad2386',\n",
       " 'app_domain': '7801e8d9',\n",
       " 'app_category': '07d7df22',\n",
       " 'device_model': '44956a24',\n",
       " 'device_type': 1,\n",
       " 'device_conn_type': 2,\n",
       " 'C14': 15706,\n",
       " 'C15': 320,\n",
       " 'C16': 50,\n",
       " 'C17': 1722,\n",
       " 'C18': 0,\n",
       " 'C19': 35,\n",
       " 'C20': -1,\n",
       " 'C21': 79}"
      ]
     },
     "execution_count": 219,
     "metadata": {},
     "output_type": "execute_result"
    }
   ],
   "source": [
    "X_dict_train[0]"
   ]
  },
  {
   "cell_type": "code",
   "execution_count": 220,
   "id": "d98b2bb0",
   "metadata": {},
   "outputs": [],
   "source": [
    "y_train = train_df[label_column]\n",
    "test_df  = pd.read_csv(\"train.csv\", header = 0, skiprows = (1,100000), nrows = 100000 )\n",
    "test_df = test_df.drop(unuse_columns, axis = 1)"
   ]
  },
  {
   "cell_type": "code",
   "execution_count": 221,
   "id": "ed22281f",
   "metadata": {},
   "outputs": [],
   "source": [
    "X_dict_test = list(test_df.drop(label_column, axis = 1).T.to_dict().values())"
   ]
  },
  {
   "cell_type": "code",
   "execution_count": 222,
   "id": "b8e882a7",
   "metadata": {},
   "outputs": [],
   "source": [
    "y_test = test_df[label_column]"
   ]
  },
  {
   "cell_type": "code",
   "execution_count": 223,
   "id": "413ab2db",
   "metadata": {},
   "outputs": [],
   "source": [
    "from sklearn.feature_extraction import DictVectorizer\n",
    "vectorizer = DictVectorizer(sparse=True)\n",
    "X_train = vectorizer.fit_transform(X_dict_train)"
   ]
  },
  {
   "cell_type": "code",
   "execution_count": 224,
   "id": "088d23ee",
   "metadata": {},
   "outputs": [
    {
     "data": {
      "text/plain": [
       "(100000, 4953)"
      ]
     },
     "execution_count": 224,
     "metadata": {},
     "output_type": "execute_result"
    }
   ],
   "source": [
    "X_train.shape"
   ]
  },
  {
   "cell_type": "code",
   "execution_count": 225,
   "id": "15756fd1",
   "metadata": {},
   "outputs": [
    {
     "data": {
      "text/plain": [
       "array([[ 1005., 15706.,   320., ...,     0.,     0.,     0.],\n",
       "       [ 1005., 15704.,   320., ...,     0.,     0.,     0.],\n",
       "       [ 1005., 15704.,   320., ...,     0.,     0.,     0.],\n",
       "       [ 1005., 15706.,   320., ...,     0.,     0.,     0.],\n",
       "       [ 1005., 18993.,   320., ...,     0.,     0.,     0.]])"
      ]
     },
     "execution_count": 225,
     "metadata": {},
     "output_type": "execute_result"
    }
   ],
   "source": [
    "X_train.toarray()[:5]"
   ]
  },
  {
   "cell_type": "code",
   "execution_count": 226,
   "id": "f00205fe",
   "metadata": {},
   "outputs": [],
   "source": [
    "X_test = vectorizer.fit_transform(X_dict_test)"
   ]
  },
  {
   "cell_type": "code",
   "execution_count": 235,
   "id": "50ddca18",
   "metadata": {},
   "outputs": [],
   "source": [
    "from sklearn.tree import DecisionTreeClassifier\n",
    "from sklearn.model_selection import GridSearchCV\n",
    "parameters = {\"max_depth\" : [3, 10, None]}"
   ]
  },
  {
   "cell_type": "code",
   "execution_count": 236,
   "id": "26aa2597",
   "metadata": {},
   "outputs": [],
   "source": [
    "decision_tree = DecisionTreeClassifier(criterion=\"gini\", min_samples_split =30)"
   ]
  },
  {
   "cell_type": "code",
   "execution_count": 237,
   "id": "6da9989d",
   "metadata": {},
   "outputs": [],
   "source": [
    "grid_search = GridSearchCV(decision_tree, param_grid = parameters, n_jobs = -1, cv = 3, scoring = \"roc_auc\")"
   ]
  },
  {
   "cell_type": "code",
   "execution_count": 238,
   "id": "29503b60",
   "metadata": {},
   "outputs": [
    {
     "data": {
      "text/plain": [
       "GridSearchCV(cv=3, estimator=DecisionTreeClassifier(min_samples_split=30),\n",
       "             n_jobs=-1, param_grid={'max_depth': [3, 10, None]},\n",
       "             scoring='roc_auc')"
      ]
     },
     "execution_count": 238,
     "metadata": {},
     "output_type": "execute_result"
    }
   ],
   "source": [
    "grid_search.fit(X_train, y_train)"
   ]
  },
  {
   "cell_type": "code",
   "execution_count": 239,
   "id": "1d38e9e4",
   "metadata": {},
   "outputs": [
    {
     "data": {
      "text/plain": [
       "{'max_depth': 3}"
      ]
     },
     "execution_count": 239,
     "metadata": {},
     "output_type": "execute_result"
    }
   ],
   "source": [
    "grid_search.best_params_"
   ]
  },
  {
   "cell_type": "code",
   "execution_count": 240,
   "id": "5a9b8688",
   "metadata": {},
   "outputs": [],
   "source": [
    "dicision_tree_best = grid_search.best_estimator_"
   ]
  },
  {
   "cell_type": "code",
   "execution_count": 241,
   "id": "235c94ae",
   "metadata": {},
   "outputs": [
    {
     "data": {
      "text/plain": [
       "DecisionTreeClassifier(max_depth=3, min_samples_split=30)"
      ]
     },
     "execution_count": 241,
     "metadata": {},
     "output_type": "execute_result"
    }
   ],
   "source": [
    "dicision_tree_best"
   ]
  },
  {
   "cell_type": "markdown",
   "id": "2b4e9525",
   "metadata": {},
   "source": [
    "# 평가 지표 "
   ]
  },
  {
   "cell_type": "markdown",
   "id": "514d6f9b",
   "metadata": {},
   "source": [
    " + TP : 참 - 긍정\n",
    " + TN : 참 - 부정\n",
    " + FP : 거짓 - 긍정(1형 오류)  == 없는데 있다\n",
    " + FN : 거짓 - 부정(2형 오류)  == 있는데 없다"
   ]
  },
  {
   "cell_type": "markdown",
   "id": "b135c9f5",
   "metadata": {},
   "source": [
    "정확도, ACCURACY = (TP + TN) / (TP + TN + FP + FN) "
   ]
  },
  {
   "cell_type": "markdown",
   "id": "98813613",
   "metadata": {},
   "source": [
    "정밀도, Precision = TP / (TP + FP)   == 예측한 POSITIVE  중 실제 POSITIVE"
   ]
  },
  {
   "cell_type": "markdown",
   "id": "617cbaf2",
   "metadata": {},
   "source": [
    "재현율, Recall = TP / (TP + FN)"
   ]
  },
  {
   "cell_type": "markdown",
   "id": "d517912e",
   "metadata": {},
   "source": [
    "F1 score  = (2 * precision * recall) / (precision + recall) : 조화평균 "
   ]
  },
  {
   "cell_type": "markdown",
   "id": "9b5af560",
   "metadata": {},
   "source": [
    "#### AUC : Area Under The Curve 곡선하 면적"
   ]
  },
  {
   "cell_type": "markdown",
   "id": "52085b8b",
   "metadata": {},
   "source": [
    "ROC 커브가 만들어지도록 모델 개선 = > 사각형 면적에 가깝게"
   ]
  },
  {
   "cell_type": "markdown",
   "id": "c0855fb6",
   "metadata": {},
   "source": [
    "================================================================================  \n",
    "np.unique"
   ]
  },
  {
   "cell_type": "code",
   "execution_count": 167,
   "id": "5eac2c75",
   "metadata": {},
   "outputs": [],
   "source": [
    "import numpy as np\n",
    "a = np.array([1,0,0,0,1,1,1,1,1,1,0,0,0,0,1,1,1,1,1,1])"
   ]
  },
  {
   "cell_type": "code",
   "execution_count": 168,
   "id": "efa2cb40",
   "metadata": {},
   "outputs": [],
   "source": [
    "a = np.unique(a, return_counts=True)"
   ]
  },
  {
   "cell_type": "code",
   "execution_count": 169,
   "id": "d2f82ad9",
   "metadata": {},
   "outputs": [],
   "source": [
    "b = a[1].tolist()"
   ]
  },
  {
   "cell_type": "code",
   "execution_count": 170,
   "id": "a0382372",
   "metadata": {},
   "outputs": [
    {
     "data": {
      "text/plain": [
       "[7, 13]"
      ]
     },
     "execution_count": 170,
     "metadata": {},
     "output_type": "execute_result"
    }
   ],
   "source": [
    "b"
   ]
  },
  {
   "cell_type": "markdown",
   "id": "c51cad02",
   "metadata": {},
   "source": [
    "================================================================================"
   ]
  },
  {
   "cell_type": "code",
   "execution_count": 171,
   "id": "b0d14adb",
   "metadata": {},
   "outputs": [],
   "source": [
    "from sklearn.metrics import accuracy_score, confusion_matrix"
   ]
  },
  {
   "cell_type": "code",
   "execution_count": 172,
   "id": "e3c1a3f7",
   "metadata": {},
   "outputs": [],
   "source": [
    "from sklearn.metrics import roc_auc_score, roc_curve"
   ]
  },
  {
   "cell_type": "markdown",
   "id": "de032dcd",
   "metadata": {},
   "source": [
    "# 앙상블, 배깅 "
   ]
  },
  {
   "cell_type": "markdown",
   "id": "8084eefe",
   "metadata": {},
   "source": [
    "부트스트랩 : 샘플링할때 중복 허용  \n",
    "bagging : 부트스트랩 한 output으로 의사결정 트리 재구성   \n",
    "앙상블 : 분산은 줄어듦"
   ]
  },
  {
   "cell_type": "markdown",
   "id": "dabcc5c4",
   "metadata": {},
   "source": [
    "###  랜덤 포레스트(의사결정 트리의 앙상블)\n",
    "특징 기반 배깅(무작위, 랜덤)  \n",
    "고분산 줄여줌"
   ]
  },
  {
   "cell_type": "code",
   "execution_count": 173,
   "id": "bf937373",
   "metadata": {},
   "outputs": [
    {
     "data": {
      "text/plain": [
       "RandomForestClassifier(n_estimators=500, n_jobs=-1)"
      ]
     },
     "execution_count": 173,
     "metadata": {},
     "output_type": "execute_result"
    }
   ],
   "source": [
    "from sklearn.datasets import load_iris\n",
    "from sklearn.ensemble import RandomForestClassifier\n",
    "iris = load_iris()\n",
    "random_forest = RandomForestClassifier(n_estimators=500, n_jobs=-1)\n",
    "random_forest.fit(iris.data, iris.target)"
   ]
  },
  {
   "cell_type": "code",
   "execution_count": 174,
   "id": "232e47b5",
   "metadata": {},
   "outputs": [
    {
     "name": "stdout",
     "output_type": "stream",
     "text": [
      "feature sepal length (cm)   importance0.09434382723893585\n",
      "feature sepal width (cm)   importance0.023848990971078263\n",
      "feature petal length (cm)   importance0.45215862012309677\n",
      "feature petal width (cm)   importance0.42964856166688914\n"
     ]
    }
   ],
   "source": [
    "for feature, importance in zip(iris.feature_names, random_forest.feature_importances_):\n",
    "    print(f'feature {feature}   importance{importance}')"
   ]
  },
  {
   "cell_type": "code",
   "execution_count": 175,
   "id": "a666fb8a",
   "metadata": {},
   "outputs": [],
   "source": [
    "random_forest = RandomForestClassifier(n_estimators=100, criterion='gini', n_jobs=-1, min_samples_split=30)"
   ]
  },
  {
   "cell_type": "code",
   "execution_count": 176,
   "id": "b5dd5575",
   "metadata": {},
   "outputs": [],
   "source": [
    "param_grid = {'max_depth':[3,10,None]}"
   ]
  },
  {
   "cell_type": "code",
   "execution_count": 177,
   "id": "650af4c1",
   "metadata": {},
   "outputs": [],
   "source": [
    "grid_search = GridSearchCV(random_forest,param_grid =param_grid , n_jobs=-1, cv = 3, scoring = \"roc_auc\")"
   ]
  },
  {
   "cell_type": "code",
   "execution_count": 178,
   "id": "3aa8d7e8",
   "metadata": {},
   "outputs": [
    {
     "data": {
      "text/plain": [
       "GridSearchCV(cv=3,\n",
       "             estimator=RandomForestClassifier(min_samples_split=30, n_jobs=-1),\n",
       "             n_jobs=-1, param_grid={'max_depth': [3, 10, None]},\n",
       "             scoring='roc_auc')"
      ]
     },
     "execution_count": 178,
     "metadata": {},
     "output_type": "execute_result"
    }
   ],
   "source": [
    "grid_search.fit(X_train, y_train)"
   ]
  },
  {
   "cell_type": "markdown",
   "id": "fe5318f6",
   "metadata": {},
   "source": [
    "랜덤 포레스트 주요 parameter !   \n",
    "max_features : 최적의 분할 지점 찾기위한 특징의 개수 / 보통 n차원 데이터 root의 반올림해서 사용  \n",
    "n_estimator : 일반적으로 100, 200, 500 사용 / 트리 개수 많으면 좋긴 함  \n",
    "min_sample_splits : 노트 추가 분할을 위해 필요한 샘플의 최소 개수 / 너무 작으면 over fitting 너무 크면 under fitting  "
   ]
  },
  {
   "cell_type": "code",
   "execution_count": 179,
   "id": "730fe606",
   "metadata": {},
   "outputs": [
    {
     "data": {
      "text/plain": [
       "{'max_depth': 10}"
      ]
     },
     "execution_count": 179,
     "metadata": {},
     "output_type": "execute_result"
    }
   ],
   "source": [
    "grid_search.best_params_"
   ]
  },
  {
   "cell_type": "code",
   "execution_count": 180,
   "id": "5f604d45",
   "metadata": {},
   "outputs": [],
   "source": [
    "random_forest_best = grid_search.best_estimator_"
   ]
  },
  {
   "cell_type": "code",
   "execution_count": 181,
   "id": "a4a37510",
   "metadata": {},
   "outputs": [
    {
     "data": {
      "text/plain": [
       "array([0, 0, 0, ..., 0, 0, 0], dtype=int64)"
      ]
     },
     "execution_count": 181,
     "metadata": {},
     "output_type": "execute_result"
    }
   ],
   "source": [
    "y_pred = random_forest_best.predict(X_test)\n",
    "y_pred"
   ]
  },
  {
   "cell_type": "code",
   "execution_count": 182,
   "id": "b08fd039",
   "metadata": {},
   "outputs": [
    {
     "data": {
      "text/plain": [
       "0.8251"
      ]
     },
     "execution_count": 182,
     "metadata": {},
     "output_type": "execute_result"
    }
   ],
   "source": [
    "accuracy_score(y_test, y_pred)"
   ]
  },
  {
   "cell_type": "code",
   "execution_count": 183,
   "id": "07b395f8",
   "metadata": {},
   "outputs": [
    {
     "data": {
      "text/plain": [
       "array([[82510,     0],\n",
       "       [17490,     0]], dtype=int64)"
      ]
     },
     "execution_count": 183,
     "metadata": {},
     "output_type": "execute_result"
    }
   ],
   "source": [
    "confusion_matrix(y_test, y_pred)"
   ]
  },
  {
   "cell_type": "code",
   "execution_count": 184,
   "id": "e72a7371",
   "metadata": {},
   "outputs": [
    {
     "data": {
      "text/plain": [
       "array([0.18996422, 0.17829451, 0.20187416, ..., 0.19094332, 0.12096656,\n",
       "       0.12525282])"
      ]
     },
     "execution_count": 184,
     "metadata": {},
     "output_type": "execute_result"
    }
   ],
   "source": [
    "y_pred_proba = random_forest_best.predict_proba(X_test)[:, 1]\n",
    "y_pred_proba"
   ]
  },
  {
   "cell_type": "code",
   "execution_count": 185,
   "id": "560fe2e1",
   "metadata": {},
   "outputs": [],
   "source": [
    "fpr, tpr, _ = roc_curve(y_test, y_pred_proba)"
   ]
  },
  {
   "cell_type": "code",
   "execution_count": 186,
   "id": "cca8d56e",
   "metadata": {},
   "outputs": [],
   "source": [
    "auc = roc_auc_score(y_test, y_pred_proba)"
   ]
  },
  {
   "cell_type": "code",
   "execution_count": 188,
   "id": "f3f88a15",
   "metadata": {},
   "outputs": [],
   "source": [
    "import matplotlib.pyplot as plt"
   ]
  },
  {
   "cell_type": "code",
   "execution_count": 190,
   "id": "e22c34d4",
   "metadata": {},
   "outputs": [
    {
     "data": {
      "image/png": "[encoded data removed]",
      "text/plain": [
       "<Figure size 432x288 with 1 Axes>"
      ]
     },
     "metadata": {
      "needs_background": "light"
     },
     "output_type": "display_data"
    }
   ],
   "source": [
    "plt.plot(fpr, tpr, \"r-\", label = \"Random Forest Classifier\")\n",
    "plt.plot([0,1], [0,1], \"b--\", label=\"random guess\")\n",
    "plt.xlabel(\"false positive rate\")\n",
    "plt.ylabel(\"true positive rate\")\n",
    "plt.title(\"AUC={0:.2f}.format(auc)\")\n",
    "plt.legend(loc=\"lower right\");"
   ]
  }
 ],
 "metadata": {
  "kernelspec": {
   "display_name": "Python 3 (ipykernel)",
   "language": "python",
   "name": "python3"
  },
  "language_info": {
   "codemirror_mode": {
    "name": "ipython",
    "version": 3
   },
   "file_extension": ".py",
   "mimetype": "text/x-python",
   "name": "python",
   "nbconvert_exporter": "python",
   "pygments_lexer": "ipython3",
   "version": "3.7.10"
  }
 },
 "nbformat": 4,
 "nbformat_minor": 5
}
