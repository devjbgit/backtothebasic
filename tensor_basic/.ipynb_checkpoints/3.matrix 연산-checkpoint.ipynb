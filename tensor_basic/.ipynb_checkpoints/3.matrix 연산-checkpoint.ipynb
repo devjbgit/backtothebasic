{
 "cells": [
  {
   "cell_type": "markdown",
   "id": "b764a3f4",
   "metadata": {},
   "source": [
    "### 1. 행렬 초기화 "
   ]
  },
  {
   "cell_type": "code",
   "execution_count": 33,
   "id": "c4573535",
   "metadata": {},
   "outputs": [],
   "source": [
    "import tensorflow as tf\n",
    "import numpy as np\n",
    "sess = tf.Session()"
   ]
  },
  {
   "cell_type": "code",
   "execution_count": 4,
   "id": "64c27e1a",
   "metadata": {},
   "outputs": [
    {
     "name": "stdout",
     "output_type": "stream",
     "text": [
      "[[0. 0. 0. 0. 0. 0. 0. 0. 0. 0.]\n",
      " [0. 0. 0. 0. 0. 0. 0. 0. 0. 0.]]\n",
      "[[1 1 1 1 1 1 1 1 1 1]\n",
      " [1 1 1 1 1 1 1 1 1 1]]\n",
      "[[1. 0. 0.]\n",
      " [0. 1. 0.]\n",
      " [0. 0. 1.]]\n"
     ]
    }
   ],
   "source": [
    "a = tf.zeros([2,10])\n",
    "b = tf.ones([2,10], tf.int32)\n",
    "c = tf.eye(3)\n",
    "print(sess.run(a))\n",
    "print(sess.run(b))\n",
    "print(sess.run(c))"
   ]
  },
  {
   "cell_type": "code",
   "execution_count": 5,
   "id": "49be804b",
   "metadata": {},
   "outputs": [
    {
     "name": "stdout",
     "output_type": "stream",
     "text": [
      "[1 2 3 4 5]\n",
      "[1. 2. 3. 4. 5.]\n"
     ]
    }
   ],
   "source": [
    "a = tf.constant([1,2,3,4,5])\n",
    "b = tf.cast(a, dtype = tf.float32)\n",
    "print(sess.run(a))\n",
    "print(sess.run(b))"
   ]
  },
  {
   "cell_type": "code",
   "execution_count": 6,
   "id": "374cb505",
   "metadata": {},
   "outputs": [
    {
     "name": "stdout",
     "output_type": "stream",
     "text": [
      "[[ 1  2  3]\n",
      " [ 4  5  6]\n",
      " [ 7  8  9]\n",
      " [10 11 12]]\n",
      "[[4 5]\n",
      " [7 8]]\n"
     ]
    }
   ],
   "source": [
    "a = tf.constant([[1,2,3],[4,5,6],[7,8,9],[10,11,12]])\n",
    "b = tf.slice(a, [1,0], [2,2])\n",
    "print(sess.run(a))\n",
    "print(sess.run(b))"
   ]
  },
  {
   "cell_type": "code",
   "execution_count": 7,
   "id": "52a5604f",
   "metadata": {},
   "outputs": [
    {
     "name": "stdout",
     "output_type": "stream",
     "text": [
      "Tensor(\"Const_2:0\", shape=(4,), dtype=int32)\n",
      "Tensor(\"b:0\", shape=(5,), dtype=int32)\n"
     ]
    }
   ],
   "source": [
    "a = tf.constant([1,2,3,4])\n",
    "b = tf.constant([5,6,7,8,9], name=\"b\")\n",
    "print(a)\n",
    "print(b)"
   ]
  },
  {
   "cell_type": "markdown",
   "id": "fc32c797",
   "metadata": {},
   "source": [
    "### 행렬곱"
   ]
  },
  {
   "cell_type": "code",
   "execution_count": 8,
   "id": "84c34b31",
   "metadata": {},
   "outputs": [
    {
     "name": "stdout",
     "output_type": "stream",
     "text": [
      "[[ 9 12 15]\n",
      " [24 33 42]]\n"
     ]
    }
   ],
   "source": [
    "x = tf.constant([[1,2],[4,5]])\n",
    "y = tf.constant([[1,2,3],[4,5,6]])\n",
    "z = tf.matmul(x, y)\n",
    "print(sess.run(z))"
   ]
  },
  {
   "cell_type": "code",
   "execution_count": 10,
   "id": "d9c0206b",
   "metadata": {},
   "outputs": [
    {
     "name": "stdout",
     "output_type": "stream",
     "text": [
      "[[1. 2.]\n",
      " [7. 8.]]\n",
      "[[-1.3333335   0.33333337]\n",
      " [ 1.1666667  -0.16666669]]\n"
     ]
    }
   ],
   "source": [
    "a = tf.constant([[1.0,2],[7,8]])\n",
    "b = tf.linalg.inv(a)\n",
    "print(sess.run(a))\n",
    "print(sess.run(b))"
   ]
  },
  {
   "cell_type": "markdown",
   "id": "d47d20b6",
   "metadata": {},
   "source": [
    "### 브로드캐스팅"
   ]
  },
  {
   "cell_type": "code",
   "execution_count": 11,
   "id": "066dd769",
   "metadata": {},
   "outputs": [
    {
     "name": "stdout",
     "output_type": "stream",
     "text": [
      "[[1 2 3]\n",
      " [4 5 6]]\n",
      "[[ 5  6  7]\n",
      " [ 8  9 10]]\n"
     ]
    }
   ],
   "source": [
    "a = tf.constant([[1,2,3],[4,5,6]])\n",
    "b = a+4\n",
    "print(sess.run(a))\n",
    "print(sess.run(b))"
   ]
  },
  {
   "cell_type": "markdown",
   "id": "ba9922be",
   "metadata": {},
   "source": [
    "###  Reduce함수 : 대표값으로 차원을 줄여줌"
   ]
  },
  {
   "cell_type": "code",
   "execution_count": 12,
   "id": "596bed87",
   "metadata": {},
   "outputs": [
    {
     "name": "stdout",
     "output_type": "stream",
     "text": [
      "55.0\n",
      "5.5\n",
      "10.0\n",
      "1.0\n"
     ]
    }
   ],
   "source": [
    "a = tf.constant([1.0,2,3,4,5,6,7,8,9,10])\n",
    "print(sess.run(tf.reduce_sum(a)))\n",
    "print(sess.run(tf.reduce_mean(a)))\n",
    "print(sess.run(tf.reduce_max(a)))\n",
    "print(sess.run(tf.reduce_min(a)))\n"
   ]
  },
  {
   "cell_type": "code",
   "execution_count": 13,
   "id": "970debde",
   "metadata": {},
   "outputs": [],
   "source": [
    "import matplotlib.pyplot as plt"
   ]
  },
  {
   "cell_type": "markdown",
   "id": "0e975064",
   "metadata": {},
   "source": [
    "####  초기화함수"
   ]
  },
  {
   "cell_type": "code",
   "execution_count": 14,
   "id": "41c4ee97",
   "metadata": {},
   "outputs": [
    {
     "name": "stdout",
     "output_type": "stream",
     "text": [
      "[[5 5 5 5 5 5 5 5 5 5]\n",
      " [5 5 5 5 5 5 5 5 5 5]]\n",
      "[[5. 5. 5. 5. 5. 5. 5. 5. 5. 5.]\n",
      " [5. 5. 5. 5. 5. 5. 5. 5. 5. 5.]]\n",
      "[[5. 0. 0. 0.]\n",
      " [0. 5. 0. 0.]\n",
      " [0. 0. 5. 0.]\n",
      " [0. 0. 0. 5.]]\n"
     ]
    }
   ],
   "source": [
    "d = 5 * tf.ones([2,10], tf.int32)\n",
    "e = tf.fill([2,10], 5.0)\n",
    "f = 5 * tf.eye(4)\n",
    "print(sess.run(d))\n",
    "print(sess.run(e))\n",
    "print(sess.run(f))"
   ]
  },
  {
   "cell_type": "code",
   "execution_count": 17,
   "id": "b5086eb7",
   "metadata": {},
   "outputs": [
    {
     "name": "stdout",
     "output_type": "stream",
     "text": [
      "[[1.1 2.  3. ]\n",
      " [4.  5.1 6. ]\n",
      " [7.  8.  9.1]]\n"
     ]
    }
   ],
   "source": [
    "a = tf.constant([1,2,3,4,5,6,7,8,9.0], shape = [3,3])\n",
    "b = a + 0.1 * tf.eye(3)\n",
    "print(sess.run(b))"
   ]
  },
  {
   "cell_type": "code",
   "execution_count": 19,
   "id": "b218d120",
   "metadata": {},
   "outputs": [
    {
     "name": "stdout",
     "output_type": "stream",
     "text": [
      "[[-0.8548584  3.2717237  2.9626503]\n",
      " [-3.449074   4.0935564 -3.536669 ]]\n",
      "[[ 7.306923  8.679411  9.697923]\n",
      " [ 6.236818 10.635394 12.270224]]\n"
     ]
    }
   ],
   "source": [
    "a = tf.random_uniform([2,3],-5,5)\n",
    "b = tf.random_uniform([2,3], minval = 5, maxval = 15)\n",
    "print(sess.run(a))\n",
    "print(sess.run(b))"
   ]
  },
  {
   "cell_type": "code",
   "execution_count": 21,
   "id": "a83fc6e3",
   "metadata": {},
   "outputs": [
    {
     "name": "stdout",
     "output_type": "stream",
     "text": [
      "[[1 3 1]\n",
      " [6 2 3]]\n"
     ]
    }
   ],
   "source": [
    "a = tf.random_uniform([2,3], 0, 8, dtype=tf.int32)\n",
    "print(sess.run(a))"
   ]
  },
  {
   "cell_type": "code",
   "execution_count": 31,
   "id": "7a62ebd4",
   "metadata": {},
   "outputs": [
    {
     "name": "stdout",
     "output_type": "stream",
     "text": [
      "[[ 0.3765015   2.0697217  -2.600205   -3.6083963  -0.49802437  0.22872405\n",
      "   0.36698902 -1.8083236   1.0470281  -0.34967044]\n",
      " [-2.4852414   0.7842925  -1.9161494  -0.7348371  -1.3879857   4.4252353\n",
      "   2.4790883  -7.221985    2.2760992   0.8233183 ]\n",
      " [ 0.6090821   0.8258571  -0.5214511  -1.4161954  -1.0196713  -0.5362849\n",
      "   0.56405246 -4.418804   -0.781447   -1.1650324 ]\n",
      " [ 1.294114   -4.1653943  -4.5962963  -3.4015362  -3.2028735  -0.6518858\n",
      "   3.6020951  -0.40568766 -1.284609   -1.6226997 ]\n",
      " [ 0.649715    2.0990014  -0.510589    1.5094506  -1.0530962   3.7885828\n",
      "   2.8593493   1.406383    0.21749271  2.6508114 ]]\n",
      "[[ 1.1483283  -3.7354052  -0.91799647  0.96615     2.486978   -0.5590958\n",
      "  -2.6157506   0.23461094 -0.4228196  -0.1820059 ]\n",
      " [ 1.8056837  -0.06957086  2.2246082  -0.85843986 -0.51752555 -2.1011996\n",
      "  -2.6099708   0.7002879  -1.1106268  -1.2241569 ]\n",
      " [-0.8677874  -2.6837249  -2.3411674   1.0238614  -2.662507   -0.93817353\n",
      "  -3.2967377   2.1967812  -1.6365883   3.2621288 ]\n",
      " [-2.3980553  -1.427246    1.9306301   1.7412769  -2.3638513  -0.44584927\n",
      "  -1.5106349   1.2158147  -0.3925402   2.5575662 ]\n",
      " [-1.0446674  -2.1758788  -3.20786     1.3461887   0.42764944 -0.37704492\n",
      "  -2.9632916   0.11838964  0.72541076 -1.4953486 ]]\n"
     ]
    }
   ],
   "source": [
    "a = tf.random_normal([5,10], mean = 0, stddev = 2)\n",
    "b = tf.truncated_normal([5,10], stddev = 2)\n",
    "print(sess.run(a))\n",
    "print(sess.run(b))"
   ]
  },
  {
   "cell_type": "markdown",
   "id": "b9f21e73",
   "metadata": {},
   "source": [
    "#### 형변환"
   ]
  },
  {
   "cell_type": "code",
   "execution_count": 35,
   "id": "4948848b",
   "metadata": {},
   "outputs": [
    {
     "name": "stdout",
     "output_type": "stream",
     "text": [
      "[1 2 3 4 5]\n",
      "[1. 2. 3. 4. 5.]\n"
     ]
    }
   ],
   "source": [
    "a = tf.constant([1,2,3,4,5])\n",
    "b = tf.cast(a, dtype = tf.float32)\n",
    "print(sess.run(a))\n",
    "print(sess.run(b))"
   ]
  },
  {
   "cell_type": "code",
   "execution_count": 38,
   "id": "ae1662ca",
   "metadata": {},
   "outputs": [
    {
     "name": "stdout",
     "output_type": "stream",
     "text": [
      "[1 1 2]\n"
     ]
    }
   ],
   "source": [
    "#소수점 버림\n",
    "x = tf.constant([1.23, 1.98, 2.01])\n",
    "y = tf.cast(x, dtype=tf.int32)\n",
    "print(sess.run(y))"
   ]
  },
  {
   "cell_type": "code",
   "execution_count": 37,
   "id": "f10885a0",
   "metadata": {},
   "outputs": [
    {
     "name": "stdout",
     "output_type": "stream",
     "text": [
      "[1. 2. 2.]\n",
      "[1 2 2]\n"
     ]
    }
   ],
   "source": [
    "x = tf.constant([1.23, 1.98, 2.01])\n",
    "y = tf.round(x)\n",
    "y2 = tf.cast(y, dtype=tf.int32)\n",
    "print(sess.run(y))\n",
    "print(sess.run(y2))"
   ]
  },
  {
   "cell_type": "code",
   "execution_count": 39,
   "id": "68ed6b9b",
   "metadata": {},
   "outputs": [
    {
     "name": "stdout",
     "output_type": "stream",
     "text": [
      "[0 1 1 1 0 0]\n"
     ]
    }
   ],
   "source": [
    "x = tf.constant([1,3,4,6,2,2])\n",
    "y = tf.cast(x > 2, dtype=tf.int32)\n",
    "print(sess.run(y))"
   ]
  },
  {
   "cell_type": "code",
   "execution_count": 40,
   "id": "d08b7f4f",
   "metadata": {},
   "outputs": [
    {
     "name": "stdout",
     "output_type": "stream",
     "text": [
      "6.0\n",
      "6.0\n"
     ]
    }
   ],
   "source": [
    "a = tf.constant(2.0)\n",
    "b = a + tf.convert_to_tensor(4.0)\n",
    "c = a + 4.0\n",
    "print(sess.run(b))\n",
    "print(sess.run(c))"
   ]
  },
  {
   "cell_type": "code",
   "execution_count": 42,
   "id": "f45e43c1",
   "metadata": {},
   "outputs": [
    {
     "name": "stdout",
     "output_type": "stream",
     "text": [
      "[ 7 10 13 16]\n"
     ]
    }
   ],
   "source": [
    "a = tf.convert_to_tensor([1,2,3,4])\n",
    "b = tf.convert_to_tensor( np.array([1,2,3,4]) )\n",
    "c = a + b + [5,6,7,8]\n",
    "print(sess.run(c))"
   ]
  },
  {
   "cell_type": "markdown",
   "id": "f5d4ea70",
   "metadata": {},
   "source": [
    "#### 슬라이싱"
   ]
  },
  {
   "cell_type": "code",
   "execution_count": 50,
   "id": "a9cf4285",
   "metadata": {},
   "outputs": [
    {
     "name": "stdout",
     "output_type": "stream",
     "text": [
      "[[ 1  2  3]\n",
      " [ 4  5  6]\n",
      " [ 7  8  9]\n",
      " [10 11 12]]\n",
      "[[4 5]\n",
      " [7 8]]\n"
     ]
    }
   ],
   "source": [
    "a = tf.constant([[1,2,3], [4,5,6], [7,8,9], [10,11,12]])\n",
    "b = tf.slice(a, [1, 0], [2,2]) #시작값 / 개수(행, 열)\n",
    "print(sess.run(a))\n",
    "print(sess.run(b)) "
   ]
  },
  {
   "cell_type": "code",
   "execution_count": 45,
   "id": "fcd1e777",
   "metadata": {},
   "outputs": [
    {
     "name": "stdout",
     "output_type": "stream",
     "text": [
      "[[7 8 9]]\n"
     ]
    }
   ],
   "source": [
    "k = 2\n",
    "a = tf.constant([[1,2,3], [4,5,6], [7,8,9], [10,11,12]])\n",
    "b = tf.slice(a, [k, 0], [1,-1])\n",
    "print(sess.run(b)) "
   ]
  },
  {
   "cell_type": "code",
   "execution_count": 46,
   "id": "8d09a238",
   "metadata": {},
   "outputs": [
    {
     "name": "stdout",
     "output_type": "stream",
     "text": [
      "[[1 2 3]\n",
      " [4 5 6]]\n"
     ]
    }
   ],
   "source": [
    "k = 0\n",
    "n = 2\n",
    "a = tf.constant([[1,2,3], [4,5,6], [7,8,9], [10,11,12]])\n",
    "b = tf.slice(a, [k, 0], [n,-1])\n",
    "print(sess.run(b)) "
   ]
  },
  {
   "cell_type": "code",
   "execution_count": 47,
   "id": "277f8043",
   "metadata": {},
   "outputs": [
    {
     "name": "stdout",
     "output_type": "stream",
     "text": [
      "[[ 3]\n",
      " [ 6]\n",
      " [ 9]\n",
      " [12]]\n"
     ]
    }
   ],
   "source": [
    "k = 2\n",
    "a = tf.constant([[1,2,3], [4,5,6], [7,8,9], [10,11,12]])\n",
    "b = tf.slice(a, [0, k], [-1,1])\n",
    "print(sess.run(b)) "
   ]
  },
  {
   "cell_type": "code",
   "execution_count": 48,
   "id": "a0c9bb71",
   "metadata": {},
   "outputs": [
    {
     "name": "stdout",
     "output_type": "stream",
     "text": [
      "[[ 2  3]\n",
      " [ 5  6]\n",
      " [ 8  9]\n",
      " [11 12]]\n"
     ]
    }
   ],
   "source": [
    "k = 1\n",
    "n = 2\n",
    "a = tf.constant([[1,2,3], [4,5,6], [7,8,9], [10,11,12]])\n",
    "b = tf.slice(a, [0, k], [-1,n])\n",
    "print(sess.run(b)) "
   ]
  },
  {
   "cell_type": "code",
   "execution_count": 49,
   "id": "616110ef",
   "metadata": {},
   "outputs": [
    {
     "name": "stdout",
     "output_type": "stream",
     "text": [
      "[[1 2 3]\n",
      " [4 5 6]]\n"
     ]
    }
   ],
   "source": [
    "r = 2\n",
    "c = 3\n",
    "a = tf.constant([[1,2,3], [4,5,6], [7,8,9], [10,11,12]])\n",
    "b = tf.slice(a, [0,0],[r, c])\n",
    "print(sess.run(b)) "
   ]
  },
  {
   "cell_type": "code",
   "execution_count": 51,
   "id": "ee24b551",
   "metadata": {},
   "outputs": [
    {
     "name": "stdout",
     "output_type": "stream",
     "text": [
      "[[ 6  7]\n",
      " [10 11]]\n"
     ]
    }
   ],
   "source": [
    "a = tf.constant([1,2,3,4,5,6,7,8,9,10,11,12,13,14,15,16],shape=[4,4])\n",
    "last_r = a.get_shape().as_list()[0]\n",
    "last_c = a.get_shape().as_list()[1]\n",
    "b = tf.slice(a, [1, 1], [last_r-2, last_c-2])\n",
    "print(sess.run(b)) "
   ]
  },
  {
   "cell_type": "code",
   "execution_count": 53,
   "id": "8d262150",
   "metadata": {},
   "outputs": [
    {
     "name": "stdout",
     "output_type": "stream",
     "text": [
      "[[1 2 3]\n",
      " [7 8 9]]\n"
     ]
    }
   ],
   "source": [
    "#행 가져옴\n",
    "a = tf.constant([[1,2,3], [4,5,6], [7,8,9], [10,11,12]])\n",
    "x = tf.gather(a, [0, 2])\n",
    "print(sess.run(x))"
   ]
  },
  {
   "cell_type": "code",
   "execution_count": 56,
   "id": "8bb732bc",
   "metadata": {},
   "outputs": [
    {
     "name": "stdout",
     "output_type": "stream",
     "text": [
      "6\n",
      "[6 9]\n"
     ]
    }
   ],
   "source": [
    "#원소 하나하나\n",
    "b = tf.gather_nd(a, [1, 2])\n",
    "print(sess.run(b)) \n",
    "\n",
    "c = tf.gather_nd(a, [[1, 2], [2,2]])\n",
    "print(sess.run(c)) "
   ]
  },
  {
   "cell_type": "code",
   "execution_count": 57,
   "id": "391ccfd9",
   "metadata": {},
   "outputs": [
    {
     "name": "stdout",
     "output_type": "stream",
     "text": [
      "[[1 2 3]\n",
      " [7 8 9]]\n"
     ]
    }
   ],
   "source": [
    "#행 가져옴\n",
    "b = tf.gather_nd(a, [[0], [2]])\n",
    "print(sess.run(b))"
   ]
  },
  {
   "cell_type": "code",
   "execution_count": 58,
   "id": "2071576e",
   "metadata": {},
   "outputs": [
    {
     "name": "stdout",
     "output_type": "stream",
     "text": [
      "[[ 1  3]\n",
      " [ 4  6]\n",
      " [ 7  9]\n",
      " [10 12]]\n"
     ]
    }
   ],
   "source": [
    "# 열가져옴\n",
    "b = tf.transpose(tf.gather_nd(tf.transpose(a), [[0],[2]]))\n",
    "print(sess.run(b))"
   ]
  },
  {
   "cell_type": "markdown",
   "id": "7d916dc0",
   "metadata": {},
   "source": [
    "#####  텐서 네임"
   ]
  },
  {
   "cell_type": "code",
   "execution_count": 59,
   "id": "6e5ffbb1",
   "metadata": {},
   "outputs": [
    {
     "name": "stdout",
     "output_type": "stream",
     "text": [
      "Tensor(\"Const_37:0\", shape=(4,), dtype=int32)\n",
      "Tensor(\"b_1:0\", shape=(5,), dtype=int32)\n"
     ]
    }
   ],
   "source": [
    "a = tf.constant([1,2,3,4])\n",
    "b = tf.constant([5,6,7,8,9], name='b')\n",
    "print(a)\n",
    "print(b)"
   ]
  },
  {
   "cell_type": "code",
   "execution_count": 60,
   "id": "6a241d98",
   "metadata": {},
   "outputs": [
    {
     "name": "stdout",
     "output_type": "stream",
     "text": [
      "Tensor(\"a:0\", shape=(4,), dtype=int32)\n",
      "Tensor(\"a_1:0\", shape=(5,), dtype=int32)\n"
     ]
    }
   ],
   "source": [
    "a = tf.constant([1,2,3,4], name='a')\n",
    "b = tf.constant([5,6,7,8,9], name='a')\n",
    "print(a)\n",
    "print(b)"
   ]
  },
  {
   "cell_type": "code",
   "execution_count": 61,
   "id": "a84a79e2",
   "metadata": {},
   "outputs": [
    {
     "name": "stdout",
     "output_type": "stream",
     "text": [
      "Tensor(\"add_8:0\", shape=(4,), dtype=int32)\n",
      "Tensor(\"add_9:0\", shape=(4,), dtype=int32)\n"
     ]
    }
   ],
   "source": [
    "a = tf.constant([1,2,3,4], name='a')\n",
    "b = tf.constant([5,6,7,8], name='b')\n",
    "c = a + b\n",
    "d = tf.add(a, b, name='add')\n",
    "print(c)\n",
    "print(d)"
   ]
  },
  {
   "cell_type": "code",
   "execution_count": 63,
   "id": "53d5b7ac",
   "metadata": {},
   "outputs": [
    {
     "name": "stdout",
     "output_type": "stream",
     "text": [
      "Tensor(\"add_12:0\", shape=(4,), dtype=int32)\n",
      "Tensor(\"add_a_b:0\", shape=(4,), dtype=int32)\n"
     ]
    }
   ],
   "source": [
    "a = tf.constant([1,2,3,4], name='a')\n",
    "b = tf.constant([5,6,7,8], name='a')\n",
    "c = a + b\n",
    "d = tf.add(a, b, name='add_a_b')\n",
    "print(c)\n",
    "print(d)"
   ]
  },
  {
   "cell_type": "code",
   "execution_count": 64,
   "id": "d6e34113",
   "metadata": {},
   "outputs": [
    {
     "name": "stdout",
     "output_type": "stream",
     "text": [
      "[ 6  8 10 12]\n"
     ]
    }
   ],
   "source": [
    "a = tf.constant([1,2,3,4], name='a')\n",
    "b = tf.constant([5,6,7,8], name='b')\n",
    "c = tf.add(a, b, name='add_a_b')\n",
    "test = tf.get_default_graph().get_tensor_by_name(\"add_a_b:0\")   \n",
    "print(sess.run(test))"
   ]
  },
  {
   "cell_type": "code",
   "execution_count": 65,
   "id": "a0997819",
   "metadata": {},
   "outputs": [
    {
     "name": "stdout",
     "output_type": "stream",
     "text": [
      "zeros Const\n",
      "ones Const\n",
      "eye/ones Const\n",
      "eye/MatrixDiag MatrixDiag\n",
      "zeros_1 Const\n",
      "ones_1 Const\n",
      "eye_1/ones Const\n",
      "eye_1/MatrixDiag MatrixDiag\n",
      "Const Const\n",
      "Cast Cast\n",
      "Const_1 Const\n",
      "Slice/begin Const\n",
      "Slice/size Const\n",
      "Slice Slice\n",
      "Const_2 Const\n",
      "b Const\n",
      "Const_3 Const\n",
      "Const_4 Const\n",
      "MatMul MatMul\n",
      "Const_5 Const\n",
      "MatrixInverse MatrixInverse\n",
      "Const_6 Const\n",
      "add/y Const\n",
      "add Add\n",
      "Const_7 Const\n",
      "Const_8 Const\n",
      "Sum Sum\n",
      "Const_9 Const\n",
      "Mean Mean\n",
      "Const_10 Const\n",
      "Max Max\n",
      "Const_11 Const\n",
      "Min Min\n",
      "ones_2 Const\n",
      "mul/x Const\n",
      "mul Mul\n",
      "Fill/dims Const\n",
      "Fill/value Const\n",
      "Fill Fill\n",
      "eye_2/ones Const\n",
      "eye_2/MatrixDiag MatrixDiag\n",
      "mul_1/x Const\n",
      "mul_1 Mul\n",
      "Const_12 Const\n",
      "eye_3/ones Const\n",
      "eye_3/MatrixDiag MatrixDiag\n",
      "mul_2/x Const\n",
      "mul_2 Mul\n",
      "add_1 Add\n",
      "random_uniform/shape Const\n",
      "random_uniform/min Const\n",
      "random_uniform/max Const\n",
      "random_uniform/RandomUniform RandomUniform\n",
      "random_uniform/sub Sub\n",
      "random_uniform/mul Mul\n",
      "random_uniform Add\n",
      "random_uniform_1/shape Const\n",
      "random_uniform_1/min Const\n",
      "random_uniform_1/max Const\n",
      "random_uniform_1/RandomUniform RandomUniform\n",
      "random_uniform_1/sub Sub\n",
      "random_uniform_1/mul Mul\n",
      "random_uniform_1 Add\n",
      "random_uniform_2/shape Const\n",
      "random_uniform_2/min Const\n",
      "random_uniform_2/max Const\n",
      "random_uniform_2/RandomUniform RandomUniform\n",
      "random_uniform_2/sub Sub\n",
      "random_uniform_2/mul Mul\n",
      "random_uniform_2 Add\n",
      "random_uniform_3/shape Const\n",
      "random_uniform_3/min Const\n",
      "random_uniform_3/max Const\n",
      "random_uniform_3/RandomUniform RandomUniform\n",
      "random_uniform_3/sub Sub\n",
      "random_uniform_3/mul Mul\n",
      "random_uniform_3 Add\n",
      "random_uniform_4/shape Const\n",
      "random_uniform_4/min Const\n",
      "random_uniform_4/max Const\n",
      "random_uniform_4 RandomUniformInt\n",
      "random_uniform_5/shape Const\n",
      "random_uniform_5/min Const\n",
      "random_uniform_5/max Const\n",
      "random_uniform_5 RandomUniformInt\n",
      "random_uniform_6/shape Const\n",
      "random_uniform_6/min Const\n",
      "random_uniform_6/max Const\n",
      "random_uniform_6 RandomUniformInt\n",
      "random_uniform_7/shape Const\n",
      "random_uniform_7/min Const\n",
      "random_uniform_7/max Const\n",
      "random_uniform_7 RandomUniformInt\n",
      "random_uniform_8/shape Const\n",
      "random_uniform_8/min Const\n",
      "random_uniform_8/max Const\n",
      "random_uniform_8 RandomUniformInt\n",
      "random_uniform_9/shape Const\n",
      "random_uniform_9/min Const\n",
      "random_uniform_9/max Const\n",
      "random_uniform_9 RandomUniformInt\n",
      "random_uniform_10/shape Const\n",
      "random_uniform_10/min Const\n",
      "random_uniform_10/max Const\n",
      "random_uniform_10 RandomUniformInt\n",
      "random_uniform_11/shape Const\n",
      "random_uniform_11/min Const\n",
      "random_uniform_11/max Const\n",
      "random_uniform_11 RandomUniformInt\n",
      "random_uniform_12/shape Const\n",
      "random_uniform_12/min Const\n",
      "random_uniform_12/max Const\n",
      "random_uniform_12 RandomUniformInt\n",
      "random_uniform_13/shape Const\n",
      "random_uniform_13/min Const\n",
      "random_uniform_13/max Const\n",
      "random_uniform_13 RandomUniformInt\n",
      "random_uniform_14/shape Const\n",
      "random_uniform_14/min Const\n",
      "random_uniform_14/max Const\n",
      "random_uniform_14 RandomUniformInt\n",
      "random_uniform_15/shape Const\n",
      "random_uniform_15/min Const\n",
      "random_uniform_15/max Const\n",
      "random_uniform_15 RandomUniformInt\n",
      "random_uniform_16/shape Const\n",
      "random_uniform_16/min Const\n",
      "random_uniform_16/max Const\n",
      "random_uniform_16 RandomUniformInt\n",
      "random_uniform_17/shape Const\n",
      "random_uniform_17/min Const\n",
      "random_uniform_17/max Const\n",
      "random_uniform_17 RandomUniformInt\n",
      "random_uniform_18/shape Const\n",
      "random_uniform_18/min Const\n",
      "random_uniform_18/max Const\n",
      "random_uniform_18 RandomUniformInt\n",
      "random_uniform_19/shape Const\n",
      "random_uniform_19/min Const\n",
      "random_uniform_19/max Const\n",
      "random_uniform_19 RandomUniformInt\n",
      "random_uniform_20/shape Const\n",
      "random_uniform_20/min Const\n",
      "random_uniform_20/max Const\n",
      "random_uniform_20 RandomUniformInt\n",
      "random_uniform_21/shape Const\n",
      "random_uniform_21/min Const\n",
      "random_uniform_21/max Const\n",
      "random_uniform_21 RandomUniformInt\n",
      "random_uniform_22/shape Const\n",
      "random_uniform_22/min Const\n",
      "random_uniform_22/max Const\n",
      "random_uniform_22 RandomUniformInt\n",
      "random_uniform_23/shape Const\n",
      "random_uniform_23/min Const\n",
      "random_uniform_23/max Const\n",
      "random_uniform_23 RandomUniformInt\n",
      "random_uniform_24/shape Const\n",
      "random_uniform_24/min Const\n",
      "random_uniform_24/max Const\n",
      "random_uniform_24 RandomUniformInt\n",
      "random_uniform_25/shape Const\n",
      "random_uniform_25/min Const\n",
      "random_uniform_25/max Const\n",
      "random_uniform_25 RandomUniformInt\n",
      "random_uniform_26/shape Const\n",
      "random_uniform_26/min Const\n",
      "random_uniform_26/max Const\n",
      "random_uniform_26 RandomUniformInt\n",
      "random_uniform_27/shape Const\n",
      "random_uniform_27/min Const\n",
      "random_uniform_27/max Const\n",
      "random_uniform_27 RandomUniformInt\n",
      "random_uniform_28/shape Const\n",
      "random_uniform_28/min Const\n",
      "random_uniform_28/max Const\n",
      "random_uniform_28 RandomUniformInt\n",
      "random_uniform_29/shape Const\n",
      "random_uniform_29/min Const\n",
      "random_uniform_29/max Const\n",
      "random_uniform_29 RandomUniformInt\n",
      "random_uniform_30/shape Const\n",
      "random_uniform_30/min Const\n",
      "random_uniform_30/max Const\n",
      "random_uniform_30 RandomUniformInt\n",
      "random_normal/shape Const\n",
      "random_normal/mean Const\n",
      "random_normal/stddev Const\n",
      "random_normal/RandomStandardNormal RandomStandardNormal\n",
      "random_normal/mul Mul\n",
      "random_normal Add\n",
      "truncated_normal/shape Const\n",
      "truncated_normal/mean Const\n",
      "truncated_normal/stddev Const\n",
      "truncated_normal/TruncatedNormal TruncatedNormal\n",
      "truncated_normal/mul Mul\n",
      "truncated_normal Add\n",
      "Const_13 Const\n",
      "Cast_1 Cast\n",
      "Const_14 Const\n",
      "Cast_2 Cast\n",
      "Const_15 Const\n",
      "Cast_3 Cast\n",
      "Const_16 Const\n",
      "Cast_4 Cast\n",
      "Const_17 Const\n",
      "Round Round\n",
      "Cast_5 Cast\n",
      "Const_18 Const\n",
      "Cast_6 Cast\n",
      "Const_19 Const\n",
      "Greater/y Const\n",
      "Greater Greater\n",
      "Cast_7 Cast\n",
      "Const_20 Const\n",
      "Const_21 Const\n",
      "add_2 Add\n",
      "add_3/y Const\n",
      "add_3 Add\n",
      "Const_22 Const\n",
      "Const_23 Const\n",
      "add_4 Add\n",
      "add_5/y Const\n",
      "add_5 Add\n",
      "Const_24 Const\n",
      "Const_25 Const\n",
      "add_6 Add\n",
      "add_7/y Const\n",
      "add_7 Add\n",
      "Const_26 Const\n",
      "Slice_1/begin Const\n",
      "Slice_1/size Const\n",
      "Slice_1 Slice\n",
      "Const_27 Const\n",
      "Slice_2/begin Const\n",
      "Slice_2/size Const\n",
      "Slice_2 Slice\n",
      "Const_28 Const\n",
      "Slice_3/begin Const\n",
      "Slice_3/size Const\n",
      "Slice_3 Slice\n",
      "Const_29 Const\n",
      "Slice_4/begin Const\n",
      "Slice_4/size Const\n",
      "Slice_4 Slice\n",
      "Const_30 Const\n",
      "Slice_5/begin Const\n",
      "Slice_5/size Const\n",
      "Slice_5 Slice\n",
      "Const_31 Const\n",
      "Slice_6/begin Const\n",
      "Slice_6/size Const\n",
      "Slice_6 Slice\n",
      "Const_32 Const\n",
      "Slice_7/begin Const\n",
      "Slice_7/size Const\n",
      "Slice_7 Slice\n",
      "Const_33 Const\n",
      "Slice_8/begin Const\n",
      "Slice_8/size Const\n",
      "Slice_8 Slice\n",
      "Const_34 Const\n",
      "Slice_9/begin Const\n",
      "Slice_9/size Const\n",
      "Slice_9 Slice\n",
      "Const_35 Const\n",
      "GatherV2/indices Const\n",
      "GatherV2/axis Const\n",
      "GatherV2 GatherV2\n",
      "Const_36 Const\n",
      "GatherV2_1/indices Const\n",
      "GatherV2_1/axis Const\n",
      "GatherV2_1 GatherV2\n",
      "GatherNd/indices Const\n",
      "GatherNd GatherNd\n",
      "GatherNd_1/indices Const\n",
      "GatherNd_1 GatherNd\n",
      "GatherNd_2/indices Const\n",
      "GatherNd_2 GatherNd\n",
      "GatherNd_3/indices Const\n",
      "GatherNd_3 GatherNd\n",
      "GatherNd_4/indices Const\n",
      "GatherNd_4 GatherNd\n",
      "transpose/perm Const\n",
      "transpose Transpose\n",
      "GatherNd_5/indices Const\n",
      "GatherNd_5 GatherNd\n",
      "transpose_1/perm Const\n",
      "transpose_1 Transpose\n",
      "Const_37 Const\n",
      "b_1 Const\n",
      "a Const\n",
      "a_1 Const\n",
      "a_2 Const\n",
      "b_2 Const\n",
      "add_8 Add\n",
      "add_9 Add\n",
      "a_3 Const\n",
      "b_3 Const\n",
      "add_10 Add\n",
      "add_11 Add\n",
      "a_4 Const\n",
      "a_5 Const\n",
      "add_12 Add\n",
      "add_a_b Add\n",
      "a_6 Const\n",
      "b_4 Const\n",
      "add_a_b_1 Add\n"
     ]
    }
   ],
   "source": [
    "for n in tf.get_default_graph().as_graph_def().node :\n",
    "   print(n.name, n.op)"
   ]
  },
  {
   "cell_type": "markdown",
   "id": "a2af4347",
   "metadata": {},
   "source": [
    "####  행렬곱"
   ]
  },
  {
   "cell_type": "code",
   "execution_count": 67,
   "id": "9312f230",
   "metadata": {},
   "outputs": [
    {
     "name": "stdout",
     "output_type": "stream",
     "text": [
      "[[ 9 12]\n",
      " [24 33]]\n",
      "[[ 1  4]\n",
      " [16 25]]\n"
     ]
    }
   ],
   "source": [
    "x = tf.constant([[1,2],[4,5]])\n",
    "y = tf.constant([[1,2],[4,5]])\n",
    "z = tf.matmul(x, y) # 행렬곱\n",
    "z2 = x * y #원소곱\n",
    "print(sess.run(z))\n",
    "print(sess.run(z2))"
   ]
  },
  {
   "cell_type": "code",
   "execution_count": 68,
   "id": "53b0e3d4",
   "metadata": {},
   "outputs": [
    {
     "name": "stdout",
     "output_type": "stream",
     "text": [
      "(1, 3)\n",
      "(3, 1)\n",
      "(1, 1)\n",
      "[[44]]\n"
     ]
    }
   ],
   "source": [
    "a = tf.constant([[1,2,3]])\n",
    "b = tf.constant([[6],[7],[8]]) \n",
    "c = tf.matmul(a, b)\n",
    "d = sess.run(c)\n",
    "\n",
    "print(a.shape)\n",
    "print(b.shape)\n",
    "print(c.shape)\n",
    "print(d)"
   ]
  },
  {
   "cell_type": "code",
   "execution_count": 70,
   "id": "fbbcda83",
   "metadata": {},
   "outputs": [
    {
     "name": "stdout",
     "output_type": "stream",
     "text": [
      "[[ 1.  3.  5.  7.  9.]\n",
      " [ 2.  4.  6.  8. 10.]]\n"
     ]
    }
   ],
   "source": [
    "a = tf.constant([[1.0,2], [3,4]])\n",
    "b = tf.placeholder(dtype = tf.float32, shape=(2, None))\n",
    "b_data = np.array([ [1,2], [3,4], [5,6], [7,8], [9,10.0]])\n",
    "b_data = b_data.transpose()\n",
    "print(b_data)"
   ]
  },
  {
   "cell_type": "code",
   "execution_count": 71,
   "id": "9d948095",
   "metadata": {},
   "outputs": [
    {
     "name": "stdout",
     "output_type": "stream",
     "text": [
      "[[1. 2.]\n",
      " [3. 4.]]\n",
      "[[ 1.  3.  5.  7.  9.]\n",
      " [ 2.  4.  6.  8. 10.]]\n",
      "[[ 5. 11. 17. 23. 29.]\n",
      " [11. 25. 39. 53. 67.]]\n"
     ]
    }
   ],
   "source": [
    "c = tf.matmul(a, b)\n",
    "d = sess.run([a, b, c],  feed_dict={b:b_data })\n",
    "print(d[0])\n",
    "print(d[1])\n",
    "print(d[2])"
   ]
  },
  {
   "cell_type": "code",
   "execution_count": 72,
   "id": "c82486c5",
   "metadata": {},
   "outputs": [
    {
     "name": "stdout",
     "output_type": "stream",
     "text": [
      "Tensor(\"Const_46:0\", shape=(2, 2), dtype=float32)\n",
      "Tensor(\"Placeholder_2:0\", shape=(2, ?), dtype=float32)\n",
      "[[1. 2.]\n",
      " [3. 4.]]\n",
      "[[ 1.  3.  5.  7.  9.]\n",
      " [ 2.  4.  6.  8. 10.]]\n",
      "[[ 5. 11. 17. 23. 29.]\n",
      " [11. 25. 39. 53. 67.]]\n"
     ]
    }
   ],
   "source": [
    "a = tf.constant([[1.0,2], [3,4]])\n",
    "b = tf.placeholder(dtype = tf.float32, shape=(2, None))\n",
    "b_data = np.array([ [1,2], [3,4], [5,6], [7,8], [9,10]])\n",
    "\n",
    "print(a)\n",
    "print(b)\n",
    "c = tf.matmul(a, b)\n",
    "d = sess.run([a, b, c],  feed_dict={b:b_data.T })\n",
    "print(d[0])\n",
    "print(d[1])\n",
    "print(d[2])"
   ]
  },
  {
   "cell_type": "code",
   "execution_count": null,
   "id": "7fc2b0d8",
   "metadata": {},
   "outputs": [],
   "source": [
    "a = tf.constant([[1.0,2], [3,4]])\n",
    "b = tf.placeholder(dtype = tf.float32, shape=(2, None))\n",
    "b_data = np.array([ [1,2], [3,4], [5,6], [7,8], [9,10]])\n",
    "\n",
    "print(a)\n",
    "print(b)\n",
    "c = tf.matmul(a, b)\n",
    "d = sess.run([a, b, c],  feed_dict={b:b_data.T })\n",
    "print(d[0])\n",
    "print(d[1])\n",
    "print(d[2])"
   ]
  },
  {
   "cell_type": "code",
   "execution_count": 73,
   "id": "eafbbe76",
   "metadata": {},
   "outputs": [
    {
     "name": "stdout",
     "output_type": "stream",
     "text": [
      "[[1 2 3]\n",
      " [4 5 6]]\n",
      "[[ 6  7]\n",
      " [ 8  9]\n",
      " [10 11]]\n",
      "[[ 52  58]\n",
      " [124 139]]\n"
     ]
    }
   ],
   "source": [
    "a = tf.constant([1,2,3,4,5,6], shape=(2,3))\n",
    "b = tf.constant([6,7,8,9,10,11], shape=(3,2))\n",
    "d = tf.matmul(a, b)\n",
    "result = sess.run([a, b, d])\n",
    "\n",
    "print(result[0])\n",
    "print(result[1])\n",
    "print(result[2])"
   ]
  },
  {
   "cell_type": "code",
   "execution_count": 74,
   "id": "a94a80be",
   "metadata": {},
   "outputs": [
    {
     "name": "stdout",
     "output_type": "stream",
     "text": [
      "(1, 2)\n",
      "<unknown>\n"
     ]
    }
   ],
   "source": [
    "a = tf.constant([[1.0, 2]])\n",
    "b = tf.placeholder(tf.float32)\n",
    "print(a.shape)\n",
    "print(b.shape)"
   ]
  },
  {
   "cell_type": "code",
   "execution_count": 75,
   "id": "b0a5aa68",
   "metadata": {},
   "outputs": [
    {
     "name": "stdout",
     "output_type": "stream",
     "text": [
      "<unknown>\n"
     ]
    }
   ],
   "source": [
    "c = tf.matmul(a, b)\n",
    "print(c.shape)"
   ]
  },
  {
   "cell_type": "code",
   "execution_count": 76,
   "id": "27e87f0c",
   "metadata": {},
   "outputs": [
    {
     "name": "stdout",
     "output_type": "stream",
     "text": [
      "(1, 2)\n",
      "<unknown>\n",
      "<unknown>\n",
      "[[5.]]\n"
     ]
    }
   ],
   "source": [
    "d = sess.run(c, feed_dict={b:[[1],[2]]})\n",
    "print(a.shape)\n",
    "print(b.shape) \n",
    "print(c.shape)\n",
    "print(d)"
   ]
  },
  {
   "cell_type": "code",
   "execution_count": 77,
   "id": "c4a7cc08",
   "metadata": {},
   "outputs": [
    {
     "name": "stdout",
     "output_type": "stream",
     "text": [
      "[[ 5.  8. 11. 14.]]\n"
     ]
    }
   ],
   "source": [
    "d = sess.run(c, feed_dict={b:[[1,2,3,4],[2,3,4,5]]})\n",
    "print(d)"
   ]
  },
  {
   "cell_type": "code",
   "execution_count": 79,
   "id": "41b10981",
   "metadata": {},
   "outputs": [
    {
     "name": "stdout",
     "output_type": "stream",
     "text": [
      "[[1. 2.]\n",
      " [7. 8.]]\n",
      "[[-1.3333335   0.33333337]\n",
      " [ 1.1666667  -0.16666669]]\n"
     ]
    }
   ],
   "source": [
    "a = tf.constant([[1.0, 2],\n",
    "                 [7, 8]])\n",
    "b = tf.linalg.inv(a) #역행렬\n",
    "print(sess.run(a))\n",
    "print(sess.run(b))"
   ]
  },
  {
   "cell_type": "code",
   "execution_count": 80,
   "id": "219c7f91",
   "metadata": {},
   "outputs": [
    {
     "name": "stdout",
     "output_type": "stream",
     "text": [
      "[[ 1.9735067  -0.3887062  -0.2649516 ]\n",
      " [-0.4915595   0.20271158  0.08441013]]\n"
     ]
    }
   ],
   "source": [
    "A = tf.constant([[1,2], [2.3, 9.2], [0.3, 1.4]])\n",
    "At = tf.transpose(A)  \n",
    "tmp = tf.linalg.inv(tf.matmul(At, A))\n",
    "pinv = tf.matmul(tmp, At)\n",
    "\n",
    "print(sess.run(pinv))"
   ]
  },
  {
   "cell_type": "code",
   "execution_count": 82,
   "id": "b8162764",
   "metadata": {},
   "outputs": [
    {
     "name": "stdout",
     "output_type": "stream",
     "text": [
      "[[ 1.9735067  -0.3887062  -0.2649516 ]\n",
      " [-0.4915595   0.20271158  0.08441013]]\n"
     ]
    }
   ],
   "source": [
    "def pinv(A) :\n",
    "    At = tf.transpose(A)\n",
    "    tmp = tf.linalg.inv(tf.matmul(At, A))\n",
    "    return tf.matmul(tmp, At)\n",
    "\n",
    "\n",
    "A = tf.constant([[1,2], [2.3, 9.2], [0.3, 1.4]])\n",
    "print(sess.run( pinv(A) ))"
   ]
  },
  {
   "cell_type": "code",
   "execution_count": 83,
   "id": "63d4a409",
   "metadata": {},
   "outputs": [
    {
     "name": "stdout",
     "output_type": "stream",
     "text": [
      "[[ 1.9734986  -0.38870335 -0.2649505 ]\n",
      " [-0.49155742  0.2027111   0.0844098 ]]\n"
     ]
    }
   ],
   "source": [
    "A = tf.constant([1,2,3,4,5,6,7,8], shape=(4,3))\n",
    "\n",
    "#   pinv2(A)  =  (A'A+cI)-1A'\n",
    "def pinv2(A, c) :\n",
    "    At = tf.transpose(A)\n",
    "    rc = A.shape.as_list()\n",
    "    tmp = tf.linalg.inv(tf.matmul(At, A) + c*tf.eye(rc[1]))\n",
    "    return tf.matmul(tmp, At)\n",
    "\n",
    "\n",
    "a = tf.constant([[1,2], [2.3, 9.2], [0.3, 1.4]])\n",
    "b = pinv2(a, c = 0.000001)\n",
    "print(sess.run(b))"
   ]
  },
  {
   "cell_type": "code",
   "execution_count": 84,
   "id": "5d7d359a",
   "metadata": {},
   "outputs": [
    {
     "name": "stdout",
     "output_type": "stream",
     "text": [
      "[[ 4.  0.  0.]\n",
      " [ 0.  2.  0.]\n",
      " [ 0.  0. 10.]]\n",
      "[ 4.  2. 10.]\n",
      "[[0.25 0.   0.  ]\n",
      " [0.   0.5  0.  ]\n",
      " [0.   0.   0.1 ]]\n"
     ]
    }
   ],
   "source": [
    "a = tf.constant([[4.0, 0, 0],\n",
    "              [0, 2, 0],\n",
    "              [0, 0, 10]])\n",
    "print(sess.run(a))\n",
    "print(sess.run(tf.diag_part(a) ))\n",
    "\n",
    "\n",
    "b = 1 / tf.diag_part(a)\n",
    "c = tf.eye( a.shape.as_list()[0]  ) *  b\n",
    "print(sess.run(c))"
   ]
  },
  {
   "cell_type": "markdown",
   "id": "2fb3527a",
   "metadata": {},
   "source": [
    "#### 브로드캐스팅"
   ]
  },
  {
   "cell_type": "code",
   "execution_count": null,
   "id": "34db75b9",
   "metadata": {},
   "outputs": [],
   "source": []
  }
 ],
 "metadata": {
  "kernelspec": {
   "display_name": "Python 3 (ipykernel)",
   "language": "python",
   "name": "python3"
  },
  "language_info": {
   "codemirror_mode": {
    "name": "ipython",
    "version": 3
   },
   "file_extension": ".py",
   "mimetype": "text/x-python",
   "name": "python",
   "nbconvert_exporter": "python",
   "pygments_lexer": "ipython3",
   "version": "3.7.10"
  }
 },
 "nbformat": 4,
 "nbformat_minor": 5
}
