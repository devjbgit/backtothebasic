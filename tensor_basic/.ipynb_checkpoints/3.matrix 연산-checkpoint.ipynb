{
 "cells": [
  {
   "cell_type": "markdown",
   "id": "7418959a",
   "metadata": {},
   "source": [
    "### 1. 행렬 초기화 "
   ]
  },
  {
   "cell_type": "code",
   "execution_count": 3,
   "id": "a1faca01",
   "metadata": {},
   "outputs": [
    {
     "name": "stdout",
     "output_type": "stream",
     "text": [
      "WARNING:tensorflow:From C:\\Users\\admin\\AppData\\Local\\Temp\\ipykernel_8660\\3567889394.py:3: The name tf.Session is deprecated. Please use tf.compat.v1.Session instead.\n",
      "\n"
     ]
    }
   ],
   "source": [
    "import tensorflow as tf\n",
    "import numpy as np\n",
    "sess = tf.Session()"
   ]
  },
  {
   "cell_type": "code",
   "execution_count": 4,
   "id": "35aef153",
   "metadata": {},
   "outputs": [
    {
     "name": "stdout",
     "output_type": "stream",
     "text": [
      "[[0. 0. 0. 0. 0. 0. 0. 0. 0. 0.]\n",
      " [0. 0. 0. 0. 0. 0. 0. 0. 0. 0.]]\n",
      "[[1 1 1 1 1 1 1 1 1 1]\n",
      " [1 1 1 1 1 1 1 1 1 1]]\n",
      "[[1. 0. 0.]\n",
      " [0. 1. 0.]\n",
      " [0. 0. 1.]]\n"
     ]
    }
   ],
   "source": [
    "a = tf.zeros([2,10])\n",
    "b = tf.ones([2,10], tf.int32)\n",
    "c = tf.eye(3)\n",
    "print(sess.run(a))\n",
    "print(sess.run(b))\n",
    "print(sess.run(c))"
   ]
  },
  {
   "cell_type": "code",
   "execution_count": 5,
   "id": "8b7cb19e",
   "metadata": {},
   "outputs": [
    {
     "name": "stdout",
     "output_type": "stream",
     "text": [
      "[1 2 3 4 5]\n",
      "[1. 2. 3. 4. 5.]\n"
     ]
    }
   ],
   "source": [
    "a = tf.constant([1,2,3,4,5])\n",
    "b = tf.cast(a, dtype = tf.float32)\n",
    "print(sess.run(a))\n",
    "print(sess.run(b))"
   ]
  },
  {
   "cell_type": "code",
   "execution_count": 6,
   "id": "0b751eb2",
   "metadata": {},
   "outputs": [
    {
     "name": "stdout",
     "output_type": "stream",
     "text": [
      "[[ 1  2  3]\n",
      " [ 4  5  6]\n",
      " [ 7  8  9]\n",
      " [10 11 12]]\n",
      "[[4 5]\n",
      " [7 8]]\n"
     ]
    }
   ],
   "source": [
    "a = tf.constant([[1,2,3],[4,5,6],[7,8,9],[10,11,12]])\n",
    "b = tf.slice(a, [1,0], [2,2])\n",
    "print(sess.run(a))\n",
    "print(sess.run(b))"
   ]
  },
  {
   "cell_type": "code",
   "execution_count": 7,
   "id": "670c134c",
   "metadata": {},
   "outputs": [
    {
     "name": "stdout",
     "output_type": "stream",
     "text": [
      "Tensor(\"Const_2:0\", shape=(4,), dtype=int32)\n",
      "Tensor(\"b:0\", shape=(5,), dtype=int32)\n"
     ]
    }
   ],
   "source": [
    "a = tf.constant([1,2,3,4])\n",
    "b = tf.constant([5,6,7,8,9], name=\"b\")\n",
    "print(a)\n",
    "print(b)"
   ]
  },
  {
   "cell_type": "markdown",
   "id": "52e818e6",
   "metadata": {},
   "source": [
    "### 행렬곱"
   ]
  },
  {
   "cell_type": "code",
   "execution_count": 8,
   "id": "203e9298",
   "metadata": {},
   "outputs": [
    {
     "name": "stdout",
     "output_type": "stream",
     "text": [
      "[[ 9 12 15]\n",
      " [24 33 42]]\n"
     ]
    }
   ],
   "source": [
    "x = tf.constant([[1,2],[4,5]])\n",
    "y = tf.constant([[1,2,3],[4,5,6]])\n",
    "z = tf.matmul(x, y)\n",
    "print(sess.run(z))"
   ]
  },
  {
   "cell_type": "code",
   "execution_count": 10,
   "id": "f987590a",
   "metadata": {},
   "outputs": [
    {
     "name": "stdout",
     "output_type": "stream",
     "text": [
      "[[1. 2.]\n",
      " [7. 8.]]\n",
      "[[-1.3333335   0.33333337]\n",
      " [ 1.1666667  -0.16666669]]\n"
     ]
    }
   ],
   "source": [
    "a = tf.constant([[1.0,2],[7,8]])\n",
    "b = tf.linalg.inv(a)\n",
    "print(sess.run(a))\n",
    "print(sess.run(b))"
   ]
  },
  {
   "cell_type": "markdown",
   "id": "04aa54d6",
   "metadata": {},
   "source": [
    "### 브로드캐스팅"
   ]
  },
  {
   "cell_type": "code",
   "execution_count": 11,
   "id": "0030ac02",
   "metadata": {},
   "outputs": [
    {
     "name": "stdout",
     "output_type": "stream",
     "text": [
      "[[1 2 3]\n",
      " [4 5 6]]\n",
      "[[ 5  6  7]\n",
      " [ 8  9 10]]\n"
     ]
    }
   ],
   "source": [
    "a = tf.constant([[1,2,3],[4,5,6]])\n",
    "b = a+4\n",
    "print(sess.run(a))\n",
    "print(sess.run(b))"
   ]
  },
  {
   "cell_type": "markdown",
   "id": "90a29c4f",
   "metadata": {},
   "source": [
    "###  Reduce함수 : 대표값으로 차원을 줄여줌"
   ]
  },
  {
   "cell_type": "code",
   "execution_count": 12,
   "id": "42385e06",
   "metadata": {},
   "outputs": [
    {
     "name": "stdout",
     "output_type": "stream",
     "text": [
      "55.0\n",
      "5.5\n",
      "10.0\n",
      "1.0\n"
     ]
    }
   ],
   "source": [
    "a = tf.constant([1.0,2,3,4,5,6,7,8,9,10])\n",
    "print(sess.run(tf.reduce_sum(a)))\n",
    "print(sess.run(tf.reduce_mean(a)))\n",
    "print(sess.run(tf.reduce_max(a)))\n",
    "print(sess.run(tf.reduce_min(a)))\n"
   ]
  },
  {
   "cell_type": "code",
   "execution_count": null,
   "id": "9131398c",
   "metadata": {},
   "outputs": [],
   "source": []
  }
 ],
 "metadata": {
  "kernelspec": {
   "display_name": "Python 3 (ipykernel)",
   "language": "python",
   "name": "python3"
  },
  "language_info": {
   "codemirror_mode": {
    "name": "ipython",
    "version": 3
   },
   "file_extension": ".py",
   "mimetype": "text/x-python",
   "name": "python",
   "nbconvert_exporter": "python",
   "pygments_lexer": "ipython3",
   "version": "3.7.10"
  }
 },
 "nbformat": 4,
 "nbformat_minor": 5
}
