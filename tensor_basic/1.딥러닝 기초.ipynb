{
 "cells": [
  {
   "cell_type": "markdown",
   "id": "ea5e9706",
   "metadata": {},
   "source": [
    "학습은 학습 데이터를 가장 잘 설명할 수 있는 직선을 찾는 것  \n",
    "오차 최소화  \n",
    "선형회귀 -> 기울기 w와 y절편 b 구함  \n",
    "로지스틱회귀 -> 2개의 클래스로 잘 분류하는 sigmoid 함수 파라미터 추정  \n",
    "신경망 -> 가중치 값 찾기  \n",
    "CNN -> 시각적인 학습  "
   ]
  },
  {
   "cell_type": "markdown",
   "id": "3b2a5238",
   "metadata": {},
   "source": [
    "NUMPY -> Python for문보다 행렬곱 6배정도 빠름.."
   ]
  },
  {
   "cell_type": "markdown",
   "id": "e5065c65",
   "metadata": {},
   "source": [
    "# 1.numpy 기초 "
   ]
  },
  {
   "cell_type": "markdown",
   "id": "96337446",
   "metadata": {},
   "source": [
    "### numpy array 생성"
   ]
  },
  {
   "cell_type": "code",
   "execution_count": 24,
   "id": "1320f49e",
   "metadata": {},
   "outputs": [],
   "source": [
    "import numpy as np\n",
    "import numpy.linalg as lin #선형대수 모듈\n",
    "import time"
   ]
  },
  {
   "cell_type": "code",
   "execution_count": 3,
   "id": "60def33f",
   "metadata": {},
   "outputs": [],
   "source": [
    "V = np.array([2,3,4])\n",
    "M = np.array([[1,2],[3,4],[5,6]])\n",
    "M = np.array([[1,2,3]])\n",
    "M = np.array([[1],[2],[3]])\n",
    "M = np.array([[1,2,3],[4,5,6]]).reshape(3,2)\n",
    "M = np.array([[1,2,3],[4,5,6]]).T"
   ]
  },
  {
   "cell_type": "code",
   "execution_count": 19,
   "id": "b451f043",
   "metadata": {},
   "outputs": [
    {
     "data": {
      "text/plain": [
       "array([ 4,  8, 11, 14, 18])"
      ]
     },
     "execution_count": 19,
     "metadata": {},
     "output_type": "execute_result"
    }
   ],
   "source": [
    "a = np.array([1,3,5,7,9])\n",
    "b = np.array([3,5,6,7,9])\n",
    "c = a + b\n",
    "c"
   ]
  },
  {
   "cell_type": "code",
   "execution_count": 20,
   "id": "65852915",
   "metadata": {},
   "outputs": [
    {
     "name": "stdout",
     "output_type": "stream",
     "text": [
      "[[ 9 12]\n",
      " [24 33]\n",
      " [34 47]]\n"
     ]
    }
   ],
   "source": [
    "x = np.array([[1,2],[4,5],[6,7]])\n",
    "y = np.array([[1,2],[4,5]])\n",
    "print(np.matmul(x,y))"
   ]
  },
  {
   "cell_type": "code",
   "execution_count": 25,
   "id": "af934f92",
   "metadata": {},
   "outputs": [
    {
     "name": "stdout",
     "output_type": "stream",
     "text": [
      "2.0\n"
     ]
    }
   ],
   "source": [
    "a = np.array(2.0)\n",
    "print(a)"
   ]
  },
  {
   "cell_type": "code",
   "execution_count": 26,
   "id": "9bc47cac",
   "metadata": {},
   "outputs": [
    {
     "name": "stdout",
     "output_type": "stream",
     "text": [
      "<class 'numpy.ndarray'>\n"
     ]
    }
   ],
   "source": [
    "print(type(a))"
   ]
  },
  {
   "cell_type": "code",
   "execution_count": 27,
   "id": "2dd8fa5e",
   "metadata": {},
   "outputs": [
    {
     "name": "stdout",
     "output_type": "stream",
     "text": [
      "()\n",
      "차원 0\n"
     ]
    }
   ],
   "source": [
    "print(a.shape)\n",
    "if a.shape == (): print(\"차원 0\")"
   ]
  },
  {
   "cell_type": "code",
   "execution_count": 29,
   "id": "22f8de8c",
   "metadata": {},
   "outputs": [
    {
     "name": "stdout",
     "output_type": "stream",
     "text": [
      "[2.]\n",
      "shape (1,)\n",
      "length 1\n"
     ]
    }
   ],
   "source": [
    "b = np.array([2.0])\n",
    "print(b)\n",
    "print(f\"shape {b.shape}\")\n",
    "print(f\"length {b.shape[0]}\")"
   ]
  },
  {
   "cell_type": "code",
   "execution_count": 33,
   "id": "c049895f",
   "metadata": {},
   "outputs": [
    {
     "name": "stdout",
     "output_type": "stream",
     "text": [
      "[2 3 4]\n",
      "shape (3,)\n",
      "length 3\n"
     ]
    }
   ],
   "source": [
    "c = np.array([2,3,4])\n",
    "print(c)\n",
    "print(f\"shape {c.shape}\")\n",
    "print(f\"length {c.shape[0]}\")"
   ]
  },
  {
   "cell_type": "code",
   "execution_count": 34,
   "id": "988ffc23",
   "metadata": {},
   "outputs": [
    {
     "name": "stdout",
     "output_type": "stream",
     "text": [
      "[[1 2]\n",
      " [3 4]\n",
      " [5 6]]\n",
      "shape (3, 2)\n",
      "행 : 3 열 : 2\n"
     ]
    }
   ],
   "source": [
    "m = np.array([[1,2],[3,4],[5,6]])\n",
    "print(m)\n",
    "print(f\"shape {m.shape}\")\n",
    "print(f\"행 : {m.shape[0]} 열 : {m.shape[1]}\")"
   ]
  },
  {
   "cell_type": "code",
   "execution_count": 35,
   "id": "1df8e261",
   "metadata": {},
   "outputs": [
    {
     "name": "stdout",
     "output_type": "stream",
     "text": [
      "[[1 2 3]]\n",
      "(1, 3)\n"
     ]
    }
   ],
   "source": [
    "m = np.array([[1,2,3]])\n",
    "print(m)\n",
    "print(m.shape)"
   ]
  },
  {
   "cell_type": "code",
   "execution_count": 36,
   "id": "b563ac58",
   "metadata": {},
   "outputs": [
    {
     "name": "stdout",
     "output_type": "stream",
     "text": [
      "[[1]\n",
      " [2]\n",
      " [3]]\n",
      "(3, 1)\n"
     ]
    }
   ],
   "source": [
    "m = np.array([[1],[2],[3]])\n",
    "print(m)\n",
    "print(m.shape)"
   ]
  },
  {
   "cell_type": "code",
   "execution_count": 37,
   "id": "82edcaba",
   "metadata": {
    "scrolled": true
   },
   "outputs": [
    {
     "name": "stdout",
     "output_type": "stream",
     "text": [
      "<class 'int'>\n",
      "<class 'float'>\n",
      "int32\n",
      "float64\n",
      "<class 'numpy.float64'>\n",
      "<class 'numpy.float64'>\n"
     ]
    }
   ],
   "source": [
    "a = [1, 2.0]\n",
    "b = np.array([1, 2, 3])\n",
    "c = np.array([1, 2, 3.0])\n",
    "\n",
    "print(type(a[0]))\n",
    "print(type(a[1]))\n",
    "print(b.dtype)\n",
    "print(c.dtype)\n",
    "print(type(c[0]))\n",
    "print(type(c[2]))"
   ]
  },
  {
   "cell_type": "code",
   "execution_count": 38,
   "id": "66ede7a3",
   "metadata": {},
   "outputs": [
    {
     "name": "stdout",
     "output_type": "stream",
     "text": [
      "[[1, 2], [3, 4, 5]]\n",
      "[list([1, 2]) list([3, 4, 5])]\n"
     ]
    },
    {
     "name": "stderr",
     "output_type": "stream",
     "text": [
      "c:\\users\\admin\\anaconda3\\envs\\gpu\\lib\\site-packages\\ipykernel_launcher.py:3: VisibleDeprecationWarning: Creating an ndarray from ragged nested sequences (which is a list-or-tuple of lists-or-tuples-or ndarrays with different lengths or shapes) is deprecated. If you meant to do this, you must specify 'dtype=object' when creating the ndarray.\n",
      "  This is separate from the ipykernel package so we can avoid doing imports until\n"
     ]
    }
   ],
   "source": [
    "a = [[1, 2 ], [3,4,5]]\n",
    "print(a)\n",
    "b = np.array([[1, 2 ], [3,4,5]])\n",
    "print(b)"
   ]
  },
  {
   "cell_type": "markdown",
   "id": "a3b3097b",
   "metadata": {},
   "source": [
    "numpy는 격자 array만 지원  \n",
    "=> 각각의 리스트"
   ]
  },
  {
   "cell_type": "markdown",
   "id": "4c47e266",
   "metadata": {},
   "source": [
    "### numpy 원소 접근"
   ]
  },
  {
   "cell_type": "code",
   "execution_count": 39,
   "id": "5fae6c43",
   "metadata": {},
   "outputs": [
    {
     "name": "stdout",
     "output_type": "stream",
     "text": [
      "[[1 2 3]\n",
      " [4 5 6]\n",
      " [7 8 9]]\n",
      "a[0,0]==> 1\n",
      "a[0]==> [1 2 3]\n",
      "a[:,1] ==>  [2 5 8]\n",
      "a[1, 1:3] ==>  [5 6]\n"
     ]
    }
   ],
   "source": [
    "a = np.array([[1, 2, 3], [4, 5, 6], [7, 8, 9]] )\n",
    "print(a) \n",
    "print(\"a[0,0]==>\", a[0,0])\n",
    "print(\"a[0]==>\", a[0])\n",
    "print(\"a[:,1] ==> \" , a[:,1]) \n",
    "print(\"a[1, 1:3] ==> \", a[1, 1:3]) "
   ]
  },
  {
   "cell_type": "code",
   "execution_count": 40,
   "id": "8ab8e38e",
   "metadata": {},
   "outputs": [
    {
     "name": "stdout",
     "output_type": "stream",
     "text": [
      "[[1 2 3]\n",
      " [7 8 9]]\n"
     ]
    }
   ],
   "source": [
    "i = [0, 2]\n",
    "b = a[i, :]\n",
    "print(b)"
   ]
  },
  {
   "cell_type": "code",
   "execution_count": 41,
   "id": "b190918d",
   "metadata": {},
   "outputs": [
    {
     "name": "stdout",
     "output_type": "stream",
     "text": [
      "[1 3 5 7 9]\n"
     ]
    }
   ],
   "source": [
    "c = np.array([1,2,3,4,5,6,7,8,9])\n",
    "print(c[0::2])"
   ]
  },
  {
   "cell_type": "code",
   "execution_count": 42,
   "id": "d126d55e",
   "metadata": {},
   "outputs": [
    {
     "name": "stdout",
     "output_type": "stream",
     "text": [
      "[[4 5 6]]\n"
     ]
    }
   ],
   "source": [
    "print(a[1:-1]) "
   ]
  },
  {
   "cell_type": "code",
   "execution_count": 43,
   "id": "b848108a",
   "metadata": {},
   "outputs": [
    {
     "name": "stdout",
     "output_type": "stream",
     "text": [
      "[[4 5 6]\n",
      " [7 8 9]]\n"
     ]
    }
   ],
   "source": [
    "print(a[1:]) "
   ]
  },
  {
   "cell_type": "code",
   "execution_count": 44,
   "id": "bf4ec3bc",
   "metadata": {},
   "outputs": [
    {
     "name": "stdout",
     "output_type": "stream",
     "text": [
      "[[1 2 3]\n",
      " [4 5 6]\n",
      " [7 8 9]]\n",
      "[[0 2 3]\n",
      " [9 5 7]\n",
      " [1 8 9]]\n"
     ]
    }
   ],
   "source": [
    "print(a)\n",
    "a[1, 2] = 7 \n",
    "a[:, 0] = [0, 9, 1] \n",
    "print(a)"
   ]
  },
  {
   "cell_type": "code",
   "execution_count": 45,
   "id": "9634cc2c",
   "metadata": {},
   "outputs": [
    {
     "name": "stdout",
     "output_type": "stream",
     "text": [
      "[[ 1  2  3  4]\n",
      " [ 5  6  7  8]\n",
      " [ 9 10 11 12]\n",
      " [13 14 15 16]]\n",
      "[[ 1  2  3  4]\n",
      " [ 5  0  0  8]\n",
      " [ 9  0  0 12]\n",
      " [13 14 15 16]]\n"
     ]
    }
   ],
   "source": [
    "a = np.array([[1,2,3,4], [5,6,7,8], [9,10,11,12,], [13,14,15,16]] )\n",
    "print(a)\n",
    "\n",
    "a[1:-1,1:-1] = 0\n",
    "print(a)"
   ]
  },
  {
   "cell_type": "markdown",
   "id": "14fbc079",
   "metadata": {},
   "source": [
    "### numpy shape"
   ]
  },
  {
   "cell_type": "code",
   "execution_count": 46,
   "id": "23e7f702",
   "metadata": {},
   "outputs": [
    {
     "name": "stdout",
     "output_type": "stream",
     "text": [
      "(2, 3) (3, 2) (3, 2)\n"
     ]
    }
   ],
   "source": [
    "a = np.array([[1,2,3], [4,5,6]])\n",
    "b = np.array([[1,2,3], [4,5,6]]).T\n",
    "c = np.array([[1,2,3], [4,5,6]]).transpose()\n",
    "print( a.shape, b.shape, c.shape)"
   ]
  },
  {
   "cell_type": "code",
   "execution_count": 47,
   "id": "4e151191",
   "metadata": {},
   "outputs": [
    {
     "name": "stdout",
     "output_type": "stream",
     "text": [
      "[[1 2 3 4]]\n",
      "[[1]\n",
      " [2]\n",
      " [3]\n",
      " [4]]\n",
      "(1, 4)\n",
      "(4, 1)\n"
     ]
    }
   ],
   "source": [
    "a = np.array([[1,2,3,4]])        \n",
    "b = np.array([[1,2,3,4]]).T      \n",
    "print(a)\n",
    "print(b)\n",
    "print(a.shape)\n",
    "print(b.shape)"
   ]
  },
  {
   "cell_type": "markdown",
   "id": "17668e74",
   "metadata": {},
   "source": [
    "1차원 transpose"
   ]
  },
  {
   "cell_type": "code",
   "execution_count": 48,
   "id": "efbe7ac5",
   "metadata": {},
   "outputs": [
    {
     "name": "stdout",
     "output_type": "stream",
     "text": [
      "(4,) (4,)\n"
     ]
    }
   ],
   "source": [
    "a = np.array([1,2,3,4])              \n",
    "b = np.array([1,2,3,4]).T     \n",
    "print(a.shape, b.shape)"
   ]
  },
  {
   "cell_type": "code",
   "execution_count": 49,
   "id": "81a177d1",
   "metadata": {},
   "outputs": [
    {
     "name": "stdout",
     "output_type": "stream",
     "text": [
      "(6, 2)\n",
      "[[ 1  2]\n",
      " [ 3  4]\n",
      " [ 5  6]\n",
      " [ 7  8]\n",
      " [ 9 10]\n",
      " [11 12]]\n",
      "(3, 4)\n",
      "[[ 1  2  3  4]\n",
      " [ 5  6  7  8]\n",
      " [ 9 10 11 12]]\n"
     ]
    }
   ],
   "source": [
    "a = np.array([[1,2], [3,4], [5,6], [7,8], [9,10], [11,12]])\n",
    "b = a.reshape(3,4) \n",
    "print(a.shape)\n",
    "print(a)\n",
    "print(b.shape)\n",
    "print(b)"
   ]
  },
  {
   "cell_type": "code",
   "execution_count": 50,
   "id": "796eef39",
   "metadata": {},
   "outputs": [
    {
     "name": "stdout",
     "output_type": "stream",
     "text": [
      "[1 2 3 4 5 6]\n",
      "(6,)\n",
      "[[1 2 3]\n",
      " [4 5 6]]\n",
      "(2, 3)\n"
     ]
    }
   ],
   "source": [
    "a = np.array([1,2,3,4,5,6])\n",
    "b = a.reshape(2,3) \n",
    "print(a)\n",
    "print(a.shape)\n",
    "print(b)\n",
    "print(b.shape)"
   ]
  },
  {
   "cell_type": "code",
   "execution_count": 51,
   "id": "bf418542",
   "metadata": {},
   "outputs": [
    {
     "name": "stdout",
     "output_type": "stream",
     "text": [
      "[[1]\n",
      " [2]\n",
      " [3]\n",
      " [4]]\n",
      "[[1]\n",
      " [2]\n",
      " [3]\n",
      " [4]]\n",
      "[[1]\n",
      " [2]\n",
      " [3]\n",
      " [4]]\n",
      "[1 2 3 4]\n"
     ]
    }
   ],
   "source": [
    "a = np.array([[1], [2], [3], [4]]) \n",
    "b = np.array([[1,2,3,4]]).T\n",
    "c = np.array([1,2,3,4]).reshape(4,1) \n",
    "d = np.array([1,2,3,4]).T\n",
    "print(a)\n",
    "print(b)\n",
    "print(c)\n",
    "print(d)"
   ]
  },
  {
   "cell_type": "markdown",
   "id": "fcc2d56d",
   "metadata": {},
   "source": [
    "### numpy 저장 & 로딩"
   ]
  },
  {
   "cell_type": "code",
   "execution_count": 53,
   "id": "a84ae00c",
   "metadata": {},
   "outputs": [
    {
     "name": "stdout",
     "output_type": "stream",
     "text": [
      "[[1 2 3]\n",
      " [4 5 6]\n",
      " [7 8 9]]\n"
     ]
    }
   ],
   "source": [
    "a = np.array([[1, 2, 3], [4, 5, 6], [7, 8, 9]] )\n",
    "np.save(\"a.npy\", a)\n",
    "b = np.load(\"a.npy\")   \n",
    "print(b)"
   ]
  },
  {
   "cell_type": "code",
   "execution_count": 55,
   "id": "99870d03",
   "metadata": {
    "scrolled": true
   },
   "outputs": [
    {
     "name": "stdout",
     "output_type": "stream",
     "text": [
      "[[5.1 3.5 1.4 0.2 1. ]\n",
      " [4.9 3.  1.4 0.2 1. ]\n",
      " [4.7 3.2 1.3 0.2 1. ]\n",
      " [4.6 3.1 1.5 0.2 1. ]\n",
      " [5.  3.6 1.4 0.2 1. ]]\n"
     ]
    }
   ],
   "source": [
    "data = np.loadtxt(\"iris.csv\", delimiter=\",\", dtype=np.float32)\n",
    "print(data[0:5,:])"
   ]
  },
  {
   "cell_type": "markdown",
   "id": "36ae9949",
   "metadata": {},
   "source": [
    "#  2.기본 연산"
   ]
  },
  {
   "cell_type": "code",
   "execution_count": 56,
   "id": "5883a396",
   "metadata": {},
   "outputs": [
    {
     "name": "stdout",
     "output_type": "stream",
     "text": [
      "[ 4  8 11 14 18]\n",
      "<class 'numpy.ndarray'>\n",
      "int32\n"
     ]
    }
   ],
   "source": [
    "a = np.array([1,3,5,7,9]) \n",
    "b = np.array([3,5,6,7,9])\n",
    "c = a + b\n",
    "print(c)\n",
    "print(type(c))\n",
    "print(c.dtype)"
   ]
  },
  {
   "cell_type": "code",
   "execution_count": 57,
   "id": "19811730",
   "metadata": {},
   "outputs": [
    {
     "name": "stdout",
     "output_type": "stream",
     "text": [
      "55\n"
     ]
    }
   ],
   "source": [
    "a = np.array([1, 2, 3, 4, 5])\n",
    "b = np.array([1, 2, 3, 4, 5])\n",
    "print( np.sum(a*b))"
   ]
  },
  {
   "cell_type": "markdown",
   "id": "f211c8de",
   "metadata": {},
   "source": [
    "두 점 거리 계산"
   ]
  },
  {
   "cell_type": "code",
   "execution_count": 58,
   "id": "0cd28244",
   "metadata": {},
   "outputs": [
    {
     "data": {
      "text/plain": [
       "5.0990195135927845"
      ]
     },
     "execution_count": 58,
     "metadata": {},
     "output_type": "execute_result"
    }
   ],
   "source": [
    "p = np.array([2, 2])\n",
    "q = np.array([3, 7])\n",
    "(np.sum(  (p-q) ** 2) ) ** (0.5)"
   ]
  },
  {
   "cell_type": "code",
   "execution_count": 59,
   "id": "4da885c8",
   "metadata": {},
   "outputs": [
    {
     "name": "stdout",
     "output_type": "stream",
     "text": [
      "[[1 2 3]\n",
      " [3 2 5]]\n",
      "[[-1  3  5]\n",
      " [ 1  4  2]]\n",
      "[[0 5 8]\n",
      " [4 6 7]]\n"
     ]
    }
   ],
   "source": [
    "a = np.array([1, 2, 3, 3, 2, 5]).reshape(2,3) \n",
    "b = np.array([[-1,3,5],[1,4,2]])\n",
    "print(a)\n",
    "print(b)\n",
    "print(a+b )"
   ]
  },
  {
   "cell_type": "code",
   "execution_count": 60,
   "id": "6db69acd",
   "metadata": {},
   "outputs": [
    {
     "name": "stdout",
     "output_type": "stream",
     "text": [
      "[[1 2 3]\n",
      " [3 2 5]]\n",
      "[[-1 -1 -1]\n",
      " [ 0  0  0]]\n",
      "[[-1 -2 -3]\n",
      " [ 0  0  0]]\n"
     ]
    }
   ],
   "source": [
    "a = np.array([1, 2, 3, 3, 2, 5]).reshape(2,3) \n",
    "b = np.array([[-1,-1, -1],[0, 0, 0]])\n",
    "print(a)\n",
    "print(b)\n",
    "print(a*b )"
   ]
  },
  {
   "cell_type": "code",
   "execution_count": 61,
   "id": "b1a893dd",
   "metadata": {},
   "outputs": [
    {
     "name": "stdout",
     "output_type": "stream",
     "text": [
      "[[ 1  4]\n",
      " [ 9 16]\n",
      " [25 36]]\n",
      "[[ 1  4]\n",
      " [ 9 16]\n",
      " [25 36]]\n"
     ]
    }
   ],
   "source": [
    "a = np.array([[1,2], [3,4], [5,6]])\n",
    "b = a ** 2\n",
    "c = a * a\n",
    "print(b)\n",
    "print(c)"
   ]
  },
  {
   "cell_type": "code",
   "execution_count": 63,
   "id": "5f86dd64",
   "metadata": {},
   "outputs": [
    {
     "name": "stdout",
     "output_type": "stream",
     "text": [
      "[[1 2]\n",
      " [4 5]\n",
      " [6 7]]\n",
      "[[1 2]\n",
      " [4 5]]\n",
      "[[ 9 12]\n",
      " [24 33]\n",
      " [34 47]]\n"
     ]
    }
   ],
   "source": [
    "x = np.array([[1,2],[4,5], [6,7]])\n",
    "y = np.array([[1,2],[4,5]])\n",
    "print(x)\n",
    "print(y)\n",
    "print(np.matmul(x, y))"
   ]
  },
  {
   "cell_type": "code",
   "execution_count": 64,
   "id": "c0394f6f",
   "metadata": {},
   "outputs": [
    {
     "name": "stdout",
     "output_type": "stream",
     "text": [
      "[[14 32]\n",
      " [32 77]]\n",
      "[[14 32]\n",
      " [32 77]]\n"
     ]
    }
   ],
   "source": [
    "x = np.array([[1,2,3],[4,5,6]])    # 2 x 3\n",
    "\n",
    "print(np.matmul(x, x.T))\n",
    "print(np.matmul(x, np.transpose(x) ))"
   ]
  },
  {
   "cell_type": "markdown",
   "id": "4aac1241",
   "metadata": {},
   "source": [
    "### python - numpy 속도 비교"
   ]
  },
  {
   "cell_type": "code",
   "execution_count": 66,
   "id": "0afb5041",
   "metadata": {},
   "outputs": [
    {
     "name": "stdout",
     "output_type": "stream",
     "text": [
      "0.0029926300048828125\n"
     ]
    }
   ],
   "source": [
    "# numpy\n",
    "a = np.random.normal(0, 0.1, [500,500])\n",
    "b = np.random.normal(0, 0.1, [500,500])\n",
    "\n",
    "start_time = time.time() \n",
    "c = np.matmul(a, b)\n",
    "print(time.time() - start_time)"
   ]
  },
  {
   "cell_type": "code",
   "execution_count": 67,
   "id": "8d79cbe3",
   "metadata": {},
   "outputs": [
    {
     "name": "stdout",
     "output_type": "stream",
     "text": [
      "19.682432889938354\n"
     ]
    }
   ],
   "source": [
    "#python\n",
    "def matmul_py(A, B):\n",
    "    m = len(A)\n",
    "    n = len(A[0])\n",
    "    p = len(B[0])\n",
    "    C = [[0]*p for i in range(m)]      \n",
    "\n",
    "    \n",
    "    for i in range(0,m):\n",
    "        for j in range(0,p):\n",
    "            for k in range(0,n):\n",
    "                C[i][j] += A[i][k]*B[k][j] \n",
    "    return C\n",
    "\n",
    "\n",
    "A = a.tolist()\n",
    "B = b.tolist()\n",
    "start_time = time.time() \n",
    "matmul_py(A,B)\n",
    "print(time.time() - start_time)\n"
   ]
  },
  {
   "cell_type": "markdown",
   "id": "c006849e",
   "metadata": {},
   "source": [
    "### 역행렬"
   ]
  },
  {
   "cell_type": "markdown",
   "id": "f7662bb9",
   "metadata": {},
   "source": [
    "정방 행렬만 가능"
   ]
  },
  {
   "cell_type": "code",
   "execution_count": 68,
   "id": "5dd9b384",
   "metadata": {},
   "outputs": [
    {
     "name": "stdout",
     "output_type": "stream",
     "text": [
      "(3, 3)\n",
      "float64\n",
      "[[ 0.08333333 -0.16666667  0.16666667]\n",
      " [ 0.41666667  0.16666667 -0.16666667]\n",
      " [-0.25        0.5         0.5       ]]\n"
     ]
    }
   ],
   "source": [
    "a = np.array([[2,2,0],[-2,1,1],[3,0,1]])\n",
    "inv = lin.inv(a)\n",
    "print(inv.shape)\n",
    "print(inv.dtype)\n",
    "print(inv)"
   ]
  },
  {
   "cell_type": "markdown",
   "id": "45b84376",
   "metadata": {},
   "source": [
    "일반 행렬에 역행렬 구하기"
   ]
  },
  {
   "cell_type": "code",
   "execution_count": 69,
   "id": "ca597703",
   "metadata": {},
   "outputs": [
    {
     "name": "stdout",
     "output_type": "stream",
     "text": [
      "[[1.  2. ]\n",
      " [2.  4. ]\n",
      " [3.  6.4]]\n",
      "[[ 3.2  6.4 -5. ]\n",
      " [-1.5 -3.   2.5]]\n"
     ]
    }
   ],
   "source": [
    "A = np.array([[1,2], [2,4], [3,6.4]]) \n",
    "pinv = np.matmul(np.linalg.inv(np.matmul(A.T, A)), A.T)  \n",
    "print(A)\n",
    "print(pinv)"
   ]
  },
  {
   "cell_type": "code",
   "execution_count": 70,
   "id": "2c5510f0",
   "metadata": {},
   "outputs": [
    {
     "name": "stdout",
     "output_type": "stream",
     "text": [
      "[[ 3.2  6.4 -5. ]\n",
      " [-1.5 -3.   2.5]]\n"
     ]
    }
   ],
   "source": [
    "def pinv(A) :\n",
    "    return np.matmul(np.linalg.inv(np.matmul(A.T, A)), A.T)\n",
    "\n",
    "A = np.array([[1,2], [2,4], [3,6.4]]) \n",
    "print(pinv(A))"
   ]
  },
  {
   "cell_type": "markdown",
   "id": "c20a06cd",
   "metadata": {},
   "source": [
    "###  브로드캐스팅"
   ]
  },
  {
   "cell_type": "code",
   "execution_count": 71,
   "id": "bca1dd3d",
   "metadata": {},
   "outputs": [
    {
     "name": "stdout",
     "output_type": "stream",
     "text": [
      "[1 2 3 4 5 6]\n",
      "[ 5  6  7  8  9 10]\n"
     ]
    }
   ],
   "source": [
    "a = np.array([1, 2, 3, 4, 5, 6])\n",
    "b = a + 4\n",
    "print(a)\n",
    "print(b)"
   ]
  },
  {
   "cell_type": "code",
   "execution_count": 72,
   "id": "2db92b8a",
   "metadata": {},
   "outputs": [
    {
     "name": "stdout",
     "output_type": "stream",
     "text": [
      "[1 2 3 4 5 6]\n",
      "[ 2  4  6  8 10 12]\n"
     ]
    }
   ],
   "source": [
    "a = np.array([1, 2, 3, 4, 5, 6])\n",
    "b = a * 2\n",
    "print(a)\n",
    "print(b)"
   ]
  },
  {
   "cell_type": "code",
   "execution_count": 73,
   "id": "e433e020",
   "metadata": {},
   "outputs": [
    {
     "name": "stdout",
     "output_type": "stream",
     "text": [
      "[1 2 3 4 5 6]\n",
      "[ 5  7  9 11 13 15]\n"
     ]
    }
   ],
   "source": [
    "a = np.array([1, 2, 3, 4, 5, 6])\n",
    "b = a * 2 + 3\n",
    "print(a)\n",
    "print(b)"
   ]
  },
  {
   "cell_type": "code",
   "execution_count": 75,
   "id": "fe8c5110",
   "metadata": {},
   "outputs": [
    {
     "name": "stdout",
     "output_type": "stream",
     "text": [
      "[78 77 76 75]\n",
      "[25.55555556 25.         24.44444444 23.88888889]\n"
     ]
    }
   ],
   "source": [
    "#(화씨온도 - 32) ÷ 1.8 = 섭씨온도\n",
    "a = np.array([78, 77,76,75])\n",
    "b= (a - 32)  / 1.8\n",
    "print(a)\n",
    "print(b)"
   ]
  },
  {
   "cell_type": "code",
   "execution_count": 76,
   "id": "85b77029",
   "metadata": {},
   "outputs": [
    {
     "name": "stdout",
     "output_type": "stream",
     "text": [
      "[26 25 24 23]\n",
      "[78.8 77.  75.2 73.4]\n"
     ]
    }
   ],
   "source": [
    "# (섭씨온도 × 1.8) + 32 = 화씨온도\n",
    "a = np.array([26,25,24,23])\n",
    "b = a * 1.8 + 32\n",
    "print(a)\n",
    "print(b)"
   ]
  },
  {
   "cell_type": "code",
   "execution_count": 77,
   "id": "9491e159",
   "metadata": {},
   "outputs": [
    {
     "name": "stdout",
     "output_type": "stream",
     "text": [
      "[ 0  1  2  3  4  5  6  7  8  9 10 11 12 13 14 15 16 17 18 19 20 21 22 23\n",
      " 24 25 26 27 28 29 30]\n",
      "[32.  33.8 35.6 37.4 39.2 41.  42.8 44.6 46.4 48.2 50.  51.8 53.6 55.4\n",
      " 57.2 59.  60.8 62.6 64.4 66.2 68.  69.8 71.6 73.4 75.2 77.  78.8 80.6\n",
      " 82.4 84.2 86. ]\n"
     ]
    }
   ],
   "source": [
    "a = np.arange(31)\n",
    "b = a * 1.8 + 32\n",
    "print(a)\n",
    "print(b)"
   ]
  },
  {
   "cell_type": "code",
   "execution_count": 78,
   "id": "f1a8770f",
   "metadata": {},
   "outputs": [
    {
     "name": "stdout",
     "output_type": "stream",
     "text": [
      "[121.5732 458.4221]\n",
      "[120 460]\n"
     ]
    }
   ],
   "source": [
    "#정수 반올림\n",
    "a = np.array([121.5732, 458.4221])\n",
    "b =  ((a +5)/ 10).astype(int) * 10\n",
    "print(a)\n",
    "print(b)"
   ]
  },
  {
   "cell_type": "code",
   "execution_count": 79,
   "id": "d85c52ff",
   "metadata": {},
   "outputs": [
    {
     "name": "stdout",
     "output_type": "stream",
     "text": [
      "[31.5732  8.4221]\n",
      "[31.6  8.4]\n"
     ]
    }
   ],
   "source": [
    "#실수 반올림\n",
    "a = np.array([31.5732, 8.4221])\n",
    "b =  ((a +0.05)* 10).astype(int) / 10\n",
    "print(a)\n",
    "print(b)"
   ]
  },
  {
   "cell_type": "code",
   "execution_count": 80,
   "id": "0c31bcb0",
   "metadata": {},
   "outputs": [
    {
     "name": "stdout",
     "output_type": "stream",
     "text": [
      "[11.7 16.2 20.7 25.2 29.7]\n"
     ]
    }
   ],
   "source": [
    "x = np.array([1,2,3,4,5])\n",
    "w = 4.5\n",
    "b = 7.2\n",
    "print(w*x + b)"
   ]
  },
  {
   "cell_type": "code",
   "execution_count": 81,
   "id": "ec1fa646",
   "metadata": {},
   "outputs": [
    {
     "name": "stdout",
     "output_type": "stream",
     "text": [
      "[-3 -2 -1  0  1  2]\n",
      "[-5.9 -3.9 -1.9  0.1  2.1  4.1]\n"
     ]
    }
   ],
   "source": [
    "x = np.arange(-3, 3, 1) \n",
    "print(x)\n",
    "print(2 * x + 0.1)"
   ]
  },
  {
   "cell_type": "code",
   "execution_count": 82,
   "id": "50fd89ab",
   "metadata": {},
   "outputs": [
    {
     "name": "stdout",
     "output_type": "stream",
     "text": [
      "[1 2 3 4 5 6]\n",
      "[4 4 4 4 4 4]\n",
      "[ 5  6  7  8  9 10]\n"
     ]
    }
   ],
   "source": [
    "a = np.array([1, 2, 3, 4, 5, 6])\n",
    "a2 = np.array([4 for i in range(6)])\n",
    "print(a)\n",
    "print(a2)\n",
    "print(a + a2)"
   ]
  },
  {
   "cell_type": "code",
   "execution_count": 83,
   "id": "36b129db",
   "metadata": {},
   "outputs": [
    {
     "name": "stdout",
     "output_type": "stream",
     "text": [
      "[[1 2 3]\n",
      " [4 5 6]]\n",
      "[[ 5  6  7]\n",
      " [ 8  9 10]]\n"
     ]
    }
   ],
   "source": [
    "a = np.array([1, 2, 3, 4, 5, 6]).reshape(2,3) \n",
    "b = a + 4\n",
    "print(a)\n",
    "print(b)"
   ]
  },
  {
   "cell_type": "code",
   "execution_count": 84,
   "id": "d43b81b3",
   "metadata": {},
   "outputs": [
    {
     "name": "stdout",
     "output_type": "stream",
     "text": [
      "[[1 2 3]\n",
      " [4 5 6]]\n",
      "[[-1 -2 -3]\n",
      " [-4 -5 -6]]\n"
     ]
    }
   ],
   "source": [
    "a = np.array([1, 2, 3, 4, 5, 6]).reshape(2,3) \n",
    "b = a * -1\n",
    "print(a)\n",
    "print(b)"
   ]
  },
  {
   "cell_type": "code",
   "execution_count": 85,
   "id": "30c3eecd",
   "metadata": {},
   "outputs": [
    {
     "name": "stdout",
     "output_type": "stream",
     "text": [
      "[[1 2 3]\n",
      " [1 2 3]\n",
      " [1 2 3]]\n"
     ]
    }
   ],
   "source": [
    "a = np.array([ [1,1,1], [1,1,1], [1,1,1] ])         \n",
    "b = np.array([0,1,2])  \n",
    "print( a + b) "
   ]
  },
  {
   "cell_type": "code",
   "execution_count": 86,
   "id": "0f9685d3",
   "metadata": {},
   "outputs": [
    {
     "name": "stdout",
     "output_type": "stream",
     "text": [
      "[[2 4 6]\n",
      " [5 7 9]]\n"
     ]
    }
   ],
   "source": [
    "a = np.array([ [1,2,3], [4,5,6] ])         \n",
    "b = np.array([1,2,3])  \n",
    "print( a + b) "
   ]
  },
  {
   "cell_type": "code",
   "execution_count": 87,
   "id": "f7363c76",
   "metadata": {},
   "outputs": [
    {
     "name": "stdout",
     "output_type": "stream",
     "text": [
      "[[ 1.5  2.8  5.3]\n",
      " [ 2.1  3.8  7.9]\n",
      " [ 2.7  4.8 10.5]\n",
      " [ 3.3  5.8 13.1]]\n"
     ]
    }
   ],
   "source": [
    "x = np.array([ [1,2], [3 ,4], [5,6], [7,8] ]) \n",
    "w = np.array([ [0.1,0.2, 0.3], [0.2,0.3, 1]])\n",
    "b = np.array([1,2,3])\n",
    "print(np.matmul(x, w) + b)"
   ]
  },
  {
   "cell_type": "markdown",
   "id": "91bd8f83",
   "metadata": {},
   "source": [
    "브로드캐스팅 정규화"
   ]
  },
  {
   "cell_type": "code",
   "execution_count": 88,
   "id": "ab55b9ae",
   "metadata": {},
   "outputs": [
    {
     "name": "stdout",
     "output_type": "stream",
     "text": [
      "[[ 0.1  2.  34. ]\n",
      " [ 0.9  7.  12. ]\n",
      " [ 0.2  1.   6. ]\n",
      " [ 0.5  1.5 27. ]]\n",
      "[[0.11111111 0.28571429 1.        ]\n",
      " [1.         1.         0.35294118]\n",
      " [0.22222222 0.14285714 0.17647059]\n",
      " [0.55555556 0.21428571 0.79411765]]\n"
     ]
    }
   ],
   "source": [
    "a = np.array([ [0.1, 2, 34], [0.9, 7, 12], [0.2, 1, 6], [0.5, 1.5, 27] ])\n",
    "n = a / np.max(a, axis=0)\n",
    "print(a)\n",
    "print(n)"
   ]
  },
  {
   "cell_type": "markdown",
   "id": "4e36551a",
   "metadata": {},
   "source": [
    "# 3. 수학 점수 예측"
   ]
  },
  {
   "cell_type": "markdown",
   "id": "59642644",
   "metadata": {},
   "source": [
    "1) 13,15,20 시간 공부하면 SAT는 몇점인지 예측\n",
    "\n",
    "2) SAT 840점을 얻기 위해 몇 시간 공부야 하는가?\n",
    "\n",
    "3) 최적 w,b로 부터 발생하는 학습 오차는 얼마인가?\n",
    "\n",
    "4) 최적의 가중치 w, b 는 얼마인가?\n",
    "\n",
    "5) 이전 모델보다 좋은가?"
   ]
  },
  {
   "cell_type": "code",
   "execution_count": 89,
   "id": "4e729aff",
   "metadata": {},
   "outputs": [
    {
     "name": "stdout",
     "output_type": "stream",
     "text": [
      "[615.1 655.7 757.2]\n"
     ]
    }
   ],
   "source": [
    "w = 20.3\n",
    "b = 351.2\n",
    "x = [13, 15, 20]\n",
    "y = np.array(x) * w + b\n",
    "print(y)"
   ]
  },
  {
   "cell_type": "code",
   "execution_count": 90,
   "id": "8ac5888c",
   "metadata": {},
   "outputs": [
    {
     "name": "stdout",
     "output_type": "stream",
     "text": [
      "840\n",
      "24.078817733990146\n"
     ]
    }
   ],
   "source": [
    "y = 840\n",
    "x = (y  - b) / w\n",
    "print(y)\n",
    "print(x)"
   ]
  },
  {
   "cell_type": "markdown",
   "id": "095d63b9",
   "metadata": {},
   "source": [
    "학습 오차 계산"
   ]
  },
  {
   "cell_type": "code",
   "execution_count": 91,
   "id": "09769508",
   "metadata": {},
   "outputs": [
    {
     "name": "stdout",
     "output_type": "stream",
     "text": [
      "72.56996968443626\n"
     ]
    }
   ],
   "source": [
    "w = 20.3\n",
    "b = 351.2\n",
    "\n",
    "x = np.array([4,9,10,14,4,7,12,22,1,3,8,11,5,6,10,11,16,13,13,10])\n",
    "y = np.array([390,580,650,730,410,530,600,790,350,400,590,640,450,520,690,690,770,700,730,640])\n",
    "\n",
    "error = (y - (x*w+b))**2\n",
    "result = np.sqrt(np.mean(error) )\n",
    "\n",
    "print(result)"
   ]
  },
  {
   "cell_type": "code",
   "execution_count": 92,
   "id": "3a496fed",
   "metadata": {},
   "outputs": [
    {
     "name": "stdout",
     "output_type": "stream",
     "text": [
      "(20, 1)\n",
      "(20, 1)\n"
     ]
    }
   ],
   "source": [
    "x = np.array([[4,9,10,14,4,7,12,22,1,3,8,11,5,6,10,11,16,13,13,10]]).T\n",
    "y = np.array([[390,580,650,730,410,530,600,790,350,400,590,640,450,520,690,690,770,700,730,640]]).T\n",
    "print(x.shape)\n",
    "print(y.shape)"
   ]
  },
  {
   "cell_type": "code",
   "execution_count": 93,
   "id": "e0e076dc",
   "metadata": {},
   "outputs": [
    {
     "name": "stdout",
     "output_type": "stream",
     "text": [
      "[[ 4.  1.]\n",
      " [ 9.  1.]\n",
      " [10.  1.]\n",
      " [14.  1.]\n",
      " [ 4.  1.]\n",
      " [ 7.  1.]\n",
      " [12.  1.]\n",
      " [22.  1.]\n",
      " [ 1.  1.]\n",
      " [ 3.  1.]\n",
      " [ 8.  1.]\n",
      " [11.  1.]\n",
      " [ 5.  1.]\n",
      " [ 6.  1.]\n",
      " [10.  1.]\n",
      " [11.  1.]\n",
      " [16.  1.]\n",
      " [13.  1.]\n",
      " [13.  1.]\n",
      " [10.  1.]]\n",
      "(20, 2)\n"
     ]
    }
   ],
   "source": [
    "A = np.append(x, np.ones((x.shape[0], 1)), axis = 1)\n",
    "print(A)\n",
    "print(A.shape)"
   ]
  },
  {
   "cell_type": "code",
   "execution_count": 94,
   "id": "1dbfe42d",
   "metadata": {},
   "outputs": [
    {
     "name": "stdout",
     "output_type": "stream",
     "text": [
      "[25.32646778] [353.1648795]\n"
     ]
    }
   ],
   "source": [
    "def pinv(A) :\n",
    "    return np.matmul(np.linalg.inv(np.matmul(A.T, A)), A.T)\n",
    "\n",
    "W = np.matmul(  pinv(A), y)\n",
    "w,b = W\n",
    "print(w, b)"
   ]
  },
  {
   "cell_type": "code",
   "execution_count": 95,
   "id": "4a0a9891",
   "metadata": {},
   "outputs": [
    {
     "name": "stdout",
     "output_type": "stream",
     "text": [
      "72.56996968443626\n",
      "47.16649000039569\n"
     ]
    }
   ],
   "source": [
    "error2 = (y - (x*w+b))**2\n",
    "result2 = np.sqrt(np.mean(error2) )\n",
    "\n",
    "print(result)\n",
    "print(result2)"
   ]
  },
  {
   "cell_type": "markdown",
   "id": "1ed8169a",
   "metadata": {},
   "source": [
    "###  이자율에 따른 주가 / 실업률에 따른 주가 "
   ]
  },
  {
   "cell_type": "code",
   "execution_count": 96,
   "id": "3ce295e0",
   "metadata": {},
   "outputs": [
    {
     "name": "stdout",
     "output_type": "stream",
     "text": [
      "(24, 3)\n",
      "[ 345.54008701 -250.14657137 1798.40397762]\n"
     ]
    }
   ],
   "source": [
    "Interest_Rate =  np.array([[2.75,2.5,2.5,2.5,2.5,2.5,2.5,2.25,2.25,2.25,2,2,2,1.75,1.75,1.75,1.75,1.75,1.75,1.75,1.75,1.75,1.75,1.75]]).T\n",
    "Unemployment_Rate = np.array([[5.3,5.3,5.3,5.3,5.4,5.6,5.5,5.5,5.5,5.6,5.7,5.9,6,5.9,5.8,6.1,6.2,6.1,6.1,6.1,5.9,6.2,6.2,6.1]]).T\n",
    "Stock_Index_Price =  [1464,1394,1357,1293,1256,1254,1234,1195,1159,1167,1130,1075,1047,965,943,958,971,949,884,866,876,822,704,719]\n",
    "\n",
    "A = np.append(Interest_Rate, Unemployment_Rate, axis = 1)\n",
    "A = np.append(A, np.ones((Interest_Rate.size , 1)), axis = 1)\n",
    "print(A.shape)\n",
    "\n",
    "W = np.matmul(pinv(A), Stock_Index_Price)\n",
    "print(W)"
   ]
  },
  {
   "cell_type": "code",
   "execution_count": 97,
   "id": "dce540f9",
   "metadata": {},
   "outputs": [
    {
     "name": "stdout",
     "output_type": "stream",
     "text": [
      "[2009.74967889 2034.76433603 2009.74967889 2044.30368759]\n"
     ]
    }
   ],
   "source": [
    "x_data = np.array([[5.1, 6.2, 1], [5.1,6.1, 1], [5.1, 6.2 ,1], [5.2, 6.2, 1] ])\n",
    "result = np.matmul(x_data, W)\n",
    "print(result)"
   ]
  },
  {
   "cell_type": "code",
   "execution_count": 98,
   "id": "35e10931",
   "metadata": {},
   "outputs": [
    {
     "name": "stdout",
     "output_type": "stream",
     "text": [
      "25.01465713690959\n",
      "34.55400870107587\n"
     ]
    }
   ],
   "source": [
    "print( result[1]-result[0])\n",
    "print( result[3]-result[2])"
   ]
  }
 ],
 "metadata": {
  "kernelspec": {
   "display_name": "Python 3 (ipykernel)",
   "language": "python",
   "name": "python3"
  },
  "language_info": {
   "codemirror_mode": {
    "name": "ipython",
    "version": 3
   },
   "file_extension": ".py",
   "mimetype": "text/x-python",
   "name": "python",
   "nbconvert_exporter": "python",
   "pygments_lexer": "ipython3",
   "version": "3.7.10"
  }
 },
 "nbformat": 4,
 "nbformat_minor": 5
}
