{
 "cells": [
  {
   "cell_type": "markdown",
   "id": "5b87ae35",
   "metadata": {},
   "source": [
    " + tensorflow 특징\n",
    "   + 계산과정을 graph로 표현\n",
    "   + 그래프는 session에 올려서 실행\n",
    "   + 실행 결과는 list, numpy로 변환"
   ]
  },
  {
   "cell_type": "markdown",
   "id": "20eea4cb",
   "metadata": {},
   "source": [
    "tf 동작 과정\n",
    " 1. 데이터 플로우 그래프 빌드\n",
    " 2. 데이터 입력하고 그래프 실행(run)\n",
    " 3. 그래프 내부 변수들을 update하고 출력값 리턴"
   ]
  },
  {
   "cell_type": "code",
   "execution_count": 1,
   "id": "11a439ba",
   "metadata": {},
   "outputs": [
    {
     "name": "stderr",
     "output_type": "stream",
     "text": [
      "c:\\users\\admin\\anaconda3\\envs\\gpu\\lib\\site-packages\\tensorflow\\python\\framework\\dtypes.py:516: FutureWarning: Passing (type, 1) or '1type' as a synonym of type is deprecated; in a future version of numpy, it will be understood as (type, (1,)) / '(1,)type'.\n",
      "  _np_qint8 = np.dtype([(\"qint8\", np.int8, 1)])\n",
      "c:\\users\\admin\\anaconda3\\envs\\gpu\\lib\\site-packages\\tensorflow\\python\\framework\\dtypes.py:517: FutureWarning: Passing (type, 1) or '1type' as a synonym of type is deprecated; in a future version of numpy, it will be understood as (type, (1,)) / '(1,)type'.\n",
      "  _np_quint8 = np.dtype([(\"quint8\", np.uint8, 1)])\n",
      "c:\\users\\admin\\anaconda3\\envs\\gpu\\lib\\site-packages\\tensorflow\\python\\framework\\dtypes.py:518: FutureWarning: Passing (type, 1) or '1type' as a synonym of type is deprecated; in a future version of numpy, it will be understood as (type, (1,)) / '(1,)type'.\n",
      "  _np_qint16 = np.dtype([(\"qint16\", np.int16, 1)])\n",
      "c:\\users\\admin\\anaconda3\\envs\\gpu\\lib\\site-packages\\tensorflow\\python\\framework\\dtypes.py:519: FutureWarning: Passing (type, 1) or '1type' as a synonym of type is deprecated; in a future version of numpy, it will be understood as (type, (1,)) / '(1,)type'.\n",
      "  _np_quint16 = np.dtype([(\"quint16\", np.uint16, 1)])\n",
      "c:\\users\\admin\\anaconda3\\envs\\gpu\\lib\\site-packages\\tensorflow\\python\\framework\\dtypes.py:520: FutureWarning: Passing (type, 1) or '1type' as a synonym of type is deprecated; in a future version of numpy, it will be understood as (type, (1,)) / '(1,)type'.\n",
      "  _np_qint32 = np.dtype([(\"qint32\", np.int32, 1)])\n",
      "c:\\users\\admin\\anaconda3\\envs\\gpu\\lib\\site-packages\\tensorflow\\python\\framework\\dtypes.py:525: FutureWarning: Passing (type, 1) or '1type' as a synonym of type is deprecated; in a future version of numpy, it will be understood as (type, (1,)) / '(1,)type'.\n",
      "  np_resource = np.dtype([(\"resource\", np.ubyte, 1)])\n",
      "c:\\users\\admin\\anaconda3\\envs\\gpu\\lib\\site-packages\\tensorboard\\compat\\tensorflow_stub\\dtypes.py:541: FutureWarning: Passing (type, 1) or '1type' as a synonym of type is deprecated; in a future version of numpy, it will be understood as (type, (1,)) / '(1,)type'.\n",
      "  _np_qint8 = np.dtype([(\"qint8\", np.int8, 1)])\n",
      "c:\\users\\admin\\anaconda3\\envs\\gpu\\lib\\site-packages\\tensorboard\\compat\\tensorflow_stub\\dtypes.py:542: FutureWarning: Passing (type, 1) or '1type' as a synonym of type is deprecated; in a future version of numpy, it will be understood as (type, (1,)) / '(1,)type'.\n",
      "  _np_quint8 = np.dtype([(\"quint8\", np.uint8, 1)])\n",
      "c:\\users\\admin\\anaconda3\\envs\\gpu\\lib\\site-packages\\tensorboard\\compat\\tensorflow_stub\\dtypes.py:543: FutureWarning: Passing (type, 1) or '1type' as a synonym of type is deprecated; in a future version of numpy, it will be understood as (type, (1,)) / '(1,)type'.\n",
      "  _np_qint16 = np.dtype([(\"qint16\", np.int16, 1)])\n",
      "c:\\users\\admin\\anaconda3\\envs\\gpu\\lib\\site-packages\\tensorboard\\compat\\tensorflow_stub\\dtypes.py:544: FutureWarning: Passing (type, 1) or '1type' as a synonym of type is deprecated; in a future version of numpy, it will be understood as (type, (1,)) / '(1,)type'.\n",
      "  _np_quint16 = np.dtype([(\"quint16\", np.uint16, 1)])\n",
      "c:\\users\\admin\\anaconda3\\envs\\gpu\\lib\\site-packages\\tensorboard\\compat\\tensorflow_stub\\dtypes.py:545: FutureWarning: Passing (type, 1) or '1type' as a synonym of type is deprecated; in a future version of numpy, it will be understood as (type, (1,)) / '(1,)type'.\n",
      "  _np_qint32 = np.dtype([(\"qint32\", np.int32, 1)])\n",
      "c:\\users\\admin\\anaconda3\\envs\\gpu\\lib\\site-packages\\tensorboard\\compat\\tensorflow_stub\\dtypes.py:550: FutureWarning: Passing (type, 1) or '1type' as a synonym of type is deprecated; in a future version of numpy, it will be understood as (type, (1,)) / '(1,)type'.\n",
      "  np_resource = np.dtype([(\"resource\", np.ubyte, 1)])\n"
     ]
    }
   ],
   "source": [
    "import tensorflow as tf"
   ]
  },
  {
   "cell_type": "code",
   "execution_count": 4,
   "id": "ba2b0ae7",
   "metadata": {},
   "outputs": [],
   "source": [
    "#그래프 빌딩\n",
    "x = tf.constant(1)\n",
    "y = tf.constant(2)\n",
    "z = tf.constant(3)\n",
    "\n",
    "a = x*y+z\n"
   ]
  },
  {
   "cell_type": "code",
   "execution_count": 5,
   "id": "b5b041d1",
   "metadata": {},
   "outputs": [
    {
     "name": "stdout",
     "output_type": "stream",
     "text": [
      "5\n"
     ]
    }
   ],
   "source": [
    "sess = tf.Session()\n",
    "b = sess.run(a)\n",
    "print(b)"
   ]
  },
  {
   "cell_type": "markdown",
   "id": "526e6d3e",
   "metadata": {},
   "source": [
    "텐서 생성"
   ]
  },
  {
   "cell_type": "code",
   "execution_count": 7,
   "id": "45709295",
   "metadata": {},
   "outputs": [
    {
     "name": "stdout",
     "output_type": "stream",
     "text": [
      "<dtype: 'int32'>\n",
      "(3, 2)\n",
      "2\n"
     ]
    }
   ],
   "source": [
    "a = tf.constant([[1,2],[3,4],[5,6]])\n",
    "print(a.dtype)\n",
    "print(a.shape)\n",
    "print(sess.run(tf.rank(a))) #차원 계산"
   ]
  },
  {
   "cell_type": "code",
   "execution_count": 12,
   "id": "b6b12e95",
   "metadata": {},
   "outputs": [
    {
     "name": "stdout",
     "output_type": "stream",
     "text": [
      "[[ 1  2  3  4]\n",
      " [ 5  6  7  8]\n",
      " [ 9 10 11 12]]\n",
      "[[ 1  5  9]\n",
      " [ 2  6 10]\n",
      " [ 3  7 11]\n",
      " [ 4  8 12]]\n"
     ]
    }
   ],
   "source": [
    "a = tf.constant([[1,2],[3,4],[5,6],[7,8],[9,10],[11,12]])\n",
    "b = tf.reshape(a,[3,4])\n",
    "c = tf.transpose(b)\n",
    "print(sess.run(b))\n",
    "print(sess.run(c))"
   ]
  },
  {
   "cell_type": "code",
   "execution_count": 16,
   "id": "03003c3f",
   "metadata": {},
   "outputs": [
    {
     "name": "stdout",
     "output_type": "stream",
     "text": [
      "c type = <class 'tensorflow.python.framework.ops.Tensor'>\n",
      "[-1 -2 -3 -4 -5]  type = <class 'numpy.ndarray'>\n"
     ]
    }
   ],
   "source": [
    "a = tf.constant([1,2,3,4,5])\n",
    "b = tf.constant([-1,-1,-1,-1,-1])\n",
    "c = a*b\n",
    "print(f\"c type = {type(c)}\")\n",
    "print(f\"{sess.run(c)}  type = {type(sess.run(c))}\")"
   ]
  },
  {
   "cell_type": "code",
   "execution_count": 18,
   "id": "c0b58506",
   "metadata": {},
   "outputs": [
    {
     "name": "stdout",
     "output_type": "stream",
     "text": [
      "[ True False False  True False]\n"
     ]
    }
   ],
   "source": [
    "a = tf.constant([1,2,3,4,5])\n",
    "b = tf.constant([1,4,6,4,9])\n",
    "c = tf.equal(a,b)\n",
    "print(sess.run(c))"
   ]
  },
  {
   "cell_type": "markdown",
   "id": "c5814c03",
   "metadata": {},
   "source": [
    "### 텐서 자료형!"
   ]
  },
  {
   "cell_type": "markdown",
   "id": "e27539c9",
   "metadata": {},
   "source": [
    "tf.constant = 상수 저장 고정 크기 메모리  \n",
    "tf.placeholder = 학습 데이터 저장 가변크기 메모리  \n",
    "tf.Variable = 학습 파라미터 저장 고정크기 메모리"
   ]
  },
  {
   "cell_type": "code",
   "execution_count": 3,
   "id": "c5da43d7",
   "metadata": {},
   "outputs": [],
   "source": [
    "#tf.constant(value, dtype, shape)\n",
    "a = tf.constant([5])\n",
    "b = tf.constant([10.0,20,30])\n",
    "c = tf.constant([10,20,30], dtype=tf.float32)"
   ]
  },
  {
   "cell_type": "code",
   "execution_count": 8,
   "id": "cf4c0e67",
   "metadata": {},
   "outputs": [
    {
     "name": "stdout",
     "output_type": "stream",
     "text": [
      "WARNING:tensorflow:From C:\\Users\\admin\\AppData\\Local\\Temp\\ipykernel_19876\\3496270443.py:1: The name tf.Session is deprecated. Please use tf.compat.v1.Session instead.\n",
      "\n"
     ]
    }
   ],
   "source": [
    "sess = tf.Session()"
   ]
  },
  {
   "cell_type": "code",
   "execution_count": 11,
   "id": "fe6ef1d0",
   "metadata": {},
   "outputs": [
    {
     "data": {
      "text/plain": [
       "array([1., 2., 3., 4., 5.], dtype=float32)"
      ]
     },
     "execution_count": 11,
     "metadata": {},
     "output_type": "execute_result"
    }
   ],
   "source": [
    "x = tf.placeholder(dtype=tf.float32)\n",
    "input_data = [1,2,3,4,5]\n",
    "sess.run(x, feed_dict = {x:input_data})"
   ]
  },
  {
   "cell_type": "code",
   "execution_count": 12,
   "id": "e23ff70e",
   "metadata": {},
   "outputs": [],
   "source": [
    "#tf.Variable(value, dtype, shape)\n",
    "w = tf.Variable(input_data, dtype=tf.float32)\n",
    "init = tf.global_variables_initializer()\n",
    "sess.run(init)"
   ]
  },
  {
   "cell_type": "markdown",
   "id": "6f2a400a",
   "metadata": {},
   "source": [
    "3개 데이터타입 예제"
   ]
  },
  {
   "cell_type": "code",
   "execution_count": 16,
   "id": "09ca815e",
   "metadata": {},
   "outputs": [],
   "source": [
    "input_data = [1,2,3,4,5]\n",
    "x = tf.placeholder(dtype=tf.float32)\n",
    "w = tf.Variable([2.0])\n",
    "b= tf.constant([1.4])\n",
    "y = w*x + b\n",
    "\n",
    "init = tf.global_variables_initializer()\n",
    "sess = tf.Session()\n",
    "sess.run(init)\n",
    "\n",
    "out1 = sess.run(y, feed_dict={x:[1,2,3]})\n",
    "out2 = sess.run(y, feed_dict={x:[-1.0, -2.0]})"
   ]
  },
  {
   "cell_type": "markdown",
   "id": "bcfce960",
   "metadata": {},
   "source": [
    "# 예제 "
   ]
  },
  {
   "cell_type": "markdown",
   "id": "b245b66a",
   "metadata": {},
   "source": [
    "## * 상수타입 "
   ]
  },
  {
   "cell_type": "code",
   "execution_count": 17,
   "id": "5a39436d",
   "metadata": {},
   "outputs": [
    {
     "name": "stdout",
     "output_type": "stream",
     "text": [
      "Tensor(\"Const_8:0\", shape=(), dtype=float32)\n",
      "2.0\n"
     ]
    }
   ],
   "source": [
    "a = tf.constant(2.0)\n",
    "print(a)\n",
    "print(sess.run(a))"
   ]
  },
  {
   "cell_type": "code",
   "execution_count": 18,
   "id": "3090495b",
   "metadata": {},
   "outputs": [
    {
     "name": "stdout",
     "output_type": "stream",
     "text": [
      "<class 'tensorflow.python.framework.ops.Tensor'>\n",
      "()\n"
     ]
    }
   ],
   "source": [
    "print(type(a))\n",
    "print(a.shape)"
   ]
  },
  {
   "cell_type": "code",
   "execution_count": 19,
   "id": "962a4a6a",
   "metadata": {},
   "outputs": [
    {
     "name": "stdout",
     "output_type": "stream",
     "text": [
      "[2 0]\n"
     ]
    }
   ],
   "source": [
    "b = tf.constant([2,0])\n",
    "print(sess.run(b))"
   ]
  },
  {
   "cell_type": "code",
   "execution_count": 20,
   "id": "e325c096",
   "metadata": {},
   "outputs": [
    {
     "name": "stdout",
     "output_type": "stream",
     "text": [
      "Tensor(\"Const_10:0\", shape=(), dtype=int32)\n",
      "Tensor(\"Const_11:0\", shape=(1,), dtype=int32)\n"
     ]
    }
   ],
   "source": [
    "a= tf.constant(4)\n",
    "b= tf.constant([4])\n",
    "print(a)\n",
    "print(b)"
   ]
  },
  {
   "cell_type": "code",
   "execution_count": 21,
   "id": "84b6df39",
   "metadata": {},
   "outputs": [
    {
     "name": "stdout",
     "output_type": "stream",
     "text": [
      "4 <class 'numpy.int32'>\n",
      "[4] <class 'numpy.ndarray'>\n"
     ]
    }
   ],
   "source": [
    "a_ = sess.run(a)\n",
    "b_ = sess.run(b)\n",
    "print(a_, type(a_))\n",
    "print(b_, type(b_))"
   ]
  },
  {
   "cell_type": "code",
   "execution_count": 22,
   "id": "4f73783b",
   "metadata": {},
   "outputs": [
    {
     "name": "stdout",
     "output_type": "stream",
     "text": [
      "(1,)\n",
      "length :  1\n"
     ]
    }
   ],
   "source": [
    "print(b.shape)\n",
    "print(\"length : \",b.shape[0])"
   ]
  },
  {
   "cell_type": "code",
   "execution_count": 23,
   "id": "6084cd3a",
   "metadata": {},
   "outputs": [
    {
     "name": "stdout",
     "output_type": "stream",
     "text": [
      "Tensor(\"Const_12:0\", shape=(3,), dtype=int32)\n",
      "(3,)\n",
      "length :  3\n"
     ]
    }
   ],
   "source": [
    "c = tf.constant([2,3,4])\n",
    "print(c)\n",
    "print(c.shape)\n",
    "print(\"length : \",c.shape[0])"
   ]
  },
  {
   "cell_type": "code",
   "execution_count": 24,
   "id": "ff5fe1ca",
   "metadata": {},
   "outputs": [
    {
     "name": "stdout",
     "output_type": "stream",
     "text": [
      "Tensor(\"Const_13:0\", shape=(3, 2), dtype=int32)\n",
      "(3, 2)\n",
      "행 : 3\n",
      "열 : 2\n"
     ]
    }
   ],
   "source": [
    "m = tf.constant([[1,2],[3,4],[5,6]])\n",
    "print(m)\n",
    "print(m.shape)\n",
    "print(f\"행 : {m.shape[0]}\")\n",
    "print(f\"열 : {m.shape[1]}\")"
   ]
  },
  {
   "cell_type": "code",
   "execution_count": 26,
   "id": "68501802",
   "metadata": {},
   "outputs": [
    {
     "name": "stdout",
     "output_type": "stream",
     "text": [
      "Tensor(\"Const_15:0\", shape=(1, 3), dtype=int32)\n",
      "(1, 3)\n"
     ]
    }
   ],
   "source": [
    "m = tf.constant([[1,2,3]])\n",
    "print(m)\n",
    "print(m.shape)"
   ]
  },
  {
   "cell_type": "markdown",
   "id": "c2522519",
   "metadata": {},
   "source": [
    "#### shape 행  : [0]  / 열 : [1]"
   ]
  },
  {
   "cell_type": "code",
   "execution_count": 27,
   "id": "65ec2626",
   "metadata": {},
   "outputs": [
    {
     "name": "stdout",
     "output_type": "stream",
     "text": [
      "Tensor(\"Const_16:0\", shape=(3, 1), dtype=int32)\n",
      "(3, 1)\n"
     ]
    }
   ],
   "source": [
    "m = tf.constant([[1],[2],[3]])\n",
    "print(m)\n",
    "print(m.shape)"
   ]
  },
  {
   "cell_type": "code",
   "execution_count": 28,
   "id": "99604e91",
   "metadata": {},
   "outputs": [],
   "source": [
    "import numpy as np"
   ]
  },
  {
   "cell_type": "code",
   "execution_count": 31,
   "id": "0340542d",
   "metadata": {},
   "outputs": [
    {
     "name": "stdout",
     "output_type": "stream",
     "text": [
      "1 <class 'int'>\n",
      "2 <class 'float'>\n",
      "3 float64\n",
      "4 <class 'numpy.float64'>\n",
      "5 <class 'numpy.float64'>\n",
      "6 Tensor(\"Const_18:0\", shape=(3,), dtype=float32)\n",
      "7 <class 'numpy.float32'>\n"
     ]
    }
   ],
   "source": [
    "a = [1, 2.0]\n",
    "b = np.array([1,2,3.0])\n",
    "c = tf.constant([1,2,3.0])\n",
    "print('1',type(a[0]))\n",
    "print('2',type(a[1]))\n",
    "print('3',b.dtype)\n",
    "print('4',type(b[0]))\n",
    "print('5',type(b[1]))\n",
    "\n",
    "print('6',c)\n",
    "c2 = sess.run(c)\n",
    "print('7',type(c2[0]))\n"
   ]
  },
  {
   "cell_type": "code",
   "execution_count": 33,
   "id": "b9f6a77a",
   "metadata": {},
   "outputs": [
    {
     "name": "stdout",
     "output_type": "stream",
     "text": [
      "[[1, 2], [3, 4, 5]]\n"
     ]
    }
   ],
   "source": [
    "# 텐서는 dense tensor만 ㄴㄴ! 격자 행렬만 취급\n",
    "a = [[1,2],[3,4,5]]\n",
    "print(a)"
   ]
  },
  {
   "cell_type": "code",
   "execution_count": 35,
   "id": "ef05a838",
   "metadata": {},
   "outputs": [
    {
     "name": "stdout",
     "output_type": "stream",
     "text": [
      "(6,)\n",
      "[1, 6]\n",
      "[6, 1]\n",
      "[3, 2]\n"
     ]
    }
   ],
   "source": [
    "a = tf.constant([1,2,3,4,5,6])\n",
    "print(a.shape)\n",
    "b = tf.constant([[1,2,3,4,5,6]])\n",
    "print(b.shape.as_list())\n",
    "c= tf.constant([[1],[2],[3],[4],[5],[6]])\n",
    "print(c.shape.as_list())\n",
    "d = tf.constant([[1,2],[3,4],[5,6]])\n",
    "print(d.shape.as_list())"
   ]
  },
  {
   "cell_type": "code",
   "execution_count": 36,
   "id": "d42c6ae1",
   "metadata": {},
   "outputs": [
    {
     "name": "stdout",
     "output_type": "stream",
     "text": [
      "[[1 2 3]\n",
      " [4 5 6]]\n"
     ]
    }
   ],
   "source": [
    "a = tf.constant([1,2,3,4,5,6], shape = (2,3))\n",
    "print(sess.run(a))"
   ]
  },
  {
   "cell_type": "code",
   "execution_count": 37,
   "id": "14926dd5",
   "metadata": {},
   "outputs": [
    {
     "name": "stdout",
     "output_type": "stream",
     "text": [
      "[[0 0]\n",
      " [0 0]\n",
      " [0 0]\n",
      " [0 0]]\n"
     ]
    }
   ],
   "source": [
    "print(sess.run(tf.constant(0, shape=[4,2])))"
   ]
  },
  {
   "cell_type": "code",
   "execution_count": 38,
   "id": "93233120",
   "metadata": {},
   "outputs": [
    {
     "name": "stdout",
     "output_type": "stream",
     "text": [
      "[[0 1]\n",
      " [2 2]\n",
      " [2 2]\n",
      " [2 2]]\n"
     ]
    }
   ],
   "source": [
    "print(sess.run(tf.constant([0,1,2], shape=[4,2])))"
   ]
  },
  {
   "cell_type": "code",
   "execution_count": 39,
   "id": "38d8382e",
   "metadata": {},
   "outputs": [
    {
     "name": "stdout",
     "output_type": "stream",
     "text": [
      "(2, 3) (3, 2)\n"
     ]
    }
   ],
   "source": [
    "a = tf.constant([[1,2,3],[4,5,6]])\n",
    "b = tf.transpose(a)\n",
    "print(a.shape, b.shape)"
   ]
  },
  {
   "cell_type": "code",
   "execution_count": 41,
   "id": "e8643a3b",
   "metadata": {},
   "outputs": [
    {
     "name": "stdout",
     "output_type": "stream",
     "text": [
      "(4,) (4,)\n"
     ]
    }
   ],
   "source": [
    "a = tf.constant([1,2,3,4])\n",
    "b = tf.transpose(a)\n",
    "print(a.shape, b.shape)"
   ]
  },
  {
   "cell_type": "code",
   "execution_count": 42,
   "id": "86bda5fc",
   "metadata": {},
   "outputs": [
    {
     "name": "stdout",
     "output_type": "stream",
     "text": [
      "(6, 2)\n",
      "[[ 1  2]\n",
      " [ 3  4]\n",
      " [ 5  6]\n",
      " [ 7  8]\n",
      " [ 9 10]\n",
      " [11 12]]\n",
      "(3, 4)\n",
      "[[ 1  2  3  4]\n",
      " [ 5  6  7  8]\n",
      " [ 9 10 11 12]]\n"
     ]
    }
   ],
   "source": [
    "a = tf.constant([[1,2],[3,4],[5,6],[7,8],[9,10],[11,12]])\n",
    "b = tf.reshape(a,[3,4])\n",
    "print(a.shape)\n",
    "print(sess.run(a))\n",
    "print(b.shape)\n",
    "print(sess.run(b))"
   ]
  },
  {
   "cell_type": "code",
   "execution_count": 43,
   "id": "edf07a35",
   "metadata": {},
   "outputs": [
    {
     "name": "stdout",
     "output_type": "stream",
     "text": [
      "(6,)\n",
      "[1 2 3 4 5 6]\n",
      "(2, 3)\n",
      "[[1 2 3]\n",
      " [4 5 6]]\n"
     ]
    }
   ],
   "source": [
    "a = tf.constant([1,2,3,4,5,6])\n",
    "b = tf.reshape(a,[2,3])\n",
    "print(a.shape)\n",
    "print(sess.run(a))\n",
    "print(b.shape)\n",
    "print(sess.run(b))"
   ]
  },
  {
   "cell_type": "code",
   "execution_count": 44,
   "id": "4ef8116d",
   "metadata": {},
   "outputs": [
    {
     "name": "stdout",
     "output_type": "stream",
     "text": [
      "[[1]\n",
      " [2]\n",
      " [3]\n",
      " [4]]\n",
      "[[1]\n",
      " [2]\n",
      " [3]\n",
      " [4]]\n",
      "[[1]\n",
      " [2]\n",
      " [3]\n",
      " [4]]\n",
      "[1 2 3 4]\n"
     ]
    }
   ],
   "source": [
    "a = tf.constant([[1],[2],[3],[4]])\n",
    "b= tf.transpose([[1,2,3,4]])\n",
    "c = tf.reshape([1,2,3,4],[4,1])\n",
    "d = tf.transpose([1,2,3,4])\n",
    "print(sess.run(a))\n",
    "print(sess.run(b))\n",
    "print(sess.run(c))\n",
    "print(sess.run(d))\n",
    "\n"
   ]
  },
  {
   "cell_type": "code",
   "execution_count": 48,
   "id": "bb282bdf",
   "metadata": {},
   "outputs": [
    {
     "name": "stdout",
     "output_type": "stream",
     "text": [
      "[[6]\n",
      " [7]\n",
      " [8]]\n",
      "[[1]\n",
      " [2]\n",
      " [3]]\n",
      "[[1 2]\n",
      " [3 4]]\n",
      "[[1 2 3]\n",
      " [4 5 6]]\n"
     ]
    }
   ],
   "source": [
    "a = tf.constant([6,7,8],shape = (3,1))\n",
    "b= tf.constant([[1,2,3]],shape=(3,1))\n",
    "c = tf.constant([[1,2,3,4]], shape=(2,2))\n",
    "d = tf.constant([1,2,3,4,5,6], shape=(2,3))\n",
    "print(sess.run(a))\n",
    "print(sess.run(b))\n",
    "print(sess.run(c))\n",
    "print(sess.run(d))"
   ]
  },
  {
   "cell_type": "markdown",
   "id": "6608f753",
   "metadata": {},
   "source": [
    "### 텐서 기본 연산"
   ]
  },
  {
   "cell_type": "code",
   "execution_count": 49,
   "id": "9c32c7f1",
   "metadata": {},
   "outputs": [
    {
     "name": "stdout",
     "output_type": "stream",
     "text": [
      "[2. 4. 6.]\n",
      "[0. 0. 0.]\n",
      "[1. 4. 9.]\n",
      "[1. 1. 1.]\n"
     ]
    }
   ],
   "source": [
    "a = tf.constant([1.0, 2.0, 3.0])\n",
    "b = tf.constant([1.0, 2.0, 3.0])\n",
    "c = a + b\n",
    "d = a - b \n",
    "e = a * b \n",
    "f = a / b\n",
    "print(sess.run(c))\n",
    "print(sess.run(d))\n",
    "print(sess.run(e))\n",
    "print(sess.run(f))"
   ]
  },
  {
   "cell_type": "code",
   "execution_count": 50,
   "id": "d4d94d4f",
   "metadata": {},
   "outputs": [
    {
     "name": "stdout",
     "output_type": "stream",
     "text": [
      "[ 2  0  6  0 10  0]\n"
     ]
    }
   ],
   "source": [
    "a = tf.constant([1,2,3,4,5,6])\n",
    "b = tf.constant([2, 0, 2, 0, 2,0])\n",
    "c = a * b\n",
    "print(sess.run(c))"
   ]
  },
  {
   "cell_type": "code",
   "execution_count": 51,
   "id": "30b14797",
   "metadata": {},
   "outputs": [
    {
     "name": "stdout",
     "output_type": "stream",
     "text": [
      "Tensor(\"Const_43:0\", shape=(3,), dtype=int32)\n",
      "Tensor(\"Const_44:0\", shape=(3,), dtype=int32)\n",
      "Tensor(\"mul_4:0\", shape=(3,), dtype=int32)\n"
     ]
    }
   ],
   "source": [
    "a = tf.constant([1,2,3]) \n",
    "b = tf.constant([4,5,6]) \n",
    "c = a * b\n",
    "print(a)\n",
    "print(b)\n",
    "print(c)"
   ]
  },
  {
   "cell_type": "code",
   "execution_count": 52,
   "id": "49c82a2e",
   "metadata": {
    "scrolled": true
   },
   "outputs": [
    {
     "name": "stdout",
     "output_type": "stream",
     "text": [
      "name: \"Const_43\"\n",
      "op: \"Const\"\n",
      "attr {\n",
      "  key: \"dtype\"\n",
      "  value {\n",
      "    type: DT_INT32\n",
      "  }\n",
      "}\n",
      "attr {\n",
      "  key: \"value\"\n",
      "  value {\n",
      "    tensor {\n",
      "      dtype: DT_INT32\n",
      "      tensor_shape {\n",
      "        dim {\n",
      "          size: 3\n",
      "        }\n",
      "      }\n",
      "      tensor_content: \"\\001\\000\\000\\000\\002\\000\\000\\000\\003\\000\\000\\000\"\n",
      "    }\n",
      "  }\n",
      "}\n",
      "\n"
     ]
    }
   ],
   "source": [
    "print(a.op)"
   ]
  },
  {
   "cell_type": "code",
   "execution_count": 54,
   "id": "197d1a93",
   "metadata": {},
   "outputs": [
    {
     "name": "stdout",
     "output_type": "stream",
     "text": [
      "name: \"mul_4\"\n",
      "op: \"Mul\"\n",
      "input: \"Const_43\"\n",
      "input: \"Const_44\"\n",
      "attr {\n",
      "  key: \"T\"\n",
      "  value {\n",
      "    type: DT_INT32\n",
      "  }\n",
      "}\n",
      "\n"
     ]
    }
   ],
   "source": [
    "print(c.op)"
   ]
  },
  {
   "cell_type": "code",
   "execution_count": 55,
   "id": "e5af7bdf",
   "metadata": {},
   "outputs": [
    {
     "name": "stdout",
     "output_type": "stream",
     "text": [
      "[ True False False  True False]\n"
     ]
    }
   ],
   "source": [
    "a = tf.constant([1,2,3,4,5])\n",
    "b = tf.constant([1,4,6,4,9])\n",
    "c = tf.equal(a, b)\n",
    "print(sess.run(c))"
   ]
  },
  {
   "cell_type": "code",
   "execution_count": 56,
   "id": "3072794d",
   "metadata": {},
   "outputs": [
    {
     "name": "stdout",
     "output_type": "stream",
     "text": [
      "[False  True False False False]\n"
     ]
    }
   ],
   "source": [
    "a = tf.constant([1,22,23,4,50])\n",
    "b = tf.equal(a, 22)\n",
    "print(sess.run(b))"
   ]
  },
  {
   "cell_type": "code",
   "execution_count": 57,
   "id": "c9971e3c",
   "metadata": {},
   "outputs": [
    {
     "name": "stdout",
     "output_type": "stream",
     "text": [
      "[False  True  True False  True]\n"
     ]
    }
   ],
   "source": [
    "a = tf.constant([1,22,23,4,50])\n",
    "b = tf.constant([1,2,6,4,9])\n",
    "c = tf.greater(a, b)\n",
    "print(sess.run(c))"
   ]
  },
  {
   "cell_type": "code",
   "execution_count": 58,
   "id": "66a07477",
   "metadata": {},
   "outputs": [
    {
     "name": "stdout",
     "output_type": "stream",
     "text": [
      "[False  True  True False  True]\n"
     ]
    }
   ],
   "source": [
    "a = tf.constant([1,22,23,4,50])\n",
    "b = tf.constant([1,2,6,4,9])\n",
    "c = a > b\n",
    "print(sess.run(c))"
   ]
  },
  {
   "cell_type": "code",
   "execution_count": 59,
   "id": "ac0388e0",
   "metadata": {},
   "outputs": [
    {
     "name": "stdout",
     "output_type": "stream",
     "text": [
      "[False False False False  True]\n"
     ]
    }
   ],
   "source": [
    "a = tf.constant([1,22,23,4,50])\n",
    "b = a > 40\n",
    "print(sess.run(b))"
   ]
  },
  {
   "cell_type": "markdown",
   "id": "46651eb6",
   "metadata": {},
   "source": [
    "## * placeholder & Variable 타입"
   ]
  },
  {
   "cell_type": "code",
   "execution_count": 61,
   "id": "822c2e2b",
   "metadata": {},
   "outputs": [
    {
     "name": "stdout",
     "output_type": "stream",
     "text": [
      "Tensor(\"Placeholder_8:0\", dtype=float32)\n",
      "Tensor(\"Placeholder_9:0\", dtype=float32)\n"
     ]
    }
   ],
   "source": [
    "#parameter 타입 꼭!\n",
    "b = tf.placeholder(tf.float32)\n",
    "c = tf.placeholder(dtype = tf.float32)\n",
    "print(b)\n",
    "print(c)"
   ]
  },
  {
   "cell_type": "code",
   "execution_count": 62,
   "id": "1e28973b",
   "metadata": {},
   "outputs": [
    {
     "name": "stdout",
     "output_type": "stream",
     "text": [
      "[1. 2. 3.]\n"
     ]
    }
   ],
   "source": [
    "a = tf.placeholder(tf.float32)\n",
    "print(sess.run(a, feed_dict={a:[1.0,2.0,3.0]}))"
   ]
  },
  {
   "cell_type": "code",
   "execution_count": 63,
   "id": "9e1ac251",
   "metadata": {},
   "outputs": [
    {
     "name": "stdout",
     "output_type": "stream",
     "text": [
      "[1. 2. 3.]\n"
     ]
    }
   ],
   "source": [
    "a = tf.placeholder(tf.float32)\n",
    "print(sess.run(a, feed_dict={a:[1,2,3]}))"
   ]
  },
  {
   "cell_type": "code",
   "execution_count": 65,
   "id": "d2f90ec8",
   "metadata": {},
   "outputs": [
    {
     "name": "stdout",
     "output_type": "stream",
     "text": [
      "monitor\n",
      "mouse 5\n"
     ]
    }
   ],
   "source": [
    "dic = {}\n",
    "dic = {\"item\":\"mouse\", \"qty\":5}\n",
    "dic[\"item\"] = \"monitor\"\n",
    "print(dic[\"item\"])\n",
    "dic = {1.3:\"mouse\", 4:5}\n",
    "print(dic[1.3], dic[4])"
   ]
  },
  {
   "cell_type": "code",
   "execution_count": 66,
   "id": "ea64ce34",
   "metadata": {},
   "outputs": [
    {
     "name": "stdout",
     "output_type": "stream",
     "text": [
      "Tensor(\"Placeholder_12:0\", dtype=float32)\n",
      "[4, 5, 6]\n"
     ]
    }
   ],
   "source": [
    "a = tf.placeholder(tf.float32)     \n",
    "dic = {a:[4,5,6]}   \n",
    "print(a)\n",
    "print(dic[a])"
   ]
  },
  {
   "cell_type": "code",
   "execution_count": 67,
   "id": "ec7f7161",
   "metadata": {},
   "outputs": [
    {
     "name": "stdout",
     "output_type": "stream",
     "text": [
      "[4 5 6 7 8]\n"
     ]
    }
   ],
   "source": [
    "a = tf.constant([1,2,3,4,5])  \n",
    "dic = {a:[4,5,6,7,8]}\n",
    "print(sess.run(a, feed_dict=dic))"
   ]
  },
  {
   "cell_type": "code",
   "execution_count": 68,
   "id": "678bd4f0",
   "metadata": {},
   "outputs": [
    {
     "name": "stdout",
     "output_type": "stream",
     "text": [
      "[4 5 6 7 8]\n"
     ]
    }
   ],
   "source": [
    "#자동 형변환\n",
    "a = tf.constant([1,2,3,4,5])  \n",
    "dic = {a:[4,5,6,7.5,8.2]}\n",
    "print(sess.run(a, feed_dict=dic))"
   ]
  },
  {
   "cell_type": "code",
   "execution_count": 69,
   "id": "99fac022",
   "metadata": {},
   "outputs": [
    {
     "name": "stdout",
     "output_type": "stream",
     "text": [
      "<tf.Variable 'Variable_3:0' shape=(5,) dtype=int32_ref>\n"
     ]
    }
   ],
   "source": [
    "input_data=[1,2,3,4,5]\n",
    "w = tf.Variable(input_data)\n",
    "print(w)"
   ]
  },
  {
   "cell_type": "code",
   "execution_count": 70,
   "id": "3c205c76",
   "metadata": {},
   "outputs": [
    {
     "name": "stdout",
     "output_type": "stream",
     "text": [
      "<tf.Variable 'Variable_4:0' shape=(5,) dtype=float32_ref>\n"
     ]
    }
   ],
   "source": [
    "w = tf.Variable(input_data, dtype=tf.float32)\n",
    "print(w)"
   ]
  },
  {
   "cell_type": "code",
   "execution_count": 71,
   "id": "1a47615b",
   "metadata": {},
   "outputs": [
    {
     "name": "stdout",
     "output_type": "stream",
     "text": [
      "name: \"init_3\"\n",
      "op: \"NoOp\"\n",
      "input: \"^Variable/Assign\"\n",
      "input: \"^Variable_1/Assign\"\n",
      "input: \"^Variable_2/Assign\"\n",
      "input: \"^Variable_3/Assign\"\n",
      "input: \"^Variable_4/Assign\"\n",
      "\n"
     ]
    }
   ],
   "source": [
    "init = tf.global_variables_initializer()\n",
    "print(init)"
   ]
  },
  {
   "cell_type": "code",
   "execution_count": 75,
   "id": "ff0e154e",
   "metadata": {},
   "outputs": [
    {
     "name": "stdout",
     "output_type": "stream",
     "text": [
      "[2. 6. 2. 2. 4.]\n"
     ]
    }
   ],
   "source": [
    "a = tf.placeholder(tf.float32)\n",
    "b = tf.Variable([1.0, 3.0, 1.0, 1.0, 2.0], tf.float32)\n",
    "d1 = b * 2.0\n",
    "d2 = a * b\n",
    "init = tf.global_variables_initializer()\n",
    "sess.run(init)\n",
    "print(sess.run(d1))"
   ]
  },
  {
   "cell_type": "code",
   "execution_count": 76,
   "id": "3c31d7af",
   "metadata": {},
   "outputs": [
    {
     "name": "stdout",
     "output_type": "stream",
     "text": [
      "[ 1.  6.  3.  4. 10.]\n"
     ]
    }
   ],
   "source": [
    "print(sess.run(d2,feed_dict={a:[1,2,3,4,5]}) )"
   ]
  },
  {
   "cell_type": "code",
   "execution_count": 77,
   "id": "aad1ed20",
   "metadata": {},
   "outputs": [
    {
     "name": "stdout",
     "output_type": "stream",
     "text": [
      "[1. 2. 3. 4. 5.]\n",
      "[ 1.  6.  3.  4. 10.]\n"
     ]
    }
   ],
   "source": [
    "a = tf.placeholder(tf.float32)\n",
    "b = tf.Variable([1.0, 3.0, 1.0, 1.0, 2.0], tf.float32)\n",
    "c = a * b\n",
    "d = a * 2\n",
    "init = tf.global_variables_initializer()\n",
    "sess.run(init)\n",
    "result = sess.run([a, c],feed_dict={a:[1,2,3,4,5]})\n",
    "print(result[0])\n",
    "print(result[1])"
   ]
  },
  {
   "cell_type": "code",
   "execution_count": 78,
   "id": "547ca25a",
   "metadata": {},
   "outputs": [
    {
     "name": "stdout",
     "output_type": "stream",
     "text": [
      "[1. 2. 3. 4. 5.]\n",
      "[ 1.  6.  3.  4. 10.]\n"
     ]
    }
   ],
   "source": [
    "a_, c_ = sess.run([a, c],feed_dict={a:[1,2,3,4,5]})\n",
    "print(a_)\n",
    "print(c_)"
   ]
  },
  {
   "cell_type": "code",
   "execution_count": 79,
   "id": "3221c82b",
   "metadata": {},
   "outputs": [
    {
     "name": "stdout",
     "output_type": "stream",
     "text": [
      "[1. 2. 3. 4. 5.]\n"
     ]
    }
   ],
   "source": [
    "a_, _, _ = sess.run([a, c, d],feed_dict={a:[1,2,3,4,5]})\n",
    "print(a_)"
   ]
  },
  {
   "cell_type": "code",
   "execution_count": 80,
   "id": "99348546",
   "metadata": {},
   "outputs": [
    {
     "name": "stdout",
     "output_type": "stream",
     "text": [
      "[30. 40. 50. 60. 90.]\n"
     ]
    }
   ],
   "source": [
    "a = tf.Variable([1.0,2,3,4,5])\n",
    "b = a * 10.0\n",
    "print(sess.run(b, feed_dict={a:[3, 4, 5, 6.0, 9.0]}))"
   ]
  },
  {
   "cell_type": "code",
   "execution_count": 81,
   "id": "99174485",
   "metadata": {},
   "outputs": [
    {
     "name": "stdout",
     "output_type": "stream",
     "text": [
      "[1. 2. 2. 2. 2.]\n"
     ]
    }
   ],
   "source": [
    "print(sess.run(b, feed_dict={a:[3, 4, 5, 6.0, 9.0], b:[1.0, 2, 2, 2, 2]}))"
   ]
  },
  {
   "cell_type": "code",
   "execution_count": 82,
   "id": "74bb097f",
   "metadata": {},
   "outputs": [
    {
     "name": "stdout",
     "output_type": "stream",
     "text": [
      "y ->  Tensor(\"add_3:0\", dtype=float32)\n",
      "rank(w) -> 1\n",
      "rank(y) -> 1\n",
      "y.op -> name: \"add_3\"\n",
      "op: \"Add\"\n",
      "input: \"mul_12\"\n",
      "input: \"Const_55\"\n",
      "attr {\n",
      "  key: \"T\"\n",
      "  value {\n",
      "    type: DT_FLOAT\n",
      "  }\n",
      "}\n",
      "\n"
     ]
    }
   ],
   "source": [
    "input_data=[1,2,3,4,5]\n",
    "x = tf.placeholder(dtype=tf.float32)\n",
    "w = tf.Variable([2.0])  \n",
    "b = tf.constant([1.4])\n",
    "y = w*x + b     \n",
    "\n",
    "init = tf.global_variables_initializer()\n",
    "sess.run(init)\n",
    "print(\"y -> \", y)\n",
    "print(\"rank(w) ->\", sess.run(tf.rank(w)))\n",
    "print(\"rank(y) ->\", sess.run(tf.rank(y), feed_dict={x:[1,2,3]}))\n",
    "print(\"y.op ->\", y.op)"
   ]
  },
  {
   "cell_type": "code",
   "execution_count": 83,
   "id": "77995310",
   "metadata": {},
   "outputs": [
    {
     "name": "stdout",
     "output_type": "stream",
     "text": [
      "<tf.Variable 'Variable_10:0' shape=(5,) dtype=float32_ref>\n",
      "Tensor(\"mul_13:0\", dtype=float32)\n"
     ]
    }
   ],
   "source": [
    "a = tf.placeholder(tf.float32)\n",
    "b = tf.Variable([1.0, 1.0, 1.0, 1.0, 2.0], tf.float32)\n",
    "print(b)\n",
    "b = a * b   \n",
    "print(b)"
   ]
  },
  {
   "cell_type": "code",
   "execution_count": 84,
   "id": "1afcc4cb",
   "metadata": {},
   "outputs": [
    {
     "name": "stdout",
     "output_type": "stream",
     "text": [
      "[ 1.  2.  3.  4. 10.]\n"
     ]
    }
   ],
   "source": [
    "init = tf.global_variables_initializer()\n",
    "sess.run(init)\n",
    "print(sess.run(b,feed_dict={a:[1,2,3,4,5]}))  "
   ]
  },
  {
   "cell_type": "code",
   "execution_count": 87,
   "id": "3ca958fd",
   "metadata": {},
   "outputs": [
    {
     "name": "stdout",
     "output_type": "stream",
     "text": [
      "Tensor(\"mul_18:0\", shape=(5,), dtype=float32)\n",
      "Tensor(\"mul_19:0\", shape=(5,), dtype=float32)\n",
      "Tensor(\"mul_20:0\", shape=(5,), dtype=float32)\n",
      "[ 8. 16. 24. 32. 40.]\n"
     ]
    }
   ],
   "source": [
    "#변수 재정의\n",
    "w = tf.Variable([1.0, 2.0, 3.0, 4.0, 5.0])\n",
    "sess.run(tf.global_variables_initializer() )                \n",
    "\n",
    "for i in range(3):\n",
    "    w = w * 2\n",
    "    print(w)\n",
    "    \n",
    "print(sess.run(w))"
   ]
  },
  {
   "cell_type": "code",
   "execution_count": 88,
   "id": "f02eb832",
   "metadata": {
    "scrolled": true
   },
   "outputs": [
    {
     "name": "stdout",
     "output_type": "stream",
     "text": [
      "Tensor(\"Assign_1:0\", shape=(5,), dtype=float32_ref)\n",
      "Tensor(\"Assign_1:0\", shape=(5,), dtype=float32_ref)\n",
      "Tensor(\"Assign_1:0\", shape=(5,), dtype=float32_ref)\n",
      "[ 8. 16. 24. 32. 40.]\n"
     ]
    }
   ],
   "source": [
    "#변수 재정의 막음\n",
    "w = tf.Variable([1.0, 2.0, 3.0, 4.0, 5.0])\n",
    "sess.run(tf.global_variables_initializer() )                \n",
    "\n",
    "update = tf.assign(w, w*2)   \n",
    "\n",
    "for i in range(3):\n",
    "    sess.run(update)     \n",
    "    print(update)\n",
    "\n",
    "print(sess.run(w))  "
   ]
  },
  {
   "cell_type": "code",
   "execution_count": 89,
   "id": "6a4854b4",
   "metadata": {},
   "outputs": [
    {
     "name": "stdout",
     "output_type": "stream",
     "text": [
      "[3.4 5.4 7.4]\n",
      "[-0.6 -2.6]\n"
     ]
    }
   ],
   "source": [
    "input_data=[1,2,3,4,5]\n",
    "x = tf.placeholder(dtype=tf.float32)\n",
    "w = tf.Variable([2.0])  \n",
    "b = tf.constant([1.4])\n",
    "y = w*x + b     \n",
    "\n",
    "init = tf.global_variables_initializer()\n",
    "\n",
    "sess = tf.Session()\n",
    "sess.run(init)\n",
    "\n",
    "out1 = sess.run(y , feed_dict={x:[1,2,3]})   # [3.4 5.4 7.4]\n",
    "out2 = sess.run(y , feed_dict={x:[-1.0,-2.0]})  # [-0.6 -2.6]\n",
    "\n",
    "print(out1)\n",
    "print(out2)"
   ]
  },
  {
   "cell_type": "code",
   "execution_count": null,
   "id": "d7e7a32a",
   "metadata": {},
   "outputs": [],
   "source": []
  }
 ],
 "metadata": {
  "kernelspec": {
   "display_name": "Python 3 (ipykernel)",
   "language": "python",
   "name": "python3"
  },
  "language_info": {
   "codemirror_mode": {
    "name": "ipython",
    "version": 3
   },
   "file_extension": ".py",
   "mimetype": "text/x-python",
   "name": "python",
   "nbconvert_exporter": "python",
   "pygments_lexer": "ipython3",
   "version": "3.7.10"
  }
 },
 "nbformat": 4,
 "nbformat_minor": 5
}
