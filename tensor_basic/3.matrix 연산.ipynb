{
 "cells": [
  {
   "cell_type": "markdown",
   "id": "b764a3f4",
   "metadata": {},
   "source": [
    "### 1. 행렬 초기화 "
   ]
  },
  {
   "cell_type": "code",
   "execution_count": 1,
   "id": "c4573535",
   "metadata": {},
   "outputs": [
    {
     "name": "stderr",
     "output_type": "stream",
     "text": [
      "c:\\users\\admin\\anaconda3\\envs\\gpu\\lib\\site-packages\\tensorflow\\python\\framework\\dtypes.py:516: FutureWarning: Passing (type, 1) or '1type' as a synonym of type is deprecated; in a future version of numpy, it will be understood as (type, (1,)) / '(1,)type'.\n",
      "  _np_qint8 = np.dtype([(\"qint8\", np.int8, 1)])\n",
      "c:\\users\\admin\\anaconda3\\envs\\gpu\\lib\\site-packages\\tensorflow\\python\\framework\\dtypes.py:517: FutureWarning: Passing (type, 1) or '1type' as a synonym of type is deprecated; in a future version of numpy, it will be understood as (type, (1,)) / '(1,)type'.\n",
      "  _np_quint8 = np.dtype([(\"quint8\", np.uint8, 1)])\n",
      "c:\\users\\admin\\anaconda3\\envs\\gpu\\lib\\site-packages\\tensorflow\\python\\framework\\dtypes.py:518: FutureWarning: Passing (type, 1) or '1type' as a synonym of type is deprecated; in a future version of numpy, it will be understood as (type, (1,)) / '(1,)type'.\n",
      "  _np_qint16 = np.dtype([(\"qint16\", np.int16, 1)])\n",
      "c:\\users\\admin\\anaconda3\\envs\\gpu\\lib\\site-packages\\tensorflow\\python\\framework\\dtypes.py:519: FutureWarning: Passing (type, 1) or '1type' as a synonym of type is deprecated; in a future version of numpy, it will be understood as (type, (1,)) / '(1,)type'.\n",
      "  _np_quint16 = np.dtype([(\"quint16\", np.uint16, 1)])\n",
      "c:\\users\\admin\\anaconda3\\envs\\gpu\\lib\\site-packages\\tensorflow\\python\\framework\\dtypes.py:520: FutureWarning: Passing (type, 1) or '1type' as a synonym of type is deprecated; in a future version of numpy, it will be understood as (type, (1,)) / '(1,)type'.\n",
      "  _np_qint32 = np.dtype([(\"qint32\", np.int32, 1)])\n",
      "c:\\users\\admin\\anaconda3\\envs\\gpu\\lib\\site-packages\\tensorflow\\python\\framework\\dtypes.py:525: FutureWarning: Passing (type, 1) or '1type' as a synonym of type is deprecated; in a future version of numpy, it will be understood as (type, (1,)) / '(1,)type'.\n",
      "  np_resource = np.dtype([(\"resource\", np.ubyte, 1)])\n"
     ]
    },
    {
     "name": "stdout",
     "output_type": "stream",
     "text": [
      "WARNING:tensorflow:From C:\\Users\\admin\\AppData\\Local\\Temp\\ipykernel_20512\\3567889394.py:3: The name tf.Session is deprecated. Please use tf.compat.v1.Session instead.\n",
      "\n"
     ]
    },
    {
     "name": "stderr",
     "output_type": "stream",
     "text": [
      "c:\\users\\admin\\anaconda3\\envs\\gpu\\lib\\site-packages\\tensorboard\\compat\\tensorflow_stub\\dtypes.py:541: FutureWarning: Passing (type, 1) or '1type' as a synonym of type is deprecated; in a future version of numpy, it will be understood as (type, (1,)) / '(1,)type'.\n",
      "  _np_qint8 = np.dtype([(\"qint8\", np.int8, 1)])\n",
      "c:\\users\\admin\\anaconda3\\envs\\gpu\\lib\\site-packages\\tensorboard\\compat\\tensorflow_stub\\dtypes.py:542: FutureWarning: Passing (type, 1) or '1type' as a synonym of type is deprecated; in a future version of numpy, it will be understood as (type, (1,)) / '(1,)type'.\n",
      "  _np_quint8 = np.dtype([(\"quint8\", np.uint8, 1)])\n",
      "c:\\users\\admin\\anaconda3\\envs\\gpu\\lib\\site-packages\\tensorboard\\compat\\tensorflow_stub\\dtypes.py:543: FutureWarning: Passing (type, 1) or '1type' as a synonym of type is deprecated; in a future version of numpy, it will be understood as (type, (1,)) / '(1,)type'.\n",
      "  _np_qint16 = np.dtype([(\"qint16\", np.int16, 1)])\n",
      "c:\\users\\admin\\anaconda3\\envs\\gpu\\lib\\site-packages\\tensorboard\\compat\\tensorflow_stub\\dtypes.py:544: FutureWarning: Passing (type, 1) or '1type' as a synonym of type is deprecated; in a future version of numpy, it will be understood as (type, (1,)) / '(1,)type'.\n",
      "  _np_quint16 = np.dtype([(\"quint16\", np.uint16, 1)])\n",
      "c:\\users\\admin\\anaconda3\\envs\\gpu\\lib\\site-packages\\tensorboard\\compat\\tensorflow_stub\\dtypes.py:545: FutureWarning: Passing (type, 1) or '1type' as a synonym of type is deprecated; in a future version of numpy, it will be understood as (type, (1,)) / '(1,)type'.\n",
      "  _np_qint32 = np.dtype([(\"qint32\", np.int32, 1)])\n",
      "c:\\users\\admin\\anaconda3\\envs\\gpu\\lib\\site-packages\\tensorboard\\compat\\tensorflow_stub\\dtypes.py:550: FutureWarning: Passing (type, 1) or '1type' as a synonym of type is deprecated; in a future version of numpy, it will be understood as (type, (1,)) / '(1,)type'.\n",
      "  np_resource = np.dtype([(\"resource\", np.ubyte, 1)])\n"
     ]
    }
   ],
   "source": [
    "import tensorflow as tf\n",
    "import numpy as np\n",
    "sess = tf.Session()"
   ]
  },
  {
   "cell_type": "code",
   "execution_count": 4,
   "id": "64c27e1a",
   "metadata": {},
   "outputs": [
    {
     "name": "stdout",
     "output_type": "stream",
     "text": [
      "[[0. 0. 0. 0. 0. 0. 0. 0. 0. 0.]\n",
      " [0. 0. 0. 0. 0. 0. 0. 0. 0. 0.]]\n",
      "[[1 1 1 1 1 1 1 1 1 1]\n",
      " [1 1 1 1 1 1 1 1 1 1]]\n",
      "[[1. 0. 0.]\n",
      " [0. 1. 0.]\n",
      " [0. 0. 1.]]\n"
     ]
    }
   ],
   "source": [
    "a = tf.zeros([2,10])\n",
    "b = tf.ones([2,10], tf.int32)\n",
    "c = tf.eye(3)\n",
    "print(sess.run(a))\n",
    "print(sess.run(b))\n",
    "print(sess.run(c))"
   ]
  },
  {
   "cell_type": "code",
   "execution_count": 5,
   "id": "49be804b",
   "metadata": {},
   "outputs": [
    {
     "name": "stdout",
     "output_type": "stream",
     "text": [
      "[1 2 3 4 5]\n",
      "[1. 2. 3. 4. 5.]\n"
     ]
    }
   ],
   "source": [
    "a = tf.constant([1,2,3,4,5])\n",
    "b = tf.cast(a, dtype = tf.float32)\n",
    "print(sess.run(a))\n",
    "print(sess.run(b))"
   ]
  },
  {
   "cell_type": "code",
   "execution_count": 6,
   "id": "374cb505",
   "metadata": {},
   "outputs": [
    {
     "name": "stdout",
     "output_type": "stream",
     "text": [
      "[[ 1  2  3]\n",
      " [ 4  5  6]\n",
      " [ 7  8  9]\n",
      " [10 11 12]]\n",
      "[[4 5]\n",
      " [7 8]]\n"
     ]
    }
   ],
   "source": [
    "a = tf.constant([[1,2,3],[4,5,6],[7,8,9],[10,11,12]])\n",
    "b = tf.slice(a, [1,0], [2,2])\n",
    "print(sess.run(a))\n",
    "print(sess.run(b))"
   ]
  },
  {
   "cell_type": "code",
   "execution_count": 7,
   "id": "52a5604f",
   "metadata": {},
   "outputs": [
    {
     "name": "stdout",
     "output_type": "stream",
     "text": [
      "Tensor(\"Const_2:0\", shape=(4,), dtype=int32)\n",
      "Tensor(\"b:0\", shape=(5,), dtype=int32)\n"
     ]
    }
   ],
   "source": [
    "a = tf.constant([1,2,3,4])\n",
    "b = tf.constant([5,6,7,8,9], name=\"b\")\n",
    "print(a)\n",
    "print(b)"
   ]
  },
  {
   "cell_type": "markdown",
   "id": "fc32c797",
   "metadata": {},
   "source": [
    "### 행렬곱"
   ]
  },
  {
   "cell_type": "code",
   "execution_count": 8,
   "id": "84c34b31",
   "metadata": {},
   "outputs": [
    {
     "name": "stdout",
     "output_type": "stream",
     "text": [
      "[[ 9 12 15]\n",
      " [24 33 42]]\n"
     ]
    }
   ],
   "source": [
    "x = tf.constant([[1,2],[4,5]])\n",
    "y = tf.constant([[1,2,3],[4,5,6]])\n",
    "z = tf.matmul(x, y)\n",
    "print(sess.run(z))"
   ]
  },
  {
   "cell_type": "code",
   "execution_count": 10,
   "id": "d9c0206b",
   "metadata": {},
   "outputs": [
    {
     "name": "stdout",
     "output_type": "stream",
     "text": [
      "[[1. 2.]\n",
      " [7. 8.]]\n",
      "[[-1.3333335   0.33333337]\n",
      " [ 1.1666667  -0.16666669]]\n"
     ]
    }
   ],
   "source": [
    "a = tf.constant([[1.0,2],[7,8]])\n",
    "b = tf.linalg.inv(a)\n",
    "print(sess.run(a))\n",
    "print(sess.run(b))"
   ]
  },
  {
   "cell_type": "markdown",
   "id": "d47d20b6",
   "metadata": {},
   "source": [
    "### 브로드캐스팅"
   ]
  },
  {
   "cell_type": "code",
   "execution_count": 11,
   "id": "066dd769",
   "metadata": {},
   "outputs": [
    {
     "name": "stdout",
     "output_type": "stream",
     "text": [
      "[[1 2 3]\n",
      " [4 5 6]]\n",
      "[[ 5  6  7]\n",
      " [ 8  9 10]]\n"
     ]
    }
   ],
   "source": [
    "a = tf.constant([[1,2,3],[4,5,6]])\n",
    "b = a+4\n",
    "print(sess.run(a))\n",
    "print(sess.run(b))"
   ]
  },
  {
   "cell_type": "markdown",
   "id": "ba9922be",
   "metadata": {},
   "source": [
    "###  Reduce함수 : 대표값으로 차원을 줄여줌"
   ]
  },
  {
   "cell_type": "code",
   "execution_count": 12,
   "id": "596bed87",
   "metadata": {},
   "outputs": [
    {
     "name": "stdout",
     "output_type": "stream",
     "text": [
      "55.0\n",
      "5.5\n",
      "10.0\n",
      "1.0\n"
     ]
    }
   ],
   "source": [
    "a = tf.constant([1.0,2,3,4,5,6,7,8,9,10])\n",
    "print(sess.run(tf.reduce_sum(a)))\n",
    "print(sess.run(tf.reduce_mean(a)))\n",
    "print(sess.run(tf.reduce_max(a)))\n",
    "print(sess.run(tf.reduce_min(a)))\n"
   ]
  },
  {
   "cell_type": "code",
   "execution_count": 2,
   "id": "970debde",
   "metadata": {},
   "outputs": [],
   "source": [
    "import matplotlib.pyplot as plt"
   ]
  },
  {
   "cell_type": "markdown",
   "id": "0e975064",
   "metadata": {},
   "source": [
    "####  초기화함수"
   ]
  },
  {
   "cell_type": "code",
   "execution_count": 14,
   "id": "41c4ee97",
   "metadata": {},
   "outputs": [
    {
     "name": "stdout",
     "output_type": "stream",
     "text": [
      "[[5 5 5 5 5 5 5 5 5 5]\n",
      " [5 5 5 5 5 5 5 5 5 5]]\n",
      "[[5. 5. 5. 5. 5. 5. 5. 5. 5. 5.]\n",
      " [5. 5. 5. 5. 5. 5. 5. 5. 5. 5.]]\n",
      "[[5. 0. 0. 0.]\n",
      " [0. 5. 0. 0.]\n",
      " [0. 0. 5. 0.]\n",
      " [0. 0. 0. 5.]]\n"
     ]
    }
   ],
   "source": [
    "d = 5 * tf.ones([2,10], tf.int32)\n",
    "e = tf.fill([2,10], 5.0)\n",
    "f = 5 * tf.eye(4)\n",
    "print(sess.run(d))\n",
    "print(sess.run(e))\n",
    "print(sess.run(f))"
   ]
  },
  {
   "cell_type": "code",
   "execution_count": 17,
   "id": "b5086eb7",
   "metadata": {},
   "outputs": [
    {
     "name": "stdout",
     "output_type": "stream",
     "text": [
      "[[1.1 2.  3. ]\n",
      " [4.  5.1 6. ]\n",
      " [7.  8.  9.1]]\n"
     ]
    }
   ],
   "source": [
    "a = tf.constant([1,2,3,4,5,6,7,8,9.0], shape = [3,3])\n",
    "b = a + 0.1 * tf.eye(3)\n",
    "print(sess.run(b))"
   ]
  },
  {
   "cell_type": "code",
   "execution_count": 19,
   "id": "b218d120",
   "metadata": {},
   "outputs": [
    {
     "name": "stdout",
     "output_type": "stream",
     "text": [
      "[[-0.8548584  3.2717237  2.9626503]\n",
      " [-3.449074   4.0935564 -3.536669 ]]\n",
      "[[ 7.306923  8.679411  9.697923]\n",
      " [ 6.236818 10.635394 12.270224]]\n"
     ]
    }
   ],
   "source": [
    "a = tf.random_uniform([2,3],-5,5)\n",
    "b = tf.random_uniform([2,3], minval = 5, maxval = 15)\n",
    "print(sess.run(a))\n",
    "print(sess.run(b))"
   ]
  },
  {
   "cell_type": "code",
   "execution_count": 21,
   "id": "a83fc6e3",
   "metadata": {},
   "outputs": [
    {
     "name": "stdout",
     "output_type": "stream",
     "text": [
      "[[1 3 1]\n",
      " [6 2 3]]\n"
     ]
    }
   ],
   "source": [
    "a = tf.random_uniform([2,3], 0, 8, dtype=tf.int32)\n",
    "print(sess.run(a))"
   ]
  },
  {
   "cell_type": "code",
   "execution_count": 31,
   "id": "7a62ebd4",
   "metadata": {},
   "outputs": [
    {
     "name": "stdout",
     "output_type": "stream",
     "text": [
      "[[ 0.3765015   2.0697217  -2.600205   -3.6083963  -0.49802437  0.22872405\n",
      "   0.36698902 -1.8083236   1.0470281  -0.34967044]\n",
      " [-2.4852414   0.7842925  -1.9161494  -0.7348371  -1.3879857   4.4252353\n",
      "   2.4790883  -7.221985    2.2760992   0.8233183 ]\n",
      " [ 0.6090821   0.8258571  -0.5214511  -1.4161954  -1.0196713  -0.5362849\n",
      "   0.56405246 -4.418804   -0.781447   -1.1650324 ]\n",
      " [ 1.294114   -4.1653943  -4.5962963  -3.4015362  -3.2028735  -0.6518858\n",
      "   3.6020951  -0.40568766 -1.284609   -1.6226997 ]\n",
      " [ 0.649715    2.0990014  -0.510589    1.5094506  -1.0530962   3.7885828\n",
      "   2.8593493   1.406383    0.21749271  2.6508114 ]]\n",
      "[[ 1.1483283  -3.7354052  -0.91799647  0.96615     2.486978   -0.5590958\n",
      "  -2.6157506   0.23461094 -0.4228196  -0.1820059 ]\n",
      " [ 1.8056837  -0.06957086  2.2246082  -0.85843986 -0.51752555 -2.1011996\n",
      "  -2.6099708   0.7002879  -1.1106268  -1.2241569 ]\n",
      " [-0.8677874  -2.6837249  -2.3411674   1.0238614  -2.662507   -0.93817353\n",
      "  -3.2967377   2.1967812  -1.6365883   3.2621288 ]\n",
      " [-2.3980553  -1.427246    1.9306301   1.7412769  -2.3638513  -0.44584927\n",
      "  -1.5106349   1.2158147  -0.3925402   2.5575662 ]\n",
      " [-1.0446674  -2.1758788  -3.20786     1.3461887   0.42764944 -0.37704492\n",
      "  -2.9632916   0.11838964  0.72541076 -1.4953486 ]]\n"
     ]
    }
   ],
   "source": [
    "a = tf.random_normal([5,10], mean = 0, stddev = 2)\n",
    "b = tf.truncated_normal([5,10], stddev = 2)\n",
    "print(sess.run(a))\n",
    "print(sess.run(b))"
   ]
  },
  {
   "cell_type": "markdown",
   "id": "b9f21e73",
   "metadata": {},
   "source": [
    "#### 형변환"
   ]
  },
  {
   "cell_type": "code",
   "execution_count": 35,
   "id": "4948848b",
   "metadata": {},
   "outputs": [
    {
     "name": "stdout",
     "output_type": "stream",
     "text": [
      "[1 2 3 4 5]\n",
      "[1. 2. 3. 4. 5.]\n"
     ]
    }
   ],
   "source": [
    "a = tf.constant([1,2,3,4,5])\n",
    "b = tf.cast(a, dtype = tf.float32)\n",
    "print(sess.run(a))\n",
    "print(sess.run(b))"
   ]
  },
  {
   "cell_type": "code",
   "execution_count": 38,
   "id": "ae1662ca",
   "metadata": {},
   "outputs": [
    {
     "name": "stdout",
     "output_type": "stream",
     "text": [
      "[1 1 2]\n"
     ]
    }
   ],
   "source": [
    "#소수점 버림\n",
    "x = tf.constant([1.23, 1.98, 2.01])\n",
    "y = tf.cast(x, dtype=tf.int32)\n",
    "print(sess.run(y))"
   ]
  },
  {
   "cell_type": "code",
   "execution_count": 37,
   "id": "f10885a0",
   "metadata": {},
   "outputs": [
    {
     "name": "stdout",
     "output_type": "stream",
     "text": [
      "[1. 2. 2.]\n",
      "[1 2 2]\n"
     ]
    }
   ],
   "source": [
    "x = tf.constant([1.23, 1.98, 2.01])\n",
    "y = tf.round(x)\n",
    "y2 = tf.cast(y, dtype=tf.int32)\n",
    "print(sess.run(y))\n",
    "print(sess.run(y2))"
   ]
  },
  {
   "cell_type": "code",
   "execution_count": 39,
   "id": "68ed6b9b",
   "metadata": {},
   "outputs": [
    {
     "name": "stdout",
     "output_type": "stream",
     "text": [
      "[0 1 1 1 0 0]\n"
     ]
    }
   ],
   "source": [
    "x = tf.constant([1,3,4,6,2,2])\n",
    "y = tf.cast(x > 2, dtype=tf.int32)\n",
    "print(sess.run(y))"
   ]
  },
  {
   "cell_type": "code",
   "execution_count": 40,
   "id": "d08b7f4f",
   "metadata": {},
   "outputs": [
    {
     "name": "stdout",
     "output_type": "stream",
     "text": [
      "6.0\n",
      "6.0\n"
     ]
    }
   ],
   "source": [
    "a = tf.constant(2.0)\n",
    "b = a + tf.convert_to_tensor(4.0)\n",
    "c = a + 4.0\n",
    "print(sess.run(b))\n",
    "print(sess.run(c))"
   ]
  },
  {
   "cell_type": "code",
   "execution_count": 42,
   "id": "f45e43c1",
   "metadata": {},
   "outputs": [
    {
     "name": "stdout",
     "output_type": "stream",
     "text": [
      "[ 7 10 13 16]\n"
     ]
    }
   ],
   "source": [
    "a = tf.convert_to_tensor([1,2,3,4])\n",
    "b = tf.convert_to_tensor( np.array([1,2,3,4]) )\n",
    "c = a + b + [5,6,7,8]\n",
    "print(sess.run(c))"
   ]
  },
  {
   "cell_type": "markdown",
   "id": "f5d4ea70",
   "metadata": {},
   "source": [
    "#### 슬라이싱"
   ]
  },
  {
   "cell_type": "code",
   "execution_count": 50,
   "id": "a9cf4285",
   "metadata": {},
   "outputs": [
    {
     "name": "stdout",
     "output_type": "stream",
     "text": [
      "[[ 1  2  3]\n",
      " [ 4  5  6]\n",
      " [ 7  8  9]\n",
      " [10 11 12]]\n",
      "[[4 5]\n",
      " [7 8]]\n"
     ]
    }
   ],
   "source": [
    "a = tf.constant([[1,2,3], [4,5,6], [7,8,9], [10,11,12]])\n",
    "b = tf.slice(a, [1, 0], [2,2]) #시작값 / 개수(행, 열)\n",
    "print(sess.run(a))\n",
    "print(sess.run(b)) "
   ]
  },
  {
   "cell_type": "code",
   "execution_count": 45,
   "id": "fcd1e777",
   "metadata": {},
   "outputs": [
    {
     "name": "stdout",
     "output_type": "stream",
     "text": [
      "[[7 8 9]]\n"
     ]
    }
   ],
   "source": [
    "k = 2\n",
    "a = tf.constant([[1,2,3], [4,5,6], [7,8,9], [10,11,12]])\n",
    "b = tf.slice(a, [k, 0], [1,-1])\n",
    "print(sess.run(b)) "
   ]
  },
  {
   "cell_type": "code",
   "execution_count": 46,
   "id": "8d09a238",
   "metadata": {},
   "outputs": [
    {
     "name": "stdout",
     "output_type": "stream",
     "text": [
      "[[1 2 3]\n",
      " [4 5 6]]\n"
     ]
    }
   ],
   "source": [
    "k = 0\n",
    "n = 2\n",
    "a = tf.constant([[1,2,3], [4,5,6], [7,8,9], [10,11,12]])\n",
    "b = tf.slice(a, [k, 0], [n,-1])\n",
    "print(sess.run(b)) "
   ]
  },
  {
   "cell_type": "code",
   "execution_count": 47,
   "id": "277f8043",
   "metadata": {},
   "outputs": [
    {
     "name": "stdout",
     "output_type": "stream",
     "text": [
      "[[ 3]\n",
      " [ 6]\n",
      " [ 9]\n",
      " [12]]\n"
     ]
    }
   ],
   "source": [
    "k = 2\n",
    "a = tf.constant([[1,2,3], [4,5,6], [7,8,9], [10,11,12]])\n",
    "b = tf.slice(a, [0, k], [-1,1])\n",
    "print(sess.run(b)) "
   ]
  },
  {
   "cell_type": "code",
   "execution_count": 48,
   "id": "a0c9bb71",
   "metadata": {},
   "outputs": [
    {
     "name": "stdout",
     "output_type": "stream",
     "text": [
      "[[ 2  3]\n",
      " [ 5  6]\n",
      " [ 8  9]\n",
      " [11 12]]\n"
     ]
    }
   ],
   "source": [
    "k = 1\n",
    "n = 2\n",
    "a = tf.constant([[1,2,3], [4,5,6], [7,8,9], [10,11,12]])\n",
    "b = tf.slice(a, [0, k], [-1,n])\n",
    "print(sess.run(b)) "
   ]
  },
  {
   "cell_type": "code",
   "execution_count": 49,
   "id": "616110ef",
   "metadata": {},
   "outputs": [
    {
     "name": "stdout",
     "output_type": "stream",
     "text": [
      "[[1 2 3]\n",
      " [4 5 6]]\n"
     ]
    }
   ],
   "source": [
    "r = 2\n",
    "c = 3\n",
    "a = tf.constant([[1,2,3], [4,5,6], [7,8,9], [10,11,12]])\n",
    "b = tf.slice(a, [0,0],[r, c])\n",
    "print(sess.run(b)) "
   ]
  },
  {
   "cell_type": "code",
   "execution_count": 51,
   "id": "ee24b551",
   "metadata": {},
   "outputs": [
    {
     "name": "stdout",
     "output_type": "stream",
     "text": [
      "[[ 6  7]\n",
      " [10 11]]\n"
     ]
    }
   ],
   "source": [
    "a = tf.constant([1,2,3,4,5,6,7,8,9,10,11,12,13,14,15,16],shape=[4,4])\n",
    "last_r = a.get_shape().as_list()[0]\n",
    "last_c = a.get_shape().as_list()[1]\n",
    "b = tf.slice(a, [1, 1], [last_r-2, last_c-2])\n",
    "print(sess.run(b)) "
   ]
  },
  {
   "cell_type": "code",
   "execution_count": 53,
   "id": "8d262150",
   "metadata": {},
   "outputs": [
    {
     "name": "stdout",
     "output_type": "stream",
     "text": [
      "[[1 2 3]\n",
      " [7 8 9]]\n"
     ]
    }
   ],
   "source": [
    "#행 가져옴\n",
    "a = tf.constant([[1,2,3], [4,5,6], [7,8,9], [10,11,12]])\n",
    "x = tf.gather(a, [0, 2])\n",
    "print(sess.run(x))"
   ]
  },
  {
   "cell_type": "code",
   "execution_count": 56,
   "id": "8bb732bc",
   "metadata": {},
   "outputs": [
    {
     "name": "stdout",
     "output_type": "stream",
     "text": [
      "6\n",
      "[6 9]\n"
     ]
    }
   ],
   "source": [
    "#원소 하나하나\n",
    "b = tf.gather_nd(a, [1, 2])\n",
    "print(sess.run(b)) \n",
    "\n",
    "c = tf.gather_nd(a, [[1, 2], [2,2]])\n",
    "print(sess.run(c)) "
   ]
  },
  {
   "cell_type": "code",
   "execution_count": 57,
   "id": "391ccfd9",
   "metadata": {},
   "outputs": [
    {
     "name": "stdout",
     "output_type": "stream",
     "text": [
      "[[1 2 3]\n",
      " [7 8 9]]\n"
     ]
    }
   ],
   "source": [
    "#행 가져옴\n",
    "b = tf.gather_nd(a, [[0], [2]])\n",
    "print(sess.run(b))"
   ]
  },
  {
   "cell_type": "code",
   "execution_count": 58,
   "id": "2071576e",
   "metadata": {},
   "outputs": [
    {
     "name": "stdout",
     "output_type": "stream",
     "text": [
      "[[ 1  3]\n",
      " [ 4  6]\n",
      " [ 7  9]\n",
      " [10 12]]\n"
     ]
    }
   ],
   "source": [
    "# 열가져옴\n",
    "b = tf.transpose(tf.gather_nd(tf.transpose(a), [[0],[2]]))\n",
    "print(sess.run(b))"
   ]
  },
  {
   "cell_type": "markdown",
   "id": "7d916dc0",
   "metadata": {},
   "source": [
    "#####  텐서 네임"
   ]
  },
  {
   "cell_type": "code",
   "execution_count": 59,
   "id": "6e5ffbb1",
   "metadata": {},
   "outputs": [
    {
     "name": "stdout",
     "output_type": "stream",
     "text": [
      "Tensor(\"Const_37:0\", shape=(4,), dtype=int32)\n",
      "Tensor(\"b_1:0\", shape=(5,), dtype=int32)\n"
     ]
    }
   ],
   "source": [
    "a = tf.constant([1,2,3,4])\n",
    "b = tf.constant([5,6,7,8,9], name='b')\n",
    "print(a)\n",
    "print(b)"
   ]
  },
  {
   "cell_type": "code",
   "execution_count": 60,
   "id": "6a241d98",
   "metadata": {},
   "outputs": [
    {
     "name": "stdout",
     "output_type": "stream",
     "text": [
      "Tensor(\"a:0\", shape=(4,), dtype=int32)\n",
      "Tensor(\"a_1:0\", shape=(5,), dtype=int32)\n"
     ]
    }
   ],
   "source": [
    "a = tf.constant([1,2,3,4], name='a')\n",
    "b = tf.constant([5,6,7,8,9], name='a')\n",
    "print(a)\n",
    "print(b)"
   ]
  },
  {
   "cell_type": "code",
   "execution_count": 61,
   "id": "a84a79e2",
   "metadata": {},
   "outputs": [
    {
     "name": "stdout",
     "output_type": "stream",
     "text": [
      "Tensor(\"add_8:0\", shape=(4,), dtype=int32)\n",
      "Tensor(\"add_9:0\", shape=(4,), dtype=int32)\n"
     ]
    }
   ],
   "source": [
    "a = tf.constant([1,2,3,4], name='a')\n",
    "b = tf.constant([5,6,7,8], name='b')\n",
    "c = a + b\n",
    "d = tf.add(a, b, name='add')\n",
    "print(c)\n",
    "print(d)"
   ]
  },
  {
   "cell_type": "code",
   "execution_count": 63,
   "id": "53d5b7ac",
   "metadata": {},
   "outputs": [
    {
     "name": "stdout",
     "output_type": "stream",
     "text": [
      "Tensor(\"add_12:0\", shape=(4,), dtype=int32)\n",
      "Tensor(\"add_a_b:0\", shape=(4,), dtype=int32)\n"
     ]
    }
   ],
   "source": [
    "a = tf.constant([1,2,3,4], name='a')\n",
    "b = tf.constant([5,6,7,8], name='a')\n",
    "c = a + b\n",
    "d = tf.add(a, b, name='add_a_b')\n",
    "print(c)\n",
    "print(d)"
   ]
  },
  {
   "cell_type": "code",
   "execution_count": 64,
   "id": "d6e34113",
   "metadata": {},
   "outputs": [
    {
     "name": "stdout",
     "output_type": "stream",
     "text": [
      "[ 6  8 10 12]\n"
     ]
    }
   ],
   "source": [
    "a = tf.constant([1,2,3,4], name='a')\n",
    "b = tf.constant([5,6,7,8], name='b')\n",
    "c = tf.add(a, b, name='add_a_b')\n",
    "test = tf.get_default_graph().get_tensor_by_name(\"add_a_b:0\")   \n",
    "print(sess.run(test))"
   ]
  },
  {
   "cell_type": "code",
   "execution_count": 65,
   "id": "a0997819",
   "metadata": {},
   "outputs": [
    {
     "name": "stdout",
     "output_type": "stream",
     "text": [
      "zeros Const\n",
      "ones Const\n",
      "eye/ones Const\n",
      "eye/MatrixDiag MatrixDiag\n",
      "zeros_1 Const\n",
      "ones_1 Const\n",
      "eye_1/ones Const\n",
      "eye_1/MatrixDiag MatrixDiag\n",
      "Const Const\n",
      "Cast Cast\n",
      "Const_1 Const\n",
      "Slice/begin Const\n",
      "Slice/size Const\n",
      "Slice Slice\n",
      "Const_2 Const\n",
      "b Const\n",
      "Const_3 Const\n",
      "Const_4 Const\n",
      "MatMul MatMul\n",
      "Const_5 Const\n",
      "MatrixInverse MatrixInverse\n",
      "Const_6 Const\n",
      "add/y Const\n",
      "add Add\n",
      "Const_7 Const\n",
      "Const_8 Const\n",
      "Sum Sum\n",
      "Const_9 Const\n",
      "Mean Mean\n",
      "Const_10 Const\n",
      "Max Max\n",
      "Const_11 Const\n",
      "Min Min\n",
      "ones_2 Const\n",
      "mul/x Const\n",
      "mul Mul\n",
      "Fill/dims Const\n",
      "Fill/value Const\n",
      "Fill Fill\n",
      "eye_2/ones Const\n",
      "eye_2/MatrixDiag MatrixDiag\n",
      "mul_1/x Const\n",
      "mul_1 Mul\n",
      "Const_12 Const\n",
      "eye_3/ones Const\n",
      "eye_3/MatrixDiag MatrixDiag\n",
      "mul_2/x Const\n",
      "mul_2 Mul\n",
      "add_1 Add\n",
      "random_uniform/shape Const\n",
      "random_uniform/min Const\n",
      "random_uniform/max Const\n",
      "random_uniform/RandomUniform RandomUniform\n",
      "random_uniform/sub Sub\n",
      "random_uniform/mul Mul\n",
      "random_uniform Add\n",
      "random_uniform_1/shape Const\n",
      "random_uniform_1/min Const\n",
      "random_uniform_1/max Const\n",
      "random_uniform_1/RandomUniform RandomUniform\n",
      "random_uniform_1/sub Sub\n",
      "random_uniform_1/mul Mul\n",
      "random_uniform_1 Add\n",
      "random_uniform_2/shape Const\n",
      "random_uniform_2/min Const\n",
      "random_uniform_2/max Const\n",
      "random_uniform_2/RandomUniform RandomUniform\n",
      "random_uniform_2/sub Sub\n",
      "random_uniform_2/mul Mul\n",
      "random_uniform_2 Add\n",
      "random_uniform_3/shape Const\n",
      "random_uniform_3/min Const\n",
      "random_uniform_3/max Const\n",
      "random_uniform_3/RandomUniform RandomUniform\n",
      "random_uniform_3/sub Sub\n",
      "random_uniform_3/mul Mul\n",
      "random_uniform_3 Add\n",
      "random_uniform_4/shape Const\n",
      "random_uniform_4/min Const\n",
      "random_uniform_4/max Const\n",
      "random_uniform_4 RandomUniformInt\n",
      "random_uniform_5/shape Const\n",
      "random_uniform_5/min Const\n",
      "random_uniform_5/max Const\n",
      "random_uniform_5 RandomUniformInt\n",
      "random_uniform_6/shape Const\n",
      "random_uniform_6/min Const\n",
      "random_uniform_6/max Const\n",
      "random_uniform_6 RandomUniformInt\n",
      "random_uniform_7/shape Const\n",
      "random_uniform_7/min Const\n",
      "random_uniform_7/max Const\n",
      "random_uniform_7 RandomUniformInt\n",
      "random_uniform_8/shape Const\n",
      "random_uniform_8/min Const\n",
      "random_uniform_8/max Const\n",
      "random_uniform_8 RandomUniformInt\n",
      "random_uniform_9/shape Const\n",
      "random_uniform_9/min Const\n",
      "random_uniform_9/max Const\n",
      "random_uniform_9 RandomUniformInt\n",
      "random_uniform_10/shape Const\n",
      "random_uniform_10/min Const\n",
      "random_uniform_10/max Const\n",
      "random_uniform_10 RandomUniformInt\n",
      "random_uniform_11/shape Const\n",
      "random_uniform_11/min Const\n",
      "random_uniform_11/max Const\n",
      "random_uniform_11 RandomUniformInt\n",
      "random_uniform_12/shape Const\n",
      "random_uniform_12/min Const\n",
      "random_uniform_12/max Const\n",
      "random_uniform_12 RandomUniformInt\n",
      "random_uniform_13/shape Const\n",
      "random_uniform_13/min Const\n",
      "random_uniform_13/max Const\n",
      "random_uniform_13 RandomUniformInt\n",
      "random_uniform_14/shape Const\n",
      "random_uniform_14/min Const\n",
      "random_uniform_14/max Const\n",
      "random_uniform_14 RandomUniformInt\n",
      "random_uniform_15/shape Const\n",
      "random_uniform_15/min Const\n",
      "random_uniform_15/max Const\n",
      "random_uniform_15 RandomUniformInt\n",
      "random_uniform_16/shape Const\n",
      "random_uniform_16/min Const\n",
      "random_uniform_16/max Const\n",
      "random_uniform_16 RandomUniformInt\n",
      "random_uniform_17/shape Const\n",
      "random_uniform_17/min Const\n",
      "random_uniform_17/max Const\n",
      "random_uniform_17 RandomUniformInt\n",
      "random_uniform_18/shape Const\n",
      "random_uniform_18/min Const\n",
      "random_uniform_18/max Const\n",
      "random_uniform_18 RandomUniformInt\n",
      "random_uniform_19/shape Const\n",
      "random_uniform_19/min Const\n",
      "random_uniform_19/max Const\n",
      "random_uniform_19 RandomUniformInt\n",
      "random_uniform_20/shape Const\n",
      "random_uniform_20/min Const\n",
      "random_uniform_20/max Const\n",
      "random_uniform_20 RandomUniformInt\n",
      "random_uniform_21/shape Const\n",
      "random_uniform_21/min Const\n",
      "random_uniform_21/max Const\n",
      "random_uniform_21 RandomUniformInt\n",
      "random_uniform_22/shape Const\n",
      "random_uniform_22/min Const\n",
      "random_uniform_22/max Const\n",
      "random_uniform_22 RandomUniformInt\n",
      "random_uniform_23/shape Const\n",
      "random_uniform_23/min Const\n",
      "random_uniform_23/max Const\n",
      "random_uniform_23 RandomUniformInt\n",
      "random_uniform_24/shape Const\n",
      "random_uniform_24/min Const\n",
      "random_uniform_24/max Const\n",
      "random_uniform_24 RandomUniformInt\n",
      "random_uniform_25/shape Const\n",
      "random_uniform_25/min Const\n",
      "random_uniform_25/max Const\n",
      "random_uniform_25 RandomUniformInt\n",
      "random_uniform_26/shape Const\n",
      "random_uniform_26/min Const\n",
      "random_uniform_26/max Const\n",
      "random_uniform_26 RandomUniformInt\n",
      "random_uniform_27/shape Const\n",
      "random_uniform_27/min Const\n",
      "random_uniform_27/max Const\n",
      "random_uniform_27 RandomUniformInt\n",
      "random_uniform_28/shape Const\n",
      "random_uniform_28/min Const\n",
      "random_uniform_28/max Const\n",
      "random_uniform_28 RandomUniformInt\n",
      "random_uniform_29/shape Const\n",
      "random_uniform_29/min Const\n",
      "random_uniform_29/max Const\n",
      "random_uniform_29 RandomUniformInt\n",
      "random_uniform_30/shape Const\n",
      "random_uniform_30/min Const\n",
      "random_uniform_30/max Const\n",
      "random_uniform_30 RandomUniformInt\n",
      "random_normal/shape Const\n",
      "random_normal/mean Const\n",
      "random_normal/stddev Const\n",
      "random_normal/RandomStandardNormal RandomStandardNormal\n",
      "random_normal/mul Mul\n",
      "random_normal Add\n",
      "truncated_normal/shape Const\n",
      "truncated_normal/mean Const\n",
      "truncated_normal/stddev Const\n",
      "truncated_normal/TruncatedNormal TruncatedNormal\n",
      "truncated_normal/mul Mul\n",
      "truncated_normal Add\n",
      "Const_13 Const\n",
      "Cast_1 Cast\n",
      "Const_14 Const\n",
      "Cast_2 Cast\n",
      "Const_15 Const\n",
      "Cast_3 Cast\n",
      "Const_16 Const\n",
      "Cast_4 Cast\n",
      "Const_17 Const\n",
      "Round Round\n",
      "Cast_5 Cast\n",
      "Const_18 Const\n",
      "Cast_6 Cast\n",
      "Const_19 Const\n",
      "Greater/y Const\n",
      "Greater Greater\n",
      "Cast_7 Cast\n",
      "Const_20 Const\n",
      "Const_21 Const\n",
      "add_2 Add\n",
      "add_3/y Const\n",
      "add_3 Add\n",
      "Const_22 Const\n",
      "Const_23 Const\n",
      "add_4 Add\n",
      "add_5/y Const\n",
      "add_5 Add\n",
      "Const_24 Const\n",
      "Const_25 Const\n",
      "add_6 Add\n",
      "add_7/y Const\n",
      "add_7 Add\n",
      "Const_26 Const\n",
      "Slice_1/begin Const\n",
      "Slice_1/size Const\n",
      "Slice_1 Slice\n",
      "Const_27 Const\n",
      "Slice_2/begin Const\n",
      "Slice_2/size Const\n",
      "Slice_2 Slice\n",
      "Const_28 Const\n",
      "Slice_3/begin Const\n",
      "Slice_3/size Const\n",
      "Slice_3 Slice\n",
      "Const_29 Const\n",
      "Slice_4/begin Const\n",
      "Slice_4/size Const\n",
      "Slice_4 Slice\n",
      "Const_30 Const\n",
      "Slice_5/begin Const\n",
      "Slice_5/size Const\n",
      "Slice_5 Slice\n",
      "Const_31 Const\n",
      "Slice_6/begin Const\n",
      "Slice_6/size Const\n",
      "Slice_6 Slice\n",
      "Const_32 Const\n",
      "Slice_7/begin Const\n",
      "Slice_7/size Const\n",
      "Slice_7 Slice\n",
      "Const_33 Const\n",
      "Slice_8/begin Const\n",
      "Slice_8/size Const\n",
      "Slice_8 Slice\n",
      "Const_34 Const\n",
      "Slice_9/begin Const\n",
      "Slice_9/size Const\n",
      "Slice_9 Slice\n",
      "Const_35 Const\n",
      "GatherV2/indices Const\n",
      "GatherV2/axis Const\n",
      "GatherV2 GatherV2\n",
      "Const_36 Const\n",
      "GatherV2_1/indices Const\n",
      "GatherV2_1/axis Const\n",
      "GatherV2_1 GatherV2\n",
      "GatherNd/indices Const\n",
      "GatherNd GatherNd\n",
      "GatherNd_1/indices Const\n",
      "GatherNd_1 GatherNd\n",
      "GatherNd_2/indices Const\n",
      "GatherNd_2 GatherNd\n",
      "GatherNd_3/indices Const\n",
      "GatherNd_3 GatherNd\n",
      "GatherNd_4/indices Const\n",
      "GatherNd_4 GatherNd\n",
      "transpose/perm Const\n",
      "transpose Transpose\n",
      "GatherNd_5/indices Const\n",
      "GatherNd_5 GatherNd\n",
      "transpose_1/perm Const\n",
      "transpose_1 Transpose\n",
      "Const_37 Const\n",
      "b_1 Const\n",
      "a Const\n",
      "a_1 Const\n",
      "a_2 Const\n",
      "b_2 Const\n",
      "add_8 Add\n",
      "add_9 Add\n",
      "a_3 Const\n",
      "b_3 Const\n",
      "add_10 Add\n",
      "add_11 Add\n",
      "a_4 Const\n",
      "a_5 Const\n",
      "add_12 Add\n",
      "add_a_b Add\n",
      "a_6 Const\n",
      "b_4 Const\n",
      "add_a_b_1 Add\n"
     ]
    }
   ],
   "source": [
    "for n in tf.get_default_graph().as_graph_def().node :\n",
    "   print(n.name, n.op)"
   ]
  },
  {
   "cell_type": "markdown",
   "id": "a2af4347",
   "metadata": {},
   "source": [
    "####  행렬곱"
   ]
  },
  {
   "cell_type": "code",
   "execution_count": 67,
   "id": "9312f230",
   "metadata": {},
   "outputs": [
    {
     "name": "stdout",
     "output_type": "stream",
     "text": [
      "[[ 9 12]\n",
      " [24 33]]\n",
      "[[ 1  4]\n",
      " [16 25]]\n"
     ]
    }
   ],
   "source": [
    "x = tf.constant([[1,2],[4,5]])\n",
    "y = tf.constant([[1,2],[4,5]])\n",
    "z = tf.matmul(x, y) # 행렬곱\n",
    "z2 = x * y #원소곱\n",
    "print(sess.run(z))\n",
    "print(sess.run(z2))"
   ]
  },
  {
   "cell_type": "code",
   "execution_count": 68,
   "id": "53b0e3d4",
   "metadata": {},
   "outputs": [
    {
     "name": "stdout",
     "output_type": "stream",
     "text": [
      "(1, 3)\n",
      "(3, 1)\n",
      "(1, 1)\n",
      "[[44]]\n"
     ]
    }
   ],
   "source": [
    "a = tf.constant([[1,2,3]])\n",
    "b = tf.constant([[6],[7],[8]]) \n",
    "c = tf.matmul(a, b)\n",
    "d = sess.run(c)\n",
    "\n",
    "print(a.shape)\n",
    "print(b.shape)\n",
    "print(c.shape)\n",
    "print(d)"
   ]
  },
  {
   "cell_type": "code",
   "execution_count": 70,
   "id": "fbbcda83",
   "metadata": {},
   "outputs": [
    {
     "name": "stdout",
     "output_type": "stream",
     "text": [
      "[[ 1.  3.  5.  7.  9.]\n",
      " [ 2.  4.  6.  8. 10.]]\n"
     ]
    }
   ],
   "source": [
    "a = tf.constant([[1.0,2], [3,4]])\n",
    "b = tf.placeholder(dtype = tf.float32, shape=(2, None))\n",
    "b_data = np.array([ [1,2], [3,4], [5,6], [7,8], [9,10.0]])\n",
    "b_data = b_data.transpose()\n",
    "print(b_data)"
   ]
  },
  {
   "cell_type": "code",
   "execution_count": 71,
   "id": "9d948095",
   "metadata": {},
   "outputs": [
    {
     "name": "stdout",
     "output_type": "stream",
     "text": [
      "[[1. 2.]\n",
      " [3. 4.]]\n",
      "[[ 1.  3.  5.  7.  9.]\n",
      " [ 2.  4.  6.  8. 10.]]\n",
      "[[ 5. 11. 17. 23. 29.]\n",
      " [11. 25. 39. 53. 67.]]\n"
     ]
    }
   ],
   "source": [
    "c = tf.matmul(a, b)\n",
    "d = sess.run([a, b, c],  feed_dict={b:b_data })\n",
    "print(d[0])\n",
    "print(d[1])\n",
    "print(d[2])"
   ]
  },
  {
   "cell_type": "code",
   "execution_count": 72,
   "id": "c82486c5",
   "metadata": {},
   "outputs": [
    {
     "name": "stdout",
     "output_type": "stream",
     "text": [
      "Tensor(\"Const_46:0\", shape=(2, 2), dtype=float32)\n",
      "Tensor(\"Placeholder_2:0\", shape=(2, ?), dtype=float32)\n",
      "[[1. 2.]\n",
      " [3. 4.]]\n",
      "[[ 1.  3.  5.  7.  9.]\n",
      " [ 2.  4.  6.  8. 10.]]\n",
      "[[ 5. 11. 17. 23. 29.]\n",
      " [11. 25. 39. 53. 67.]]\n"
     ]
    }
   ],
   "source": [
    "a = tf.constant([[1.0,2], [3,4]])\n",
    "b = tf.placeholder(dtype = tf.float32, shape=(2, None))\n",
    "b_data = np.array([ [1,2], [3,4], [5,6], [7,8], [9,10]])\n",
    "\n",
    "print(a)\n",
    "print(b)\n",
    "c = tf.matmul(a, b)\n",
    "d = sess.run([a, b, c],  feed_dict={b:b_data.T })\n",
    "print(d[0])\n",
    "print(d[1])\n",
    "print(d[2])"
   ]
  },
  {
   "cell_type": "code",
   "execution_count": null,
   "id": "7fc2b0d8",
   "metadata": {},
   "outputs": [],
   "source": [
    "a = tf.constant([[1.0,2], [3,4]])\n",
    "b = tf.placeholder(dtype = tf.float32, shape=(2, None))\n",
    "b_data = np.array([ [1,2], [3,4], [5,6], [7,8], [9,10]])\n",
    "\n",
    "print(a)\n",
    "print(b)\n",
    "c = tf.matmul(a, b)\n",
    "d = sess.run([a, b, c],  feed_dict={b:b_data.T })\n",
    "print(d[0])\n",
    "print(d[1])\n",
    "print(d[2])"
   ]
  },
  {
   "cell_type": "code",
   "execution_count": 73,
   "id": "eafbbe76",
   "metadata": {},
   "outputs": [
    {
     "name": "stdout",
     "output_type": "stream",
     "text": [
      "[[1 2 3]\n",
      " [4 5 6]]\n",
      "[[ 6  7]\n",
      " [ 8  9]\n",
      " [10 11]]\n",
      "[[ 52  58]\n",
      " [124 139]]\n"
     ]
    }
   ],
   "source": [
    "a = tf.constant([1,2,3,4,5,6], shape=(2,3))\n",
    "b = tf.constant([6,7,8,9,10,11], shape=(3,2))\n",
    "d = tf.matmul(a, b)\n",
    "result = sess.run([a, b, d])\n",
    "\n",
    "print(result[0])\n",
    "print(result[1])\n",
    "print(result[2])"
   ]
  },
  {
   "cell_type": "code",
   "execution_count": 74,
   "id": "a94a80be",
   "metadata": {},
   "outputs": [
    {
     "name": "stdout",
     "output_type": "stream",
     "text": [
      "(1, 2)\n",
      "<unknown>\n"
     ]
    }
   ],
   "source": [
    "a = tf.constant([[1.0, 2]])\n",
    "b = tf.placeholder(tf.float32)\n",
    "print(a.shape)\n",
    "print(b.shape)"
   ]
  },
  {
   "cell_type": "code",
   "execution_count": 75,
   "id": "b0a5aa68",
   "metadata": {},
   "outputs": [
    {
     "name": "stdout",
     "output_type": "stream",
     "text": [
      "<unknown>\n"
     ]
    }
   ],
   "source": [
    "c = tf.matmul(a, b)\n",
    "print(c.shape)"
   ]
  },
  {
   "cell_type": "code",
   "execution_count": 76,
   "id": "27e87f0c",
   "metadata": {},
   "outputs": [
    {
     "name": "stdout",
     "output_type": "stream",
     "text": [
      "(1, 2)\n",
      "<unknown>\n",
      "<unknown>\n",
      "[[5.]]\n"
     ]
    }
   ],
   "source": [
    "d = sess.run(c, feed_dict={b:[[1],[2]]})\n",
    "print(a.shape)\n",
    "print(b.shape) \n",
    "print(c.shape)\n",
    "print(d)"
   ]
  },
  {
   "cell_type": "code",
   "execution_count": 77,
   "id": "c4a7cc08",
   "metadata": {},
   "outputs": [
    {
     "name": "stdout",
     "output_type": "stream",
     "text": [
      "[[ 5.  8. 11. 14.]]\n"
     ]
    }
   ],
   "source": [
    "d = sess.run(c, feed_dict={b:[[1,2,3,4],[2,3,4,5]]})\n",
    "print(d)"
   ]
  },
  {
   "cell_type": "code",
   "execution_count": 79,
   "id": "41b10981",
   "metadata": {},
   "outputs": [
    {
     "name": "stdout",
     "output_type": "stream",
     "text": [
      "[[1. 2.]\n",
      " [7. 8.]]\n",
      "[[-1.3333335   0.33333337]\n",
      " [ 1.1666667  -0.16666669]]\n"
     ]
    }
   ],
   "source": [
    "a = tf.constant([[1.0, 2],\n",
    "                 [7, 8]])\n",
    "b = tf.linalg.inv(a) #역행렬\n",
    "print(sess.run(a))\n",
    "print(sess.run(b))"
   ]
  },
  {
   "cell_type": "code",
   "execution_count": 80,
   "id": "219c7f91",
   "metadata": {},
   "outputs": [
    {
     "name": "stdout",
     "output_type": "stream",
     "text": [
      "[[ 1.9735067  -0.3887062  -0.2649516 ]\n",
      " [-0.4915595   0.20271158  0.08441013]]\n"
     ]
    }
   ],
   "source": [
    "A = tf.constant([[1,2], [2.3, 9.2], [0.3, 1.4]])\n",
    "At = tf.transpose(A)  \n",
    "tmp = tf.linalg.inv(tf.matmul(At, A))\n",
    "pinv = tf.matmul(tmp, At)\n",
    "\n",
    "print(sess.run(pinv))"
   ]
  },
  {
   "cell_type": "code",
   "execution_count": 82,
   "id": "b8162764",
   "metadata": {},
   "outputs": [
    {
     "name": "stdout",
     "output_type": "stream",
     "text": [
      "[[ 1.9735067  -0.3887062  -0.2649516 ]\n",
      " [-0.4915595   0.20271158  0.08441013]]\n"
     ]
    }
   ],
   "source": [
    "def pinv(A) :\n",
    "    At = tf.transpose(A)\n",
    "    tmp = tf.linalg.inv(tf.matmul(At, A))\n",
    "    return tf.matmul(tmp, At)\n",
    "\n",
    "\n",
    "A = tf.constant([[1,2], [2.3, 9.2], [0.3, 1.4]])\n",
    "print(sess.run( pinv(A) ))"
   ]
  },
  {
   "cell_type": "code",
   "execution_count": 83,
   "id": "63d4a409",
   "metadata": {},
   "outputs": [
    {
     "name": "stdout",
     "output_type": "stream",
     "text": [
      "[[ 1.9734986  -0.38870335 -0.2649505 ]\n",
      " [-0.49155742  0.2027111   0.0844098 ]]\n"
     ]
    }
   ],
   "source": [
    "A = tf.constant([1,2,3,4,5,6,7,8], shape=(4,3))\n",
    "\n",
    "#   pinv2(A)  =  (A'A+cI)-1A'\n",
    "def pinv2(A, c) :\n",
    "    At = tf.transpose(A)\n",
    "    rc = A.shape.as_list()\n",
    "    tmp = tf.linalg.inv(tf.matmul(At, A) + c*tf.eye(rc[1]))\n",
    "    return tf.matmul(tmp, At)\n",
    "\n",
    "\n",
    "a = tf.constant([[1,2], [2.3, 9.2], [0.3, 1.4]])\n",
    "b = pinv2(a, c = 0.000001)\n",
    "print(sess.run(b))"
   ]
  },
  {
   "cell_type": "code",
   "execution_count": 84,
   "id": "5d7d359a",
   "metadata": {},
   "outputs": [
    {
     "name": "stdout",
     "output_type": "stream",
     "text": [
      "[[ 4.  0.  0.]\n",
      " [ 0.  2.  0.]\n",
      " [ 0.  0. 10.]]\n",
      "[ 4.  2. 10.]\n",
      "[[0.25 0.   0.  ]\n",
      " [0.   0.5  0.  ]\n",
      " [0.   0.   0.1 ]]\n"
     ]
    }
   ],
   "source": [
    "a = tf.constant([[4.0, 0, 0],\n",
    "              [0, 2, 0],\n",
    "              [0, 0, 10]])\n",
    "print(sess.run(a))\n",
    "print(sess.run(tf.diag_part(a) ))\n",
    "\n",
    "\n",
    "b = 1 / tf.diag_part(a)\n",
    "c = tf.eye( a.shape.as_list()[0]  ) *  b\n",
    "print(sess.run(c))"
   ]
  },
  {
   "cell_type": "markdown",
   "id": "2fb3527a",
   "metadata": {},
   "source": [
    "#### 브로드캐스팅"
   ]
  },
  {
   "cell_type": "code",
   "execution_count": 3,
   "id": "34db75b9",
   "metadata": {},
   "outputs": [
    {
     "name": "stdout",
     "output_type": "stream",
     "text": [
      "[ 5  6  7  8  9 10]\n",
      "[ 5  6  7  8  9 10]\n"
     ]
    }
   ],
   "source": [
    "a = tf.constant([1, 2, 3, 4, 5, 6])\n",
    "b = tf.constant(4)\n",
    "b2 =  tf.constant([4])\n",
    "c = a + b\n",
    "c2 = a + b2\n",
    "print(sess.run(c))\n",
    "print(sess.run(c2))"
   ]
  },
  {
   "cell_type": "code",
   "execution_count": 4,
   "id": "2909ff48",
   "metadata": {},
   "outputs": [
    {
     "name": "stdout",
     "output_type": "stream",
     "text": [
      "[ 2  4  6  8 10 12]\n"
     ]
    }
   ],
   "source": [
    "a = tf.constant([1, 2, 3, 4, 5, 6])\n",
    "b = a * 2\n",
    "print(sess.run(b))"
   ]
  },
  {
   "cell_type": "code",
   "execution_count": 5,
   "id": "1b817eb1",
   "metadata": {},
   "outputs": [
    {
     "name": "stdout",
     "output_type": "stream",
     "text": [
      "[1 2 3 4 5 6]\n",
      "[ 5  7  9 11 13 15]\n"
     ]
    }
   ],
   "source": [
    "a = tf.constant([1, 2, 3, 4, 5, 6])\n",
    "b = a * 2 + 3\n",
    "out1, out2 = sess.run([a, b])\n",
    "print(out1)\n",
    "print(out2)"
   ]
  },
  {
   "cell_type": "code",
   "execution_count": 6,
   "id": "80a1938e",
   "metadata": {},
   "outputs": [
    {
     "name": "stdout",
     "output_type": "stream",
     "text": [
      "[25.555555 25.       24.444445 23.88889 ]\n"
     ]
    }
   ],
   "source": [
    "a = tf.constant([78.0, 77.00,76,75.0])\n",
    "b = (a - 32.0)  / 1.8  \n",
    "print(sess.run(b))"
   ]
  },
  {
   "cell_type": "code",
   "execution_count": 7,
   "id": "99cb3a6c",
   "metadata": {},
   "outputs": [
    {
     "name": "stdout",
     "output_type": "stream",
     "text": [
      "[ 0.  1.  2.  3.  4.  5.  6.  7.  8.  9. 10. 11. 12. 13. 14. 15. 16. 17.\n",
      " 18. 19. 20. 21. 22. 23. 24. 25. 26. 27. 28. 29. 30.]\n",
      "[32.       33.8      35.6      37.4      39.2      41.       42.8\n",
      " 44.6      46.4      48.199997 50.       51.8      53.6      55.4\n",
      " 57.199997 59.       60.8      62.6      64.399994 66.2      68.\n",
      " 69.8      71.6      73.399994 75.2      77.       78.8      80.6\n",
      " 82.399994 84.2      86.      ]\n"
     ]
    }
   ],
   "source": [
    "a = tf.range(0, 31,dtype=tf.float32) \n",
    "\n",
    "b = a * 1.8 + 32.0\n",
    "\n",
    "out1, out2 = sess.run([a, b])\n",
    "print(out1)\n",
    "print(out2)"
   ]
  },
  {
   "cell_type": "code",
   "execution_count": 8,
   "id": "03f033ce",
   "metadata": {},
   "outputs": [
    {
     "name": "stdout",
     "output_type": "stream",
     "text": [
      "[120 460]\n",
      "[120. 460.]\n"
     ]
    }
   ],
   "source": [
    "a = tf.constant([121.5732, 458.4221])\n",
    "b =  (a +5)/ 10.0\n",
    "b2 = tf.cast(b, dtype=tf.int64) * 10\n",
    "b3 = tf.cast(b2, dtype=tf.float32)\n",
    "print(  sess.run(b2))\n",
    "print(  sess.run(b3))"
   ]
  },
  {
   "cell_type": "code",
   "execution_count": 9,
   "id": "1ca06dd4",
   "metadata": {},
   "outputs": [
    {
     "name": "stdout",
     "output_type": "stream",
     "text": [
      "[31.5732  8.4221]\n",
      "[31.6  8.4]\n"
     ]
    }
   ],
   "source": [
    "a = tf.constant([31.5732, 8.4221])\n",
    "b =  tf.cast((a + 0.05)* 10, dtype=tf.int32) \n",
    "b2 = tf.cast(b, dtype=tf.float32) / 10\n",
    "print(sess.run(a))\n",
    "print(sess.run(b2))"
   ]
  },
  {
   "cell_type": "code",
   "execution_count": 10,
   "id": "a2fa5155",
   "metadata": {},
   "outputs": [
    {
     "name": "stdout",
     "output_type": "stream",
     "text": [
      "[11.7 16.2 20.7 25.2 29.7]\n"
     ]
    }
   ],
   "source": [
    "x = tf.constant([1.0,2,3,4,5])\n",
    "w = 4.5\n",
    "b = 7.2\n",
    "y = w*x + b\n",
    "\n",
    "print(sess.run(y))"
   ]
  },
  {
   "cell_type": "code",
   "execution_count": 11,
   "id": "5edec895",
   "metadata": {},
   "outputs": [
    {
     "name": "stdout",
     "output_type": "stream",
     "text": [
      "[-3. -2. -1.  0.  1.  2.  3.]\n",
      "[-5.9 -3.9 -1.9  0.1  2.1  4.1  6.1]\n"
     ]
    }
   ],
   "source": [
    "start = -3\n",
    "limit = 3\n",
    "delta = 1\n",
    "x = tf.range(start, limit+1, delta, dtype=tf.float32) \n",
    "print(sess.run(x))\n",
    "print(sess.run(2 * x + 0.1))"
   ]
  },
  {
   "cell_type": "code",
   "execution_count": 12,
   "id": "09cb55c1",
   "metadata": {},
   "outputs": [
    {
     "name": "stdout",
     "output_type": "stream",
     "text": [
      "[[1 2 3]\n",
      " [4 5 6]]\n",
      "[[ 5  6  7]\n",
      " [ 8  9 10]]\n"
     ]
    }
   ],
   "source": [
    "a = tf.constant([[1, 2, 3], [4, 5, 6]])\n",
    "b = a + 4\n",
    "print(sess.run(a))\n",
    "print(sess.run(b))"
   ]
  },
  {
   "cell_type": "code",
   "execution_count": 13,
   "id": "d97e98be",
   "metadata": {},
   "outputs": [
    {
     "name": "stdout",
     "output_type": "stream",
     "text": [
      "[[-1 -2 -3]\n",
      " [-4 -5 -6]]\n"
     ]
    }
   ],
   "source": [
    "a = tf.constant([[1, 2, 3], [4, 5, 6]])\n",
    "b = a * -1\n",
    "\n",
    "print(sess.run(b))"
   ]
  },
  {
   "cell_type": "code",
   "execution_count": 14,
   "id": "f9754f0c",
   "metadata": {},
   "outputs": [
    {
     "name": "stdout",
     "output_type": "stream",
     "text": [
      "[[1 2 3]\n",
      " [1 2 3]\n",
      " [1 2 3]]\n"
     ]
    }
   ],
   "source": [
    "a = tf.constant([ [1,1,1], [1,1,1], [1,1,1] ])         \n",
    "b = tf.constant([0,1,2])  \n",
    "print( sess.run(a + b) )"
   ]
  },
  {
   "cell_type": "code",
   "execution_count": 15,
   "id": "a06901a5",
   "metadata": {},
   "outputs": [
    {
     "name": "stdout",
     "output_type": "stream",
     "text": [
      "[[2 4 6]\n",
      " [5 7 9]]\n"
     ]
    }
   ],
   "source": [
    "a = tf.constant([ [1,2,3], [4,5,6] ])         \n",
    "b = tf.constant([1,2,3])  \n",
    "print( sess.run(a + b) )"
   ]
  },
  {
   "cell_type": "code",
   "execution_count": 16,
   "id": "578dbf91",
   "metadata": {},
   "outputs": [
    {
     "name": "stdout",
     "output_type": "stream",
     "text": [
      "[[ 1.5        2.8        5.3      ]\n",
      " [ 2.1        3.8000002  7.9      ]\n",
      " [ 2.7        4.8       10.5      ]\n",
      " [ 3.3        5.8       13.1      ]]\n"
     ]
    }
   ],
   "source": [
    "x = tf.constant([ [1.0,2], [3 ,4], [5,6], [7,8] ]) \n",
    "w = tf.constant([ [0.1,0.2, 0.3], [0.2,0.3, 1]])\n",
    "b = tf.constant([1.0,2,3])\n",
    "print(sess.run(tf.matmul(x, w) + b))"
   ]
  },
  {
   "cell_type": "code",
   "execution_count": 17,
   "id": "16d11436",
   "metadata": {},
   "outputs": [
    {
     "name": "stdout",
     "output_type": "stream",
     "text": [
      "[[ 1.5        2.8        5.3      ]\n",
      " [ 2.1        3.8000002  7.9      ]\n",
      " [ 2.7        4.8       10.5      ]\n",
      " [ 3.3        5.8       13.1      ]]\n"
     ]
    }
   ],
   "source": [
    "x = tf.constant([ [1.0,2], [3 ,4], [5,6], [7,8] ]) \n",
    "w = tf.constant([ [0.1,0.2, 0.3], [0.2,0.3, 1]])\n",
    "b = tf.constant([1.0,2,3])\n",
    "print(sess.run(tf.matmul(x, w) + b))"
   ]
  },
  {
   "cell_type": "code",
   "execution_count": 20,
   "id": "046013ef",
   "metadata": {},
   "outputs": [
    {
     "name": "stdout",
     "output_type": "stream",
     "text": [
      "[ 6 12 18]\n"
     ]
    }
   ],
   "source": [
    "a = tf.constant([1,2,3])\n",
    "b = tf.constant([6])\n",
    "c = a* b\n",
    "print(sess.run(c))   "
   ]
  },
  {
   "cell_type": "code",
   "execution_count": 21,
   "id": "bd8aa547",
   "metadata": {},
   "outputs": [
    {
     "name": "stdout",
     "output_type": "stream",
     "text": [
      "[[ 6 12 18]]\n"
     ]
    }
   ],
   "source": [
    "a = tf.constant([1,2,3])\n",
    "b = tf.constant([[6]])\n",
    "c = a* b\n",
    "print(sess.run(c))"
   ]
  },
  {
   "cell_type": "code",
   "execution_count": 22,
   "id": "ff427004",
   "metadata": {},
   "outputs": [
    {
     "name": "stdout",
     "output_type": "stream",
     "text": [
      "[[ 6]\n",
      " [12]\n",
      " [18]]\n"
     ]
    }
   ],
   "source": [
    "a = tf.constant([[1],[2],[3]])\n",
    "b = tf.constant([6])\n",
    "c = a * b\n",
    "print(sess.run(c))"
   ]
  },
  {
   "cell_type": "markdown",
   "id": "9609fcae",
   "metadata": {},
   "source": [
    "브로드캐스팅은 rank가 큰 것으로 변경"
   ]
  },
  {
   "cell_type": "code",
   "execution_count": 23,
   "id": "3cebef13",
   "metadata": {},
   "outputs": [
    {
     "name": "stdout",
     "output_type": "stream",
     "text": [
      "[[ 2.  4.  6.  8.]\n",
      " [ 6.  8. 10. 12.]]\n"
     ]
    }
   ],
   "source": [
    "a = tf.constant([1,2,3,4,5,6,7,8.0], shape=(2, 4))\n",
    "b = tf.constant([1,2,3,4.0])\n",
    "#b = tf.constant([[1,2,3,4.0]])    # ok\n",
    "#b = tf.constant([[1],[2],[3],[4.0]])   #error\n",
    "print( sess.run(a + b))"
   ]
  },
  {
   "cell_type": "code",
   "execution_count": 24,
   "id": "b8d3133e",
   "metadata": {},
   "outputs": [
    {
     "name": "stdout",
     "output_type": "stream",
     "text": [
      "WARNING:tensorflow:From C:\\Users\\admin\\AppData\\Local\\Temp\\ipykernel_20512\\4029454601.py:2: The name tf.placeholder is deprecated. Please use tf.compat.v1.placeholder instead.\n",
      "\n",
      "WARNING:tensorflow:From C:\\Users\\admin\\AppData\\Local\\Temp\\ipykernel_20512\\4029454601.py:6: The name tf.global_variables_initializer is deprecated. Please use tf.compat.v1.global_variables_initializer instead.\n",
      "\n",
      "[[ 9.]\n",
      " [17.]\n",
      " [25.]\n",
      " [33.]\n",
      " [41.]]\n"
     ]
    }
   ],
   "source": [
    "x_data = [[1.0,2], [3,4], [5,6], [7,8], [9,10] ]  \n",
    "x = tf.placeholder(tf.float32, shape=(None,2))\n",
    "w = tf.Variable([[1.0], [3]])  # w는 2 bx 1로 정의되야 함\n",
    "b = tf.Variable(2.0)\n",
    "y = tf.matmul(x, w) + b\n",
    "init = tf.global_variables_initializer()\n",
    "sess.run(init)\n",
    "print(sess.run(y, feed_dict={x: x_data }))"
   ]
  },
  {
   "cell_type": "code",
   "execution_count": 25,
   "id": "c4789636",
   "metadata": {},
   "outputs": [
    {
     "name": "stdout",
     "output_type": "stream",
     "text": [
      "[[ 14.  18.  22.  26.  30.]\n",
      " [ 28.  36.  44.  52.  60.]\n",
      " [ 42.  54.  66.  78.  90.]\n",
      " [ 56.  72.  88. 104. 120.]\n",
      " [ 70.  90. 110. 130. 150.]]\n"
     ]
    }
   ],
   "source": [
    "x_data = [[1.0,2], [3,4], [5,6], [7,8], [9,10] ]  \n",
    "x = tf.placeholder(tf.float32, shape=(None,2))\n",
    "w = tf.Variable([[1.0, 2.0, 3, 4, 5.0], [6, 7,8,9,10]])  \n",
    "b = tf.Variable([1.0, 2.0, 3.0, 4.0, 5.0])   \n",
    "y = tf.matmul(x, w) + b\n",
    "init = tf.global_variables_initializer()\n",
    "sess.run(init)\n",
    "print(sess.run(y, feed_dict={x: x_data }))"
   ]
  },
  {
   "cell_type": "markdown",
   "id": "a29921fe",
   "metadata": {},
   "source": [
    "#### reduce 함수"
   ]
  },
  {
   "cell_type": "code",
   "execution_count": 26,
   "id": "e8293ac5",
   "metadata": {},
   "outputs": [
    {
     "name": "stdout",
     "output_type": "stream",
     "text": [
      "55.0\n",
      "5.5\n",
      "10.0\n",
      "1.0\n"
     ]
    }
   ],
   "source": [
    "a = tf.constant([1.0 ,2,3,4,5,6,7,8,9,10])\n",
    "print(sess.run(tf.reduce_sum(a)))\n",
    "print(sess.run(tf.reduce_mean(a)))\n",
    "print(sess.run(tf.reduce_max(a)))\n",
    "print(sess.run(tf.reduce_min(a)))"
   ]
  },
  {
   "cell_type": "code",
   "execution_count": 27,
   "id": "d25282b3",
   "metadata": {},
   "outputs": [
    {
     "name": "stdout",
     "output_type": "stream",
     "text": [
      "8.0\n"
     ]
    }
   ],
   "source": [
    "a = tf.constant([[1.0 ,2,3,4], [5,6,7,8]])\n",
    "c = tf.reduce_max(a)\n",
    "print(sess.run(c))"
   ]
  },
  {
   "cell_type": "code",
   "execution_count": 29,
   "id": "6b6fd8ec",
   "metadata": {},
   "outputs": [
    {
     "name": "stdout",
     "output_type": "stream",
     "text": [
      "[5. 6. 7. 8.]\n"
     ]
    }
   ],
   "source": [
    "a = tf.constant([[1.0 ,2,3,4], [5,6,7,8]])\n",
    "c = tf.reduce_max(a, axis=0) #열에 대한 최대값                   \n",
    "print(sess.run(c))"
   ]
  },
  {
   "cell_type": "code",
   "execution_count": 30,
   "id": "d06a2224",
   "metadata": {},
   "outputs": [
    {
     "name": "stdout",
     "output_type": "stream",
     "text": [
      "[4. 8.]\n"
     ]
    }
   ],
   "source": [
    "a = tf.constant([[1.0 ,2,3,4], [5,6,7,8]])    \n",
    "c = tf.reduce_max(a, axis=1)\n",
    "print(sess.run(c))"
   ]
  },
  {
   "cell_type": "code",
   "execution_count": 31,
   "id": "2f1a7f14",
   "metadata": {},
   "outputs": [
    {
     "name": "stdout",
     "output_type": "stream",
     "text": [
      "[False False False  True  True]\n",
      "[0. 0. 0. 1. 1.]\n",
      "2.0\n",
      "0.4\n"
     ]
    }
   ],
   "source": [
    "a = tf.constant([1, 2, 3, 4, 5])\n",
    "b = a > 3\n",
    "print(sess.run(b))\n",
    "print(sess.run(tf.cast(b, tf.float32)))\n",
    "print(sess.run(tf.reduce_sum(tf.cast(b, tf.float32))))\n",
    "print(sess.run(tf.reduce_mean(tf.cast(b, tf.float32))))"
   ]
  },
  {
   "cell_type": "code",
   "execution_count": 32,
   "id": "2406120b",
   "metadata": {},
   "outputs": [
    {
     "name": "stdout",
     "output_type": "stream",
     "text": [
      "[False False  True  True False]\n",
      "0.4\n"
     ]
    }
   ],
   "source": [
    "a = tf.constant([1, 2, 3, 3, 4])\n",
    "b = tf.equal(a, 3)\n",
    "accuracy = tf.reduce_mean(tf.cast(b, tf.float32))\n",
    "print(sess.run(b))\n",
    "print(sess.run(accuracy)) "
   ]
  },
  {
   "cell_type": "code",
   "execution_count": 33,
   "id": "8c93aaae",
   "metadata": {},
   "outputs": [
    {
     "name": "stdout",
     "output_type": "stream",
     "text": [
      "2.4494898\n"
     ]
    }
   ],
   "source": [
    "y = tf.constant([1,2,3,4,5.0])\n",
    "h = tf.constant([1, 1,1,1,1.0])\n",
    "\n",
    "rmse = tf.sqrt(tf.reduce_mean(tf.square(h - y)))\n",
    "print(sess.run(rmse))"
   ]
  },
  {
   "cell_type": "code",
   "execution_count": 34,
   "id": "a31aaeec",
   "metadata": {},
   "outputs": [
    {
     "name": "stdout",
     "output_type": "stream",
     "text": [
      "[ 0.9  7.  34. ]\n",
      "[[0.11111112 0.2857143  1.        ]\n",
      " [1.         1.         0.3529412 ]\n",
      " [0.22222224 0.14285715 0.1764706 ]\n",
      " [0.5555556  0.21428572 0.7941176 ]]\n"
     ]
    }
   ],
   "source": [
    "a = tf.constant([ [0.1, 2, 34], [0.9, 7, 12], [0.2, 1, 6], [0.5, 1.5, 27] ])\n",
    "mm = tf.reduce_max(a, axis=0)\n",
    "n = a / mm\n",
    "print(sess.run(mm))\n",
    "print(sess.run(n))"
   ]
  },
  {
   "cell_type": "markdown",
   "id": "0d26cf80",
   "metadata": {},
   "source": [
    "#### 공부한 시간대비 점수 예제"
   ]
  },
  {
   "cell_type": "code",
   "execution_count": 35,
   "id": "a1365e5c",
   "metadata": {},
   "outputs": [
    {
     "data": {
      "text/plain": [
       "[<matplotlib.lines.Line2D at 0x16a46da7088>]"
      ]
     },
     "execution_count": 35,
     "metadata": {},
     "output_type": "execute_result"
    },
    {
     "data": {
      "image/png": "[encoded data removed]",
      "text/plain": [
       "<Figure size 432x288 with 1 Axes>"
      ]
     },
     "metadata": {
      "needs_background": "light"
     },
     "output_type": "display_data"
    }
   ],
   "source": [
    "%matplotlib inline\n",
    "x_data = np.array([4.0,9,10,14,4,7,12,22,1,3,8,11,5,6,10,11,16,13,13,10])\n",
    "y_data = np.array([390.0,580,650,730,410,530,600,790,350,400,590,640,450,520,690,690,770,700,730,640])\n",
    "\n",
    "\n",
    "plt.xlabel('hour')\n",
    "plt.ylabel('score')\n",
    "plt.plot(x_data, y_data, 'r^')"
   ]
  },
  {
   "cell_type": "code",
   "execution_count": 36,
   "id": "b7c4c01e",
   "metadata": {},
   "outputs": [
    {
     "name": "stdout",
     "output_type": "stream",
     "text": [
      "3 17\n"
     ]
    }
   ],
   "source": [
    "p1 = np.random.randint(x_data.shape[0])\n",
    "p2 = np.random.randint(x_data.shape[0])\n",
    "print(p1, p2)"
   ]
  },
  {
   "cell_type": "code",
   "execution_count": 37,
   "id": "83c9fb9c",
   "metadata": {},
   "outputs": [
    {
     "name": "stdout",
     "output_type": "stream",
     "text": [
      "[0 1 2 3 4 5 6 7 8 9]\n",
      "1 4\n"
     ]
    }
   ],
   "source": [
    "a = np.arange(10)\n",
    "print(a)\n",
    "np.random.shuffle(a)\n",
    "print(a[0], a[1])"
   ]
  },
  {
   "cell_type": "code",
   "execution_count": 38,
   "id": "c744d6ac",
   "metadata": {},
   "outputs": [
    {
     "name": "stdout",
     "output_type": "stream",
     "text": [
      "30.000004 290.0\n"
     ]
    }
   ],
   "source": [
    "idx = np.arange(20)\n",
    "np.random.shuffle(idx)\n",
    "p1 = idx[0]\n",
    "p2 = idx[1]\n",
    "\n",
    "a = tf.constant([[x_data[p1], 1.0], [x_data[p2], 1.0]])\n",
    "y = tf.constant([y_data[p1], y_data[p2]  ], shape=(2,1) )\n",
    "\n",
    "z = sess.run(tf.matmul(tf.linalg.inv(a), y))\n",
    "\n",
    "w1 = z[0,0]\n",
    "b1 = z[1,0]\n",
    "print(w1, b1)"
   ]
  },
  {
   "cell_type": "code",
   "execution_count": 39,
   "id": "dc7676a6",
   "metadata": {},
   "outputs": [
    {
     "name": "stdout",
     "output_type": "stream",
     "text": [
      "8 7\n",
      "20.952385 329.04764\n"
     ]
    }
   ],
   "source": [
    "p1 = sess.run(tf.argmin(y_data))\n",
    "p2 = sess.run(tf.argmax(y_data)) \n",
    "\n",
    "print(p1, p2)\n",
    "\n",
    "\n",
    "a = tf.constant([[x_data[p1], 1.0], [x_data[p2], 1.0]])\n",
    "y = tf.constant([y_data[p1], y_data[p2]  ], shape=(2,1) )\n",
    "\n",
    "z = sess.run(tf.matmul(tf.linalg.inv(a), y))\n",
    "\n",
    "w2 = z[0,0]\n",
    "b2 = z[1,0]\n",
    "print(w2, b2)"
   ]
  },
  {
   "cell_type": "code",
   "execution_count": 40,
   "id": "9ab45ec8",
   "metadata": {},
   "outputs": [
    {
     "data": {
      "text/plain": [
       "[<matplotlib.lines.Line2D at 0x16a470d1b88>]"
      ]
     },
     "execution_count": 40,
     "metadata": {},
     "output_type": "execute_result"
    },
    {
     "data": {
      "image/png": "[encoded data removed]",
      "text/plain": [
       "<Figure size 432x288 with 1 Axes>"
      ]
     },
     "metadata": {
      "needs_background": "light"
     },
     "output_type": "display_data"
    }
   ],
   "source": [
    "plt.xlabel('hour')\n",
    "plt.ylabel('score')\n",
    "plt.plot(x_data, y_data, 'r^')\n",
    "\n",
    "\n",
    "\n",
    "x2 = [x_data[p1], x_data[p2]]\n",
    "h2 = [y_data[p1], y_data[p2]]\n",
    "plt.plot(x2, h2, 'bo')\n",
    "\n",
    "\n",
    "x = tf.placeholder(tf.float32)\n",
    "x2 = np.linspace(0,23,30)\n",
    "h = w2*x +  b2\n",
    "h2 = sess.run(h, feed_dict={x: x2 })\n",
    "plt.plot(x2, h2,  'b')\n",
    "\n",
    "\n",
    "x2 = [4, 8, 16]\n",
    "h2 = sess.run(h, feed_dict={x: x2 })\n",
    "plt.plot(x2, h2 ,  'kd', markersize=12)"
   ]
  },
  {
   "cell_type": "code",
   "execution_count": 41,
   "id": "137b63f4",
   "metadata": {},
   "outputs": [
    {
     "name": "stdout",
     "output_type": "stream",
     "text": [
      "55.677647\n",
      "83.42188\n"
     ]
    }
   ],
   "source": [
    "w = tf.placeholder(tf.float32)\n",
    "b = tf.placeholder(tf.float32)\n",
    "x = tf.placeholder(tf.float32)\n",
    "\n",
    "h = w * x + b\n",
    "rmse = tf.sqrt(tf.reduce_mean(tf.square(h - y_data)))\n",
    "\n",
    "print(sess.run(rmse, feed_dict={w:w1, b:b1, x:x_data }))\n",
    "print(sess.run(rmse, feed_dict={w:w2, b:b2, x:x_data })) "
   ]
  },
  {
   "cell_type": "code",
   "execution_count": 42,
   "id": "28cd5b7d",
   "metadata": {},
   "outputs": [
    {
     "name": "stdout",
     "output_type": "stream",
     "text": [
      "[[ 25.326466]\n",
      " [353.165   ]]\n"
     ]
    }
   ],
   "source": [
    "x = tf.placeholder(tf.float32, shape=(20,1))\n",
    "y = tf.placeholder(tf.float32, shape=(20,1))\n",
    "T = tf.ones([20,1], dtype=tf.float32)\n",
    "\n",
    "A = tf.concat([x, T],1)\n",
    "\n",
    "pinv = tf.matmul(tf.linalg.inv(tf.matmul(tf.transpose(A), A)), tf.transpose(A))\n",
    "w  =  tf.matmul(pinv,  y)\n",
    "\n",
    "w_ = sess.run(w, feed_dict={x:x_data.reshape((20,1)), y:y_data.reshape((20,1))})\n",
    "w0 = w_[0]\n",
    "b0 = w_[1]\n",
    "print(w_)"
   ]
  },
  {
   "cell_type": "code",
   "execution_count": 43,
   "id": "c9bf25c1",
   "metadata": {},
   "outputs": [
    {
     "data": {
      "text/plain": [
       "[<matplotlib.lines.Line2D at 0x16ac682d648>]"
      ]
     },
     "execution_count": 43,
     "metadata": {},
     "output_type": "execute_result"
    },
    {
     "data": {
      "image/png": "[encoded data removed]",
      "text/plain": [
       "<Figure size 432x288 with 1 Axes>"
      ]
     },
     "metadata": {
      "needs_background": "light"
     },
     "output_type": "display_data"
    }
   ],
   "source": [
    "plt.xlabel('hour')\n",
    "plt.ylabel('score')\n",
    "plt.plot(x_data, y_data, 'k^')\n",
    "\n",
    "\n",
    "x2 = np.linspace(0,23,30)\n",
    "x = tf.placeholder(tf.float32)\n",
    "\n",
    "\n",
    "h = w0*x +  b0\n",
    "h2 = sess.run(h, feed_dict={x: x2 })\n",
    "plt.plot(x2, h2,  'r')\n",
    "\n",
    "h = w1*x +  b1\n",
    "h2 = sess.run(h, feed_dict={x: x2 })\n",
    "plt.plot(x2, h2,  'g')\n",
    "\n",
    "h = w2*x +  b2\n",
    "h2 = sess.run(h, feed_dict={x: x2 })\n",
    "plt.plot(x2, h2,  'b')"
   ]
  },
  {
   "cell_type": "markdown",
   "id": "5ede26bd",
   "metadata": {},
   "source": [
    "#### 주가 예측 예제"
   ]
  },
  {
   "cell_type": "code",
   "execution_count": 44,
   "id": "dc8a2bee",
   "metadata": {},
   "outputs": [
    {
     "data": {
      "text/plain": [
       "[<matplotlib.lines.Line2D at 0x16ac95fa848>]"
      ]
     },
     "execution_count": 44,
     "metadata": {},
     "output_type": "execute_result"
    },
    {
     "data": {
      "image/png": "[encoded data removed]",
      "text/plain": [
       "<Figure size 432x288 with 2 Axes>"
      ]
     },
     "metadata": {
      "needs_background": "light"
     },
     "output_type": "display_data"
    }
   ],
   "source": [
    "Interest_Rate =  np.array([[2.75,2.5,2.5,2.5,2.5,2.5,2.5,2.25,2.25,2.25,2,2,2,1.75,\n",
    "                            1.75,1.75,1.75,1.75,1.75,1.75,1.75,1.75,1.75,1.75]], dtype=np.float32)\n",
    "Unemployment_Rate = np.array([[5.3,5.3,5.3,5.3,5.4,5.6,5.5,5.5,5.5,5.6,5.7,\n",
    "                               5.9,6,5.9,5.8,6.1,6.2,6.1,6.1,6.1,5.9,6.2,6.2,6.1]], dtype=np.float32)\n",
    "Stock_Index_Price = np.array([[1464,1394,1357,1293,1256,1254,1234,1195,1159,1167,1130,1075,1047,\n",
    "                               965,943,958,971,949,884,866,876,822,704,719]], dtype=np.float32)\n",
    "plt.subplot(1,2,1)\n",
    "plt.plot(Interest_Rate.flatten(), Stock_Index_Price.flatten(), 'ro')\n",
    "plt.subplot(1,2,2)\n",
    "plt.plot(Unemployment_Rate.flatten(), Stock_Index_Price.flatten(), 'go')"
   ]
  },
  {
   "cell_type": "code",
   "execution_count": 45,
   "id": "aea7715f",
   "metadata": {},
   "outputs": [
    {
     "name": "stdout",
     "output_type": "stream",
     "text": [
      "[[ 345.5769 ]\n",
      " [-250.24716]\n",
      " [1799.1902 ]]\n"
     ]
    }
   ],
   "source": [
    "T = tf.ones([1,24], dtype=tf.float32)\n",
    "y = tf.constant(Stock_Index_Price, shape = (24,1), dtype=tf.float32)\n",
    "A = tf.transpose(tf.concat([Interest_Rate,  Unemployment_Rate, T],0))\n",
    "\n",
    "pinv = tf.matmul(tf.linalg.inv(tf.matmul(tf.transpose(A), A)), tf.transpose(A))\n",
    "w  =  tf.matmul(pinv,  y)\n",
    "print(sess.run(w))"
   ]
  },
  {
   "cell_type": "code",
   "execution_count": 46,
   "id": "95e21c20",
   "metadata": {},
   "outputs": [
    {
     "name": "stdout",
     "output_type": "stream",
     "text": [
      "[[2010.1   ]\n",
      " [2035.1246]\n",
      " [2010.1   ]\n",
      " [2044.6577]]\n",
      "[25.024658]\n",
      "[34.55774]\n"
     ]
    }
   ],
   "source": [
    "x =  tf.placeholder(tf.float32, shape=(None,3))\n",
    "h = tf.matmul(x, w)\n",
    "result =  sess.run(h, feed_dict={x:[[5.1, 6.2,1], [5.1,6.1,1], [5.1, 6.2,1], [5.2, 6.2,1] ]})\n",
    "print(result)\n",
    "\n",
    "print( result[1]-result[0])\n",
    "print( result[3]-result[2])\n"
   ]
  },
  {
   "cell_type": "code",
   "execution_count": 47,
   "id": "ec25ac23",
   "metadata": {},
   "outputs": [
    {
     "name": "stdout",
     "output_type": "stream",
     "text": [
      "[[ 9 12 15]\n",
      " [24 33 42]]\n"
     ]
    }
   ],
   "source": [
    "x = tf.constant([[1,2],[4,5]])\n",
    "y = tf.constant([[1,2,3],[4,5,6]])\n",
    "z = tf.matmul(x, y)\n",
    "\n",
    "print(sess.run(z))\n"
   ]
  },
  {
   "cell_type": "code",
   "execution_count": null,
   "id": "ffc43e2a",
   "metadata": {},
   "outputs": [],
   "source": []
  }
 ],
 "metadata": {
  "kernelspec": {
   "display_name": "Python 3 (ipykernel)",
   "language": "python",
   "name": "python3"
  },
  "language_info": {
   "codemirror_mode": {
    "name": "ipython",
    "version": 3
   },
   "file_extension": ".py",
   "mimetype": "text/x-python",
   "name": "python",
   "nbconvert_exporter": "python",
   "pygments_lexer": "ipython3",
   "version": "3.7.10"
  }
 },
 "nbformat": 4,
 "nbformat_minor": 5
}
