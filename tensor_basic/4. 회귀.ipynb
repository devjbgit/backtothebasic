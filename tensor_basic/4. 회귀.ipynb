{
 "cells": [
  {
   "cell_type": "markdown",
   "id": "e104e9cc",
   "metadata": {},
   "source": [
    "평균 절대값 오차 : MAE  \n",
    "평균 제곱 오차 : MSE  \n",
    "평군 제곱근 오차 : RMSE"
   ]
  },
  {
   "cell_type": "markdown",
   "id": "9f2c6a73",
   "metadata": {},
   "source": [
    "선형회귀 최적의 솔루션  \n",
    "cost 함수값 최소되는 w,b 찾음  \n",
    "H(x) = wx + b"
   ]
  },
  {
   "cell_type": "markdown",
   "id": "6e58a48c",
   "metadata": {},
   "source": [
    " + 2차 함수에서 기울기가 0일때 cost가 최소"
   ]
  },
  {
   "cell_type": "markdown",
   "id": "4259ea28",
   "metadata": {},
   "source": [
    "### 경사하강법\n",
    " w = w - α(반영비율) * 기울기"
   ]
  },
  {
   "cell_type": "markdown",
   "id": "702af46a",
   "metadata": {},
   "source": [
    " + α가 작은 경우 : 최저지점을 찾아가지만 학습 속도가 느림\n",
    " + α가 큰 경우 : 빠르게 찾아가지만 최저지점을 지나칠 수 있음"
   ]
  },
  {
   "cell_type": "code",
   "execution_count": 1,
   "id": "42c0add7",
   "metadata": {},
   "outputs": [
    {
     "name": "stderr",
     "output_type": "stream",
     "text": [
      "c:\\users\\admin\\anaconda3\\envs\\gpu\\lib\\site-packages\\tensorflow\\python\\framework\\dtypes.py:516: FutureWarning: Passing (type, 1) or '1type' as a synonym of type is deprecated; in a future version of numpy, it will be understood as (type, (1,)) / '(1,)type'.\n",
      "  _np_qint8 = np.dtype([(\"qint8\", np.int8, 1)])\n",
      "c:\\users\\admin\\anaconda3\\envs\\gpu\\lib\\site-packages\\tensorflow\\python\\framework\\dtypes.py:517: FutureWarning: Passing (type, 1) or '1type' as a synonym of type is deprecated; in a future version of numpy, it will be understood as (type, (1,)) / '(1,)type'.\n",
      "  _np_quint8 = np.dtype([(\"quint8\", np.uint8, 1)])\n",
      "c:\\users\\admin\\anaconda3\\envs\\gpu\\lib\\site-packages\\tensorflow\\python\\framework\\dtypes.py:518: FutureWarning: Passing (type, 1) or '1type' as a synonym of type is deprecated; in a future version of numpy, it will be understood as (type, (1,)) / '(1,)type'.\n",
      "  _np_qint16 = np.dtype([(\"qint16\", np.int16, 1)])\n",
      "c:\\users\\admin\\anaconda3\\envs\\gpu\\lib\\site-packages\\tensorflow\\python\\framework\\dtypes.py:519: FutureWarning: Passing (type, 1) or '1type' as a synonym of type is deprecated; in a future version of numpy, it will be understood as (type, (1,)) / '(1,)type'.\n",
      "  _np_quint16 = np.dtype([(\"quint16\", np.uint16, 1)])\n",
      "c:\\users\\admin\\anaconda3\\envs\\gpu\\lib\\site-packages\\tensorflow\\python\\framework\\dtypes.py:520: FutureWarning: Passing (type, 1) or '1type' as a synonym of type is deprecated; in a future version of numpy, it will be understood as (type, (1,)) / '(1,)type'.\n",
      "  _np_qint32 = np.dtype([(\"qint32\", np.int32, 1)])\n",
      "c:\\users\\admin\\anaconda3\\envs\\gpu\\lib\\site-packages\\tensorflow\\python\\framework\\dtypes.py:525: FutureWarning: Passing (type, 1) or '1type' as a synonym of type is deprecated; in a future version of numpy, it will be understood as (type, (1,)) / '(1,)type'.\n",
      "  np_resource = np.dtype([(\"resource\", np.ubyte, 1)])\n",
      "c:\\users\\admin\\anaconda3\\envs\\gpu\\lib\\site-packages\\tensorboard\\compat\\tensorflow_stub\\dtypes.py:541: FutureWarning: Passing (type, 1) or '1type' as a synonym of type is deprecated; in a future version of numpy, it will be understood as (type, (1,)) / '(1,)type'.\n",
      "  _np_qint8 = np.dtype([(\"qint8\", np.int8, 1)])\n",
      "c:\\users\\admin\\anaconda3\\envs\\gpu\\lib\\site-packages\\tensorboard\\compat\\tensorflow_stub\\dtypes.py:542: FutureWarning: Passing (type, 1) or '1type' as a synonym of type is deprecated; in a future version of numpy, it will be understood as (type, (1,)) / '(1,)type'.\n",
      "  _np_quint8 = np.dtype([(\"quint8\", np.uint8, 1)])\n",
      "c:\\users\\admin\\anaconda3\\envs\\gpu\\lib\\site-packages\\tensorboard\\compat\\tensorflow_stub\\dtypes.py:543: FutureWarning: Passing (type, 1) or '1type' as a synonym of type is deprecated; in a future version of numpy, it will be understood as (type, (1,)) / '(1,)type'.\n",
      "  _np_qint16 = np.dtype([(\"qint16\", np.int16, 1)])\n",
      "c:\\users\\admin\\anaconda3\\envs\\gpu\\lib\\site-packages\\tensorboard\\compat\\tensorflow_stub\\dtypes.py:544: FutureWarning: Passing (type, 1) or '1type' as a synonym of type is deprecated; in a future version of numpy, it will be understood as (type, (1,)) / '(1,)type'.\n",
      "  _np_quint16 = np.dtype([(\"quint16\", np.uint16, 1)])\n",
      "c:\\users\\admin\\anaconda3\\envs\\gpu\\lib\\site-packages\\tensorboard\\compat\\tensorflow_stub\\dtypes.py:545: FutureWarning: Passing (type, 1) or '1type' as a synonym of type is deprecated; in a future version of numpy, it will be understood as (type, (1,)) / '(1,)type'.\n",
      "  _np_qint32 = np.dtype([(\"qint32\", np.int32, 1)])\n",
      "c:\\users\\admin\\anaconda3\\envs\\gpu\\lib\\site-packages\\tensorboard\\compat\\tensorflow_stub\\dtypes.py:550: FutureWarning: Passing (type, 1) or '1type' as a synonym of type is deprecated; in a future version of numpy, it will be understood as (type, (1,)) / '(1,)type'.\n",
      "  np_resource = np.dtype([(\"resource\", np.ubyte, 1)])\n"
     ]
    },
    {
     "name": "stdout",
     "output_type": "stream",
     "text": [
      "WARNING:tensorflow:From C:\\Users\\admin\\AppData\\Local\\Temp\\ipykernel_11520\\3858917635.py:5: The name tf.Session is deprecated. Please use tf.compat.v1.Session instead.\n",
      "\n",
      "WARNING:tensorflow:From C:\\Users\\admin\\AppData\\Local\\Temp\\ipykernel_11520\\3858917635.py:6: The name tf.set_random_seed is deprecated. Please use tf.compat.v1.set_random_seed instead.\n",
      "\n"
     ]
    }
   ],
   "source": [
    "import tensorflow as tf\n",
    "import matplotlib.pyplot as plt\n",
    "import numpy as np\n",
    "%matplotlib inline\n",
    "sess = tf.Session()\n",
    "tf.set_random_seed(7777)"
   ]
  },
  {
   "cell_type": "code",
   "execution_count": 2,
   "id": "f7b4fdb5",
   "metadata": {},
   "outputs": [
    {
     "name": "stdout",
     "output_type": "stream",
     "text": [
      "WARNING:tensorflow:From C:\\Users\\admin\\AppData\\Local\\Temp\\ipykernel_11520\\605500614.py:4: The name tf.placeholder is deprecated. Please use tf.compat.v1.placeholder instead.\n",
      "\n"
     ]
    }
   ],
   "source": [
    "x_data = [1.0, 2, 3, 4 ]\n",
    "y_data = [1.1, 2.2, 3, 4.2]\n",
    "\n",
    "w = tf.placeholder(tf.float32)\n",
    "x = tf.placeholder(tf.float32)\n",
    "y = tf.placeholder(tf.float32)\n",
    "hypothesis = w * x\n",
    "# error = hypothesis - y\n",
    "cost = tf.reduce_mean(tf.square(hypothesis - y))"
   ]
  },
  {
   "cell_type": "code",
   "execution_count": 4,
   "id": "b2f3772a",
   "metadata": {},
   "outputs": [
    {
     "name": "stdout",
     "output_type": "stream",
     "text": [
      "Tensor(\"Mean:0\", shape=(), dtype=float32)\n",
      "190.7725\n"
     ]
    }
   ],
   "source": [
    "c = sess.run(cost, feed_dict={x: x_data, y: y_data, w:-4})\n",
    "print(cost)\n",
    "print(c)"
   ]
  },
  {
   "cell_type": "code",
   "execution_count": 5,
   "id": "bc8c6983",
   "metadata": {},
   "outputs": [
    {
     "name": "stdout",
     "output_type": "stream",
     "text": [
      "122.622505\n",
      "69.472496\n",
      "31.322498\n",
      "8.1725\n"
     ]
    }
   ],
   "source": [
    "c = sess.run(cost, feed_dict={x: x_data, y: y_data, w:-3})\n",
    "print(c)\n",
    "c = sess.run(cost, feed_dict={x: x_data, y: y_data, w:-2})\n",
    "print(c)\n",
    "c = sess.run(cost, feed_dict={x: x_data, y: y_data, w:-1})\n",
    "print(c)\n",
    "c = sess.run(cost, feed_dict={x: x_data, y: y_data, w:0})\n",
    "print(c)"
   ]
  },
  {
   "cell_type": "code",
   "execution_count": 6,
   "id": "77184171",
   "metadata": {},
   "outputs": [
    {
     "name": "stdout",
     "output_type": "stream",
     "text": [
      "-4 190.7725\n",
      "-3 122.622505\n",
      "-2 69.472496\n",
      "-1 31.322498\n",
      "0 8.1725\n",
      "1 0.022499986\n",
      "2 6.8725004\n",
      "3 28.7225\n",
      "4 65.5725\n",
      "5 117.4225\n",
      "6 184.27249\n"
     ]
    }
   ],
   "source": [
    "for value in  [-4, -3,-2,-1,0,1,2,3,4,5,6] :\n",
    "    c = sess.run(cost, feed_dict={x: x_data, y: y_data, w:value})\n",
    "    print(value, c)"
   ]
  },
  {
   "cell_type": "code",
   "execution_count": 7,
   "id": "3d11797b",
   "metadata": {},
   "outputs": [
    {
     "data": {
      "text/plain": [
       "[<matplotlib.lines.Line2D at 0x1fd44565d88>]"
      ]
     },
     "execution_count": 7,
     "metadata": {},
     "output_type": "execute_result"
    },
    {
     "data": {
      "image/png": "[encoded data removed]",
      "text/plain": [
       "<Figure size 432x288 with 1 Axes>"
      ]
     },
     "metadata": {
      "needs_background": "light"
     },
     "output_type": "display_data"
    }
   ],
   "source": [
    "cs = []\n",
    "for v in [-4, -3,-2,-1,0,1,2,3,4,5,6]:\n",
    "    c = sess.run(cost, feed_dict={x: x_data, y: y_data, w:v})\n",
    "    cs.append(c)    \n",
    "plt.plot([-4, -3,-2,-1,0,1,2,3,4,5,6], cs)"
   ]
  },
  {
   "cell_type": "code",
   "execution_count": 8,
   "id": "1497611a",
   "metadata": {},
   "outputs": [
    {
     "name": "stdout",
     "output_type": "stream",
     "text": [
      "0.009212395\n",
      "501\n",
      "1.0330330330330337\n"
     ]
    },
    {
     "data": {
      "image/png": "[encoded data removed]",
      "text/plain": [
       "<Figure size 432x288 with 1 Axes>"
      ]
     },
     "metadata": {
      "needs_background": "light"
     },
     "output_type": "display_data"
    }
   ],
   "source": [
    "cs = []\n",
    "fromto = np.linspace(-10, 12, 1000)\n",
    "for v in  fromto:\n",
    "    c = sess.run(cost, feed_dict={x: x_data, y: y_data, w:v})\n",
    "    cs.append(c)    \n",
    "plt.plot(fromto, cs)\n",
    "\n",
    "print(np.array(cs).min())\n",
    "print(np.array(cs).argmin())\n",
    "print(fromto[np.array(cs).argmin()])"
   ]
  },
  {
   "cell_type": "code",
   "execution_count": 9,
   "id": "fa69b258",
   "metadata": {},
   "outputs": [],
   "source": [
    "learning_rate = 0.1\n",
    "\n",
    "w = tf.Variable(2.0)\n",
    "x = tf.placeholder(tf.float32)\n",
    "y = tf.placeholder(tf.float32)\n",
    "hypothesis = w * x\n",
    "# error = hypothesis - y\n",
    "cost = tf.reduce_mean(tf.square(hypothesis - y))\n",
    "\n",
    "\n",
    "cost = tf.reduce_mean(tf.square(hypothesis - y))\n",
    "\n",
    "gradient = tf.reduce_mean((w * x - y) * x)\n",
    "#w = w - learning_rate * gradient\n",
    "descent = w - learning_rate * gradient\n",
    "update = w.assign(descent)"
   ]
  },
  {
   "cell_type": "code",
   "execution_count": 10,
   "id": "3878da75",
   "metadata": {},
   "outputs": [
    {
     "name": "stdout",
     "output_type": "stream",
     "text": [
      "WARNING:tensorflow:From C:\\Users\\admin\\AppData\\Local\\Temp\\ipykernel_11520\\3568873505.py:1: The name tf.global_variables_initializer is deprecated. Please use tf.compat.v1.global_variables_initializer instead.\n",
      "\n",
      "0.4374221 1.2825\n"
     ]
    }
   ],
   "source": [
    "init = tf.global_variables_initializer()\n",
    "sess.run(init)\n",
    "\n",
    "sess.run(update, feed_dict={x: x_data, y: y_data})\n",
    "c, w_ = sess.run([cost, w], feed_dict={x: x_data, y: y_data})\n",
    "print(c, w_) "
   ]
  },
  {
   "cell_type": "code",
   "execution_count": 11,
   "id": "f937c8c8",
   "metadata": {},
   "outputs": [
    {
     "name": "stdout",
     "output_type": "stream",
     "text": [
      "0.035229474\n",
      "0.010092459\n",
      "0.008521404\n"
     ]
    }
   ],
   "source": [
    "sess.run(update, feed_dict={x: x_data, y: y_data})\n",
    "c = sess.run(cost, feed_dict={x: x_data, y: y_data})\n",
    "print(c) \n",
    "\n",
    "sess.run(update, feed_dict={x: x_data, y: y_data})\n",
    "c = sess.run(cost, feed_dict={x: x_data, y: y_data})\n",
    "print(c)\n",
    "\n",
    "sess.run(update, feed_dict={x: x_data, y: y_data})\n",
    "c = sess.run(cost, feed_dict={x: x_data, y: y_data})\n",
    "print(c)"
   ]
  },
  {
   "cell_type": "code",
   "execution_count": 12,
   "id": "c403d350",
   "metadata": {},
   "outputs": [
    {
     "name": "stdout",
     "output_type": "stream",
     "text": [
      "0 0.4374221 1.2825\n",
      "1 0.035229474 1.103125\n",
      "2 0.010092459 1.0582812\n",
      "3 0.008521404 1.0470703\n",
      "4 0.008423205 1.0442675\n",
      "5 0.008417085 1.0435668\n",
      "6 0.008416693 1.0433917\n",
      "7 0.008416677 1.043348\n",
      "8 0.008416675 1.043337\n",
      "9 0.008416668 1.0433342\n"
     ]
    }
   ],
   "source": [
    "sess.run(tf.global_variables_initializer())   \n",
    "for i in range(0,10) :\n",
    "    sess.run(update, feed_dict={x: x_data, y: y_data})\n",
    "    c, w_ = sess.run([cost, w], feed_dict={x: x_data, y: y_data})      \n",
    "    print(i, c, w_)"
   ]
  },
  {
   "cell_type": "code",
   "execution_count": 13,
   "id": "db38fa66",
   "metadata": {},
   "outputs": [
    {
     "name": "stdout",
     "output_type": "stream",
     "text": [
      "0 0.4374221 1.2825\n",
      "1 0.035229474 1.103125\n",
      "2 0.010092459 1.0582812\n",
      "3 0.008521404 1.0470703\n",
      "4 0.008423205 1.0442675\n",
      "5 0.008417085 1.0435668\n",
      "6 0.008416693 1.0433917\n",
      "7 0.008416677 1.043348\n",
      "8 0.008416675 1.043337\n",
      "9 0.008416668 1.0433342\n",
      "10 0.008416668 1.0433335\n",
      "11 0.008416659 1.0433334\n",
      "12 0.008416668 1.0433333\n",
      "13 0.008416668 1.0433333\n",
      "14 0.008416668 1.0433333\n",
      "15 0.008416668 1.0433333\n",
      "16 0.008416668 1.0433333\n",
      "17 0.008416668 1.0433333\n",
      "18 0.008416668 1.0433333\n",
      "19 0.008416668 1.0433333\n"
     ]
    }
   ],
   "source": [
    "sess.run(tf.global_variables_initializer())   \n",
    "for i in range(0,20) :\n",
    "    sess.run(update, feed_dict={x: x_data, y: y_data})\n",
    "    c, w_ = sess.run([cost, w], feed_dict={x: x_data, y: y_data})      \n",
    "    print(i, c, w_)"
   ]
  },
  {
   "cell_type": "code",
   "execution_count": 14,
   "id": "b6885098",
   "metadata": {},
   "outputs": [
    {
     "data": {
      "text/plain": [
       "<matplotlib.legend.Legend at 0x1fd46774748>"
      ]
     },
     "execution_count": 14,
     "metadata": {},
     "output_type": "execute_result"
    },
    {
     "data": {
      "image/png": "[encoded data removed]",
      "text/plain": [
       "<Figure size 432x288 with 1 Axes>"
      ]
     },
     "metadata": {
      "needs_background": "light"
     },
     "output_type": "display_data"
    }
   ],
   "source": [
    "sess.run(tf.global_variables_initializer())   \n",
    "cs = []\n",
    "gs = []\n",
    "for i in range(0,10) :\n",
    "    _, c, g = sess.run([update,cost,gradient], feed_dict={x: x_data, y: y_data})\n",
    "    cs.append(c)\n",
    "    gs.append(g)   \n",
    "    \n",
    "plt.plot(cs)\n",
    "plt.plot(gs)\n",
    "plt.legend(['cost', 'gradient'])"
   ]
  },
  {
   "cell_type": "code",
   "execution_count": 15,
   "id": "1caec388",
   "metadata": {},
   "outputs": [
    {
     "name": "stdout",
     "output_type": "stream",
     "text": [
      "0 6.8725004\n",
      "1 0.4374221\n",
      "2 0.035229474\n",
      "3 0.010092459\n",
      "4 0.008521404\n",
      "5 0.008423205\n",
      "6 0.008417085\n"
     ]
    }
   ],
   "source": [
    "sess.run(tf.global_variables_initializer())   \n",
    "\n",
    "oldc = 1000\n",
    "for i in range(0,10) :  \n",
    "    _, c, g = sess.run([update,cost,gradient], feed_dict={x: x_data, y: y_data})\n",
    "    print(i, c)\n",
    "    if oldc - c < 0.00001  : break\n",
    "    oldc = c"
   ]
  },
  {
   "cell_type": "code",
   "execution_count": 16,
   "id": "e6420c0c",
   "metadata": {
    "scrolled": true
   },
   "outputs": [
    {
     "name": "stdout",
     "output_type": "stream",
     "text": [
      "1.0433917\n"
     ]
    },
    {
     "data": {
      "text/plain": [
       "[<matplotlib.lines.Line2D at 0x1fd4673db08>]"
      ]
     },
     "execution_count": 16,
     "metadata": {},
     "output_type": "execute_result"
    },
    {
     "data": {
      "image/png": "[encoded data removed]",
      "text/plain": [
       "<Figure size 432x288 with 1 Axes>"
      ]
     },
     "metadata": {
      "needs_background": "light"
     },
     "output_type": "display_data"
    }
   ],
   "source": [
    "plt.xlabel('x')\n",
    "plt.ylabel('y')\n",
    "plt.plot(x_data, y_data, 'go')\n",
    "\n",
    "w_ = sess.run(w)\n",
    "print(w_)\n",
    "plt.plot(x_data, np.array(x_data) * w_,  'b')"
   ]
  },
  {
   "cell_type": "markdown",
   "id": "71f7eeba",
   "metadata": {},
   "source": [
    "#### W의 변화"
   ]
  },
  {
   "cell_type": "code",
   "execution_count": 17,
   "id": "202283db",
   "metadata": {},
   "outputs": [
    {
     "data": {
      "text/plain": [
       "<matplotlib.legend.Legend at 0x1fd46967748>"
      ]
     },
     "execution_count": 17,
     "metadata": {},
     "output_type": "execute_result"
    },
    {
     "data": {
      "image/png": "[encoded data removed]",
      "text/plain": [
       "<Figure size 432x288 with 1 Axes>"
      ]
     },
     "metadata": {
      "needs_background": "light"
     },
     "output_type": "display_data"
    }
   ],
   "source": [
    "x_data = [1.0, 2, 3, 4 ]\n",
    "y_data = [1.1, 2.2, 3, 4.2]\n",
    "\n",
    "\n",
    "ws = [-3.0, 3.0, 0.2, 1.2]\n",
    "colors = ['r', 'g', 'b', 'k']\n",
    "for i  in range(4) :\n",
    "    w = tf.Variable(ws[i])  \n",
    "    x = tf.placeholder(tf.float32)\n",
    "    y = tf.placeholder(tf.float32)\n",
    "    hypothesis = w * x\n",
    "    cost = tf.reduce_mean(tf.square(hypothesis - y))\n",
    "    \n",
    "    learning_rate = 0.1\n",
    "    gradient = tf.reduce_mean((w * x - y) * x)\n",
    "    descent = w - learning_rate * gradient\n",
    "    update = w.assign(descent)\n",
    "\n",
    "    sess.run(tf.global_variables_initializer())\n",
    "    \n",
    "    cs = []\n",
    "    for step in range(13):\n",
    "        sess.run(update, feed_dict={x: x_data, y: y_data})\n",
    "        c = sess.run(cost, feed_dict={x: x_data, y: y_data})\n",
    "        cs.append(c)\n",
    "    plt.plot(cs, colors[i])        \n",
    "plt.legend(ws)  "
   ]
  },
  {
   "cell_type": "markdown",
   "id": "5108c067",
   "metadata": {},
   "source": [
    "#### lr 변화"
   ]
  },
  {
   "cell_type": "code",
   "execution_count": 18,
   "id": "0bc98ddc",
   "metadata": {},
   "outputs": [
    {
     "data": {
      "text/plain": [
       "<matplotlib.legend.Legend at 0x1fca19b8d48>"
      ]
     },
     "execution_count": 18,
     "metadata": {},
     "output_type": "execute_result"
    },
    {
     "data": {
      "image/png": "[encoded data removed]",
      "text/plain": [
       "<Figure size 432x288 with 1 Axes>"
      ]
     },
     "metadata": {
      "needs_background": "light"
     },
     "output_type": "display_data"
    }
   ],
   "source": [
    "x_data = [1.0, 2, 3, 4 ]\n",
    "y_data = [1.1, 2.2, 3, 4.2]\n",
    "\n",
    "\n",
    "lrs = [0.1, 0.01, 0.001]\n",
    "colors = ['r', 'g', 'b']\n",
    "for i  in range(3) :\n",
    "    w = tf.Variable(3.0)  \n",
    "    x = tf.placeholder(tf.float32)\n",
    "    y = tf.placeholder(tf.float32)\n",
    "    hypothesis = w * x\n",
    "    cost = tf.reduce_mean(tf.square(hypothesis - y))\n",
    "    learning_rate = lrs[i]\n",
    "    gradient = tf.reduce_mean((w * x - y) * x)\n",
    "    descent = w - learning_rate * gradient\n",
    "    update = w.assign(descent)\n",
    "\n",
    "    \n",
    "    sess.run(tf.global_variables_initializer())\n",
    "    \n",
    "    cs = []\n",
    "    for step in range(30):\n",
    "        sess.run(update, feed_dict={x: x_data, y: y_data})\n",
    "        c = sess.run(cost, feed_dict={x: x_data, y: y_data})\n",
    "        cs.append(c)        \n",
    "    plt.plot(cs, colors[i])        \n",
    "plt.legend(lrs)     "
   ]
  },
  {
   "cell_type": "markdown",
   "id": "c8291817",
   "metadata": {},
   "source": [
    "학습 횟수 UP"
   ]
  },
  {
   "cell_type": "code",
   "execution_count": 19,
   "id": "4182a8f7",
   "metadata": {},
   "outputs": [
    {
     "data": {
      "text/plain": [
       "<matplotlib.legend.Legend at 0x1fd47b16f88>"
      ]
     },
     "execution_count": 19,
     "metadata": {},
     "output_type": "execute_result"
    },
    {
     "data": {
      "image/png": "[encoded data removed]",
      "text/plain": [
       "<Figure size 432x288 with 1 Axes>"
      ]
     },
     "metadata": {
      "needs_background": "light"
     },
     "output_type": "display_data"
    }
   ],
   "source": [
    "x_data = [1.0, 2, 3, 4 ]\n",
    "y_data = [1.1, 2.2, 3, 4.2]\n",
    "\n",
    "\n",
    "lrs = [0.1, 0.01, 0.001]\n",
    "colors = ['r', 'g', 'b']\n",
    "for i  in range(3) :\n",
    "    w = tf.Variable(3.0)  \n",
    "    x = tf.placeholder(tf.float32)\n",
    "    y = tf.placeholder(tf.float32)\n",
    "    hypothesis = w * x\n",
    "    cost = tf.reduce_sum(tf.square(hypothesis - y))\n",
    "    learning_rate = lrs[i]\n",
    "    gradient = tf.reduce_mean((w * x - y) * x)\n",
    "    descent = w - learning_rate * gradient\n",
    "    update = w.assign(descent)\n",
    "    \n",
    "    sess.run(tf.global_variables_initializer())\n",
    "    \n",
    "    cs = []\n",
    "    for step in range(300):\n",
    "        sess.run(update, feed_dict={x: x_data, y: y_data})\n",
    "        c = sess.run(cost, feed_dict={x: x_data, y: y_data})\n",
    "        cs.append(c)        \n",
    "    plt.plot(cs, colors[i])        \n",
    "plt.legend(lrs)  "
   ]
  },
  {
   "cell_type": "markdown",
   "id": "2ea3d11e",
   "metadata": {},
   "source": [
    "#### tf 최적화 함수"
   ]
  },
  {
   "cell_type": "code",
   "execution_count": 20,
   "id": "faa6a15e",
   "metadata": {},
   "outputs": [
    {
     "name": "stdout",
     "output_type": "stream",
     "text": [
      "WARNING:tensorflow:From C:\\Users\\admin\\AppData\\Local\\Temp\\ipykernel_11520\\2422153180.py:10: The name tf.train.GradientDescentOptimizer is deprecated. Please use tf.compat.v1.train.GradientDescentOptimizer instead.\n",
      "\n"
     ]
    }
   ],
   "source": [
    "x_data = [1.0, 2, 3, 4 ]\n",
    "y_data = [1.1, 2.2, 3, 4.2]\n",
    "\n",
    "w = tf.Variable(0.0)\n",
    "\n",
    "hypothesis = w * x_data \n",
    "cost = tf.sqrt(tf.reduce_mean(tf.square( hypothesis - y_data )))\n",
    " \n",
    "learning_rate = 0.1\n",
    "update = tf.train.GradientDescentOptimizer(learning_rate).minimize(cost)\n",
    "\n",
    "# gradient = tf.reduce_mean((w * x - y) * x)\n",
    "# descent = w - learning_rate * gradient\n",
    "# update = w.assign(descent)   "
   ]
  },
  {
   "cell_type": "code",
   "execution_count": 21,
   "id": "0f8ce7ec",
   "metadata": {},
   "outputs": [
    {
     "name": "stdout",
     "output_type": "stream",
     "text": [
      "1.1761026 0.37500086\n"
     ]
    },
    {
     "data": {
      "text/plain": [
       "[<matplotlib.lines.Line2D at 0x1fd47bf6ec8>]"
      ]
     },
     "execution_count": 21,
     "metadata": {},
     "output_type": "execute_result"
    },
    {
     "data": {
      "image/png": "[encoded data removed]",
      "text/plain": [
       "<Figure size 432x288 with 1 Axes>"
      ]
     },
     "metadata": {
      "needs_background": "light"
     },
     "output_type": "display_data"
    }
   ],
   "source": [
    "sess.run(tf.global_variables_initializer())\n",
    "cs = []\n",
    "for step in range(100) :\n",
    "    c, _ = sess.run([cost,update])    \n",
    "    cs.append(c)        \n",
    "w_ = sess.run(w)\n",
    "print(w_, c)\n",
    "plt.plot(cs)"
   ]
  },
  {
   "cell_type": "code",
   "execution_count": 22,
   "id": "bb4c0b32",
   "metadata": {},
   "outputs": [],
   "source": [
    "x_data = [1.0, 2, 3, 4 ]\n",
    "y_data = [1.1, 2.2, 3, 4.2]\n",
    "\n",
    "w = tf.Variable(0.0)\n",
    "b =  tf.Variable(0.0)\n",
    "hypothesis = w * x_data + b"
   ]
  },
  {
   "cell_type": "code",
   "execution_count": 23,
   "id": "c2277ea4",
   "metadata": {},
   "outputs": [
    {
     "name": "stdout",
     "output_type": "stream",
     "text": [
      "1.1420242 0.15175596 0.41751102\n"
     ]
    },
    {
     "data": {
      "text/plain": [
       "[<matplotlib.lines.Line2D at 0x1fd47ce6608>]"
      ]
     },
     "execution_count": 23,
     "metadata": {},
     "output_type": "execute_result"
    },
    {
     "data": {
      "image/png": "[encoded data removed]",
      "text/plain": [
       "<Figure size 432x288 with 1 Axes>"
      ]
     },
     "metadata": {
      "needs_background": "light"
     },
     "output_type": "display_data"
    }
   ],
   "source": [
    "cost = tf.sqrt(tf.reduce_mean(tf.square( hypothesis - y_data )))\n",
    " \n",
    "learning_rate = 0.1\n",
    "\n",
    "\n",
    "update = tf.train.GradientDescentOptimizer(learning_rate).minimize(cost)\n",
    "\n",
    "sess.run(tf.global_variables_initializer())\n",
    "cs = []\n",
    "for step in range(100) :\n",
    "    c, _ = sess.run([cost,update])    \n",
    "    cs.append(c)        \n",
    "w_, b_ = sess.run([w, b])\n",
    "print(w_, b_, c)\n",
    "plt.plot(cs)"
   ]
  },
  {
   "cell_type": "code",
   "execution_count": 24,
   "id": "e3b7c8fd",
   "metadata": {},
   "outputs": [
    {
     "data": {
      "text/plain": [
       "<matplotlib.collections.PathCollection at 0x1fd47d442c8>"
      ]
     },
     "execution_count": 24,
     "metadata": {},
     "output_type": "execute_result"
    },
    {
     "data": {
      "image/png": "[encoded data removed]",
      "text/plain": [
       "<Figure size 432x288 with 1 Axes>"
      ]
     },
     "metadata": {
      "needs_background": "light"
     },
     "output_type": "display_data"
    }
   ],
   "source": [
    "x_data = np.array([4,9,10,14,4,7,12,22,1,3,8,11,5,6,10,11,16,13,13,10])\n",
    "y_data = np.array([390,580,650,730,410,530,600,790,350,400,590,640,450,520,690,690,770,700,730,640])\n",
    "plt.scatter(x_data, y_data)"
   ]
  },
  {
   "cell_type": "code",
   "execution_count": 25,
   "id": "70e65960",
   "metadata": {},
   "outputs": [],
   "source": [
    "w = tf.Variable(1.0)\n",
    "b =  tf.Variable(1.0)\n",
    "\n",
    "hypothesis = w * x_data + b\n",
    "\n",
    "cost = tf.sqrt(tf.reduce_mean(tf.square( hypothesis - y_data )))\n",
    "learning_rate = 0.1\n",
    "update = tf.train.GradientDescentOptimizer(learning_rate).minimize(cost)"
   ]
  },
  {
   "cell_type": "code",
   "execution_count": 26,
   "id": "862fa7ec",
   "metadata": {},
   "outputs": [
    {
     "name": "stdout",
     "output_type": "stream",
     "text": [
      "step 0  :  cost=595.769897    w=1.000000    b=1.000000\n",
      "step 200  :  cost=162.366074    w=53.859776    b=13.049001\n",
      "step 400  :  cost=158.580002    w=53.132515    b=21.720394\n",
      "step 600  :  cost=154.811417    w=52.406734    b=30.371731\n",
      "step 800  :  cost=151.061508    w=51.682735    b=39.001587\n",
      "step 1000  :  cost=147.331604    w=50.960693    b=47.608376\n"
     ]
    },
    {
     "data": {
      "text/plain": [
       "[<matplotlib.lines.Line2D at 0x1fd47e48bc8>]"
      ]
     },
     "execution_count": 26,
     "metadata": {},
     "output_type": "execute_result"
    },
    {
     "data": {
      "image/png": "[encoded data removed]",
      "text/plain": [
       "<Figure size 432x288 with 1 Axes>"
      ]
     },
     "metadata": {
      "needs_background": "light"
     },
     "output_type": "display_data"
    }
   ],
   "source": [
    "sess.run(tf.global_variables_initializer())\n",
    "\n",
    "cs = []\n",
    "for step in range(1001):  \n",
    "    c, w_, b_, _ = sess.run([cost,w,b,update])\n",
    "    cs.append(c)   \n",
    "    if  step % 200 ==  0:\n",
    "        print(\"step %d  :  cost=%f    w=%f    b=%f\"\n",
    "          % (step, c, w_, b_) )\n",
    "    \n",
    "plt.plot(cs)"
   ]
  },
  {
   "cell_type": "code",
   "execution_count": 27,
   "id": "92d6885d",
   "metadata": {},
   "outputs": [
    {
     "name": "stdout",
     "output_type": "stream",
     "text": [
      "step 0  :  cost=595.769897    w=1.000000    b=1.000000\n",
      "step 2000  :  cost=129.037445    w=47.385006    b=90.229912\n",
      "step 4000  :  cost=95.156517    w=40.504559    b=172.244003\n",
      "step 6000  :  cost=68.207596    w=34.375301    b=245.303970\n",
      "step 8000  :  cost=53.143387    w=29.823376    b=299.562317\n",
      "step 10000  :  cost=48.368576    w=27.294588    b=329.705139\n"
     ]
    },
    {
     "data": {
      "text/plain": [
       "[<matplotlib.lines.Line2D at 0x1fd47f0f388>]"
      ]
     },
     "execution_count": 27,
     "metadata": {},
     "output_type": "execute_result"
    },
    {
     "data": {
      "image/png": "[encoded data removed]",
      "text/plain": [
       "<Figure size 432x288 with 1 Axes>"
      ]
     },
     "metadata": {
      "needs_background": "light"
     },
     "output_type": "display_data"
    }
   ],
   "source": [
    "sess.run(tf.global_variables_initializer())\n",
    "\n",
    "cs = []\n",
    "for step in range(10001):   #  100, 1000, 10000\n",
    "    c, w_, b_, _ = sess.run([cost,w,b,update])\n",
    "    cs.append(c)   \n",
    "    if  step % 2000 ==  0:\n",
    "        print(\"step %d  :  cost=%f    w=%f    b=%f\"\n",
    "          % (step, c, w_, b_) )\n",
    "    \n",
    "plt.plot(cs)"
   ]
  },
  {
   "cell_type": "code",
   "execution_count": 28,
   "id": "a166762f",
   "metadata": {},
   "outputs": [
    {
     "name": "stdout",
     "output_type": "stream",
     "text": [
      "step 0  :  cost=595.769897    w=1.000000    b=1.000000\n",
      "step 5000  :  cost=80.478134    w=37.302235    b=210.415298\n",
      "step 10000  :  cost=48.368576    w=27.294588    b=329.705139\n",
      "step 15000  :  cost=47.181911    w=25.547998    b=350.524231\n",
      "step 20000  :  cost=47.166687    w=25.351185    b=352.870209\n",
      "step 25000  :  cost=47.166489    w=25.329369    b=353.130280\n",
      "step 30000  :  cost=47.166489    w=25.329369    b=353.130280\n"
     ]
    },
    {
     "data": {
      "text/plain": [
       "[<matplotlib.lines.Line2D at 0x1fd48024b48>]"
      ]
     },
     "execution_count": 28,
     "metadata": {},
     "output_type": "execute_result"
    },
    {
     "data": {
      "image/png": "[encoded data removed]",
      "text/plain": [
       "<Figure size 432x288 with 1 Axes>"
      ]
     },
     "metadata": {
      "needs_background": "light"
     },
     "output_type": "display_data"
    }
   ],
   "source": [
    "sess.run(tf.global_variables_initializer())\n",
    "\n",
    "cs = []\n",
    "for step in range(30001):   \n",
    "    c, w_, b_, _ = sess.run([cost,w,b,update])\n",
    "    cs.append(c)   \n",
    "    if  step % 5000 ==  0:\n",
    "        print(\"step %d  :  cost=%f    w=%f    b=%f\"\n",
    "          % (step, c, w_, b_) )\n",
    "    \n",
    "plt.plot(cs)"
   ]
  },
  {
   "cell_type": "code",
   "execution_count": 29,
   "id": "2e9db75c",
   "metadata": {},
   "outputs": [
    {
     "data": {
      "text/plain": [
       "[<matplotlib.lines.Line2D at 0x1fd47e6a588>]"
      ]
     },
     "execution_count": 29,
     "metadata": {},
     "output_type": "execute_result"
    },
    {
     "data": {
      "image/png": "[encoded data removed]",
      "text/plain": [
       "<Figure size 432x288 with 1 Axes>"
      ]
     },
     "metadata": {
      "needs_background": "light"
     },
     "output_type": "display_data"
    }
   ],
   "source": [
    "plt.xlabel('hour')\n",
    "plt.ylabel('score')\n",
    "plt.plot(x_data, y_data, 'go')\n",
    "h = sess.run(hypothesis)\n",
    "plt.plot(x_data, h ,  'b')"
   ]
  },
  {
   "cell_type": "markdown",
   "id": "576de65a",
   "metadata": {},
   "source": [
    "### 위도 - 피부암"
   ]
  },
  {
   "cell_type": "code",
   "execution_count": 30,
   "id": "b8f6d024",
   "metadata": {},
   "outputs": [
    {
     "name": "stdout",
     "output_type": "stream",
     "text": [
      "(49, 2)\n"
     ]
    },
    {
     "data": {
      "text/plain": [
       "<matplotlib.collections.PathCollection at 0x1fd490fde48>"
      ]
     },
     "execution_count": 30,
     "metadata": {},
     "output_type": "execute_result"
    },
    {
     "data": {
      "image/png": "[encoded data removed]",
      "text/plain": [
       "<Figure size 432x288 with 1 Axes>"
      ]
     },
     "metadata": {
      "needs_background": "light"
     },
     "output_type": "display_data"
    }
   ],
   "source": [
    "data = np.loadtxt(\"skin.csv\", delimiter=\",\", dtype=np.float32)\n",
    "\n",
    "print(data.shape)\n",
    "\n",
    "x_data = data[:,0]\n",
    "y_data = data[:,1]\n",
    "\n",
    "plt.scatter(x_data, y_data, color='red')"
   ]
  },
  {
   "cell_type": "code",
   "execution_count": 31,
   "id": "0a2ec967",
   "metadata": {},
   "outputs": [
    {
     "name": "stdout",
     "output_type": "stream",
     "text": [
      "step 0  :  cost=118.261681    w=1.000000    b=1.000000\n",
      "step 5000  :  cost=79.231934    w=1.302961    b=31.918158\n",
      "step 10000  :  cost=79.231979    w=0.544506    b=60.349510\n",
      "step 15000  :  cost=79.232040    w=-0.148941    b=86.518082\n",
      "step 20000  :  cost=79.232056    w=-0.783533    b=110.603905\n",
      "step 25000  :  cost=79.232056    w=-1.364690    b=132.772781\n",
      "step 30000  :  cost=79.232101    w=-1.897228    b=153.177231\n",
      "step 35000  :  cost=79.232124    w=-2.385451    b=171.957626\n",
      "step 40000  :  cost=79.232147    w=-2.833234    b=189.243225\n",
      "step 45000  :  cost=79.232124    w=-3.244080    b=205.153351\n",
      "step 50000  :  cost=79.232094    w=-3.621144    b=219.797089\n"
     ]
    },
    {
     "data": {
      "text/plain": [
       "[<matplotlib.lines.Line2D at 0x1fd49287c48>]"
      ]
     },
     "execution_count": 31,
     "metadata": {},
     "output_type": "execute_result"
    },
    {
     "data": {
      "image/png": "[encoded data removed]",
      "text/plain": [
       "<Figure size 432x288 with 1 Axes>"
      ]
     },
     "metadata": {
      "needs_background": "light"
     },
     "output_type": "display_data"
    }
   ],
   "source": [
    "w = tf.Variable(1.0)\n",
    "b =  tf.Variable(1.0)\n",
    "hypothesis = w * x_data + b\n",
    "cost = tf.sqrt(tf.reduce_mean(tf.square( hypothesis - y_data )))\n",
    "learning_rate = 0.1   \n",
    "update = tf.train.GradientDescentOptimizer(learning_rate).minimize(cost)\n",
    "\n",
    "sess.run(tf.global_variables_initializer())\n",
    "\n",
    "cs = []\n",
    "for step in range(50001):\n",
    "    c, w_, b_, _ = sess.run([cost,w, b,update])\n",
    "    cs.append(c)   \n",
    "    if  step % 5000 == 0 :\n",
    "        print(\"step %d  :  cost=%f    w=%f    b=%f\"  % (step, c, w_, b_) )\n",
    "    \n",
    "plt.plot(cs)"
   ]
  },
  {
   "cell_type": "code",
   "execution_count": 32,
   "id": "405be461",
   "metadata": {},
   "outputs": [
    {
     "data": {
      "text/plain": [
       "[<matplotlib.lines.Line2D at 0x1fd49110e88>]"
      ]
     },
     "execution_count": 32,
     "metadata": {},
     "output_type": "execute_result"
    },
    {
     "data": {
      "image/png": "[encoded data removed]",
      "text/plain": [
       "<Figure size 432x288 with 1 Axes>"
      ]
     },
     "metadata": {
      "needs_background": "light"
     },
     "output_type": "display_data"
    }
   ],
   "source": [
    "plt.scatter(x_data, y_data, color='red')\n",
    "h = sess.run(hypothesis)\n",
    "plt.plot(x_data, h ,  'b')"
   ]
  },
  {
   "cell_type": "markdown",
   "id": "6c0a8082",
   "metadata": {},
   "source": [
    "학습 데이터 범위 너무 커서 학습이 잘 안됨"
   ]
  },
  {
   "cell_type": "markdown",
   "id": "1932e2df",
   "metadata": {},
   "source": [
    "####  데이터 정규 화 후 재학습"
   ]
  },
  {
   "cell_type": "code",
   "execution_count": 33,
   "id": "c6d4be44",
   "metadata": {},
   "outputs": [],
   "source": [
    "x_data = data[:,0] / 50\n",
    "y_data = data[:,1] / 250"
   ]
  },
  {
   "cell_type": "code",
   "execution_count": 34,
   "id": "e8d1a66c",
   "metadata": {},
   "outputs": [
    {
     "name": "stdout",
     "output_type": "stream",
     "text": [
      "step 0  :  cost=1.022978    w=0.912746    b=0.891767\n",
      "step 1000  :  cost=0.089559    w=-1.215343    b=1.523333\n",
      "step 2000  :  cost=0.089559    w=-1.219471    b=1.526612\n",
      "step 3000  :  cost=0.089559    w=-1.219472    b=1.526613\n"
     ]
    }
   ],
   "source": [
    "w = tf.Variable(1.0)\n",
    "b =  tf.Variable(1.0)\n",
    "hypothesis = w * x_data + b\n",
    "cost = tf.sqrt(tf.reduce_mean(tf.square( hypothesis - y_data )))\n",
    "learning_rate = 0.11   \n",
    "update = tf.train.GradientDescentOptimizer(learning_rate).minimize(cost)\n",
    "\n",
    "sess.run(tf.global_variables_initializer())\n",
    "\n",
    "cs = []\n",
    "for step in range(3001):\n",
    "    sess.run(update)\n",
    "    c, w_, b_ = sess.run([cost,w, b])\n",
    "    cs.append(c)   \n",
    "    if  step % 1000 == 0 :\n",
    "        print(\"step %d  :  cost=%f    w=%f    b=%f\"\n",
    "          % (step, c, w_, b_) )\n",
    "    "
   ]
  },
  {
   "cell_type": "code",
   "execution_count": 35,
   "id": "92f532f9",
   "metadata": {},
   "outputs": [
    {
     "data": {
      "text/plain": [
       "[<matplotlib.lines.Line2D at 0x1fd490e1808>]"
      ]
     },
     "execution_count": 35,
     "metadata": {},
     "output_type": "execute_result"
    },
    {
     "data": {
      "image/png": "[encoded data removed]",
      "text/plain": [
       "<Figure size 432x288 with 1 Axes>"
      ]
     },
     "metadata": {
      "needs_background": "light"
     },
     "output_type": "display_data"
    }
   ],
   "source": [
    "plt.scatter(x_data, y_data, color='red')\n",
    "h = sess.run(hypothesis)\n",
    "plt.plot(x_data, h ,  'b')"
   ]
  },
  {
   "cell_type": "code",
   "execution_count": 36,
   "id": "a94f14dc",
   "metadata": {
    "scrolled": true
   },
   "outputs": [
    {
     "name": "stdout",
     "output_type": "stream",
     "text": [
      "[-38.715965]\n"
     ]
    }
   ],
   "source": [
    "predict = w * [33] + b\n",
    "p = sess.run(predict)\n",
    "print(p)"
   ]
  },
  {
   "cell_type": "markdown",
   "id": "3202daf0",
   "metadata": {},
   "source": [
    "데이터 정규화 때문 이상한 값 나옴  \n",
    "-> 정규화해서 다시 predict"
   ]
  },
  {
   "cell_type": "code",
   "execution_count": 37,
   "id": "ffa58ed7",
   "metadata": {},
   "outputs": [
    {
     "name": "stdout",
     "output_type": "stream",
     "text": [
      "[180.44032]\n"
     ]
    }
   ],
   "source": [
    "predict = w * [33/50.0] + b\n",
    "p = sess.run(predict)\n",
    "print(p*250)"
   ]
  },
  {
   "cell_type": "markdown",
   "id": "a054030c",
   "metadata": {},
   "source": [
    "####  정규화 max로"
   ]
  },
  {
   "cell_type": "code",
   "execution_count": 38,
   "id": "43b7cd38",
   "metadata": {},
   "outputs": [
    {
     "data": {
      "text/plain": [
       "<matplotlib.collections.PathCollection at 0x1fd47fac088>"
      ]
     },
     "execution_count": 38,
     "metadata": {},
     "output_type": "execute_result"
    },
    {
     "data": {
      "image/png": "[encoded data removed]",
      "text/plain": [
       "<Figure size 432x288 with 1 Axes>"
      ]
     },
     "metadata": {
      "needs_background": "light"
     },
     "output_type": "display_data"
    }
   ],
   "source": [
    "data = np.loadtxt(\"skin.csv\", delimiter=\",\", dtype=np.float32)\n",
    "\n",
    "x=data[:,0]\n",
    "y=data[:,1]\n",
    "\n",
    "x_data = x / np.max(x)\n",
    "y_data = y / np.max(y)\n",
    "plt.scatter(x_data, y_data, color='red')"
   ]
  },
  {
   "cell_type": "code",
   "execution_count": 39,
   "id": "b65112f1",
   "metadata": {},
   "outputs": [
    {
     "name": "stdout",
     "output_type": "stream",
     "text": [
      "step 0  :  cost=1.021748    w=0.916611    b=0.901898\n",
      "step 1000  :  cost=0.084823    w=-1.246175    b=1.682123\n",
      "step 2000  :  cost=0.084823    w=-1.251041    b=1.686190\n",
      "step 3000  :  cost=0.084823    w=-1.251044    b=1.686192\n"
     ]
    },
    {
     "data": {
      "text/plain": [
       "[<matplotlib.lines.Line2D at 0x1fd49412fc8>]"
      ]
     },
     "execution_count": 39,
     "metadata": {},
     "output_type": "execute_result"
    },
    {
     "data": {
      "image/png": "[encoded data removed]",
      "text/plain": [
       "<Figure size 432x288 with 1 Axes>"
      ]
     },
     "metadata": {
      "needs_background": "light"
     },
     "output_type": "display_data"
    }
   ],
   "source": [
    "w = tf.Variable(1.0)\n",
    "b =  tf.Variable(1.0)\n",
    "hypothesis = w * x_data + b\n",
    "cost = tf.sqrt(tf.reduce_mean(tf.square( hypothesis - y_data )))\n",
    "learning_rate = 0.1  \n",
    "update = tf.train.GradientDescentOptimizer(learning_rate).minimize(cost)\n",
    "\n",
    "sess.run(tf.global_variables_initializer())\n",
    "\n",
    "cs = []\n",
    "for step in range(3001):\n",
    "    sess.run(update)\n",
    "    c, w_, b_ = sess.run([cost,w, b])\n",
    "    cs.append(c)   \n",
    "    if  step % 1000 == 0 :\n",
    "        print(\"step %d  :  cost=%f    w=%f    b=%f\"\n",
    "          % (step, c, w_, b_) )\n",
    "\n",
    "plt.scatter(x_data, y_data, color='red')\n",
    "plt.plot(x_data, sess.run(hypothesis) ,  'b')"
   ]
  },
  {
   "cell_type": "code",
   "execution_count": 40,
   "id": "42e093bd",
   "metadata": {},
   "outputs": [
    {
     "name": "stdout",
     "output_type": "stream",
     "text": [
      "[187.10353]\n"
     ]
    }
   ],
   "source": [
    "predict = w * [33/np.max(x)] + b\n",
    "p = sess.run(predict)\n",
    "print(p*np.max(y))"
   ]
  },
  {
   "cell_type": "markdown",
   "id": "e5b92149",
   "metadata": {},
   "source": [
    "###  보스턴"
   ]
  },
  {
   "cell_type": "code",
   "execution_count": 41,
   "id": "46580dd2",
   "metadata": {},
   "outputs": [
    {
     "name": "stdout",
     "output_type": "stream",
     "text": [
      "(506, 15)\n"
     ]
    },
    {
     "data": {
      "text/plain": [
       "<matplotlib.collections.PathCollection at 0x1fd4a4781c8>"
      ]
     },
     "execution_count": 41,
     "metadata": {},
     "output_type": "execute_result"
    },
    {
     "data": {
      "image/png": "[encoded data removed]",
      "text/plain": [
       "<Figure size 432x288 with 1 Axes>"
      ]
     },
     "metadata": {
      "needs_background": "light"
     },
     "output_type": "display_data"
    }
   ],
   "source": [
    "data = np.loadtxt(\"bostonhousing.csv\", delimiter=\",\", dtype=np.float32)\n",
    "\n",
    "print(data.shape)\n",
    "tit = ['#CRIM',\t'ZN', 'INDUS','CHAS', 'NOX', 'RM', 'AGE' ,'DIS' ,'RAD', 'TAX', 'PTRATIO', 'B', 'LSTAT', 'MEDV'  ]\n",
    "\n",
    "x =  data[:, 5]    \n",
    "y =  data[:, 13]              \n",
    "plt.scatter(x, y, color='red')"
   ]
  },
  {
   "cell_type": "code",
   "execution_count": 42,
   "id": "07e3b234",
   "metadata": {},
   "outputs": [
    {
     "data": {
      "text/plain": [
       "<matplotlib.collections.PathCollection at 0x1fd4a4f1488>"
      ]
     },
     "execution_count": 42,
     "metadata": {},
     "output_type": "execute_result"
    },
    {
     "data": {
      "image/png": "[encoded data removed]",
      "text/plain": [
       "<Figure size 432x288 with 1 Axes>"
      ]
     },
     "metadata": {
      "needs_background": "light"
     },
     "output_type": "display_data"
    }
   ],
   "source": [
    "x_data = x / np.max(x)\n",
    "y_data = y / np.max(y)\n",
    "plt.scatter(x_data, y_data, color='red')"
   ]
  },
  {
   "cell_type": "code",
   "execution_count": 43,
   "id": "24beaf06",
   "metadata": {},
   "outputs": [
    {
     "name": "stdout",
     "output_type": "stream",
     "text": [
      "step 0  :  cost=1.272907    w=1.000000    b=1.000000\n",
      "step 1000  :  cost=0.132138    w=1.542032    b=-0.652944\n",
      "step 2000  :  cost=0.132062    w=1.596036    b=-0.691763\n",
      "step 3000  :  cost=0.132061    w=1.598237    b=-0.693345\n",
      "step 4000  :  cost=0.132061    w=1.598315    b=-0.693401\n",
      "1.5983145 -0.6934011\n"
     ]
    },
    {
     "data": {
      "image/png": "[encoded data removed]",
      "text/plain": [
       "<Figure size 432x288 with 1 Axes>"
      ]
     },
     "metadata": {
      "needs_background": "light"
     },
     "output_type": "display_data"
    }
   ],
   "source": [
    "w = tf.Variable(1.0)\n",
    "b =  tf.Variable(1.0)\n",
    "hypothesis = w * x_data + b\n",
    "cost = tf.sqrt(tf.reduce_mean(tf.square( hypothesis - y_data )))\n",
    "learning_rate = 0.1\n",
    "update = tf.train.GradientDescentOptimizer(learning_rate).minimize(cost)\n",
    "\n",
    "sess.run(tf.global_variables_initializer())\n",
    "\n",
    "cs = []\n",
    "for step in range(4001):\n",
    "    c, w_, b_, _ = sess.run([cost,w, b,update])\n",
    "    cs.append(c)   \n",
    "    if  step % 1000 == 0 :\n",
    "        print(\"step %d  :  cost=%f    w=%f    b=%f\"\n",
    "          % (step, c, w_, b_) )    \n",
    "plt.plot(cs)\n",
    "print(w_, b_)"
   ]
  },
  {
   "cell_type": "code",
   "execution_count": 44,
   "id": "ed6a7b3e",
   "metadata": {},
   "outputs": [
    {
     "data": {
      "text/plain": [
       "[<matplotlib.lines.Line2D at 0x1fd4a53cd88>]"
      ]
     },
     "execution_count": 44,
     "metadata": {},
     "output_type": "execute_result"
    },
    {
     "data": {
      "image/png": "[encoded data removed]",
      "text/plain": [
       "<Figure size 432x288 with 1 Axes>"
      ]
     },
     "metadata": {
      "needs_background": "light"
     },
     "output_type": "display_data"
    }
   ],
   "source": [
    "plt.scatter(x_data, y_data, color='red')\n",
    "plt.plot(x_data, sess.run(hypothesis) ,  'g')"
   ]
  },
  {
   "cell_type": "code",
   "execution_count": null,
   "id": "17f58ead",
   "metadata": {},
   "outputs": [],
   "source": []
  }
 ],
 "metadata": {
  "kernelspec": {
   "display_name": "Python 3 (ipykernel)",
   "language": "python",
   "name": "python3"
  },
  "language_info": {
   "codemirror_mode": {
    "name": "ipython",
    "version": 3
   },
   "file_extension": ".py",
   "mimetype": "text/x-python",
   "name": "python",
   "nbconvert_exporter": "python",
   "pygments_lexer": "ipython3",
   "version": "3.7.10"
  }
 },
 "nbformat": 4,
 "nbformat_minor": 5
}
