{
 "cells": [
  {
   "cell_type": "code",
   "execution_count": 1,
   "id": "b81c863a",
   "metadata": {},
   "outputs": [],
   "source": [
    "from torchsummary import summary\n",
    "from efficientnet_pytorch import EfficientNet\n",
    "\n",
    "import os\n",
    "import torch\n",
    "import torchvision.transforms as transforms\n",
    "import torch.optim as optim\n",
    "import torch.nn as nn\n",
    "import time\n",
    "import copy\n",
    "\n",
    "from torch.optim import lr_scheduler\n",
    "from torchvision import datasets\n",
    "from efficientnet_pytorch import EfficientNet\n",
    "from torch.utils.tensorboard import SummaryWriter\n",
    "from tqdm import tqdm"
   ]
  },
  {
   "cell_type": "code",
   "execution_count": 2,
   "id": "a244fa2e",
   "metadata": {},
   "outputs": [],
   "source": [
    "torch.cuda.empty_cache() "
   ]
  },
  {
   "cell_type": "code",
   "execution_count": 3,
   "id": "c9ad536f",
   "metadata": {},
   "outputs": [
    {
     "data": {
      "text/plain": [
       "<torch._C.Generator at 0x7f7654c69db0>"
      ]
     },
     "execution_count": 3,
     "metadata": {},
     "output_type": "execute_result"
    }
   ],
   "source": [
    "torch.manual_seed(42)"
   ]
  },
  {
   "cell_type": "code",
   "execution_count": 4,
   "id": "d80ca7e4",
   "metadata": {},
   "outputs": [
    {
     "name": "stdout",
     "output_type": "stream",
     "text": [
      "device     cuda:0\n"
     ]
    }
   ],
   "source": [
    "device = torch.device(\"cuda:0\" if torch.cuda.is_available() else \"cpu\")\n",
    "print('device    ', device)"
   ]
  },
  {
   "cell_type": "code",
   "execution_count": 5,
   "id": "77b81877",
   "metadata": {},
   "outputs": [
    {
     "name": "stdout",
     "output_type": "stream",
     "text": [
      "Loaded pretrained weights for efficientnet-b4\n"
     ]
    }
   ],
   "source": [
    "\n",
    "NUM_CLASSES = 5\n",
    "\n",
    "model = EfficientNet.from_pretrained('efficientnet-b4', num_classes=5)"
   ]
  },
  {
   "cell_type": "code",
   "execution_count": 6,
   "id": "e5120cbd",
   "metadata": {},
   "outputs": [
    {
     "name": "stdout",
     "output_type": "stream",
     "text": [
      "Linear(in_features=1792, out_features=5, bias=True)\n"
     ]
    }
   ],
   "source": [
    "print(model._fc)"
   ]
  },
  {
   "cell_type": "code",
   "execution_count": 7,
   "id": "c3241512",
   "metadata": {},
   "outputs": [],
   "source": [
    "batch_size = 8\n",
    "epochs = 50\n",
    "data_dir = './dataset'"
   ]
  },
  {
   "cell_type": "code",
   "execution_count": 8,
   "id": "e2ef1c17",
   "metadata": {},
   "outputs": [],
   "source": [
    "writer = SummaryWriter('./runs/experiment1/')"
   ]
  },
  {
   "cell_type": "code",
   "execution_count": 9,
   "id": "c24984a9",
   "metadata": {},
   "outputs": [],
   "source": [
    "data_transforms = {'train': transforms.Compose([\n",
    "    # transforms.Resize(300,300),\n",
    "#     transforms.RandomRotation(30),\n",
    "#     transforms.RandomHorizontalFlip(),\n",
    "    transforms.ToTensor(),\n",
    "    transforms.Normalize([0.485, 0.456, 0.406], [0.229, 0.224, 0.225])\n",
    "]),\n",
    "    'val': transforms.Compose([\n",
    "        # transforms.Resize(300,300),\n",
    "        transforms.ToTensor(),\n",
    "        transforms.Normalize([0.485, 0.456, 0.406], [0.229, 0.224, 0.225]),\n",
    "#         transforms.Resize(200,200)\n",
    "    ])}"
   ]
  },
  {
   "cell_type": "code",
   "execution_count": 10,
   "id": "1262a3b2",
   "metadata": {},
   "outputs": [],
   "source": [
    "image_datasets = {x: datasets.ImageFolder(os.path.join(data_dir, x),\n",
    "                                          data_transforms[x])\n",
    "                  for x in ['train', 'val']}"
   ]
  },
  {
   "cell_type": "code",
   "execution_count": 11,
   "id": "7efd3b1b",
   "metadata": {},
   "outputs": [
    {
     "data": {
      "text/plain": [
       "{'train': Dataset ImageFolder\n",
       "     Number of datapoints: 3818\n",
       "     Root location: ./dataset/train\n",
       "     StandardTransform\n",
       " Transform: Compose(\n",
       "                ToTensor()\n",
       "                Normalize(mean=[0.485, 0.456, 0.406], std=[0.229, 0.224, 0.225])\n",
       "            ),\n",
       " 'val': Dataset ImageFolder\n",
       "     Number of datapoints: 1906\n",
       "     Root location: ./dataset/val\n",
       "     StandardTransform\n",
       " Transform: Compose(\n",
       "                ToTensor()\n",
       "                Normalize(mean=[0.485, 0.456, 0.406], std=[0.229, 0.224, 0.225])\n",
       "            )}"
      ]
     },
     "execution_count": 11,
     "metadata": {},
     "output_type": "execute_result"
    }
   ],
   "source": [
    "image_datasets"
   ]
  },
  {
   "cell_type": "code",
   "execution_count": 12,
   "id": "527072c4",
   "metadata": {},
   "outputs": [],
   "source": [
    "dataloaders = {x: torch.utils.data.DataLoader(image_datasets[x], batch_size=batch_size,\n",
    "                                              shuffle=True, num_workers=4)\n",
    "               for x in ['train', 'val']}"
   ]
  },
  {
   "cell_type": "code",
   "execution_count": 17,
   "id": "52d12316",
   "metadata": {},
   "outputs": [
    {
     "name": "stdout",
     "output_type": "stream",
     "text": [
      "<torch.utils.data.dataloader.DataLoader object at 0x7f748beb95f8>\n"
     ]
    }
   ],
   "source": [
    "print(dataloaders['train'])"
   ]
  },
  {
   "cell_type": "code",
   "execution_count": 16,
   "id": "5da22eef",
   "metadata": {},
   "outputs": [
    {
     "data": {
      "text/plain": [
       "<torch.utils.data.dataloader.DataLoader at 0x7f748beb97b8>"
      ]
     },
     "execution_count": 16,
     "metadata": {},
     "output_type": "execute_result"
    }
   ],
   "source": [
    "dataloaders['val']"
   ]
  },
  {
   "cell_type": "code",
   "execution_count": 18,
   "id": "e8d86dbe",
   "metadata": {},
   "outputs": [],
   "source": [
    "dataset_sizes = {x: len(image_datasets[x]) for x in ['train', 'val']}"
   ]
  },
  {
   "cell_type": "code",
   "execution_count": 19,
   "id": "f815e38d",
   "metadata": {},
   "outputs": [
    {
     "data": {
      "text/plain": [
       "['1_CH_NG', '1_DOUBLE_NG', '1_PO_NG', '1_SEAL_NG', 'OK']"
      ]
     },
     "execution_count": 19,
     "metadata": {},
     "output_type": "execute_result"
    }
   ],
   "source": [
    "class_names = image_datasets['train'].classes\n",
    "class_names"
   ]
  },
  {
   "cell_type": "code",
   "execution_count": 20,
   "id": "dc143a7a",
   "metadata": {},
   "outputs": [
    {
     "data": {
      "text/plain": [
       "EfficientNet(\n",
       "  (_conv_stem): Conv2dStaticSamePadding(\n",
       "    3, 48, kernel_size=(3, 3), stride=(2, 2), bias=False\n",
       "    (static_padding): ZeroPad2d(padding=(0, 1, 0, 1), value=0.0)\n",
       "  )\n",
       "  (_bn0): BatchNorm2d(48, eps=0.001, momentum=0.010000000000000009, affine=True, track_running_stats=True)\n",
       "  (_blocks): ModuleList(\n",
       "    (0): MBConvBlock(\n",
       "      (_depthwise_conv): Conv2dStaticSamePadding(\n",
       "        48, 48, kernel_size=(3, 3), stride=[1, 1], groups=48, bias=False\n",
       "        (static_padding): ZeroPad2d(padding=(1, 1, 1, 1), value=0.0)\n",
       "      )\n",
       "      (_bn1): BatchNorm2d(48, eps=0.001, momentum=0.010000000000000009, affine=True, track_running_stats=True)\n",
       "      (_se_reduce): Conv2dStaticSamePadding(\n",
       "        48, 12, kernel_size=(1, 1), stride=(1, 1)\n",
       "        (static_padding): Identity()\n",
       "      )\n",
       "      (_se_expand): Conv2dStaticSamePadding(\n",
       "        12, 48, kernel_size=(1, 1), stride=(1, 1)\n",
       "        (static_padding): Identity()\n",
       "      )\n",
       "      (_project_conv): Conv2dStaticSamePadding(\n",
       "        48, 24, kernel_size=(1, 1), stride=(1, 1), bias=False\n",
       "        (static_padding): Identity()\n",
       "      )\n",
       "      (_bn2): BatchNorm2d(24, eps=0.001, momentum=0.010000000000000009, affine=True, track_running_stats=True)\n",
       "      (_swish): MemoryEfficientSwish()\n",
       "    )\n",
       "    (1): MBConvBlock(\n",
       "      (_depthwise_conv): Conv2dStaticSamePadding(\n",
       "        24, 24, kernel_size=(3, 3), stride=(1, 1), groups=24, bias=False\n",
       "        (static_padding): ZeroPad2d(padding=(1, 1, 1, 1), value=0.0)\n",
       "      )\n",
       "      (_bn1): BatchNorm2d(24, eps=0.001, momentum=0.010000000000000009, affine=True, track_running_stats=True)\n",
       "      (_se_reduce): Conv2dStaticSamePadding(\n",
       "        24, 6, kernel_size=(1, 1), stride=(1, 1)\n",
       "        (static_padding): Identity()\n",
       "      )\n",
       "      (_se_expand): Conv2dStaticSamePadding(\n",
       "        6, 24, kernel_size=(1, 1), stride=(1, 1)\n",
       "        (static_padding): Identity()\n",
       "      )\n",
       "      (_project_conv): Conv2dStaticSamePadding(\n",
       "        24, 24, kernel_size=(1, 1), stride=(1, 1), bias=False\n",
       "        (static_padding): Identity()\n",
       "      )\n",
       "      (_bn2): BatchNorm2d(24, eps=0.001, momentum=0.010000000000000009, affine=True, track_running_stats=True)\n",
       "      (_swish): MemoryEfficientSwish()\n",
       "    )\n",
       "    (2): MBConvBlock(\n",
       "      (_expand_conv): Conv2dStaticSamePadding(\n",
       "        24, 144, kernel_size=(1, 1), stride=(1, 1), bias=False\n",
       "        (static_padding): Identity()\n",
       "      )\n",
       "      (_bn0): BatchNorm2d(144, eps=0.001, momentum=0.010000000000000009, affine=True, track_running_stats=True)\n",
       "      (_depthwise_conv): Conv2dStaticSamePadding(\n",
       "        144, 144, kernel_size=(3, 3), stride=[2, 2], groups=144, bias=False\n",
       "        (static_padding): ZeroPad2d(padding=(0, 1, 0, 1), value=0.0)\n",
       "      )\n",
       "      (_bn1): BatchNorm2d(144, eps=0.001, momentum=0.010000000000000009, affine=True, track_running_stats=True)\n",
       "      (_se_reduce): Conv2dStaticSamePadding(\n",
       "        144, 6, kernel_size=(1, 1), stride=(1, 1)\n",
       "        (static_padding): Identity()\n",
       "      )\n",
       "      (_se_expand): Conv2dStaticSamePadding(\n",
       "        6, 144, kernel_size=(1, 1), stride=(1, 1)\n",
       "        (static_padding): Identity()\n",
       "      )\n",
       "      (_project_conv): Conv2dStaticSamePadding(\n",
       "        144, 32, kernel_size=(1, 1), stride=(1, 1), bias=False\n",
       "        (static_padding): Identity()\n",
       "      )\n",
       "      (_bn2): BatchNorm2d(32, eps=0.001, momentum=0.010000000000000009, affine=True, track_running_stats=True)\n",
       "      (_swish): MemoryEfficientSwish()\n",
       "    )\n",
       "    (3): MBConvBlock(\n",
       "      (_expand_conv): Conv2dStaticSamePadding(\n",
       "        32, 192, kernel_size=(1, 1), stride=(1, 1), bias=False\n",
       "        (static_padding): Identity()\n",
       "      )\n",
       "      (_bn0): BatchNorm2d(192, eps=0.001, momentum=0.010000000000000009, affine=True, track_running_stats=True)\n",
       "      (_depthwise_conv): Conv2dStaticSamePadding(\n",
       "        192, 192, kernel_size=(3, 3), stride=(1, 1), groups=192, bias=False\n",
       "        (static_padding): ZeroPad2d(padding=(1, 1, 1, 1), value=0.0)\n",
       "      )\n",
       "      (_bn1): BatchNorm2d(192, eps=0.001, momentum=0.010000000000000009, affine=True, track_running_stats=True)\n",
       "      (_se_reduce): Conv2dStaticSamePadding(\n",
       "        192, 8, kernel_size=(1, 1), stride=(1, 1)\n",
       "        (static_padding): Identity()\n",
       "      )\n",
       "      (_se_expand): Conv2dStaticSamePadding(\n",
       "        8, 192, kernel_size=(1, 1), stride=(1, 1)\n",
       "        (static_padding): Identity()\n",
       "      )\n",
       "      (_project_conv): Conv2dStaticSamePadding(\n",
       "        192, 32, kernel_size=(1, 1), stride=(1, 1), bias=False\n",
       "        (static_padding): Identity()\n",
       "      )\n",
       "      (_bn2): BatchNorm2d(32, eps=0.001, momentum=0.010000000000000009, affine=True, track_running_stats=True)\n",
       "      (_swish): MemoryEfficientSwish()\n",
       "    )\n",
       "    (4): MBConvBlock(\n",
       "      (_expand_conv): Conv2dStaticSamePadding(\n",
       "        32, 192, kernel_size=(1, 1), stride=(1, 1), bias=False\n",
       "        (static_padding): Identity()\n",
       "      )\n",
       "      (_bn0): BatchNorm2d(192, eps=0.001, momentum=0.010000000000000009, affine=True, track_running_stats=True)\n",
       "      (_depthwise_conv): Conv2dStaticSamePadding(\n",
       "        192, 192, kernel_size=(3, 3), stride=(1, 1), groups=192, bias=False\n",
       "        (static_padding): ZeroPad2d(padding=(1, 1, 1, 1), value=0.0)\n",
       "      )\n",
       "      (_bn1): BatchNorm2d(192, eps=0.001, momentum=0.010000000000000009, affine=True, track_running_stats=True)\n",
       "      (_se_reduce): Conv2dStaticSamePadding(\n",
       "        192, 8, kernel_size=(1, 1), stride=(1, 1)\n",
       "        (static_padding): Identity()\n",
       "      )\n",
       "      (_se_expand): Conv2dStaticSamePadding(\n",
       "        8, 192, kernel_size=(1, 1), stride=(1, 1)\n",
       "        (static_padding): Identity()\n",
       "      )\n",
       "      (_project_conv): Conv2dStaticSamePadding(\n",
       "        192, 32, kernel_size=(1, 1), stride=(1, 1), bias=False\n",
       "        (static_padding): Identity()\n",
       "      )\n",
       "      (_bn2): BatchNorm2d(32, eps=0.001, momentum=0.010000000000000009, affine=True, track_running_stats=True)\n",
       "      (_swish): MemoryEfficientSwish()\n",
       "    )\n",
       "    (5): MBConvBlock(\n",
       "      (_expand_conv): Conv2dStaticSamePadding(\n",
       "        32, 192, kernel_size=(1, 1), stride=(1, 1), bias=False\n",
       "        (static_padding): Identity()\n",
       "      )\n",
       "      (_bn0): BatchNorm2d(192, eps=0.001, momentum=0.010000000000000009, affine=True, track_running_stats=True)\n",
       "      (_depthwise_conv): Conv2dStaticSamePadding(\n",
       "        192, 192, kernel_size=(3, 3), stride=(1, 1), groups=192, bias=False\n",
       "        (static_padding): ZeroPad2d(padding=(1, 1, 1, 1), value=0.0)\n",
       "      )\n",
       "      (_bn1): BatchNorm2d(192, eps=0.001, momentum=0.010000000000000009, affine=True, track_running_stats=True)\n",
       "      (_se_reduce): Conv2dStaticSamePadding(\n",
       "        192, 8, kernel_size=(1, 1), stride=(1, 1)\n",
       "        (static_padding): Identity()\n",
       "      )\n",
       "      (_se_expand): Conv2dStaticSamePadding(\n",
       "        8, 192, kernel_size=(1, 1), stride=(1, 1)\n",
       "        (static_padding): Identity()\n",
       "      )\n",
       "      (_project_conv): Conv2dStaticSamePadding(\n",
       "        192, 32, kernel_size=(1, 1), stride=(1, 1), bias=False\n",
       "        (static_padding): Identity()\n",
       "      )\n",
       "      (_bn2): BatchNorm2d(32, eps=0.001, momentum=0.010000000000000009, affine=True, track_running_stats=True)\n",
       "      (_swish): MemoryEfficientSwish()\n",
       "    )\n",
       "    (6): MBConvBlock(\n",
       "      (_expand_conv): Conv2dStaticSamePadding(\n",
       "        32, 192, kernel_size=(1, 1), stride=(1, 1), bias=False\n",
       "        (static_padding): Identity()\n",
       "      )\n",
       "      (_bn0): BatchNorm2d(192, eps=0.001, momentum=0.010000000000000009, affine=True, track_running_stats=True)\n",
       "      (_depthwise_conv): Conv2dStaticSamePadding(\n",
       "        192, 192, kernel_size=(5, 5), stride=[2, 2], groups=192, bias=False\n",
       "        (static_padding): ZeroPad2d(padding=(2, 2, 2, 2), value=0.0)\n",
       "      )\n",
       "      (_bn1): BatchNorm2d(192, eps=0.001, momentum=0.010000000000000009, affine=True, track_running_stats=True)\n",
       "      (_se_reduce): Conv2dStaticSamePadding(\n",
       "        192, 8, kernel_size=(1, 1), stride=(1, 1)\n",
       "        (static_padding): Identity()\n",
       "      )\n",
       "      (_se_expand): Conv2dStaticSamePadding(\n",
       "        8, 192, kernel_size=(1, 1), stride=(1, 1)\n",
       "        (static_padding): Identity()\n",
       "      )\n",
       "      (_project_conv): Conv2dStaticSamePadding(\n",
       "        192, 56, kernel_size=(1, 1), stride=(1, 1), bias=False\n",
       "        (static_padding): Identity()\n",
       "      )\n",
       "      (_bn2): BatchNorm2d(56, eps=0.001, momentum=0.010000000000000009, affine=True, track_running_stats=True)\n",
       "      (_swish): MemoryEfficientSwish()\n",
       "    )\n",
       "    (7): MBConvBlock(\n",
       "      (_expand_conv): Conv2dStaticSamePadding(\n",
       "        56, 336, kernel_size=(1, 1), stride=(1, 1), bias=False\n",
       "        (static_padding): Identity()\n",
       "      )\n",
       "      (_bn0): BatchNorm2d(336, eps=0.001, momentum=0.010000000000000009, affine=True, track_running_stats=True)\n",
       "      (_depthwise_conv): Conv2dStaticSamePadding(\n",
       "        336, 336, kernel_size=(5, 5), stride=(1, 1), groups=336, bias=False\n",
       "        (static_padding): ZeroPad2d(padding=(2, 2, 2, 2), value=0.0)\n",
       "      )\n",
       "      (_bn1): BatchNorm2d(336, eps=0.001, momentum=0.010000000000000009, affine=True, track_running_stats=True)\n",
       "      (_se_reduce): Conv2dStaticSamePadding(\n",
       "        336, 14, kernel_size=(1, 1), stride=(1, 1)\n",
       "        (static_padding): Identity()\n",
       "      )\n",
       "      (_se_expand): Conv2dStaticSamePadding(\n",
       "        14, 336, kernel_size=(1, 1), stride=(1, 1)\n",
       "        (static_padding): Identity()\n",
       "      )\n",
       "      (_project_conv): Conv2dStaticSamePadding(\n",
       "        336, 56, kernel_size=(1, 1), stride=(1, 1), bias=False\n",
       "        (static_padding): Identity()\n",
       "      )\n",
       "      (_bn2): BatchNorm2d(56, eps=0.001, momentum=0.010000000000000009, affine=True, track_running_stats=True)\n",
       "      (_swish): MemoryEfficientSwish()\n",
       "    )\n",
       "    (8): MBConvBlock(\n",
       "      (_expand_conv): Conv2dStaticSamePadding(\n",
       "        56, 336, kernel_size=(1, 1), stride=(1, 1), bias=False\n",
       "        (static_padding): Identity()\n",
       "      )\n",
       "      (_bn0): BatchNorm2d(336, eps=0.001, momentum=0.010000000000000009, affine=True, track_running_stats=True)\n",
       "      (_depthwise_conv): Conv2dStaticSamePadding(\n",
       "        336, 336, kernel_size=(5, 5), stride=(1, 1), groups=336, bias=False\n",
       "        (static_padding): ZeroPad2d(padding=(2, 2, 2, 2), value=0.0)\n",
       "      )\n",
       "      (_bn1): BatchNorm2d(336, eps=0.001, momentum=0.010000000000000009, affine=True, track_running_stats=True)\n",
       "      (_se_reduce): Conv2dStaticSamePadding(\n",
       "        336, 14, kernel_size=(1, 1), stride=(1, 1)\n",
       "        (static_padding): Identity()\n",
       "      )\n",
       "      (_se_expand): Conv2dStaticSamePadding(\n",
       "        14, 336, kernel_size=(1, 1), stride=(1, 1)\n",
       "        (static_padding): Identity()\n",
       "      )\n",
       "      (_project_conv): Conv2dStaticSamePadding(\n",
       "        336, 56, kernel_size=(1, 1), stride=(1, 1), bias=False\n",
       "        (static_padding): Identity()\n",
       "      )\n",
       "      (_bn2): BatchNorm2d(56, eps=0.001, momentum=0.010000000000000009, affine=True, track_running_stats=True)\n",
       "      (_swish): MemoryEfficientSwish()\n",
       "    )\n",
       "    (9): MBConvBlock(\n",
       "      (_expand_conv): Conv2dStaticSamePadding(\n",
       "        56, 336, kernel_size=(1, 1), stride=(1, 1), bias=False\n",
       "        (static_padding): Identity()\n",
       "      )\n",
       "      (_bn0): BatchNorm2d(336, eps=0.001, momentum=0.010000000000000009, affine=True, track_running_stats=True)\n",
       "      (_depthwise_conv): Conv2dStaticSamePadding(\n",
       "        336, 336, kernel_size=(5, 5), stride=(1, 1), groups=336, bias=False\n",
       "        (static_padding): ZeroPad2d(padding=(2, 2, 2, 2), value=0.0)\n",
       "      )\n",
       "      (_bn1): BatchNorm2d(336, eps=0.001, momentum=0.010000000000000009, affine=True, track_running_stats=True)\n",
       "      (_se_reduce): Conv2dStaticSamePadding(\n",
       "        336, 14, kernel_size=(1, 1), stride=(1, 1)\n",
       "        (static_padding): Identity()\n",
       "      )\n",
       "      (_se_expand): Conv2dStaticSamePadding(\n",
       "        14, 336, kernel_size=(1, 1), stride=(1, 1)\n",
       "        (static_padding): Identity()\n",
       "      )\n",
       "      (_project_conv): Conv2dStaticSamePadding(\n",
       "        336, 56, kernel_size=(1, 1), stride=(1, 1), bias=False\n",
       "        (static_padding): Identity()\n",
       "      )\n",
       "      (_bn2): BatchNorm2d(56, eps=0.001, momentum=0.010000000000000009, affine=True, track_running_stats=True)\n",
       "      (_swish): MemoryEfficientSwish()\n",
       "    )\n",
       "    (10): MBConvBlock(\n",
       "      (_expand_conv): Conv2dStaticSamePadding(\n",
       "        56, 336, kernel_size=(1, 1), stride=(1, 1), bias=False\n",
       "        (static_padding): Identity()\n",
       "      )\n",
       "      (_bn0): BatchNorm2d(336, eps=0.001, momentum=0.010000000000000009, affine=True, track_running_stats=True)\n",
       "      (_depthwise_conv): Conv2dStaticSamePadding(\n",
       "        336, 336, kernel_size=(3, 3), stride=[2, 2], groups=336, bias=False\n",
       "        (static_padding): ZeroPad2d(padding=(0, 1, 0, 1), value=0.0)\n",
       "      )\n",
       "      (_bn1): BatchNorm2d(336, eps=0.001, momentum=0.010000000000000009, affine=True, track_running_stats=True)\n",
       "      (_se_reduce): Conv2dStaticSamePadding(\n",
       "        336, 14, kernel_size=(1, 1), stride=(1, 1)\n",
       "        (static_padding): Identity()\n",
       "      )\n",
       "      (_se_expand): Conv2dStaticSamePadding(\n",
       "        14, 336, kernel_size=(1, 1), stride=(1, 1)\n",
       "        (static_padding): Identity()\n",
       "      )\n",
       "      (_project_conv): Conv2dStaticSamePadding(\n",
       "        336, 112, kernel_size=(1, 1), stride=(1, 1), bias=False\n",
       "        (static_padding): Identity()\n",
       "      )\n",
       "      (_bn2): BatchNorm2d(112, eps=0.001, momentum=0.010000000000000009, affine=True, track_running_stats=True)\n",
       "      (_swish): MemoryEfficientSwish()\n",
       "    )\n",
       "    (11): MBConvBlock(\n",
       "      (_expand_conv): Conv2dStaticSamePadding(\n",
       "        112, 672, kernel_size=(1, 1), stride=(1, 1), bias=False\n",
       "        (static_padding): Identity()\n",
       "      )\n",
       "      (_bn0): BatchNorm2d(672, eps=0.001, momentum=0.010000000000000009, affine=True, track_running_stats=True)\n",
       "      (_depthwise_conv): Conv2dStaticSamePadding(\n",
       "        672, 672, kernel_size=(3, 3), stride=(1, 1), groups=672, bias=False\n",
       "        (static_padding): ZeroPad2d(padding=(1, 1, 1, 1), value=0.0)\n",
       "      )\n",
       "      (_bn1): BatchNorm2d(672, eps=0.001, momentum=0.010000000000000009, affine=True, track_running_stats=True)\n",
       "      (_se_reduce): Conv2dStaticSamePadding(\n",
       "        672, 28, kernel_size=(1, 1), stride=(1, 1)\n",
       "        (static_padding): Identity()\n",
       "      )\n",
       "      (_se_expand): Conv2dStaticSamePadding(\n",
       "        28, 672, kernel_size=(1, 1), stride=(1, 1)\n",
       "        (static_padding): Identity()\n",
       "      )\n",
       "      (_project_conv): Conv2dStaticSamePadding(\n",
       "        672, 112, kernel_size=(1, 1), stride=(1, 1), bias=False\n",
       "        (static_padding): Identity()\n",
       "      )\n",
       "      (_bn2): BatchNorm2d(112, eps=0.001, momentum=0.010000000000000009, affine=True, track_running_stats=True)\n",
       "      (_swish): MemoryEfficientSwish()\n",
       "    )\n",
       "    (12): MBConvBlock(\n",
       "      (_expand_conv): Conv2dStaticSamePadding(\n",
       "        112, 672, kernel_size=(1, 1), stride=(1, 1), bias=False\n",
       "        (static_padding): Identity()\n",
       "      )\n",
       "      (_bn0): BatchNorm2d(672, eps=0.001, momentum=0.010000000000000009, affine=True, track_running_stats=True)\n",
       "      (_depthwise_conv): Conv2dStaticSamePadding(\n",
       "        672, 672, kernel_size=(3, 3), stride=(1, 1), groups=672, bias=False\n",
       "        (static_padding): ZeroPad2d(padding=(1, 1, 1, 1), value=0.0)\n",
       "      )\n",
       "      (_bn1): BatchNorm2d(672, eps=0.001, momentum=0.010000000000000009, affine=True, track_running_stats=True)\n",
       "      (_se_reduce): Conv2dStaticSamePadding(\n",
       "        672, 28, kernel_size=(1, 1), stride=(1, 1)\n",
       "        (static_padding): Identity()\n",
       "      )\n",
       "      (_se_expand): Conv2dStaticSamePadding(\n",
       "        28, 672, kernel_size=(1, 1), stride=(1, 1)\n",
       "        (static_padding): Identity()\n",
       "      )\n",
       "      (_project_conv): Conv2dStaticSamePadding(\n",
       "        672, 112, kernel_size=(1, 1), stride=(1, 1), bias=False\n",
       "        (static_padding): Identity()\n",
       "      )\n",
       "      (_bn2): BatchNorm2d(112, eps=0.001, momentum=0.010000000000000009, affine=True, track_running_stats=True)\n",
       "      (_swish): MemoryEfficientSwish()\n",
       "    )\n",
       "    (13): MBConvBlock(\n",
       "      (_expand_conv): Conv2dStaticSamePadding(\n",
       "        112, 672, kernel_size=(1, 1), stride=(1, 1), bias=False\n",
       "        (static_padding): Identity()\n",
       "      )\n",
       "      (_bn0): BatchNorm2d(672, eps=0.001, momentum=0.010000000000000009, affine=True, track_running_stats=True)\n",
       "      (_depthwise_conv): Conv2dStaticSamePadding(\n",
       "        672, 672, kernel_size=(3, 3), stride=(1, 1), groups=672, bias=False\n",
       "        (static_padding): ZeroPad2d(padding=(1, 1, 1, 1), value=0.0)\n",
       "      )\n",
       "      (_bn1): BatchNorm2d(672, eps=0.001, momentum=0.010000000000000009, affine=True, track_running_stats=True)\n",
       "      (_se_reduce): Conv2dStaticSamePadding(\n",
       "        672, 28, kernel_size=(1, 1), stride=(1, 1)\n",
       "        (static_padding): Identity()\n",
       "      )\n",
       "      (_se_expand): Conv2dStaticSamePadding(\n",
       "        28, 672, kernel_size=(1, 1), stride=(1, 1)\n",
       "        (static_padding): Identity()\n",
       "      )\n",
       "      (_project_conv): Conv2dStaticSamePadding(\n",
       "        672, 112, kernel_size=(1, 1), stride=(1, 1), bias=False\n",
       "        (static_padding): Identity()\n",
       "      )\n",
       "      (_bn2): BatchNorm2d(112, eps=0.001, momentum=0.010000000000000009, affine=True, track_running_stats=True)\n",
       "      (_swish): MemoryEfficientSwish()\n",
       "    )\n",
       "    (14): MBConvBlock(\n",
       "      (_expand_conv): Conv2dStaticSamePadding(\n",
       "        112, 672, kernel_size=(1, 1), stride=(1, 1), bias=False\n",
       "        (static_padding): Identity()\n",
       "      )\n",
       "      (_bn0): BatchNorm2d(672, eps=0.001, momentum=0.010000000000000009, affine=True, track_running_stats=True)\n",
       "      (_depthwise_conv): Conv2dStaticSamePadding(\n",
       "        672, 672, kernel_size=(3, 3), stride=(1, 1), groups=672, bias=False\n",
       "        (static_padding): ZeroPad2d(padding=(1, 1, 1, 1), value=0.0)\n",
       "      )\n",
       "      (_bn1): BatchNorm2d(672, eps=0.001, momentum=0.010000000000000009, affine=True, track_running_stats=True)\n",
       "      (_se_reduce): Conv2dStaticSamePadding(\n",
       "        672, 28, kernel_size=(1, 1), stride=(1, 1)\n",
       "        (static_padding): Identity()\n",
       "      )\n",
       "      (_se_expand): Conv2dStaticSamePadding(\n",
       "        28, 672, kernel_size=(1, 1), stride=(1, 1)\n",
       "        (static_padding): Identity()\n",
       "      )\n",
       "      (_project_conv): Conv2dStaticSamePadding(\n",
       "        672, 112, kernel_size=(1, 1), stride=(1, 1), bias=False\n",
       "        (static_padding): Identity()\n",
       "      )\n",
       "      (_bn2): BatchNorm2d(112, eps=0.001, momentum=0.010000000000000009, affine=True, track_running_stats=True)\n",
       "      (_swish): MemoryEfficientSwish()\n",
       "    )\n",
       "    (15): MBConvBlock(\n",
       "      (_expand_conv): Conv2dStaticSamePadding(\n",
       "        112, 672, kernel_size=(1, 1), stride=(1, 1), bias=False\n",
       "        (static_padding): Identity()\n",
       "      )\n",
       "      (_bn0): BatchNorm2d(672, eps=0.001, momentum=0.010000000000000009, affine=True, track_running_stats=True)\n",
       "      (_depthwise_conv): Conv2dStaticSamePadding(\n",
       "        672, 672, kernel_size=(3, 3), stride=(1, 1), groups=672, bias=False\n",
       "        (static_padding): ZeroPad2d(padding=(1, 1, 1, 1), value=0.0)\n",
       "      )\n",
       "      (_bn1): BatchNorm2d(672, eps=0.001, momentum=0.010000000000000009, affine=True, track_running_stats=True)\n",
       "      (_se_reduce): Conv2dStaticSamePadding(\n",
       "        672, 28, kernel_size=(1, 1), stride=(1, 1)\n",
       "        (static_padding): Identity()\n",
       "      )\n",
       "      (_se_expand): Conv2dStaticSamePadding(\n",
       "        28, 672, kernel_size=(1, 1), stride=(1, 1)\n",
       "        (static_padding): Identity()\n",
       "      )\n",
       "      (_project_conv): Conv2dStaticSamePadding(\n",
       "        672, 112, kernel_size=(1, 1), stride=(1, 1), bias=False\n",
       "        (static_padding): Identity()\n",
       "      )\n",
       "      (_bn2): BatchNorm2d(112, eps=0.001, momentum=0.010000000000000009, affine=True, track_running_stats=True)\n",
       "      (_swish): MemoryEfficientSwish()\n",
       "    )\n",
       "    (16): MBConvBlock(\n",
       "      (_expand_conv): Conv2dStaticSamePadding(\n",
       "        112, 672, kernel_size=(1, 1), stride=(1, 1), bias=False\n",
       "        (static_padding): Identity()\n",
       "      )\n",
       "      (_bn0): BatchNorm2d(672, eps=0.001, momentum=0.010000000000000009, affine=True, track_running_stats=True)\n",
       "      (_depthwise_conv): Conv2dStaticSamePadding(\n",
       "        672, 672, kernel_size=(5, 5), stride=[1, 1], groups=672, bias=False\n",
       "        (static_padding): ZeroPad2d(padding=(2, 2, 2, 2), value=0.0)\n",
       "      )\n",
       "      (_bn1): BatchNorm2d(672, eps=0.001, momentum=0.010000000000000009, affine=True, track_running_stats=True)\n",
       "      (_se_reduce): Conv2dStaticSamePadding(\n",
       "        672, 28, kernel_size=(1, 1), stride=(1, 1)\n",
       "        (static_padding): Identity()\n",
       "      )\n",
       "      (_se_expand): Conv2dStaticSamePadding(\n",
       "        28, 672, kernel_size=(1, 1), stride=(1, 1)\n",
       "        (static_padding): Identity()\n",
       "      )\n",
       "      (_project_conv): Conv2dStaticSamePadding(\n",
       "        672, 160, kernel_size=(1, 1), stride=(1, 1), bias=False\n",
       "        (static_padding): Identity()\n",
       "      )\n",
       "      (_bn2): BatchNorm2d(160, eps=0.001, momentum=0.010000000000000009, affine=True, track_running_stats=True)\n",
       "      (_swish): MemoryEfficientSwish()\n",
       "    )\n",
       "    (17): MBConvBlock(\n",
       "      (_expand_conv): Conv2dStaticSamePadding(\n",
       "        160, 960, kernel_size=(1, 1), stride=(1, 1), bias=False\n",
       "        (static_padding): Identity()\n",
       "      )\n",
       "      (_bn0): BatchNorm2d(960, eps=0.001, momentum=0.010000000000000009, affine=True, track_running_stats=True)\n",
       "      (_depthwise_conv): Conv2dStaticSamePadding(\n",
       "        960, 960, kernel_size=(5, 5), stride=(1, 1), groups=960, bias=False\n",
       "        (static_padding): ZeroPad2d(padding=(2, 2, 2, 2), value=0.0)\n",
       "      )\n",
       "      (_bn1): BatchNorm2d(960, eps=0.001, momentum=0.010000000000000009, affine=True, track_running_stats=True)\n",
       "      (_se_reduce): Conv2dStaticSamePadding(\n",
       "        960, 40, kernel_size=(1, 1), stride=(1, 1)\n",
       "        (static_padding): Identity()\n",
       "      )\n",
       "      (_se_expand): Conv2dStaticSamePadding(\n",
       "        40, 960, kernel_size=(1, 1), stride=(1, 1)\n",
       "        (static_padding): Identity()\n",
       "      )\n",
       "      (_project_conv): Conv2dStaticSamePadding(\n",
       "        960, 160, kernel_size=(1, 1), stride=(1, 1), bias=False\n",
       "        (static_padding): Identity()\n",
       "      )\n",
       "      (_bn2): BatchNorm2d(160, eps=0.001, momentum=0.010000000000000009, affine=True, track_running_stats=True)\n",
       "      (_swish): MemoryEfficientSwish()\n",
       "    )\n",
       "    (18): MBConvBlock(\n",
       "      (_expand_conv): Conv2dStaticSamePadding(\n",
       "        160, 960, kernel_size=(1, 1), stride=(1, 1), bias=False\n",
       "        (static_padding): Identity()\n",
       "      )\n",
       "      (_bn0): BatchNorm2d(960, eps=0.001, momentum=0.010000000000000009, affine=True, track_running_stats=True)\n",
       "      (_depthwise_conv): Conv2dStaticSamePadding(\n",
       "        960, 960, kernel_size=(5, 5), stride=(1, 1), groups=960, bias=False\n",
       "        (static_padding): ZeroPad2d(padding=(2, 2, 2, 2), value=0.0)\n",
       "      )\n",
       "      (_bn1): BatchNorm2d(960, eps=0.001, momentum=0.010000000000000009, affine=True, track_running_stats=True)\n",
       "      (_se_reduce): Conv2dStaticSamePadding(\n",
       "        960, 40, kernel_size=(1, 1), stride=(1, 1)\n",
       "        (static_padding): Identity()\n",
       "      )\n",
       "      (_se_expand): Conv2dStaticSamePadding(\n",
       "        40, 960, kernel_size=(1, 1), stride=(1, 1)\n",
       "        (static_padding): Identity()\n",
       "      )\n",
       "      (_project_conv): Conv2dStaticSamePadding(\n",
       "        960, 160, kernel_size=(1, 1), stride=(1, 1), bias=False\n",
       "        (static_padding): Identity()\n",
       "      )\n",
       "      (_bn2): BatchNorm2d(160, eps=0.001, momentum=0.010000000000000009, affine=True, track_running_stats=True)\n",
       "      (_swish): MemoryEfficientSwish()\n",
       "    )\n",
       "    (19): MBConvBlock(\n",
       "      (_expand_conv): Conv2dStaticSamePadding(\n",
       "        160, 960, kernel_size=(1, 1), stride=(1, 1), bias=False\n",
       "        (static_padding): Identity()\n",
       "      )\n",
       "      (_bn0): BatchNorm2d(960, eps=0.001, momentum=0.010000000000000009, affine=True, track_running_stats=True)\n",
       "      (_depthwise_conv): Conv2dStaticSamePadding(\n",
       "        960, 960, kernel_size=(5, 5), stride=(1, 1), groups=960, bias=False\n",
       "        (static_padding): ZeroPad2d(padding=(2, 2, 2, 2), value=0.0)\n",
       "      )\n",
       "      (_bn1): BatchNorm2d(960, eps=0.001, momentum=0.010000000000000009, affine=True, track_running_stats=True)\n",
       "      (_se_reduce): Conv2dStaticSamePadding(\n",
       "        960, 40, kernel_size=(1, 1), stride=(1, 1)\n",
       "        (static_padding): Identity()\n",
       "      )\n",
       "      (_se_expand): Conv2dStaticSamePadding(\n",
       "        40, 960, kernel_size=(1, 1), stride=(1, 1)\n",
       "        (static_padding): Identity()\n",
       "      )\n",
       "      (_project_conv): Conv2dStaticSamePadding(\n",
       "        960, 160, kernel_size=(1, 1), stride=(1, 1), bias=False\n",
       "        (static_padding): Identity()\n",
       "      )\n",
       "      (_bn2): BatchNorm2d(160, eps=0.001, momentum=0.010000000000000009, affine=True, track_running_stats=True)\n",
       "      (_swish): MemoryEfficientSwish()\n",
       "    )\n",
       "    (20): MBConvBlock(\n",
       "      (_expand_conv): Conv2dStaticSamePadding(\n",
       "        160, 960, kernel_size=(1, 1), stride=(1, 1), bias=False\n",
       "        (static_padding): Identity()\n",
       "      )\n",
       "      (_bn0): BatchNorm2d(960, eps=0.001, momentum=0.010000000000000009, affine=True, track_running_stats=True)\n",
       "      (_depthwise_conv): Conv2dStaticSamePadding(\n",
       "        960, 960, kernel_size=(5, 5), stride=(1, 1), groups=960, bias=False\n",
       "        (static_padding): ZeroPad2d(padding=(2, 2, 2, 2), value=0.0)\n",
       "      )\n",
       "      (_bn1): BatchNorm2d(960, eps=0.001, momentum=0.010000000000000009, affine=True, track_running_stats=True)\n",
       "      (_se_reduce): Conv2dStaticSamePadding(\n",
       "        960, 40, kernel_size=(1, 1), stride=(1, 1)\n",
       "        (static_padding): Identity()\n",
       "      )\n",
       "      (_se_expand): Conv2dStaticSamePadding(\n",
       "        40, 960, kernel_size=(1, 1), stride=(1, 1)\n",
       "        (static_padding): Identity()\n",
       "      )\n",
       "      (_project_conv): Conv2dStaticSamePadding(\n",
       "        960, 160, kernel_size=(1, 1), stride=(1, 1), bias=False\n",
       "        (static_padding): Identity()\n",
       "      )\n",
       "      (_bn2): BatchNorm2d(160, eps=0.001, momentum=0.010000000000000009, affine=True, track_running_stats=True)\n",
       "      (_swish): MemoryEfficientSwish()\n",
       "    )\n",
       "    (21): MBConvBlock(\n",
       "      (_expand_conv): Conv2dStaticSamePadding(\n",
       "        160, 960, kernel_size=(1, 1), stride=(1, 1), bias=False\n",
       "        (static_padding): Identity()\n",
       "      )\n",
       "      (_bn0): BatchNorm2d(960, eps=0.001, momentum=0.010000000000000009, affine=True, track_running_stats=True)\n",
       "      (_depthwise_conv): Conv2dStaticSamePadding(\n",
       "        960, 960, kernel_size=(5, 5), stride=(1, 1), groups=960, bias=False\n",
       "        (static_padding): ZeroPad2d(padding=(2, 2, 2, 2), value=0.0)\n",
       "      )\n",
       "      (_bn1): BatchNorm2d(960, eps=0.001, momentum=0.010000000000000009, affine=True, track_running_stats=True)\n",
       "      (_se_reduce): Conv2dStaticSamePadding(\n",
       "        960, 40, kernel_size=(1, 1), stride=(1, 1)\n",
       "        (static_padding): Identity()\n",
       "      )\n",
       "      (_se_expand): Conv2dStaticSamePadding(\n",
       "        40, 960, kernel_size=(1, 1), stride=(1, 1)\n",
       "        (static_padding): Identity()\n",
       "      )\n",
       "      (_project_conv): Conv2dStaticSamePadding(\n",
       "        960, 160, kernel_size=(1, 1), stride=(1, 1), bias=False\n",
       "        (static_padding): Identity()\n",
       "      )\n",
       "      (_bn2): BatchNorm2d(160, eps=0.001, momentum=0.010000000000000009, affine=True, track_running_stats=True)\n",
       "      (_swish): MemoryEfficientSwish()\n",
       "    )\n",
       "    (22): MBConvBlock(\n",
       "      (_expand_conv): Conv2dStaticSamePadding(\n",
       "        160, 960, kernel_size=(1, 1), stride=(1, 1), bias=False\n",
       "        (static_padding): Identity()\n",
       "      )\n",
       "      (_bn0): BatchNorm2d(960, eps=0.001, momentum=0.010000000000000009, affine=True, track_running_stats=True)\n",
       "      (_depthwise_conv): Conv2dStaticSamePadding(\n",
       "        960, 960, kernel_size=(5, 5), stride=[2, 2], groups=960, bias=False\n",
       "        (static_padding): ZeroPad2d(padding=(1, 2, 1, 2), value=0.0)\n",
       "      )\n",
       "      (_bn1): BatchNorm2d(960, eps=0.001, momentum=0.010000000000000009, affine=True, track_running_stats=True)\n",
       "      (_se_reduce): Conv2dStaticSamePadding(\n",
       "        960, 40, kernel_size=(1, 1), stride=(1, 1)\n",
       "        (static_padding): Identity()\n",
       "      )\n",
       "      (_se_expand): Conv2dStaticSamePadding(\n",
       "        40, 960, kernel_size=(1, 1), stride=(1, 1)\n",
       "        (static_padding): Identity()\n",
       "      )\n",
       "      (_project_conv): Conv2dStaticSamePadding(\n",
       "        960, 272, kernel_size=(1, 1), stride=(1, 1), bias=False\n",
       "        (static_padding): Identity()\n",
       "      )\n",
       "      (_bn2): BatchNorm2d(272, eps=0.001, momentum=0.010000000000000009, affine=True, track_running_stats=True)\n",
       "      (_swish): MemoryEfficientSwish()\n",
       "    )\n",
       "    (23): MBConvBlock(\n",
       "      (_expand_conv): Conv2dStaticSamePadding(\n",
       "        272, 1632, kernel_size=(1, 1), stride=(1, 1), bias=False\n",
       "        (static_padding): Identity()\n",
       "      )\n",
       "      (_bn0): BatchNorm2d(1632, eps=0.001, momentum=0.010000000000000009, affine=True, track_running_stats=True)\n",
       "      (_depthwise_conv): Conv2dStaticSamePadding(\n",
       "        1632, 1632, kernel_size=(5, 5), stride=(1, 1), groups=1632, bias=False\n",
       "        (static_padding): ZeroPad2d(padding=(2, 2, 2, 2), value=0.0)\n",
       "      )\n",
       "      (_bn1): BatchNorm2d(1632, eps=0.001, momentum=0.010000000000000009, affine=True, track_running_stats=True)\n",
       "      (_se_reduce): Conv2dStaticSamePadding(\n",
       "        1632, 68, kernel_size=(1, 1), stride=(1, 1)\n",
       "        (static_padding): Identity()\n",
       "      )\n",
       "      (_se_expand): Conv2dStaticSamePadding(\n",
       "        68, 1632, kernel_size=(1, 1), stride=(1, 1)\n",
       "        (static_padding): Identity()\n",
       "      )\n",
       "      (_project_conv): Conv2dStaticSamePadding(\n",
       "        1632, 272, kernel_size=(1, 1), stride=(1, 1), bias=False\n",
       "        (static_padding): Identity()\n",
       "      )\n",
       "      (_bn2): BatchNorm2d(272, eps=0.001, momentum=0.010000000000000009, affine=True, track_running_stats=True)\n",
       "      (_swish): MemoryEfficientSwish()\n",
       "    )\n",
       "    (24): MBConvBlock(\n",
       "      (_expand_conv): Conv2dStaticSamePadding(\n",
       "        272, 1632, kernel_size=(1, 1), stride=(1, 1), bias=False\n",
       "        (static_padding): Identity()\n",
       "      )\n",
       "      (_bn0): BatchNorm2d(1632, eps=0.001, momentum=0.010000000000000009, affine=True, track_running_stats=True)\n",
       "      (_depthwise_conv): Conv2dStaticSamePadding(\n",
       "        1632, 1632, kernel_size=(5, 5), stride=(1, 1), groups=1632, bias=False\n",
       "        (static_padding): ZeroPad2d(padding=(2, 2, 2, 2), value=0.0)\n",
       "      )\n",
       "      (_bn1): BatchNorm2d(1632, eps=0.001, momentum=0.010000000000000009, affine=True, track_running_stats=True)\n",
       "      (_se_reduce): Conv2dStaticSamePadding(\n",
       "        1632, 68, kernel_size=(1, 1), stride=(1, 1)\n",
       "        (static_padding): Identity()\n",
       "      )\n",
       "      (_se_expand): Conv2dStaticSamePadding(\n",
       "        68, 1632, kernel_size=(1, 1), stride=(1, 1)\n",
       "        (static_padding): Identity()\n",
       "      )\n",
       "      (_project_conv): Conv2dStaticSamePadding(\n",
       "        1632, 272, kernel_size=(1, 1), stride=(1, 1), bias=False\n",
       "        (static_padding): Identity()\n",
       "      )\n",
       "      (_bn2): BatchNorm2d(272, eps=0.001, momentum=0.010000000000000009, affine=True, track_running_stats=True)\n",
       "      (_swish): MemoryEfficientSwish()\n",
       "    )\n",
       "    (25): MBConvBlock(\n",
       "      (_expand_conv): Conv2dStaticSamePadding(\n",
       "        272, 1632, kernel_size=(1, 1), stride=(1, 1), bias=False\n",
       "        (static_padding): Identity()\n",
       "      )\n",
       "      (_bn0): BatchNorm2d(1632, eps=0.001, momentum=0.010000000000000009, affine=True, track_running_stats=True)\n",
       "      (_depthwise_conv): Conv2dStaticSamePadding(\n",
       "        1632, 1632, kernel_size=(5, 5), stride=(1, 1), groups=1632, bias=False\n",
       "        (static_padding): ZeroPad2d(padding=(2, 2, 2, 2), value=0.0)\n",
       "      )\n",
       "      (_bn1): BatchNorm2d(1632, eps=0.001, momentum=0.010000000000000009, affine=True, track_running_stats=True)\n",
       "      (_se_reduce): Conv2dStaticSamePadding(\n",
       "        1632, 68, kernel_size=(1, 1), stride=(1, 1)\n",
       "        (static_padding): Identity()\n",
       "      )\n",
       "      (_se_expand): Conv2dStaticSamePadding(\n",
       "        68, 1632, kernel_size=(1, 1), stride=(1, 1)\n",
       "        (static_padding): Identity()\n",
       "      )\n",
       "      (_project_conv): Conv2dStaticSamePadding(\n",
       "        1632, 272, kernel_size=(1, 1), stride=(1, 1), bias=False\n",
       "        (static_padding): Identity()\n",
       "      )\n",
       "      (_bn2): BatchNorm2d(272, eps=0.001, momentum=0.010000000000000009, affine=True, track_running_stats=True)\n",
       "      (_swish): MemoryEfficientSwish()\n",
       "    )\n",
       "    (26): MBConvBlock(\n",
       "      (_expand_conv): Conv2dStaticSamePadding(\n",
       "        272, 1632, kernel_size=(1, 1), stride=(1, 1), bias=False\n",
       "        (static_padding): Identity()\n",
       "      )\n",
       "      (_bn0): BatchNorm2d(1632, eps=0.001, momentum=0.010000000000000009, affine=True, track_running_stats=True)\n",
       "      (_depthwise_conv): Conv2dStaticSamePadding(\n",
       "        1632, 1632, kernel_size=(5, 5), stride=(1, 1), groups=1632, bias=False\n",
       "        (static_padding): ZeroPad2d(padding=(2, 2, 2, 2), value=0.0)\n",
       "      )\n",
       "      (_bn1): BatchNorm2d(1632, eps=0.001, momentum=0.010000000000000009, affine=True, track_running_stats=True)\n",
       "      (_se_reduce): Conv2dStaticSamePadding(\n",
       "        1632, 68, kernel_size=(1, 1), stride=(1, 1)\n",
       "        (static_padding): Identity()\n",
       "      )\n",
       "      (_se_expand): Conv2dStaticSamePadding(\n",
       "        68, 1632, kernel_size=(1, 1), stride=(1, 1)\n",
       "        (static_padding): Identity()\n",
       "      )\n",
       "      (_project_conv): Conv2dStaticSamePadding(\n",
       "        1632, 272, kernel_size=(1, 1), stride=(1, 1), bias=False\n",
       "        (static_padding): Identity()\n",
       "      )\n",
       "      (_bn2): BatchNorm2d(272, eps=0.001, momentum=0.010000000000000009, affine=True, track_running_stats=True)\n",
       "      (_swish): MemoryEfficientSwish()\n",
       "    )\n",
       "    (27): MBConvBlock(\n",
       "      (_expand_conv): Conv2dStaticSamePadding(\n",
       "        272, 1632, kernel_size=(1, 1), stride=(1, 1), bias=False\n",
       "        (static_padding): Identity()\n",
       "      )\n",
       "      (_bn0): BatchNorm2d(1632, eps=0.001, momentum=0.010000000000000009, affine=True, track_running_stats=True)\n",
       "      (_depthwise_conv): Conv2dStaticSamePadding(\n",
       "        1632, 1632, kernel_size=(5, 5), stride=(1, 1), groups=1632, bias=False\n",
       "        (static_padding): ZeroPad2d(padding=(2, 2, 2, 2), value=0.0)\n",
       "      )\n",
       "      (_bn1): BatchNorm2d(1632, eps=0.001, momentum=0.010000000000000009, affine=True, track_running_stats=True)\n",
       "      (_se_reduce): Conv2dStaticSamePadding(\n",
       "        1632, 68, kernel_size=(1, 1), stride=(1, 1)\n",
       "        (static_padding): Identity()\n",
       "      )\n",
       "      (_se_expand): Conv2dStaticSamePadding(\n",
       "        68, 1632, kernel_size=(1, 1), stride=(1, 1)\n",
       "        (static_padding): Identity()\n",
       "      )\n",
       "      (_project_conv): Conv2dStaticSamePadding(\n",
       "        1632, 272, kernel_size=(1, 1), stride=(1, 1), bias=False\n",
       "        (static_padding): Identity()\n",
       "      )\n",
       "      (_bn2): BatchNorm2d(272, eps=0.001, momentum=0.010000000000000009, affine=True, track_running_stats=True)\n",
       "      (_swish): MemoryEfficientSwish()\n",
       "    )\n",
       "    (28): MBConvBlock(\n",
       "      (_expand_conv): Conv2dStaticSamePadding(\n",
       "        272, 1632, kernel_size=(1, 1), stride=(1, 1), bias=False\n",
       "        (static_padding): Identity()\n",
       "      )\n",
       "      (_bn0): BatchNorm2d(1632, eps=0.001, momentum=0.010000000000000009, affine=True, track_running_stats=True)\n",
       "      (_depthwise_conv): Conv2dStaticSamePadding(\n",
       "        1632, 1632, kernel_size=(5, 5), stride=(1, 1), groups=1632, bias=False\n",
       "        (static_padding): ZeroPad2d(padding=(2, 2, 2, 2), value=0.0)\n",
       "      )\n",
       "      (_bn1): BatchNorm2d(1632, eps=0.001, momentum=0.010000000000000009, affine=True, track_running_stats=True)\n",
       "      (_se_reduce): Conv2dStaticSamePadding(\n",
       "        1632, 68, kernel_size=(1, 1), stride=(1, 1)\n",
       "        (static_padding): Identity()\n",
       "      )\n",
       "      (_se_expand): Conv2dStaticSamePadding(\n",
       "        68, 1632, kernel_size=(1, 1), stride=(1, 1)\n",
       "        (static_padding): Identity()\n",
       "      )\n",
       "      (_project_conv): Conv2dStaticSamePadding(\n",
       "        1632, 272, kernel_size=(1, 1), stride=(1, 1), bias=False\n",
       "        (static_padding): Identity()\n",
       "      )\n",
       "      (_bn2): BatchNorm2d(272, eps=0.001, momentum=0.010000000000000009, affine=True, track_running_stats=True)\n",
       "      (_swish): MemoryEfficientSwish()\n",
       "    )\n",
       "    (29): MBConvBlock(\n",
       "      (_expand_conv): Conv2dStaticSamePadding(\n",
       "        272, 1632, kernel_size=(1, 1), stride=(1, 1), bias=False\n",
       "        (static_padding): Identity()\n",
       "      )\n",
       "      (_bn0): BatchNorm2d(1632, eps=0.001, momentum=0.010000000000000009, affine=True, track_running_stats=True)\n",
       "      (_depthwise_conv): Conv2dStaticSamePadding(\n",
       "        1632, 1632, kernel_size=(5, 5), stride=(1, 1), groups=1632, bias=False\n",
       "        (static_padding): ZeroPad2d(padding=(2, 2, 2, 2), value=0.0)\n",
       "      )\n",
       "      (_bn1): BatchNorm2d(1632, eps=0.001, momentum=0.010000000000000009, affine=True, track_running_stats=True)\n",
       "      (_se_reduce): Conv2dStaticSamePadding(\n",
       "        1632, 68, kernel_size=(1, 1), stride=(1, 1)\n",
       "        (static_padding): Identity()\n",
       "      )\n",
       "      (_se_expand): Conv2dStaticSamePadding(\n",
       "        68, 1632, kernel_size=(1, 1), stride=(1, 1)\n",
       "        (static_padding): Identity()\n",
       "      )\n",
       "      (_project_conv): Conv2dStaticSamePadding(\n",
       "        1632, 272, kernel_size=(1, 1), stride=(1, 1), bias=False\n",
       "        (static_padding): Identity()\n",
       "      )\n",
       "      (_bn2): BatchNorm2d(272, eps=0.001, momentum=0.010000000000000009, affine=True, track_running_stats=True)\n",
       "      (_swish): MemoryEfficientSwish()\n",
       "    )\n",
       "    (30): MBConvBlock(\n",
       "      (_expand_conv): Conv2dStaticSamePadding(\n",
       "        272, 1632, kernel_size=(1, 1), stride=(1, 1), bias=False\n",
       "        (static_padding): Identity()\n",
       "      )\n",
       "      (_bn0): BatchNorm2d(1632, eps=0.001, momentum=0.010000000000000009, affine=True, track_running_stats=True)\n",
       "      (_depthwise_conv): Conv2dStaticSamePadding(\n",
       "        1632, 1632, kernel_size=(3, 3), stride=[1, 1], groups=1632, bias=False\n",
       "        (static_padding): ZeroPad2d(padding=(1, 1, 1, 1), value=0.0)\n",
       "      )\n",
       "      (_bn1): BatchNorm2d(1632, eps=0.001, momentum=0.010000000000000009, affine=True, track_running_stats=True)\n",
       "      (_se_reduce): Conv2dStaticSamePadding(\n",
       "        1632, 68, kernel_size=(1, 1), stride=(1, 1)\n",
       "        (static_padding): Identity()\n",
       "      )\n",
       "      (_se_expand): Conv2dStaticSamePadding(\n",
       "        68, 1632, kernel_size=(1, 1), stride=(1, 1)\n",
       "        (static_padding): Identity()\n",
       "      )\n",
       "      (_project_conv): Conv2dStaticSamePadding(\n",
       "        1632, 448, kernel_size=(1, 1), stride=(1, 1), bias=False\n",
       "        (static_padding): Identity()\n",
       "      )\n",
       "      (_bn2): BatchNorm2d(448, eps=0.001, momentum=0.010000000000000009, affine=True, track_running_stats=True)\n",
       "      (_swish): MemoryEfficientSwish()\n",
       "    )\n",
       "    (31): MBConvBlock(\n",
       "      (_expand_conv): Conv2dStaticSamePadding(\n",
       "        448, 2688, kernel_size=(1, 1), stride=(1, 1), bias=False\n",
       "        (static_padding): Identity()\n",
       "      )\n",
       "      (_bn0): BatchNorm2d(2688, eps=0.001, momentum=0.010000000000000009, affine=True, track_running_stats=True)\n",
       "      (_depthwise_conv): Conv2dStaticSamePadding(\n",
       "        2688, 2688, kernel_size=(3, 3), stride=(1, 1), groups=2688, bias=False\n",
       "        (static_padding): ZeroPad2d(padding=(1, 1, 1, 1), value=0.0)\n",
       "      )\n",
       "      (_bn1): BatchNorm2d(2688, eps=0.001, momentum=0.010000000000000009, affine=True, track_running_stats=True)\n",
       "      (_se_reduce): Conv2dStaticSamePadding(\n",
       "        2688, 112, kernel_size=(1, 1), stride=(1, 1)\n",
       "        (static_padding): Identity()\n",
       "      )\n",
       "      (_se_expand): Conv2dStaticSamePadding(\n",
       "        112, 2688, kernel_size=(1, 1), stride=(1, 1)\n",
       "        (static_padding): Identity()\n",
       "      )\n",
       "      (_project_conv): Conv2dStaticSamePadding(\n",
       "        2688, 448, kernel_size=(1, 1), stride=(1, 1), bias=False\n",
       "        (static_padding): Identity()\n",
       "      )\n",
       "      (_bn2): BatchNorm2d(448, eps=0.001, momentum=0.010000000000000009, affine=True, track_running_stats=True)\n",
       "      (_swish): MemoryEfficientSwish()\n",
       "    )\n",
       "  )\n",
       "  (_conv_head): Conv2dStaticSamePadding(\n",
       "    448, 1792, kernel_size=(1, 1), stride=(1, 1), bias=False\n",
       "    (static_padding): Identity()\n",
       "  )\n",
       "  (_bn1): BatchNorm2d(1792, eps=0.001, momentum=0.010000000000000009, affine=True, track_running_stats=True)\n",
       "  (_avg_pooling): AdaptiveAvgPool2d(output_size=1)\n",
       "  (_dropout): Dropout(p=0.4, inplace=False)\n",
       "  (_fc): Linear(in_features=1792, out_features=5, bias=True)\n",
       "  (_swish): MemoryEfficientSwish()\n",
       ")"
      ]
     },
     "execution_count": 20,
     "metadata": {},
     "output_type": "execute_result"
    }
   ],
   "source": [
    "model.to(device)"
   ]
  },
  {
   "cell_type": "code",
   "execution_count": 23,
   "id": "4d10dd0f",
   "metadata": {},
   "outputs": [],
   "source": [
    "import torchsummary"
   ]
  },
  {
   "cell_type": "code",
   "execution_count": 27,
   "id": "ea5fb2af",
   "metadata": {},
   "outputs": [
    {
     "name": "stdout",
     "output_type": "stream",
     "text": [
      "----------------------------------------------------------------\n",
      "        Layer (type)               Output Shape         Param #\n",
      "================================================================\n",
      "         ZeroPad2d-1          [-1, 3, 301, 301]               0\n",
      "Conv2dStaticSamePadding-2         [-1, 48, 150, 150]           1,296\n",
      "       BatchNorm2d-3         [-1, 48, 150, 150]              96\n",
      "MemoryEfficientSwish-4         [-1, 48, 150, 150]               0\n",
      "         ZeroPad2d-5         [-1, 48, 152, 152]               0\n",
      "Conv2dStaticSamePadding-6         [-1, 48, 150, 150]             432\n",
      "       BatchNorm2d-7         [-1, 48, 150, 150]              96\n",
      "MemoryEfficientSwish-8         [-1, 48, 150, 150]               0\n",
      "          Identity-9             [-1, 48, 1, 1]               0\n",
      "Conv2dStaticSamePadding-10             [-1, 12, 1, 1]             588\n",
      "MemoryEfficientSwish-11             [-1, 12, 1, 1]               0\n",
      "         Identity-12             [-1, 12, 1, 1]               0\n",
      "Conv2dStaticSamePadding-13             [-1, 48, 1, 1]             624\n",
      "         Identity-14         [-1, 48, 150, 150]               0\n",
      "Conv2dStaticSamePadding-15         [-1, 24, 150, 150]           1,152\n",
      "      BatchNorm2d-16         [-1, 24, 150, 150]              48\n",
      "      MBConvBlock-17         [-1, 24, 150, 150]               0\n",
      "        ZeroPad2d-18         [-1, 24, 152, 152]               0\n",
      "Conv2dStaticSamePadding-19         [-1, 24, 150, 150]             216\n",
      "      BatchNorm2d-20         [-1, 24, 150, 150]              48\n",
      "MemoryEfficientSwish-21         [-1, 24, 150, 150]               0\n",
      "         Identity-22             [-1, 24, 1, 1]               0\n",
      "Conv2dStaticSamePadding-23              [-1, 6, 1, 1]             150\n",
      "MemoryEfficientSwish-24              [-1, 6, 1, 1]               0\n",
      "         Identity-25              [-1, 6, 1, 1]               0\n",
      "Conv2dStaticSamePadding-26             [-1, 24, 1, 1]             168\n",
      "         Identity-27         [-1, 24, 150, 150]               0\n",
      "Conv2dStaticSamePadding-28         [-1, 24, 150, 150]             576\n",
      "      BatchNorm2d-29         [-1, 24, 150, 150]              48\n",
      "      MBConvBlock-30         [-1, 24, 150, 150]               0\n",
      "         Identity-31         [-1, 24, 150, 150]               0\n",
      "Conv2dStaticSamePadding-32        [-1, 144, 150, 150]           3,456\n",
      "      BatchNorm2d-33        [-1, 144, 150, 150]             288\n",
      "MemoryEfficientSwish-34        [-1, 144, 150, 150]               0\n",
      "        ZeroPad2d-35        [-1, 144, 151, 151]               0\n",
      "Conv2dStaticSamePadding-36          [-1, 144, 75, 75]           1,296\n",
      "      BatchNorm2d-37          [-1, 144, 75, 75]             288\n",
      "MemoryEfficientSwish-38          [-1, 144, 75, 75]               0\n",
      "         Identity-39            [-1, 144, 1, 1]               0\n",
      "Conv2dStaticSamePadding-40              [-1, 6, 1, 1]             870\n",
      "MemoryEfficientSwish-41              [-1, 6, 1, 1]               0\n",
      "         Identity-42              [-1, 6, 1, 1]               0\n",
      "Conv2dStaticSamePadding-43            [-1, 144, 1, 1]           1,008\n",
      "         Identity-44          [-1, 144, 75, 75]               0\n",
      "Conv2dStaticSamePadding-45           [-1, 32, 75, 75]           4,608\n",
      "      BatchNorm2d-46           [-1, 32, 75, 75]              64\n",
      "      MBConvBlock-47           [-1, 32, 75, 75]               0\n",
      "         Identity-48           [-1, 32, 75, 75]               0\n",
      "Conv2dStaticSamePadding-49          [-1, 192, 75, 75]           6,144\n",
      "      BatchNorm2d-50          [-1, 192, 75, 75]             384\n",
      "MemoryEfficientSwish-51          [-1, 192, 75, 75]               0\n",
      "        ZeroPad2d-52          [-1, 192, 77, 77]               0\n",
      "Conv2dStaticSamePadding-53          [-1, 192, 75, 75]           1,728\n",
      "      BatchNorm2d-54          [-1, 192, 75, 75]             384\n",
      "MemoryEfficientSwish-55          [-1, 192, 75, 75]               0\n",
      "         Identity-56            [-1, 192, 1, 1]               0\n",
      "Conv2dStaticSamePadding-57              [-1, 8, 1, 1]           1,544\n",
      "MemoryEfficientSwish-58              [-1, 8, 1, 1]               0\n",
      "         Identity-59              [-1, 8, 1, 1]               0\n",
      "Conv2dStaticSamePadding-60            [-1, 192, 1, 1]           1,728\n",
      "         Identity-61          [-1, 192, 75, 75]               0\n",
      "Conv2dStaticSamePadding-62           [-1, 32, 75, 75]           6,144\n",
      "      BatchNorm2d-63           [-1, 32, 75, 75]              64\n",
      "      MBConvBlock-64           [-1, 32, 75, 75]               0\n",
      "         Identity-65           [-1, 32, 75, 75]               0\n",
      "Conv2dStaticSamePadding-66          [-1, 192, 75, 75]           6,144\n",
      "      BatchNorm2d-67          [-1, 192, 75, 75]             384\n",
      "MemoryEfficientSwish-68          [-1, 192, 75, 75]               0\n",
      "        ZeroPad2d-69          [-1, 192, 77, 77]               0\n",
      "Conv2dStaticSamePadding-70          [-1, 192, 75, 75]           1,728\n",
      "      BatchNorm2d-71          [-1, 192, 75, 75]             384\n",
      "MemoryEfficientSwish-72          [-1, 192, 75, 75]               0\n",
      "         Identity-73            [-1, 192, 1, 1]               0\n",
      "Conv2dStaticSamePadding-74              [-1, 8, 1, 1]           1,544\n",
      "MemoryEfficientSwish-75              [-1, 8, 1, 1]               0\n",
      "         Identity-76              [-1, 8, 1, 1]               0\n",
      "Conv2dStaticSamePadding-77            [-1, 192, 1, 1]           1,728\n",
      "         Identity-78          [-1, 192, 75, 75]               0\n",
      "Conv2dStaticSamePadding-79           [-1, 32, 75, 75]           6,144\n",
      "      BatchNorm2d-80           [-1, 32, 75, 75]              64\n",
      "      MBConvBlock-81           [-1, 32, 75, 75]               0\n",
      "         Identity-82           [-1, 32, 75, 75]               0\n",
      "Conv2dStaticSamePadding-83          [-1, 192, 75, 75]           6,144\n",
      "      BatchNorm2d-84          [-1, 192, 75, 75]             384\n",
      "MemoryEfficientSwish-85          [-1, 192, 75, 75]               0\n",
      "        ZeroPad2d-86          [-1, 192, 77, 77]               0\n",
      "Conv2dStaticSamePadding-87          [-1, 192, 75, 75]           1,728\n",
      "      BatchNorm2d-88          [-1, 192, 75, 75]             384\n",
      "MemoryEfficientSwish-89          [-1, 192, 75, 75]               0\n",
      "         Identity-90            [-1, 192, 1, 1]               0\n",
      "Conv2dStaticSamePadding-91              [-1, 8, 1, 1]           1,544\n",
      "MemoryEfficientSwish-92              [-1, 8, 1, 1]               0\n",
      "         Identity-93              [-1, 8, 1, 1]               0\n",
      "Conv2dStaticSamePadding-94            [-1, 192, 1, 1]           1,728\n",
      "         Identity-95          [-1, 192, 75, 75]               0\n",
      "Conv2dStaticSamePadding-96           [-1, 32, 75, 75]           6,144\n",
      "      BatchNorm2d-97           [-1, 32, 75, 75]              64\n",
      "      MBConvBlock-98           [-1, 32, 75, 75]               0\n",
      "         Identity-99           [-1, 32, 75, 75]               0\n",
      "Conv2dStaticSamePadding-100          [-1, 192, 75, 75]           6,144\n",
      "     BatchNorm2d-101          [-1, 192, 75, 75]             384\n",
      "MemoryEfficientSwish-102          [-1, 192, 75, 75]               0\n",
      "       ZeroPad2d-103          [-1, 192, 79, 79]               0\n",
      "Conv2dStaticSamePadding-104          [-1, 192, 38, 38]           4,800\n",
      "     BatchNorm2d-105          [-1, 192, 38, 38]             384\n",
      "MemoryEfficientSwish-106          [-1, 192, 38, 38]               0\n",
      "        Identity-107            [-1, 192, 1, 1]               0\n",
      "Conv2dStaticSamePadding-108              [-1, 8, 1, 1]           1,544\n",
      "MemoryEfficientSwish-109              [-1, 8, 1, 1]               0\n",
      "        Identity-110              [-1, 8, 1, 1]               0\n",
      "Conv2dStaticSamePadding-111            [-1, 192, 1, 1]           1,728\n",
      "        Identity-112          [-1, 192, 38, 38]               0\n",
      "Conv2dStaticSamePadding-113           [-1, 56, 38, 38]          10,752\n",
      "     BatchNorm2d-114           [-1, 56, 38, 38]             112\n",
      "     MBConvBlock-115           [-1, 56, 38, 38]               0\n",
      "        Identity-116           [-1, 56, 38, 38]               0\n",
      "Conv2dStaticSamePadding-117          [-1, 336, 38, 38]          18,816\n",
      "     BatchNorm2d-118          [-1, 336, 38, 38]             672\n",
      "MemoryEfficientSwish-119          [-1, 336, 38, 38]               0\n",
      "       ZeroPad2d-120          [-1, 336, 42, 42]               0\n",
      "Conv2dStaticSamePadding-121          [-1, 336, 38, 38]           8,400\n",
      "     BatchNorm2d-122          [-1, 336, 38, 38]             672\n",
      "MemoryEfficientSwish-123          [-1, 336, 38, 38]               0\n",
      "        Identity-124            [-1, 336, 1, 1]               0\n",
      "Conv2dStaticSamePadding-125             [-1, 14, 1, 1]           4,718\n",
      "MemoryEfficientSwish-126             [-1, 14, 1, 1]               0\n",
      "        Identity-127             [-1, 14, 1, 1]               0\n",
      "Conv2dStaticSamePadding-128            [-1, 336, 1, 1]           5,040\n",
      "        Identity-129          [-1, 336, 38, 38]               0\n",
      "Conv2dStaticSamePadding-130           [-1, 56, 38, 38]          18,816\n",
      "     BatchNorm2d-131           [-1, 56, 38, 38]             112\n",
      "     MBConvBlock-132           [-1, 56, 38, 38]               0\n",
      "        Identity-133           [-1, 56, 38, 38]               0\n",
      "Conv2dStaticSamePadding-134          [-1, 336, 38, 38]          18,816\n",
      "     BatchNorm2d-135          [-1, 336, 38, 38]             672\n",
      "MemoryEfficientSwish-136          [-1, 336, 38, 38]               0\n",
      "       ZeroPad2d-137          [-1, 336, 42, 42]               0\n",
      "Conv2dStaticSamePadding-138          [-1, 336, 38, 38]           8,400\n",
      "     BatchNorm2d-139          [-1, 336, 38, 38]             672\n",
      "MemoryEfficientSwish-140          [-1, 336, 38, 38]               0\n",
      "        Identity-141            [-1, 336, 1, 1]               0\n",
      "Conv2dStaticSamePadding-142             [-1, 14, 1, 1]           4,718\n",
      "MemoryEfficientSwish-143             [-1, 14, 1, 1]               0\n",
      "        Identity-144             [-1, 14, 1, 1]               0\n",
      "Conv2dStaticSamePadding-145            [-1, 336, 1, 1]           5,040\n",
      "        Identity-146          [-1, 336, 38, 38]               0\n",
      "Conv2dStaticSamePadding-147           [-1, 56, 38, 38]          18,816\n",
      "     BatchNorm2d-148           [-1, 56, 38, 38]             112\n",
      "     MBConvBlock-149           [-1, 56, 38, 38]               0\n",
      "        Identity-150           [-1, 56, 38, 38]               0\n",
      "Conv2dStaticSamePadding-151          [-1, 336, 38, 38]          18,816\n",
      "     BatchNorm2d-152          [-1, 336, 38, 38]             672\n",
      "MemoryEfficientSwish-153          [-1, 336, 38, 38]               0\n",
      "       ZeroPad2d-154          [-1, 336, 42, 42]               0\n",
      "Conv2dStaticSamePadding-155          [-1, 336, 38, 38]           8,400\n",
      "     BatchNorm2d-156          [-1, 336, 38, 38]             672\n",
      "MemoryEfficientSwish-157          [-1, 336, 38, 38]               0\n",
      "        Identity-158            [-1, 336, 1, 1]               0\n",
      "Conv2dStaticSamePadding-159             [-1, 14, 1, 1]           4,718\n",
      "MemoryEfficientSwish-160             [-1, 14, 1, 1]               0\n",
      "        Identity-161             [-1, 14, 1, 1]               0\n",
      "Conv2dStaticSamePadding-162            [-1, 336, 1, 1]           5,040\n",
      "        Identity-163          [-1, 336, 38, 38]               0\n",
      "Conv2dStaticSamePadding-164           [-1, 56, 38, 38]          18,816\n",
      "     BatchNorm2d-165           [-1, 56, 38, 38]             112\n",
      "     MBConvBlock-166           [-1, 56, 38, 38]               0\n",
      "        Identity-167           [-1, 56, 38, 38]               0\n",
      "Conv2dStaticSamePadding-168          [-1, 336, 38, 38]          18,816\n",
      "     BatchNorm2d-169          [-1, 336, 38, 38]             672\n",
      "MemoryEfficientSwish-170          [-1, 336, 38, 38]               0\n",
      "       ZeroPad2d-171          [-1, 336, 39, 39]               0\n",
      "Conv2dStaticSamePadding-172          [-1, 336, 19, 19]           3,024\n",
      "     BatchNorm2d-173          [-1, 336, 19, 19]             672\n",
      "MemoryEfficientSwish-174          [-1, 336, 19, 19]               0\n",
      "        Identity-175            [-1, 336, 1, 1]               0\n",
      "Conv2dStaticSamePadding-176             [-1, 14, 1, 1]           4,718\n",
      "MemoryEfficientSwish-177             [-1, 14, 1, 1]               0\n",
      "        Identity-178             [-1, 14, 1, 1]               0\n",
      "Conv2dStaticSamePadding-179            [-1, 336, 1, 1]           5,040\n",
      "        Identity-180          [-1, 336, 19, 19]               0\n",
      "Conv2dStaticSamePadding-181          [-1, 112, 19, 19]          37,632\n",
      "     BatchNorm2d-182          [-1, 112, 19, 19]             224\n",
      "     MBConvBlock-183          [-1, 112, 19, 19]               0\n",
      "        Identity-184          [-1, 112, 19, 19]               0\n",
      "Conv2dStaticSamePadding-185          [-1, 672, 19, 19]          75,264\n",
      "     BatchNorm2d-186          [-1, 672, 19, 19]           1,344\n",
      "MemoryEfficientSwish-187          [-1, 672, 19, 19]               0\n",
      "       ZeroPad2d-188          [-1, 672, 21, 21]               0\n",
      "Conv2dStaticSamePadding-189          [-1, 672, 19, 19]           6,048\n",
      "     BatchNorm2d-190          [-1, 672, 19, 19]           1,344\n",
      "MemoryEfficientSwish-191          [-1, 672, 19, 19]               0\n",
      "        Identity-192            [-1, 672, 1, 1]               0\n",
      "Conv2dStaticSamePadding-193             [-1, 28, 1, 1]          18,844\n",
      "MemoryEfficientSwish-194             [-1, 28, 1, 1]               0\n",
      "        Identity-195             [-1, 28, 1, 1]               0\n",
      "Conv2dStaticSamePadding-196            [-1, 672, 1, 1]          19,488\n",
      "        Identity-197          [-1, 672, 19, 19]               0\n",
      "Conv2dStaticSamePadding-198          [-1, 112, 19, 19]          75,264\n",
      "     BatchNorm2d-199          [-1, 112, 19, 19]             224\n",
      "     MBConvBlock-200          [-1, 112, 19, 19]               0\n",
      "        Identity-201          [-1, 112, 19, 19]               0\n",
      "Conv2dStaticSamePadding-202          [-1, 672, 19, 19]          75,264\n",
      "     BatchNorm2d-203          [-1, 672, 19, 19]           1,344\n",
      "MemoryEfficientSwish-204          [-1, 672, 19, 19]               0\n",
      "       ZeroPad2d-205          [-1, 672, 21, 21]               0\n",
      "Conv2dStaticSamePadding-206          [-1, 672, 19, 19]           6,048\n",
      "     BatchNorm2d-207          [-1, 672, 19, 19]           1,344\n",
      "MemoryEfficientSwish-208          [-1, 672, 19, 19]               0\n",
      "        Identity-209            [-1, 672, 1, 1]               0\n",
      "Conv2dStaticSamePadding-210             [-1, 28, 1, 1]          18,844\n",
      "MemoryEfficientSwish-211             [-1, 28, 1, 1]               0\n",
      "        Identity-212             [-1, 28, 1, 1]               0\n",
      "Conv2dStaticSamePadding-213            [-1, 672, 1, 1]          19,488\n",
      "        Identity-214          [-1, 672, 19, 19]               0\n",
      "Conv2dStaticSamePadding-215          [-1, 112, 19, 19]          75,264\n",
      "     BatchNorm2d-216          [-1, 112, 19, 19]             224\n",
      "     MBConvBlock-217          [-1, 112, 19, 19]               0\n",
      "        Identity-218          [-1, 112, 19, 19]               0\n",
      "Conv2dStaticSamePadding-219          [-1, 672, 19, 19]          75,264\n",
      "     BatchNorm2d-220          [-1, 672, 19, 19]           1,344\n",
      "MemoryEfficientSwish-221          [-1, 672, 19, 19]               0\n",
      "       ZeroPad2d-222          [-1, 672, 21, 21]               0\n",
      "Conv2dStaticSamePadding-223          [-1, 672, 19, 19]           6,048\n",
      "     BatchNorm2d-224          [-1, 672, 19, 19]           1,344\n",
      "MemoryEfficientSwish-225          [-1, 672, 19, 19]               0\n",
      "        Identity-226            [-1, 672, 1, 1]               0\n",
      "Conv2dStaticSamePadding-227             [-1, 28, 1, 1]          18,844\n",
      "MemoryEfficientSwish-228             [-1, 28, 1, 1]               0\n",
      "        Identity-229             [-1, 28, 1, 1]               0\n",
      "Conv2dStaticSamePadding-230            [-1, 672, 1, 1]          19,488\n",
      "        Identity-231          [-1, 672, 19, 19]               0\n",
      "Conv2dStaticSamePadding-232          [-1, 112, 19, 19]          75,264\n",
      "     BatchNorm2d-233          [-1, 112, 19, 19]             224\n",
      "     MBConvBlock-234          [-1, 112, 19, 19]               0\n",
      "        Identity-235          [-1, 112, 19, 19]               0\n",
      "Conv2dStaticSamePadding-236          [-1, 672, 19, 19]          75,264\n",
      "     BatchNorm2d-237          [-1, 672, 19, 19]           1,344\n",
      "MemoryEfficientSwish-238          [-1, 672, 19, 19]               0\n",
      "       ZeroPad2d-239          [-1, 672, 21, 21]               0\n",
      "Conv2dStaticSamePadding-240          [-1, 672, 19, 19]           6,048\n",
      "     BatchNorm2d-241          [-1, 672, 19, 19]           1,344\n",
      "MemoryEfficientSwish-242          [-1, 672, 19, 19]               0\n",
      "        Identity-243            [-1, 672, 1, 1]               0\n",
      "Conv2dStaticSamePadding-244             [-1, 28, 1, 1]          18,844\n",
      "MemoryEfficientSwish-245             [-1, 28, 1, 1]               0\n",
      "        Identity-246             [-1, 28, 1, 1]               0\n",
      "Conv2dStaticSamePadding-247            [-1, 672, 1, 1]          19,488\n",
      "        Identity-248          [-1, 672, 19, 19]               0\n",
      "Conv2dStaticSamePadding-249          [-1, 112, 19, 19]          75,264\n",
      "     BatchNorm2d-250          [-1, 112, 19, 19]             224\n",
      "     MBConvBlock-251          [-1, 112, 19, 19]               0\n",
      "        Identity-252          [-1, 112, 19, 19]               0\n",
      "Conv2dStaticSamePadding-253          [-1, 672, 19, 19]          75,264\n",
      "     BatchNorm2d-254          [-1, 672, 19, 19]           1,344\n",
      "MemoryEfficientSwish-255          [-1, 672, 19, 19]               0\n",
      "       ZeroPad2d-256          [-1, 672, 21, 21]               0\n",
      "Conv2dStaticSamePadding-257          [-1, 672, 19, 19]           6,048\n",
      "     BatchNorm2d-258          [-1, 672, 19, 19]           1,344\n",
      "MemoryEfficientSwish-259          [-1, 672, 19, 19]               0\n",
      "        Identity-260            [-1, 672, 1, 1]               0\n",
      "Conv2dStaticSamePadding-261             [-1, 28, 1, 1]          18,844\n",
      "MemoryEfficientSwish-262             [-1, 28, 1, 1]               0\n",
      "        Identity-263             [-1, 28, 1, 1]               0\n",
      "Conv2dStaticSamePadding-264            [-1, 672, 1, 1]          19,488\n",
      "        Identity-265          [-1, 672, 19, 19]               0\n",
      "Conv2dStaticSamePadding-266          [-1, 112, 19, 19]          75,264\n",
      "     BatchNorm2d-267          [-1, 112, 19, 19]             224\n",
      "     MBConvBlock-268          [-1, 112, 19, 19]               0\n",
      "        Identity-269          [-1, 112, 19, 19]               0\n",
      "Conv2dStaticSamePadding-270          [-1, 672, 19, 19]          75,264\n",
      "     BatchNorm2d-271          [-1, 672, 19, 19]           1,344\n",
      "MemoryEfficientSwish-272          [-1, 672, 19, 19]               0\n",
      "       ZeroPad2d-273          [-1, 672, 23, 23]               0\n",
      "Conv2dStaticSamePadding-274          [-1, 672, 19, 19]          16,800\n",
      "     BatchNorm2d-275          [-1, 672, 19, 19]           1,344\n",
      "MemoryEfficientSwish-276          [-1, 672, 19, 19]               0\n",
      "        Identity-277            [-1, 672, 1, 1]               0\n",
      "Conv2dStaticSamePadding-278             [-1, 28, 1, 1]          18,844\n",
      "MemoryEfficientSwish-279             [-1, 28, 1, 1]               0\n",
      "        Identity-280             [-1, 28, 1, 1]               0\n",
      "Conv2dStaticSamePadding-281            [-1, 672, 1, 1]          19,488\n",
      "        Identity-282          [-1, 672, 19, 19]               0\n",
      "Conv2dStaticSamePadding-283          [-1, 160, 19, 19]         107,520\n",
      "     BatchNorm2d-284          [-1, 160, 19, 19]             320\n",
      "     MBConvBlock-285          [-1, 160, 19, 19]               0\n",
      "        Identity-286          [-1, 160, 19, 19]               0\n",
      "Conv2dStaticSamePadding-287          [-1, 960, 19, 19]         153,600\n",
      "     BatchNorm2d-288          [-1, 960, 19, 19]           1,920\n",
      "MemoryEfficientSwish-289          [-1, 960, 19, 19]               0\n",
      "       ZeroPad2d-290          [-1, 960, 23, 23]               0\n",
      "Conv2dStaticSamePadding-291          [-1, 960, 19, 19]          24,000\n",
      "     BatchNorm2d-292          [-1, 960, 19, 19]           1,920\n",
      "MemoryEfficientSwish-293          [-1, 960, 19, 19]               0\n",
      "        Identity-294            [-1, 960, 1, 1]               0\n",
      "Conv2dStaticSamePadding-295             [-1, 40, 1, 1]          38,440\n",
      "MemoryEfficientSwish-296             [-1, 40, 1, 1]               0\n",
      "        Identity-297             [-1, 40, 1, 1]               0\n",
      "Conv2dStaticSamePadding-298            [-1, 960, 1, 1]          39,360\n",
      "        Identity-299          [-1, 960, 19, 19]               0\n",
      "Conv2dStaticSamePadding-300          [-1, 160, 19, 19]         153,600\n",
      "     BatchNorm2d-301          [-1, 160, 19, 19]             320\n",
      "     MBConvBlock-302          [-1, 160, 19, 19]               0\n",
      "        Identity-303          [-1, 160, 19, 19]               0\n",
      "Conv2dStaticSamePadding-304          [-1, 960, 19, 19]         153,600\n",
      "     BatchNorm2d-305          [-1, 960, 19, 19]           1,920\n",
      "MemoryEfficientSwish-306          [-1, 960, 19, 19]               0\n",
      "       ZeroPad2d-307          [-1, 960, 23, 23]               0\n",
      "Conv2dStaticSamePadding-308          [-1, 960, 19, 19]          24,000\n",
      "     BatchNorm2d-309          [-1, 960, 19, 19]           1,920\n",
      "MemoryEfficientSwish-310          [-1, 960, 19, 19]               0\n",
      "        Identity-311            [-1, 960, 1, 1]               0\n",
      "Conv2dStaticSamePadding-312             [-1, 40, 1, 1]          38,440\n",
      "MemoryEfficientSwish-313             [-1, 40, 1, 1]               0\n",
      "        Identity-314             [-1, 40, 1, 1]               0\n",
      "Conv2dStaticSamePadding-315            [-1, 960, 1, 1]          39,360\n",
      "        Identity-316          [-1, 960, 19, 19]               0\n",
      "Conv2dStaticSamePadding-317          [-1, 160, 19, 19]         153,600\n",
      "     BatchNorm2d-318          [-1, 160, 19, 19]             320\n",
      "     MBConvBlock-319          [-1, 160, 19, 19]               0\n",
      "        Identity-320          [-1, 160, 19, 19]               0\n",
      "Conv2dStaticSamePadding-321          [-1, 960, 19, 19]         153,600\n",
      "     BatchNorm2d-322          [-1, 960, 19, 19]           1,920\n",
      "MemoryEfficientSwish-323          [-1, 960, 19, 19]               0\n",
      "       ZeroPad2d-324          [-1, 960, 23, 23]               0\n",
      "Conv2dStaticSamePadding-325          [-1, 960, 19, 19]          24,000\n",
      "     BatchNorm2d-326          [-1, 960, 19, 19]           1,920\n",
      "MemoryEfficientSwish-327          [-1, 960, 19, 19]               0\n",
      "        Identity-328            [-1, 960, 1, 1]               0\n",
      "Conv2dStaticSamePadding-329             [-1, 40, 1, 1]          38,440\n",
      "MemoryEfficientSwish-330             [-1, 40, 1, 1]               0\n",
      "        Identity-331             [-1, 40, 1, 1]               0\n",
      "Conv2dStaticSamePadding-332            [-1, 960, 1, 1]          39,360\n",
      "        Identity-333          [-1, 960, 19, 19]               0\n",
      "Conv2dStaticSamePadding-334          [-1, 160, 19, 19]         153,600\n",
      "     BatchNorm2d-335          [-1, 160, 19, 19]             320\n",
      "     MBConvBlock-336          [-1, 160, 19, 19]               0\n",
      "        Identity-337          [-1, 160, 19, 19]               0\n",
      "Conv2dStaticSamePadding-338          [-1, 960, 19, 19]         153,600\n",
      "     BatchNorm2d-339          [-1, 960, 19, 19]           1,920\n",
      "MemoryEfficientSwish-340          [-1, 960, 19, 19]               0\n",
      "       ZeroPad2d-341          [-1, 960, 23, 23]               0\n",
      "Conv2dStaticSamePadding-342          [-1, 960, 19, 19]          24,000\n",
      "     BatchNorm2d-343          [-1, 960, 19, 19]           1,920\n",
      "MemoryEfficientSwish-344          [-1, 960, 19, 19]               0\n",
      "        Identity-345            [-1, 960, 1, 1]               0\n",
      "Conv2dStaticSamePadding-346             [-1, 40, 1, 1]          38,440\n",
      "MemoryEfficientSwish-347             [-1, 40, 1, 1]               0\n",
      "        Identity-348             [-1, 40, 1, 1]               0\n",
      "Conv2dStaticSamePadding-349            [-1, 960, 1, 1]          39,360\n",
      "        Identity-350          [-1, 960, 19, 19]               0\n",
      "Conv2dStaticSamePadding-351          [-1, 160, 19, 19]         153,600\n",
      "     BatchNorm2d-352          [-1, 160, 19, 19]             320\n",
      "     MBConvBlock-353          [-1, 160, 19, 19]               0\n",
      "        Identity-354          [-1, 160, 19, 19]               0\n",
      "Conv2dStaticSamePadding-355          [-1, 960, 19, 19]         153,600\n",
      "     BatchNorm2d-356          [-1, 960, 19, 19]           1,920\n",
      "MemoryEfficientSwish-357          [-1, 960, 19, 19]               0\n",
      "       ZeroPad2d-358          [-1, 960, 23, 23]               0\n",
      "Conv2dStaticSamePadding-359          [-1, 960, 19, 19]          24,000\n",
      "     BatchNorm2d-360          [-1, 960, 19, 19]           1,920\n",
      "MemoryEfficientSwish-361          [-1, 960, 19, 19]               0\n",
      "        Identity-362            [-1, 960, 1, 1]               0\n",
      "Conv2dStaticSamePadding-363             [-1, 40, 1, 1]          38,440\n",
      "MemoryEfficientSwish-364             [-1, 40, 1, 1]               0\n",
      "        Identity-365             [-1, 40, 1, 1]               0\n",
      "Conv2dStaticSamePadding-366            [-1, 960, 1, 1]          39,360\n",
      "        Identity-367          [-1, 960, 19, 19]               0\n",
      "Conv2dStaticSamePadding-368          [-1, 160, 19, 19]         153,600\n",
      "     BatchNorm2d-369          [-1, 160, 19, 19]             320\n",
      "     MBConvBlock-370          [-1, 160, 19, 19]               0\n",
      "        Identity-371          [-1, 160, 19, 19]               0\n",
      "Conv2dStaticSamePadding-372          [-1, 960, 19, 19]         153,600\n",
      "     BatchNorm2d-373          [-1, 960, 19, 19]           1,920\n",
      "MemoryEfficientSwish-374          [-1, 960, 19, 19]               0\n",
      "       ZeroPad2d-375          [-1, 960, 22, 22]               0\n",
      "Conv2dStaticSamePadding-376            [-1, 960, 9, 9]          24,000\n",
      "     BatchNorm2d-377            [-1, 960, 9, 9]           1,920\n",
      "MemoryEfficientSwish-378            [-1, 960, 9, 9]               0\n",
      "        Identity-379            [-1, 960, 1, 1]               0\n",
      "Conv2dStaticSamePadding-380             [-1, 40, 1, 1]          38,440\n",
      "MemoryEfficientSwish-381             [-1, 40, 1, 1]               0\n",
      "        Identity-382             [-1, 40, 1, 1]               0\n",
      "Conv2dStaticSamePadding-383            [-1, 960, 1, 1]          39,360\n",
      "        Identity-384            [-1, 960, 9, 9]               0\n",
      "Conv2dStaticSamePadding-385            [-1, 272, 9, 9]         261,120\n",
      "     BatchNorm2d-386            [-1, 272, 9, 9]             544\n",
      "     MBConvBlock-387            [-1, 272, 9, 9]               0\n",
      "        Identity-388            [-1, 272, 9, 9]               0\n",
      "Conv2dStaticSamePadding-389           [-1, 1632, 9, 9]         443,904\n",
      "     BatchNorm2d-390           [-1, 1632, 9, 9]           3,264\n",
      "MemoryEfficientSwish-391           [-1, 1632, 9, 9]               0\n",
      "       ZeroPad2d-392         [-1, 1632, 13, 13]               0\n",
      "Conv2dStaticSamePadding-393           [-1, 1632, 9, 9]          40,800\n",
      "     BatchNorm2d-394           [-1, 1632, 9, 9]           3,264\n",
      "MemoryEfficientSwish-395           [-1, 1632, 9, 9]               0\n",
      "        Identity-396           [-1, 1632, 1, 1]               0\n",
      "Conv2dStaticSamePadding-397             [-1, 68, 1, 1]         111,044\n",
      "MemoryEfficientSwish-398             [-1, 68, 1, 1]               0\n",
      "        Identity-399             [-1, 68, 1, 1]               0\n",
      "Conv2dStaticSamePadding-400           [-1, 1632, 1, 1]         112,608\n",
      "        Identity-401           [-1, 1632, 9, 9]               0\n",
      "Conv2dStaticSamePadding-402            [-1, 272, 9, 9]         443,904\n",
      "     BatchNorm2d-403            [-1, 272, 9, 9]             544\n",
      "     MBConvBlock-404            [-1, 272, 9, 9]               0\n",
      "        Identity-405            [-1, 272, 9, 9]               0\n",
      "Conv2dStaticSamePadding-406           [-1, 1632, 9, 9]         443,904\n",
      "     BatchNorm2d-407           [-1, 1632, 9, 9]           3,264\n",
      "MemoryEfficientSwish-408           [-1, 1632, 9, 9]               0\n",
      "       ZeroPad2d-409         [-1, 1632, 13, 13]               0\n",
      "Conv2dStaticSamePadding-410           [-1, 1632, 9, 9]          40,800\n",
      "     BatchNorm2d-411           [-1, 1632, 9, 9]           3,264\n",
      "MemoryEfficientSwish-412           [-1, 1632, 9, 9]               0\n",
      "        Identity-413           [-1, 1632, 1, 1]               0\n",
      "Conv2dStaticSamePadding-414             [-1, 68, 1, 1]         111,044\n",
      "MemoryEfficientSwish-415             [-1, 68, 1, 1]               0\n",
      "        Identity-416             [-1, 68, 1, 1]               0\n",
      "Conv2dStaticSamePadding-417           [-1, 1632, 1, 1]         112,608\n",
      "        Identity-418           [-1, 1632, 9, 9]               0\n",
      "Conv2dStaticSamePadding-419            [-1, 272, 9, 9]         443,904\n",
      "     BatchNorm2d-420            [-1, 272, 9, 9]             544\n",
      "     MBConvBlock-421            [-1, 272, 9, 9]               0\n",
      "        Identity-422            [-1, 272, 9, 9]               0\n",
      "Conv2dStaticSamePadding-423           [-1, 1632, 9, 9]         443,904\n",
      "     BatchNorm2d-424           [-1, 1632, 9, 9]           3,264\n",
      "MemoryEfficientSwish-425           [-1, 1632, 9, 9]               0\n",
      "       ZeroPad2d-426         [-1, 1632, 13, 13]               0\n",
      "Conv2dStaticSamePadding-427           [-1, 1632, 9, 9]          40,800\n",
      "     BatchNorm2d-428           [-1, 1632, 9, 9]           3,264\n",
      "MemoryEfficientSwish-429           [-1, 1632, 9, 9]               0\n",
      "        Identity-430           [-1, 1632, 1, 1]               0\n",
      "Conv2dStaticSamePadding-431             [-1, 68, 1, 1]         111,044\n",
      "MemoryEfficientSwish-432             [-1, 68, 1, 1]               0\n",
      "        Identity-433             [-1, 68, 1, 1]               0\n",
      "Conv2dStaticSamePadding-434           [-1, 1632, 1, 1]         112,608\n",
      "        Identity-435           [-1, 1632, 9, 9]               0\n",
      "Conv2dStaticSamePadding-436            [-1, 272, 9, 9]         443,904\n",
      "     BatchNorm2d-437            [-1, 272, 9, 9]             544\n",
      "     MBConvBlock-438            [-1, 272, 9, 9]               0\n",
      "        Identity-439            [-1, 272, 9, 9]               0\n",
      "Conv2dStaticSamePadding-440           [-1, 1632, 9, 9]         443,904\n",
      "     BatchNorm2d-441           [-1, 1632, 9, 9]           3,264\n",
      "MemoryEfficientSwish-442           [-1, 1632, 9, 9]               0\n",
      "       ZeroPad2d-443         [-1, 1632, 13, 13]               0\n",
      "Conv2dStaticSamePadding-444           [-1, 1632, 9, 9]          40,800\n",
      "     BatchNorm2d-445           [-1, 1632, 9, 9]           3,264\n",
      "MemoryEfficientSwish-446           [-1, 1632, 9, 9]               0\n",
      "        Identity-447           [-1, 1632, 1, 1]               0\n",
      "Conv2dStaticSamePadding-448             [-1, 68, 1, 1]         111,044\n",
      "MemoryEfficientSwish-449             [-1, 68, 1, 1]               0\n",
      "        Identity-450             [-1, 68, 1, 1]               0\n",
      "Conv2dStaticSamePadding-451           [-1, 1632, 1, 1]         112,608\n",
      "        Identity-452           [-1, 1632, 9, 9]               0\n",
      "Conv2dStaticSamePadding-453            [-1, 272, 9, 9]         443,904\n",
      "     BatchNorm2d-454            [-1, 272, 9, 9]             544\n",
      "     MBConvBlock-455            [-1, 272, 9, 9]               0\n",
      "        Identity-456            [-1, 272, 9, 9]               0\n",
      "Conv2dStaticSamePadding-457           [-1, 1632, 9, 9]         443,904\n",
      "     BatchNorm2d-458           [-1, 1632, 9, 9]           3,264\n",
      "MemoryEfficientSwish-459           [-1, 1632, 9, 9]               0\n",
      "       ZeroPad2d-460         [-1, 1632, 13, 13]               0\n",
      "Conv2dStaticSamePadding-461           [-1, 1632, 9, 9]          40,800\n",
      "     BatchNorm2d-462           [-1, 1632, 9, 9]           3,264\n",
      "MemoryEfficientSwish-463           [-1, 1632, 9, 9]               0\n",
      "        Identity-464           [-1, 1632, 1, 1]               0\n",
      "Conv2dStaticSamePadding-465             [-1, 68, 1, 1]         111,044\n",
      "MemoryEfficientSwish-466             [-1, 68, 1, 1]               0\n",
      "        Identity-467             [-1, 68, 1, 1]               0\n",
      "Conv2dStaticSamePadding-468           [-1, 1632, 1, 1]         112,608\n",
      "        Identity-469           [-1, 1632, 9, 9]               0\n",
      "Conv2dStaticSamePadding-470            [-1, 272, 9, 9]         443,904\n",
      "     BatchNorm2d-471            [-1, 272, 9, 9]             544\n",
      "     MBConvBlock-472            [-1, 272, 9, 9]               0\n",
      "        Identity-473            [-1, 272, 9, 9]               0\n",
      "Conv2dStaticSamePadding-474           [-1, 1632, 9, 9]         443,904\n",
      "     BatchNorm2d-475           [-1, 1632, 9, 9]           3,264\n",
      "MemoryEfficientSwish-476           [-1, 1632, 9, 9]               0\n",
      "       ZeroPad2d-477         [-1, 1632, 13, 13]               0\n",
      "Conv2dStaticSamePadding-478           [-1, 1632, 9, 9]          40,800\n",
      "     BatchNorm2d-479           [-1, 1632, 9, 9]           3,264\n",
      "MemoryEfficientSwish-480           [-1, 1632, 9, 9]               0\n",
      "        Identity-481           [-1, 1632, 1, 1]               0\n",
      "Conv2dStaticSamePadding-482             [-1, 68, 1, 1]         111,044\n",
      "MemoryEfficientSwish-483             [-1, 68, 1, 1]               0\n",
      "        Identity-484             [-1, 68, 1, 1]               0\n",
      "Conv2dStaticSamePadding-485           [-1, 1632, 1, 1]         112,608\n",
      "        Identity-486           [-1, 1632, 9, 9]               0\n",
      "Conv2dStaticSamePadding-487            [-1, 272, 9, 9]         443,904\n",
      "     BatchNorm2d-488            [-1, 272, 9, 9]             544\n",
      "     MBConvBlock-489            [-1, 272, 9, 9]               0\n",
      "        Identity-490            [-1, 272, 9, 9]               0\n",
      "Conv2dStaticSamePadding-491           [-1, 1632, 9, 9]         443,904\n",
      "     BatchNorm2d-492           [-1, 1632, 9, 9]           3,264\n",
      "MemoryEfficientSwish-493           [-1, 1632, 9, 9]               0\n",
      "       ZeroPad2d-494         [-1, 1632, 13, 13]               0\n",
      "Conv2dStaticSamePadding-495           [-1, 1632, 9, 9]          40,800\n",
      "     BatchNorm2d-496           [-1, 1632, 9, 9]           3,264\n",
      "MemoryEfficientSwish-497           [-1, 1632, 9, 9]               0\n",
      "        Identity-498           [-1, 1632, 1, 1]               0\n",
      "Conv2dStaticSamePadding-499             [-1, 68, 1, 1]         111,044\n",
      "MemoryEfficientSwish-500             [-1, 68, 1, 1]               0\n",
      "        Identity-501             [-1, 68, 1, 1]               0\n",
      "Conv2dStaticSamePadding-502           [-1, 1632, 1, 1]         112,608\n",
      "        Identity-503           [-1, 1632, 9, 9]               0\n",
      "Conv2dStaticSamePadding-504            [-1, 272, 9, 9]         443,904\n",
      "     BatchNorm2d-505            [-1, 272, 9, 9]             544\n",
      "     MBConvBlock-506            [-1, 272, 9, 9]               0\n",
      "        Identity-507            [-1, 272, 9, 9]               0\n",
      "Conv2dStaticSamePadding-508           [-1, 1632, 9, 9]         443,904\n",
      "     BatchNorm2d-509           [-1, 1632, 9, 9]           3,264\n",
      "MemoryEfficientSwish-510           [-1, 1632, 9, 9]               0\n",
      "       ZeroPad2d-511         [-1, 1632, 11, 11]               0\n",
      "Conv2dStaticSamePadding-512           [-1, 1632, 9, 9]          14,688\n",
      "     BatchNorm2d-513           [-1, 1632, 9, 9]           3,264\n",
      "MemoryEfficientSwish-514           [-1, 1632, 9, 9]               0\n",
      "        Identity-515           [-1, 1632, 1, 1]               0\n",
      "Conv2dStaticSamePadding-516             [-1, 68, 1, 1]         111,044\n",
      "MemoryEfficientSwish-517             [-1, 68, 1, 1]               0\n",
      "        Identity-518             [-1, 68, 1, 1]               0\n",
      "Conv2dStaticSamePadding-519           [-1, 1632, 1, 1]         112,608\n",
      "        Identity-520           [-1, 1632, 9, 9]               0\n",
      "Conv2dStaticSamePadding-521            [-1, 448, 9, 9]         731,136\n",
      "     BatchNorm2d-522            [-1, 448, 9, 9]             896\n",
      "     MBConvBlock-523            [-1, 448, 9, 9]               0\n",
      "        Identity-524            [-1, 448, 9, 9]               0\n",
      "Conv2dStaticSamePadding-525           [-1, 2688, 9, 9]       1,204,224\n",
      "     BatchNorm2d-526           [-1, 2688, 9, 9]           5,376\n",
      "MemoryEfficientSwish-527           [-1, 2688, 9, 9]               0\n",
      "       ZeroPad2d-528         [-1, 2688, 11, 11]               0\n",
      "Conv2dStaticSamePadding-529           [-1, 2688, 9, 9]          24,192\n",
      "     BatchNorm2d-530           [-1, 2688, 9, 9]           5,376\n",
      "MemoryEfficientSwish-531           [-1, 2688, 9, 9]               0\n",
      "        Identity-532           [-1, 2688, 1, 1]               0\n",
      "Conv2dStaticSamePadding-533            [-1, 112, 1, 1]         301,168\n",
      "MemoryEfficientSwish-534            [-1, 112, 1, 1]               0\n",
      "        Identity-535            [-1, 112, 1, 1]               0\n",
      "Conv2dStaticSamePadding-536           [-1, 2688, 1, 1]         303,744\n",
      "        Identity-537           [-1, 2688, 9, 9]               0\n",
      "Conv2dStaticSamePadding-538            [-1, 448, 9, 9]       1,204,224\n",
      "     BatchNorm2d-539            [-1, 448, 9, 9]             896\n",
      "     MBConvBlock-540            [-1, 448, 9, 9]               0\n",
      "        Identity-541            [-1, 448, 9, 9]               0\n",
      "Conv2dStaticSamePadding-542           [-1, 1792, 9, 9]         802,816\n",
      "     BatchNorm2d-543           [-1, 1792, 9, 9]           3,584\n",
      "MemoryEfficientSwish-544           [-1, 1792, 9, 9]               0\n",
      "AdaptiveAvgPool2d-545           [-1, 1792, 1, 1]               0\n",
      "         Dropout-546                 [-1, 1792]               0\n",
      "          Linear-547                    [-1, 5]           8,965\n",
      "================================================================\n",
      "Total params: 17,557,581\n",
      "Trainable params: 17,557,581\n",
      "Non-trainable params: 0\n",
      "----------------------------------------------------------------\n",
      "Input size (MB): 1.03\n",
      "Forward/backward pass size (MB): 958.67\n",
      "Params size (MB): 66.98\n",
      "Estimated Total Size (MB): 1026.67\n",
      "----------------------------------------------------------------\n"
     ]
    }
   ],
   "source": [
    "torchsummary.summary(model,(3,300,300))"
   ]
  },
  {
   "cell_type": "code",
   "execution_count": 28,
   "id": "28e1868e",
   "metadata": {},
   "outputs": [],
   "source": [
    "optimizer = optim.Adam(model.parameters(), lr=1e-4)\n",
    "criterion = nn.CrossEntropyLoss()\n",
    "scheduler = lr_scheduler.StepLR(optimizer, step_size=7, gamma=0.1)"
   ]
  },
  {
   "cell_type": "code",
   "execution_count": 29,
   "id": "84a55fa9",
   "metadata": {},
   "outputs": [],
   "source": [
    "since = time.time()"
   ]
  },
  {
   "cell_type": "code",
   "execution_count": 30,
   "id": "0e103c6d",
   "metadata": {},
   "outputs": [],
   "source": [
    "best_model_weights = copy.deepcopy(model.state_dict())\n",
    "best_acc = 0.0"
   ]
  },
  {
   "cell_type": "code",
   "execution_count": null,
   "id": "5fedb705",
   "metadata": {
    "scrolled": true
   },
   "outputs": [
    {
     "name": "stderr",
     "output_type": "stream",
     "text": [
      "\r",
      "  0%|          | 0/478 [00:00<?, ?it/s]"
     ]
    },
    {
     "name": "stdout",
     "output_type": "stream",
     "text": [
      "Epoch 0/49\n",
      "----------\n"
     ]
    },
    {
     "name": "stderr",
     "output_type": "stream",
     "text": [
      "100%|██████████| 478/478 [01:01<00:00,  7.78it/s]\n",
      "  0%|          | 0/239 [00:00<?, ?it/s]"
     ]
    },
    {
     "name": "stdout",
     "output_type": "stream",
     "text": [
      "train Loss: 0.0886 Acc: 0.9783\n"
     ]
    },
    {
     "name": "stderr",
     "output_type": "stream",
     "text": [
      "100%|██████████| 239/239 [00:09<00:00, 25.77it/s]\n",
      "  0%|          | 0/478 [00:00<?, ?it/s]"
     ]
    },
    {
     "name": "stdout",
     "output_type": "stream",
     "text": [
      "val Loss: 0.0134 Acc: 0.9974\n",
      "Epoch 1/49\n",
      "----------\n"
     ]
    },
    {
     "name": "stderr",
     "output_type": "stream",
     "text": [
      "100%|██████████| 478/478 [01:02<00:00,  7.60it/s]\n",
      "  0%|          | 0/239 [00:00<?, ?it/s]"
     ]
    },
    {
     "name": "stdout",
     "output_type": "stream",
     "text": [
      "train Loss: 0.0437 Acc: 0.9880\n"
     ]
    },
    {
     "name": "stderr",
     "output_type": "stream",
     "text": [
      "100%|██████████| 239/239 [00:09<00:00, 24.46it/s]\n",
      "  0%|          | 0/478 [00:00<?, ?it/s]"
     ]
    },
    {
     "name": "stdout",
     "output_type": "stream",
     "text": [
      "val Loss: 0.0026 Acc: 0.9995\n",
      "Epoch 2/49\n",
      "----------\n"
     ]
    },
    {
     "name": "stderr",
     "output_type": "stream",
     "text": [
      "100%|██████████| 478/478 [01:03<00:00,  7.56it/s]\n",
      "  0%|          | 0/239 [00:00<?, ?it/s]"
     ]
    },
    {
     "name": "stdout",
     "output_type": "stream",
     "text": [
      "train Loss: 0.0142 Acc: 0.9971\n"
     ]
    },
    {
     "name": "stderr",
     "output_type": "stream",
     "text": [
      "100%|██████████| 239/239 [00:09<00:00, 25.18it/s]\n",
      "  0%|          | 0/478 [00:00<?, ?it/s]"
     ]
    },
    {
     "name": "stdout",
     "output_type": "stream",
     "text": [
      "val Loss: 0.0005 Acc: 1.0000\n",
      "Epoch 3/49\n",
      "----------\n"
     ]
    },
    {
     "name": "stderr",
     "output_type": "stream",
     "text": [
      "100%|██████████| 478/478 [01:03<00:00,  7.53it/s]\n",
      "  0%|          | 0/239 [00:00<?, ?it/s]"
     ]
    },
    {
     "name": "stdout",
     "output_type": "stream",
     "text": [
      "train Loss: 0.0069 Acc: 0.9990\n"
     ]
    },
    {
     "name": "stderr",
     "output_type": "stream",
     "text": [
      "100%|██████████| 239/239 [00:10<00:00, 22.62it/s]\n",
      "  0%|          | 0/478 [00:00<?, ?it/s]"
     ]
    },
    {
     "name": "stdout",
     "output_type": "stream",
     "text": [
      "val Loss: 0.0233 Acc: 0.9958\n",
      "Epoch 4/49\n",
      "----------\n"
     ]
    },
    {
     "name": "stderr",
     "output_type": "stream",
     "text": [
      "100%|██████████| 478/478 [01:01<00:00,  7.73it/s]\n",
      "  0%|          | 0/239 [00:00<?, ?it/s]"
     ]
    },
    {
     "name": "stdout",
     "output_type": "stream",
     "text": [
      "train Loss: 0.0257 Acc: 0.9924\n"
     ]
    },
    {
     "name": "stderr",
     "output_type": "stream",
     "text": [
      "100%|██████████| 239/239 [00:10<00:00, 22.42it/s]\n",
      "  0%|          | 0/478 [00:00<?, ?it/s]"
     ]
    },
    {
     "name": "stdout",
     "output_type": "stream",
     "text": [
      "val Loss: 0.0031 Acc: 0.9995\n",
      "Epoch 5/49\n",
      "----------\n"
     ]
    },
    {
     "name": "stderr",
     "output_type": "stream",
     "text": [
      "100%|██████████| 478/478 [01:00<00:00,  7.85it/s]\n",
      "  0%|          | 0/239 [00:00<?, ?it/s]"
     ]
    },
    {
     "name": "stdout",
     "output_type": "stream",
     "text": [
      "train Loss: 0.0203 Acc: 0.9950\n"
     ]
    },
    {
     "name": "stderr",
     "output_type": "stream",
     "text": [
      "100%|██████████| 239/239 [00:09<00:00, 24.86it/s]\n",
      "  0%|          | 0/478 [00:00<?, ?it/s]"
     ]
    },
    {
     "name": "stdout",
     "output_type": "stream",
     "text": [
      "val Loss: 0.0058 Acc: 0.9995\n",
      "Epoch 6/49\n",
      "----------\n"
     ]
    },
    {
     "name": "stderr",
     "output_type": "stream",
     "text": [
      "100%|██████████| 478/478 [01:03<00:00,  7.57it/s]\n",
      "  0%|          | 0/239 [00:00<?, ?it/s]"
     ]
    },
    {
     "name": "stdout",
     "output_type": "stream",
     "text": [
      "train Loss: 0.0135 Acc: 0.9955\n"
     ]
    },
    {
     "name": "stderr",
     "output_type": "stream",
     "text": [
      "100%|██████████| 239/239 [00:09<00:00, 24.45it/s]\n",
      "  0%|          | 0/478 [00:00<?, ?it/s]"
     ]
    },
    {
     "name": "stdout",
     "output_type": "stream",
     "text": [
      "val Loss: 0.0126 Acc: 0.9984\n",
      "Epoch 7/49\n",
      "----------\n"
     ]
    },
    {
     "name": "stderr",
     "output_type": "stream",
     "text": [
      "100%|██████████| 478/478 [01:02<00:00,  7.70it/s]\n",
      "  0%|          | 0/239 [00:00<?, ?it/s]"
     ]
    },
    {
     "name": "stdout",
     "output_type": "stream",
     "text": [
      "train Loss: 0.0056 Acc: 0.9984\n"
     ]
    },
    {
     "name": "stderr",
     "output_type": "stream",
     "text": [
      "100%|██████████| 239/239 [00:11<00:00, 20.69it/s]\n",
      "  0%|          | 0/478 [00:00<?, ?it/s]"
     ]
    },
    {
     "name": "stdout",
     "output_type": "stream",
     "text": [
      "val Loss: 0.0031 Acc: 0.9995\n",
      "Epoch 8/49\n",
      "----------\n"
     ]
    },
    {
     "name": "stderr",
     "output_type": "stream",
     "text": [
      "100%|██████████| 478/478 [01:02<00:00,  7.70it/s]\n",
      "  0%|          | 0/239 [00:00<?, ?it/s]"
     ]
    },
    {
     "name": "stdout",
     "output_type": "stream",
     "text": [
      "train Loss: 0.0029 Acc: 0.9990\n"
     ]
    },
    {
     "name": "stderr",
     "output_type": "stream",
     "text": [
      "100%|██████████| 239/239 [00:09<00:00, 25.39it/s]\n",
      "  0%|          | 0/478 [00:00<?, ?it/s]"
     ]
    },
    {
     "name": "stdout",
     "output_type": "stream",
     "text": [
      "val Loss: 0.0021 Acc: 0.9995\n",
      "Epoch 9/49\n",
      "----------\n"
     ]
    },
    {
     "name": "stderr",
     "output_type": "stream",
     "text": [
      "100%|██████████| 478/478 [01:02<00:00,  7.70it/s]\n",
      "  0%|          | 0/239 [00:00<?, ?it/s]"
     ]
    },
    {
     "name": "stdout",
     "output_type": "stream",
     "text": [
      "train Loss: 0.0031 Acc: 0.9987\n"
     ]
    },
    {
     "name": "stderr",
     "output_type": "stream",
     "text": [
      "100%|██████████| 239/239 [00:11<00:00, 19.96it/s]\n",
      "  0%|          | 0/478 [00:00<?, ?it/s]"
     ]
    },
    {
     "name": "stdout",
     "output_type": "stream",
     "text": [
      "val Loss: 0.0015 Acc: 0.9995\n",
      "Epoch 10/49\n",
      "----------\n"
     ]
    },
    {
     "name": "stderr",
     "output_type": "stream",
     "text": [
      "100%|██████████| 478/478 [01:02<00:00,  7.66it/s]\n",
      "  0%|          | 0/239 [00:00<?, ?it/s]"
     ]
    },
    {
     "name": "stdout",
     "output_type": "stream",
     "text": [
      "train Loss: 0.0015 Acc: 1.0000\n"
     ]
    },
    {
     "name": "stderr",
     "output_type": "stream",
     "text": [
      "100%|██████████| 239/239 [00:09<00:00, 25.21it/s]\n",
      "  0%|          | 0/478 [00:00<?, ?it/s]"
     ]
    },
    {
     "name": "stdout",
     "output_type": "stream",
     "text": [
      "val Loss: 0.0012 Acc: 0.9995\n",
      "Epoch 11/49\n",
      "----------\n"
     ]
    },
    {
     "name": "stderr",
     "output_type": "stream",
     "text": [
      "100%|██████████| 478/478 [01:02<00:00,  7.65it/s]\n",
      "  0%|          | 0/239 [00:00<?, ?it/s]"
     ]
    },
    {
     "name": "stdout",
     "output_type": "stream",
     "text": [
      "train Loss: 0.0074 Acc: 0.9987\n"
     ]
    },
    {
     "name": "stderr",
     "output_type": "stream",
     "text": [
      "100%|██████████| 239/239 [00:09<00:00, 24.25it/s]\n",
      "  0%|          | 0/478 [00:00<?, ?it/s]"
     ]
    },
    {
     "name": "stdout",
     "output_type": "stream",
     "text": [
      "val Loss: 0.0048 Acc: 0.9995\n",
      "Epoch 12/49\n",
      "----------\n"
     ]
    },
    {
     "name": "stderr",
     "output_type": "stream",
     "text": [
      "100%|██████████| 478/478 [01:05<00:00,  7.30it/s]\n",
      "  0%|          | 0/239 [00:00<?, ?it/s]"
     ]
    },
    {
     "name": "stdout",
     "output_type": "stream",
     "text": [
      "train Loss: 0.0017 Acc: 0.9997\n"
     ]
    },
    {
     "name": "stderr",
     "output_type": "stream",
     "text": [
      "100%|██████████| 239/239 [00:09<00:00, 24.52it/s]\n",
      "  0%|          | 0/478 [00:00<?, ?it/s]"
     ]
    },
    {
     "name": "stdout",
     "output_type": "stream",
     "text": [
      "val Loss: 0.0011 Acc: 0.9995\n",
      "Epoch 13/49\n",
      "----------\n"
     ]
    },
    {
     "name": "stderr",
     "output_type": "stream",
     "text": [
      "100%|██████████| 478/478 [01:03<00:00,  7.50it/s]\n",
      "  0%|          | 0/239 [00:00<?, ?it/s]"
     ]
    },
    {
     "name": "stdout",
     "output_type": "stream",
     "text": [
      "train Loss: 0.0007 Acc: 1.0000\n"
     ]
    },
    {
     "name": "stderr",
     "output_type": "stream",
     "text": [
      "100%|██████████| 239/239 [00:09<00:00, 24.15it/s]\n",
      "  0%|          | 0/478 [00:00<?, ?it/s]"
     ]
    },
    {
     "name": "stdout",
     "output_type": "stream",
     "text": [
      "val Loss: 0.0010 Acc: 0.9995\n",
      "Epoch 14/49\n",
      "----------\n"
     ]
    },
    {
     "name": "stderr",
     "output_type": "stream",
     "text": [
      "100%|██████████| 478/478 [01:03<00:00,  7.52it/s]\n",
      "  0%|          | 0/239 [00:00<?, ?it/s]"
     ]
    },
    {
     "name": "stdout",
     "output_type": "stream",
     "text": [
      "train Loss: 0.0012 Acc: 0.9997\n"
     ]
    },
    {
     "name": "stderr",
     "output_type": "stream",
     "text": [
      "100%|██████████| 239/239 [00:09<00:00, 24.30it/s]\n",
      "  0%|          | 0/478 [00:00<?, ?it/s]"
     ]
    },
    {
     "name": "stdout",
     "output_type": "stream",
     "text": [
      "val Loss: 0.0009 Acc: 0.9995\n",
      "Epoch 15/49\n",
      "----------\n"
     ]
    },
    {
     "name": "stderr",
     "output_type": "stream",
     "text": [
      "100%|██████████| 478/478 [01:06<00:00,  7.14it/s]\n",
      "  0%|          | 0/239 [00:00<?, ?it/s]"
     ]
    },
    {
     "name": "stdout",
     "output_type": "stream",
     "text": [
      "train Loss: 0.0017 Acc: 0.9997\n"
     ]
    },
    {
     "name": "stderr",
     "output_type": "stream",
     "text": [
      "100%|██████████| 239/239 [00:10<00:00, 23.90it/s]\n",
      "  0%|          | 0/478 [00:00<?, ?it/s]"
     ]
    },
    {
     "name": "stdout",
     "output_type": "stream",
     "text": [
      "val Loss: 0.0012 Acc: 0.9995\n",
      "Epoch 16/49\n",
      "----------\n"
     ]
    },
    {
     "name": "stderr",
     "output_type": "stream",
     "text": [
      "100%|██████████| 478/478 [01:03<00:00,  7.48it/s]\n",
      "  0%|          | 0/239 [00:00<?, ?it/s]"
     ]
    },
    {
     "name": "stdout",
     "output_type": "stream",
     "text": [
      "train Loss: 0.0007 Acc: 1.0000\n"
     ]
    },
    {
     "name": "stderr",
     "output_type": "stream",
     "text": [
      "100%|██████████| 239/239 [00:10<00:00, 23.72it/s]\n",
      "  0%|          | 0/478 [00:00<?, ?it/s]"
     ]
    },
    {
     "name": "stdout",
     "output_type": "stream",
     "text": [
      "val Loss: 0.0011 Acc: 0.9995\n",
      "Epoch 17/49\n",
      "----------\n"
     ]
    },
    {
     "name": "stderr",
     "output_type": "stream",
     "text": [
      "100%|██████████| 478/478 [01:04<00:00,  7.39it/s]\n",
      "  0%|          | 0/239 [00:00<?, ?it/s]"
     ]
    },
    {
     "name": "stdout",
     "output_type": "stream",
     "text": [
      "train Loss: 0.0011 Acc: 0.9997\n"
     ]
    },
    {
     "name": "stderr",
     "output_type": "stream",
     "text": [
      "100%|██████████| 239/239 [00:10<00:00, 23.36it/s]\n",
      "  0%|          | 0/478 [00:00<?, ?it/s]"
     ]
    },
    {
     "name": "stdout",
     "output_type": "stream",
     "text": [
      "val Loss: 0.0010 Acc: 0.9995\n",
      "Epoch 18/49\n",
      "----------\n"
     ]
    },
    {
     "name": "stderr",
     "output_type": "stream",
     "text": [
      "100%|██████████| 478/478 [01:04<00:00,  7.45it/s]\n",
      "  0%|          | 0/239 [00:00<?, ?it/s]"
     ]
    },
    {
     "name": "stdout",
     "output_type": "stream",
     "text": [
      "train Loss: 0.0007 Acc: 1.0000\n"
     ]
    },
    {
     "name": "stderr",
     "output_type": "stream",
     "text": [
      "100%|██████████| 239/239 [00:14<00:00, 16.25it/s]\n",
      "  0%|          | 0/478 [00:00<?, ?it/s]"
     ]
    },
    {
     "name": "stdout",
     "output_type": "stream",
     "text": [
      "val Loss: 0.0008 Acc: 0.9995\n",
      "Epoch 19/49\n",
      "----------\n"
     ]
    },
    {
     "name": "stderr",
     "output_type": "stream",
     "text": [
      "100%|██████████| 478/478 [01:05<00:00,  7.34it/s]\n",
      "  0%|          | 0/239 [00:00<?, ?it/s]"
     ]
    },
    {
     "name": "stdout",
     "output_type": "stream",
     "text": [
      "train Loss: 0.0022 Acc: 0.9990\n"
     ]
    },
    {
     "name": "stderr",
     "output_type": "stream",
     "text": [
      "100%|██████████| 239/239 [00:10<00:00, 23.15it/s]\n",
      "  0%|          | 0/478 [00:00<?, ?it/s]"
     ]
    },
    {
     "name": "stdout",
     "output_type": "stream",
     "text": [
      "val Loss: 0.0008 Acc: 0.9995\n",
      "Epoch 20/49\n",
      "----------\n"
     ]
    },
    {
     "name": "stderr",
     "output_type": "stream",
     "text": [
      "100%|██████████| 478/478 [01:03<00:00,  7.53it/s]\n",
      "  0%|          | 0/239 [00:00<?, ?it/s]"
     ]
    },
    {
     "name": "stdout",
     "output_type": "stream",
     "text": [
      "train Loss: 0.0005 Acc: 1.0000\n"
     ]
    },
    {
     "name": "stderr",
     "output_type": "stream",
     "text": [
      "100%|██████████| 239/239 [00:10<00:00, 23.04it/s]\n",
      "  0%|          | 0/478 [00:00<?, ?it/s]"
     ]
    },
    {
     "name": "stdout",
     "output_type": "stream",
     "text": [
      "val Loss: 0.0009 Acc: 0.9995\n",
      "Epoch 21/49\n",
      "----------\n"
     ]
    },
    {
     "name": "stderr",
     "output_type": "stream",
     "text": [
      "100%|██████████| 478/478 [01:03<00:00,  7.53it/s]\n",
      "  0%|          | 0/239 [00:00<?, ?it/s]"
     ]
    },
    {
     "name": "stdout",
     "output_type": "stream",
     "text": [
      "train Loss: 0.0019 Acc: 0.9997\n"
     ]
    },
    {
     "name": "stderr",
     "output_type": "stream",
     "text": [
      "100%|██████████| 239/239 [00:10<00:00, 23.42it/s]\n",
      "  0%|          | 0/478 [00:00<?, ?it/s]"
     ]
    },
    {
     "name": "stdout",
     "output_type": "stream",
     "text": [
      "val Loss: 0.0009 Acc: 0.9995\n",
      "Epoch 22/49\n",
      "----------\n"
     ]
    },
    {
     "name": "stderr",
     "output_type": "stream",
     "text": [
      "100%|██████████| 478/478 [01:04<00:00,  7.41it/s]\n",
      "  0%|          | 0/239 [00:00<?, ?it/s]"
     ]
    },
    {
     "name": "stdout",
     "output_type": "stream",
     "text": [
      "train Loss: 0.0027 Acc: 0.9995\n"
     ]
    },
    {
     "name": "stderr",
     "output_type": "stream",
     "text": [
      "100%|██████████| 239/239 [00:10<00:00, 22.76it/s]\n",
      "  0%|          | 0/478 [00:00<?, ?it/s]"
     ]
    },
    {
     "name": "stdout",
     "output_type": "stream",
     "text": [
      "val Loss: 0.0008 Acc: 0.9995\n",
      "Epoch 23/49\n",
      "----------\n"
     ]
    },
    {
     "name": "stderr",
     "output_type": "stream",
     "text": [
      "100%|██████████| 478/478 [01:03<00:00,  7.52it/s]\n",
      "  0%|          | 0/239 [00:00<?, ?it/s]"
     ]
    },
    {
     "name": "stdout",
     "output_type": "stream",
     "text": [
      "train Loss: 0.0021 Acc: 0.9997\n"
     ]
    },
    {
     "name": "stderr",
     "output_type": "stream",
     "text": [
      "100%|██████████| 239/239 [00:15<00:00, 15.45it/s]\n",
      "  0%|          | 0/478 [00:00<?, ?it/s]"
     ]
    },
    {
     "name": "stdout",
     "output_type": "stream",
     "text": [
      "val Loss: 0.0008 Acc: 0.9995\n",
      "Epoch 24/49\n",
      "----------\n"
     ]
    },
    {
     "name": "stderr",
     "output_type": "stream",
     "text": [
      "100%|██████████| 478/478 [01:03<00:00,  7.53it/s]\n",
      "  0%|          | 0/239 [00:00<?, ?it/s]"
     ]
    },
    {
     "name": "stdout",
     "output_type": "stream",
     "text": [
      "train Loss: 0.0019 Acc: 0.9995\n"
     ]
    },
    {
     "name": "stderr",
     "output_type": "stream",
     "text": [
      "100%|██████████| 239/239 [00:10<00:00, 22.96it/s]\n",
      "  0%|          | 0/478 [00:00<?, ?it/s]"
     ]
    },
    {
     "name": "stdout",
     "output_type": "stream",
     "text": [
      "val Loss: 0.0010 Acc: 0.9995\n",
      "Epoch 25/49\n",
      "----------\n"
     ]
    },
    {
     "name": "stderr",
     "output_type": "stream",
     "text": [
      "100%|██████████| 478/478 [01:01<00:00,  7.72it/s]\n",
      "  0%|          | 0/239 [00:00<?, ?it/s]"
     ]
    },
    {
     "name": "stdout",
     "output_type": "stream",
     "text": [
      "train Loss: 0.0010 Acc: 0.9997\n"
     ]
    },
    {
     "name": "stderr",
     "output_type": "stream",
     "text": [
      "100%|██████████| 239/239 [00:10<00:00, 22.86it/s]\n",
      "  0%|          | 0/478 [00:00<?, ?it/s]"
     ]
    },
    {
     "name": "stdout",
     "output_type": "stream",
     "text": [
      "val Loss: 0.0009 Acc: 0.9995\n",
      "Epoch 26/49\n",
      "----------\n"
     ]
    },
    {
     "name": "stderr",
     "output_type": "stream",
     "text": [
      "100%|██████████| 478/478 [01:04<00:00,  7.41it/s]\n",
      "  0%|          | 0/239 [00:00<?, ?it/s]"
     ]
    },
    {
     "name": "stdout",
     "output_type": "stream",
     "text": [
      "train Loss: 0.0086 Acc: 0.9979\n"
     ]
    },
    {
     "name": "stderr",
     "output_type": "stream",
     "text": [
      "100%|██████████| 239/239 [00:10<00:00, 22.77it/s]\n",
      "  0%|          | 0/478 [00:00<?, ?it/s]"
     ]
    },
    {
     "name": "stdout",
     "output_type": "stream",
     "text": [
      "val Loss: 0.0010 Acc: 0.9995\n",
      "Epoch 27/49\n",
      "----------\n"
     ]
    },
    {
     "name": "stderr",
     "output_type": "stream",
     "text": [
      "100%|██████████| 478/478 [01:04<00:00,  7.45it/s]\n",
      "  0%|          | 0/239 [00:00<?, ?it/s]"
     ]
    },
    {
     "name": "stdout",
     "output_type": "stream",
     "text": [
      "train Loss: 0.0007 Acc: 1.0000\n"
     ]
    },
    {
     "name": "stderr",
     "output_type": "stream",
     "text": [
      "100%|██████████| 239/239 [00:10<00:00, 22.15it/s]\n",
      "  0%|          | 0/478 [00:00<?, ?it/s]"
     ]
    },
    {
     "name": "stdout",
     "output_type": "stream",
     "text": [
      "val Loss: 0.0010 Acc: 0.9995\n",
      "Epoch 28/49\n",
      "----------\n"
     ]
    },
    {
     "name": "stderr",
     "output_type": "stream",
     "text": [
      "100%|██████████| 478/478 [01:05<00:00,  7.31it/s]\n",
      "  0%|          | 0/239 [00:00<?, ?it/s]"
     ]
    },
    {
     "name": "stdout",
     "output_type": "stream",
     "text": [
      "train Loss: 0.0005 Acc: 1.0000\n"
     ]
    },
    {
     "name": "stderr",
     "output_type": "stream",
     "text": [
      "100%|██████████| 239/239 [00:10<00:00, 22.94it/s]\n",
      "  0%|          | 0/478 [00:00<?, ?it/s]"
     ]
    },
    {
     "name": "stdout",
     "output_type": "stream",
     "text": [
      "val Loss: 0.0009 Acc: 0.9995\n",
      "Epoch 29/49\n",
      "----------\n"
     ]
    },
    {
     "name": "stderr",
     "output_type": "stream",
     "text": [
      "100%|██████████| 478/478 [01:10<00:00,  6.80it/s]\n",
      "  0%|          | 0/239 [00:00<?, ?it/s]"
     ]
    },
    {
     "name": "stdout",
     "output_type": "stream",
     "text": [
      "train Loss: 0.0027 Acc: 0.9997\n"
     ]
    },
    {
     "name": "stderr",
     "output_type": "stream",
     "text": [
      "100%|██████████| 239/239 [00:10<00:00, 23.09it/s]\n",
      "  0%|          | 0/478 [00:00<?, ?it/s]"
     ]
    },
    {
     "name": "stdout",
     "output_type": "stream",
     "text": [
      "val Loss: 0.0010 Acc: 0.9995\n",
      "Epoch 30/49\n",
      "----------\n"
     ]
    },
    {
     "name": "stderr",
     "output_type": "stream",
     "text": [
      "100%|██████████| 478/478 [01:02<00:00,  7.60it/s]\n",
      "  0%|          | 0/239 [00:00<?, ?it/s]"
     ]
    },
    {
     "name": "stdout",
     "output_type": "stream",
     "text": [
      "train Loss: 0.0009 Acc: 1.0000\n"
     ]
    },
    {
     "name": "stderr",
     "output_type": "stream",
     "text": [
      "100%|██████████| 239/239 [00:10<00:00, 22.02it/s]\n",
      "  0%|          | 0/478 [00:00<?, ?it/s]"
     ]
    },
    {
     "name": "stdout",
     "output_type": "stream",
     "text": [
      "val Loss: 0.0010 Acc: 0.9995\n",
      "Epoch 31/49\n",
      "----------\n"
     ]
    },
    {
     "name": "stderr",
     "output_type": "stream",
     "text": [
      "100%|██████████| 478/478 [01:02<00:00,  7.63it/s]\n",
      "  0%|          | 0/239 [00:00<?, ?it/s]"
     ]
    },
    {
     "name": "stdout",
     "output_type": "stream",
     "text": [
      "train Loss: 0.0015 Acc: 0.9995\n"
     ]
    },
    {
     "name": "stderr",
     "output_type": "stream",
     "text": [
      "100%|██████████| 239/239 [00:10<00:00, 22.46it/s]\n",
      "  0%|          | 0/478 [00:00<?, ?it/s]"
     ]
    },
    {
     "name": "stdout",
     "output_type": "stream",
     "text": [
      "val Loss: 0.0010 Acc: 0.9995\n",
      "Epoch 32/49\n",
      "----------\n"
     ]
    },
    {
     "name": "stderr",
     "output_type": "stream",
     "text": [
      "100%|██████████| 478/478 [01:03<00:00,  7.51it/s]\n",
      "  0%|          | 0/239 [00:00<?, ?it/s]"
     ]
    },
    {
     "name": "stdout",
     "output_type": "stream",
     "text": [
      "train Loss: 0.0007 Acc: 1.0000\n"
     ]
    },
    {
     "name": "stderr",
     "output_type": "stream",
     "text": [
      "100%|██████████| 239/239 [00:10<00:00, 22.71it/s]\n",
      "  0%|          | 0/478 [00:00<?, ?it/s]"
     ]
    },
    {
     "name": "stdout",
     "output_type": "stream",
     "text": [
      "val Loss: 0.0009 Acc: 0.9995\n",
      "Epoch 33/49\n",
      "----------\n"
     ]
    },
    {
     "name": "stderr",
     "output_type": "stream",
     "text": [
      "100%|██████████| 478/478 [01:03<00:00,  7.57it/s]\n",
      "  0%|          | 0/239 [00:00<?, ?it/s]"
     ]
    },
    {
     "name": "stdout",
     "output_type": "stream",
     "text": [
      "train Loss: 0.0007 Acc: 1.0000\n"
     ]
    },
    {
     "name": "stderr",
     "output_type": "stream",
     "text": [
      "100%|██████████| 239/239 [00:10<00:00, 21.97it/s]\n",
      "  0%|          | 0/478 [00:00<?, ?it/s]"
     ]
    },
    {
     "name": "stdout",
     "output_type": "stream",
     "text": [
      "val Loss: 0.0008 Acc: 0.9995\n",
      "Epoch 34/49\n",
      "----------\n"
     ]
    },
    {
     "name": "stderr",
     "output_type": "stream",
     "text": [
      "100%|██████████| 478/478 [01:03<00:00,  7.54it/s]\n",
      "  0%|          | 0/239 [00:00<?, ?it/s]"
     ]
    },
    {
     "name": "stdout",
     "output_type": "stream",
     "text": [
      "train Loss: 0.0010 Acc: 0.9997\n"
     ]
    },
    {
     "name": "stderr",
     "output_type": "stream",
     "text": [
      "100%|██████████| 239/239 [00:10<00:00, 22.11it/s]\n",
      "  0%|          | 0/478 [00:00<?, ?it/s]"
     ]
    },
    {
     "name": "stdout",
     "output_type": "stream",
     "text": [
      "val Loss: 0.0010 Acc: 0.9995\n",
      "Epoch 35/49\n",
      "----------\n"
     ]
    },
    {
     "name": "stderr",
     "output_type": "stream",
     "text": [
      "100%|██████████| 478/478 [01:03<00:00,  7.51it/s]\n",
      "  0%|          | 0/239 [00:00<?, ?it/s]"
     ]
    },
    {
     "name": "stdout",
     "output_type": "stream",
     "text": [
      "train Loss: 0.0008 Acc: 1.0000\n"
     ]
    },
    {
     "name": "stderr",
     "output_type": "stream",
     "text": [
      "100%|██████████| 239/239 [00:10<00:00, 21.95it/s]\n",
      "  0%|          | 0/478 [00:00<?, ?it/s]"
     ]
    },
    {
     "name": "stdout",
     "output_type": "stream",
     "text": [
      "val Loss: 0.0008 Acc: 0.9995\n",
      "Epoch 36/49\n",
      "----------\n"
     ]
    },
    {
     "name": "stderr",
     "output_type": "stream",
     "text": [
      "100%|██████████| 478/478 [01:03<00:00,  7.56it/s]\n",
      "  0%|          | 0/239 [00:00<?, ?it/s]"
     ]
    },
    {
     "name": "stdout",
     "output_type": "stream",
     "text": [
      "train Loss: 0.0010 Acc: 0.9997\n"
     ]
    },
    {
     "name": "stderr",
     "output_type": "stream",
     "text": [
      "100%|██████████| 239/239 [00:19<00:00, 12.30it/s]\n",
      "  0%|          | 0/478 [00:00<?, ?it/s]"
     ]
    },
    {
     "name": "stdout",
     "output_type": "stream",
     "text": [
      "val Loss: 0.0010 Acc: 0.9995\n",
      "Epoch 37/49\n",
      "----------\n"
     ]
    },
    {
     "name": "stderr",
     "output_type": "stream",
     "text": [
      "100%|██████████| 478/478 [01:02<00:00,  7.60it/s]\n",
      "  0%|          | 0/239 [00:00<?, ?it/s]"
     ]
    },
    {
     "name": "stdout",
     "output_type": "stream",
     "text": [
      "train Loss: 0.0016 Acc: 0.9997\n"
     ]
    },
    {
     "name": "stderr",
     "output_type": "stream",
     "text": [
      "100%|██████████| 239/239 [00:10<00:00, 22.36it/s]\n",
      "  0%|          | 0/478 [00:00<?, ?it/s]"
     ]
    },
    {
     "name": "stdout",
     "output_type": "stream",
     "text": [
      "val Loss: 0.0009 Acc: 0.9995\n",
      "Epoch 38/49\n",
      "----------\n"
     ]
    },
    {
     "name": "stderr",
     "output_type": "stream",
     "text": [
      "100%|██████████| 478/478 [01:03<00:00,  7.51it/s]\n",
      "  0%|          | 0/239 [00:00<?, ?it/s]"
     ]
    },
    {
     "name": "stdout",
     "output_type": "stream",
     "text": [
      "train Loss: 0.0101 Acc: 0.9982\n"
     ]
    },
    {
     "name": "stderr",
     "output_type": "stream",
     "text": [
      "100%|██████████| 239/239 [00:10<00:00, 21.95it/s]\n",
      "  0%|          | 0/478 [00:00<?, ?it/s]"
     ]
    },
    {
     "name": "stdout",
     "output_type": "stream",
     "text": [
      "val Loss: 0.0010 Acc: 0.9995\n",
      "Epoch 39/49\n",
      "----------\n"
     ]
    },
    {
     "name": "stderr",
     "output_type": "stream",
     "text": [
      "100%|██████████| 478/478 [01:03<00:00,  7.58it/s]\n",
      "  0%|          | 0/239 [00:00<?, ?it/s]"
     ]
    },
    {
     "name": "stdout",
     "output_type": "stream",
     "text": [
      "train Loss: 0.0014 Acc: 0.9997\n"
     ]
    },
    {
     "name": "stderr",
     "output_type": "stream",
     "text": [
      "100%|██████████| 239/239 [00:11<00:00, 21.52it/s]\n",
      "  0%|          | 0/478 [00:00<?, ?it/s]"
     ]
    },
    {
     "name": "stdout",
     "output_type": "stream",
     "text": [
      "val Loss: 0.0008 Acc: 0.9995\n",
      "Epoch 40/49\n",
      "----------\n"
     ]
    },
    {
     "name": "stderr",
     "output_type": "stream",
     "text": [
      "100%|██████████| 478/478 [01:03<00:00,  7.49it/s]\n",
      "  0%|          | 0/239 [00:00<?, ?it/s]"
     ]
    },
    {
     "name": "stdout",
     "output_type": "stream",
     "text": [
      "train Loss: 0.0009 Acc: 0.9997\n"
     ]
    },
    {
     "name": "stderr",
     "output_type": "stream",
     "text": [
      "100%|██████████| 239/239 [00:10<00:00, 22.18it/s]\n",
      "  0%|          | 0/478 [00:00<?, ?it/s]"
     ]
    },
    {
     "name": "stdout",
     "output_type": "stream",
     "text": [
      "val Loss: 0.0008 Acc: 0.9995\n",
      "Epoch 41/49\n",
      "----------\n"
     ]
    },
    {
     "name": "stderr",
     "output_type": "stream",
     "text": [
      "100%|██████████| 478/478 [01:03<00:00,  7.56it/s]\n",
      "  0%|          | 0/239 [00:00<?, ?it/s]"
     ]
    },
    {
     "name": "stdout",
     "output_type": "stream",
     "text": [
      "train Loss: 0.0042 Acc: 0.9987\n"
     ]
    },
    {
     "name": "stderr",
     "output_type": "stream",
     "text": [
      "100%|██████████| 239/239 [00:10<00:00, 21.84it/s]\n",
      "  0%|          | 0/478 [00:00<?, ?it/s]"
     ]
    },
    {
     "name": "stdout",
     "output_type": "stream",
     "text": [
      "val Loss: 0.0009 Acc: 0.9995\n",
      "Epoch 42/49\n",
      "----------\n"
     ]
    },
    {
     "name": "stderr",
     "output_type": "stream",
     "text": [
      "100%|██████████| 478/478 [01:03<00:00,  7.50it/s]\n",
      "  0%|          | 0/239 [00:00<?, ?it/s]"
     ]
    },
    {
     "name": "stdout",
     "output_type": "stream",
     "text": [
      "train Loss: 0.0005 Acc: 1.0000\n"
     ]
    },
    {
     "name": "stderr",
     "output_type": "stream",
     "text": [
      "100%|██████████| 239/239 [00:10<00:00, 21.94it/s]\n",
      "  0%|          | 0/478 [00:00<?, ?it/s]"
     ]
    },
    {
     "name": "stdout",
     "output_type": "stream",
     "text": [
      "val Loss: 0.0010 Acc: 0.9995\n",
      "Epoch 43/49\n",
      "----------\n"
     ]
    },
    {
     "name": "stderr",
     "output_type": "stream",
     "text": [
      "100%|██████████| 478/478 [01:03<00:00,  7.51it/s]\n",
      "  0%|          | 0/239 [00:00<?, ?it/s]"
     ]
    },
    {
     "name": "stdout",
     "output_type": "stream",
     "text": [
      "train Loss: 0.0012 Acc: 0.9995\n"
     ]
    },
    {
     "name": "stderr",
     "output_type": "stream",
     "text": [
      "100%|██████████| 239/239 [00:10<00:00, 22.23it/s]\n",
      "  0%|          | 0/478 [00:00<?, ?it/s]"
     ]
    },
    {
     "name": "stdout",
     "output_type": "stream",
     "text": [
      "val Loss: 0.0008 Acc: 0.9995\n",
      "Epoch 44/49\n",
      "----------\n"
     ]
    },
    {
     "name": "stderr",
     "output_type": "stream",
     "text": [
      "100%|██████████| 478/478 [01:03<00:00,  7.58it/s]\n",
      "  0%|          | 0/239 [00:00<?, ?it/s]"
     ]
    },
    {
     "name": "stdout",
     "output_type": "stream",
     "text": [
      "train Loss: 0.0009 Acc: 0.9997\n"
     ]
    },
    {
     "name": "stderr",
     "output_type": "stream",
     "text": [
      "100%|██████████| 239/239 [00:10<00:00, 22.22it/s]\n",
      "  0%|          | 0/478 [00:00<?, ?it/s]"
     ]
    },
    {
     "name": "stdout",
     "output_type": "stream",
     "text": [
      "val Loss: 0.0010 Acc: 0.9995\n",
      "Epoch 45/49\n",
      "----------\n"
     ]
    },
    {
     "name": "stderr",
     "output_type": "stream",
     "text": [
      " 91%|█████████ | 434/478 [00:57<00:05,  7.72it/s]"
     ]
    }
   ],
   "source": [
    " for model_num, epoch in enumerate(range(epochs), start=1):\n",
    "        print('Epoch {}/{}'.format(epoch, epochs - 1))\n",
    "        print('-' * 10)\n",
    "        for phase in ['train', 'val']:\n",
    "            if phase == 'train':\n",
    "                model.train()\n",
    "\n",
    "            else:\n",
    "                model.eval()\n",
    "            running_loss = 0.0\n",
    "            running_corrects = 0\n",
    "\n",
    "            for inputs, labels in tqdm(dataloaders[phase]):\n",
    "                # print(labels)\n",
    "                inputs = inputs.to(device)\n",
    "                labels = labels.to(device)\n",
    "\n",
    "                optimizer.zero_grad()\n",
    "\n",
    "                with torch.set_grad_enabled(phase == 'train'):\n",
    "                    outputs = model(inputs)\n",
    "                    _, preds = torch.max(outputs, 1)\n",
    "                    loss = criterion(outputs, labels)\n",
    "\n",
    "                    if phase == 'train':\n",
    "                        loss.backward()\n",
    "                        optimizer.step()\n",
    "\n",
    "                running_loss += loss.item() * inputs.size(0)\n",
    "                # print(running_loss)\n",
    "                running_corrects += torch.sum(preds == labels.data)\n",
    " \n",
    "            if phase == 'train':\n",
    "                scheduler.step()\n",
    "\n",
    "            epoch_loss = running_loss / dataset_sizes[phase]\n",
    "            epoch_acc = running_corrects.double() / dataset_sizes[phase]\n",
    "            # writer.add_graph('epoch loss', epoch_loss, epoch)\n",
    "            # writer.add_graph('epoch acc', epoch_acc, epoch)\n",
    "\n",
    "            print('{} Loss: {:.4f} Acc: {:.4f}'.format(phase,epoch_loss, epoch_acc))\n",
    "\n",
    "            # if phase == 'val' and epoch_acc > best_acc:\n",
    "            best_acc = epoch_acc\n",
    "            model_weights = copy.deepcopy(model.state_dict())\n",
    "            # print(best_acc)\n",
    "        torch.save(model_weights, f'./weights/model_{model_num}.pth')\n",
    "        #torch.cuda.empty_cache() "
   ]
  },
  {
   "cell_type": "code",
   "execution_count": null,
   "id": "1239c159",
   "metadata": {},
   "outputs": [],
   "source": []
  }
 ],
 "metadata": {
  "kernelspec": {
   "display_name": "Python 3 (ipykernel)",
   "language": "python",
   "name": "python3"
  },
  "language_info": {
   "codemirror_mode": {
    "name": "ipython",
    "version": 3
   },
   "file_extension": ".py",
   "mimetype": "text/x-python",
   "name": "python",
   "nbconvert_exporter": "python",
   "pygments_lexer": "ipython3",
   "version": "3.6.13"
  }
 },
 "nbformat": 4,
 "nbformat_minor": 5
}
